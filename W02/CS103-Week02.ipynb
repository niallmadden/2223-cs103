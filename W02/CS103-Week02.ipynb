{
 "cells": [
  {
   "cell_type": "markdown",
   "metadata": {
    "slideshow": {
     "slide_type": "slide"
    }
   },
   "source": [
    "# CS102/CS103: Week 02 - Expressions and Strings <span style='color:red'>(V02)</span>\n",
    "Dr [Niall Madden](mailto:Niall.Madden@UniversityOfGalway.ie)<br>\n",
    "School of Mathematical and Statistical Sciences<br>\n",
    "University of Galway\n",
    "\n",
    "<font size=\"3\">*These notebook include material written by Dr Tobias Rossmann*</font>\n",
    "\n",
    "\n",
    "\n",
    "## News: \n",
    "### Labs start next week!\n",
    "\n",
    "<div class=\"alert alert-block alert-info\">\n",
    "   Labs for CS102 and CS103 start next week (week starting 10 Oct 2022), and will continue until the end of semester, except for the week of 31st Oct.<br/>\n",
    "    You should attend one session per week. More details on Blackboard... \n",
    "    </div>\n",
    " \n",
    "\n",
    "  "
   ]
  },
  {
   "cell_type": "markdown",
   "metadata": {
    "slideshow": {
     "slide_type": "subslide"
    }
   },
   "source": [
    "### This notebook is on Binder\n",
    "\n",
    "The [Jupyter server](https://jupyter.nuigalway.ie) is still not quite working. \n",
    "So, I've posted these notes to a public server: BINDER.\n",
    "\n",
    "Try the link: "
   ]
  },
  {
   "cell_type": "markdown",
   "metadata": {
    "slideshow": {
     "slide_type": "slide"
    }
   },
   "source": [
    "## Recall: we got started with Python\n",
    "\n",
    "### Using Python\n",
    "To get started, you can use web version, such as \n",
    "* https://www.python.org/shell/\n",
    "* https://repl.it/languages/python3\n",
    "    \n",
    "Eventually, if you have a suitable computer, you should install it. I recommend the [Anaconda](https://www.anaconda.com/) distribution.\n",
    "\n",
    "Primarily, we will use  **Jupyter notebooks**. More about this later. But you can access at\n",
    "* https://jupyter.org/try\n",
    "* https://jupyter.nuigalway.ie \n"
   ]
  },
  {
   "cell_type": "markdown",
   "metadata": {
    "slideshow": {
     "slide_type": "subslide"
    }
   },
   "source": [
    "### Python as a calulator\n",
    "We can do standard arithmetic, e.g., using \n",
    "\n",
    "* `+`, `-`, `*`, `/` for the usual arithmetic operations,\n",
    "\n",
    "* `//` for **floor division**,\n",
    "\n",
    "* `%` for the **modulus** (remainder) operation,\n",
    "\n",
    "* `**` for exponentiation. That is ``2**3`` means $2^3$.\n",
    "\n",
    "These are called *binary* operators, because they involve two _operands_ (numbers, in this case).\n",
    "\n",
    "```{note}\n",
    "Can you think of any operators that are not binary?\n",
    "```"
   ]
  },
  {
   "cell_type": "markdown",
   "metadata": {
    "slideshow": {
     "slide_type": "subslide"
    }
   },
   "source": [
    "###  Numbers in Python\n",
    "\n",
    "Python has several **data types** to represent and work with numerical values. The ones we are most interested in are \n",
    "\n",
    "* Integers (\"whole numbers\"), which are of type `int`.\n",
    "* floating point numbers (which have decimal places), have type `float`.\n",
    "\n",
    "The type of a Python object can be determined with the type() function:"
   ]
  },
  {
   "cell_type": "code",
   "execution_count": 1,
   "metadata": {
    "scrolled": false,
    "slideshow": {
     "slide_type": "-"
    }
   },
   "outputs": [
    {
     "data": {
      "text/plain": [
       "int"
      ]
     },
     "execution_count": 1,
     "metadata": {},
     "output_type": "execute_result"
    }
   ],
   "source": [
    "type(1234)"
   ]
  },
  {
   "cell_type": "code",
   "execution_count": 2,
   "metadata": {
    "slideshow": {
     "slide_type": "-"
    }
   },
   "outputs": [
    {
     "data": {
      "text/plain": [
       "float"
      ]
     },
     "execution_count": 2,
     "metadata": {},
     "output_type": "execute_result"
    }
   ],
   "source": [
    "type(3.14159)"
   ]
  },
  {
   "cell_type": "markdown",
   "metadata": {
    "slideshow": {
     "slide_type": "slide"
    }
   },
   "source": [
    "##  Basic arithmetic\n",
    "<font size=\"3\">*For more, see Section 1.3 of [Think Python](https://greenteapress.com/thinkpython2/html/thinkpython2002.html)*</font>\n",
    "\n",
    "When you add two `int`s, the result is an `int`. And when you add two `float`, the result is a float. But it is also possible to have expressions that combine both `int` and `float.\n",
    "\n",
    "* This is *mixed arithmetic*\n",
    "\n",
    "* We say `int` is _narrower_ than `float`, because every `int` can be converted exactly to a `float`.\n",
    "\n",
    "* When needed, the “narrower” type is upgraded to the wider one.\n",
    "\n",
    "* Here `int` is narrower than `float`, which is narrower than `complex`.\n"
   ]
  },
  {
   "cell_type": "code",
   "execution_count": 3,
   "metadata": {
    "slideshow": {
     "slide_type": "subslide"
    }
   },
   "outputs": [
    {
     "name": "stdout",
     "output_type": "stream",
     "text": [
      "7\n",
      "-1\n",
      "12\n",
      "0.75\n",
      "81\n"
     ]
    }
   ],
   "source": [
    "print(3 + 4)  # addition\n",
    "print(3 - 4)  # subtraction\n",
    "print(3 * 4)  # multiplication\n",
    "print(3 / 4)  # division\n",
    "print(3 ** 4) # exponentiation"
   ]
  },
  {
   "cell_type": "code",
   "execution_count": 4,
   "metadata": {},
   "outputs": [
    {
     "data": {
      "text/plain": [
       "int"
      ]
     },
     "execution_count": 4,
     "metadata": {},
     "output_type": "execute_result"
    }
   ],
   "source": [
    "type(3*4)"
   ]
  },
  {
   "cell_type": "code",
   "execution_count": 5,
   "metadata": {},
   "outputs": [
    {
     "data": {
      "text/plain": [
       "float"
      ]
     },
     "execution_count": 5,
     "metadata": {},
     "output_type": "execute_result"
    }
   ],
   "source": [
    "type(3/4)"
   ]
  },
  {
   "cell_type": "code",
   "execution_count": 6,
   "metadata": {
    "scrolled": false
   },
   "outputs": [
    {
     "name": "stdout",
     "output_type": "stream",
     "text": [
      "7.0\n"
     ]
    }
   ],
   "source": [
    "print(3.0 + 4) # adding a float and an int gives a float"
   ]
  },
  {
   "cell_type": "code",
   "execution_count": 7,
   "metadata": {
    "scrolled": false
   },
   "outputs": [
    {
     "data": {
      "text/plain": [
       "3.0"
      ]
     },
     "execution_count": 7,
     "metadata": {},
     "output_type": "execute_result"
    }
   ],
   "source": [
    "float(3)"
   ]
  },
  {
   "cell_type": "markdown",
   "metadata": {
    "slideshow": {
     "slide_type": "subslide"
    }
   },
   "source": [
    "### Integer division\n",
    "\n",
    "* Usually, operations on two numbers of the **same type** result in a third number of that **same type**.  \n",
    "\n",
    "* Division of `int`s, however results in a `float`, if the corresponding fraction is not an integer.\n",
    "\n",
    "* If the **integer quotient** is required, Python provides **floor division** (`//`) as a separate operation.\n",
    "\n",
    "* The corresponding **remainder** can be computed with the **modulus** operator `%`."
   ]
  },
  {
   "cell_type": "code",
   "execution_count": 8,
   "metadata": {
    "scrolled": false,
    "slideshow": {
     "slide_type": "subslide"
    }
   },
   "outputs": [
    {
     "name": "stdout",
     "output_type": "stream",
     "text": [
      "5\n",
      "2\n",
      "(5, 2)\n"
     ]
    }
   ],
   "source": [
    "print(17 // 3)  # integer quotient\n",
    "print(17 % 3)   # the remainder: 17 mod 3\n",
    "print(divmod(17, 3)) # quotient and remainder in one"
   ]
  },
  {
   "cell_type": "code",
   "execution_count": 9,
   "metadata": {
    "scrolled": false,
    "slideshow": {
     "slide_type": "-"
    }
   },
   "outputs": [
    {
     "name": "stdout",
     "output_type": "stream",
     "text": [
      "1\n",
      "2\n"
     ]
    }
   ],
   "source": [
    "print((16) % 3)  # 16 = 3*5 +1\n",
    "print((-16)% 3)  # -16 = -18 +2 = 3*(-6)+2"
   ]
  },
  {
   "cell_type": "markdown",
   "metadata": {
    "slideshow": {
     "slide_type": "subslide"
    }
   },
   "source": [
    "### The `math` Library\n",
    "\n",
    "Python comes with many additional **modules** that extend its basic functionality. \n",
    "\n",
    "One fundamental module is the `math` library.\n",
    "\n",
    "It needs to be `import`ed before it can be used in a program.\n",
    "Here we compute $\\sqrt{2}$"
   ]
  },
  {
   "cell_type": "code",
   "execution_count": null,
   "metadata": {
    "scrolled": false
   },
   "outputs": [
    {
     "data": {
      "text/plain": [
       "1.4142135623730951"
      ]
     },
     "execution_count": 10,
     "metadata": {},
     "output_type": "execute_result"
    }
   ],
   "source": [
    "import math\n",
    "math.sqrt(2)"
   ]
  },
  {
   "cell_type": "markdown",
   "metadata": {
    "slideshow": {
     "slide_type": "subslide"
    }
   },
   "source": [
    "* The `math` library contains many useful mathematical constants and\n",
    "additional functions:\n",
    "\n",
    "| Python | Mathematics | English |\n",
    "|--|--|--|\n",
    "| `pi` | $\\pi$ | an approximation of the number $\\pi$ |\n",
    "| `e` | $e$ | an approximation of Euler's number $e$ |\n",
    "| `abs(x)` | $\\lvert x\\rvert$ | the absolute value of $x$\n",
    "| `sqrt(x)` | $\\sqrt x$ | the square root of $x$ |\n",
    "| `sin(x)` | $\\sin(x)$ | the sine of $x$ |\n",
    "| `cos(x)` | $\\cos(x)$ | the cosine of $x$ |\n",
    "| `tan(x)` | $\\tan(x)$ | ... |\n",
    "| `asin(x)` | $\\sin^{-1}(x)$ | the inverse sine of $x$ |\n",
    "| `acos(x)` | $\\cos^{-1}(x)$ | ... |\n",
    "| `atan(x)` | $\\tan^{-1}(x)$ | ... |\n",
    "| `log(x)` | $\\ln(x)$ | the natural (base $e$) logarithm of $x$ |\n",
    "| `log10(x)` | $\\log_{10}(x)$ | the base $10$ logarithm of $x$ |\n",
    "| `exp(x)` | $e^x$ | the exponential of $x$ |\n",
    "| `ceil(x)` | $\\lceil x\\rceil$ | the smallest integer $\\geq x$ |\n",
    "| `floor(x)` | $\\lfloor x\\rfloor$ | the largest integer $\\leq x$ |"
   ]
  },
  {
   "cell_type": "code",
   "execution_count": null,
   "metadata": {
    "scrolled": false,
    "slideshow": {
     "slide_type": "slide"
    }
   },
   "outputs": [],
   "source": [
    "print(math.pi, math.floor(math.pi))"
   ]
  },
  {
   "cell_type": "markdown",
   "metadata": {
    "slideshow": {
     "slide_type": "subslide"
    }
   },
   "source": [
    "### Summary: Numbers\n",
    "\n",
    "* The **data type** of an object determines what values it\n",
    "can have and what operations it supports.\n",
    "\n",
    "* Python has three built-in data types for representing **numerical values**: `int`, `float` and `complex`.\n",
    "\n",
    "* `float`s are (only) **approximations** to real numbers.\n",
    "\n",
    "* `int`s can be **arbitrarily large**."
   ]
  },
  {
   "cell_type": "markdown",
   "metadata": {
    "slideshow": {
     "slide_type": "subslide"
    }
   },
   "source": [
    "* Numeric data types support the basic **arithmetic operations**\n",
    "addition (`+`), subtraction (`-`), multiplication (`*`),\n",
    "division (`/`), and exponentiation (`**`).\n",
    "\n",
    "* Special operations for integers are **floor division** (`//`)\n",
    "and **remainder** (`%`).\n",
    "\n",
    "* More functions: see the `math` library.\n",
    "\n",
    "* In some situations, Python **automatically converts** numbers from one data type\n",
    "to another.\n",
    "* **Explicit conversion** (`int`, `float`, `complex`) functions can be used, too."
   ]
  },
  {
   "cell_type": "markdown",
   "metadata": {
    "slideshow": {
     "slide_type": "slide"
    }
   },
   "source": [
    "## Our first complete Python program\n",
    "\n",
    "### Say \"hello\"\n",
    "The most commonly used expression is Python is ``print``. It is used to display stuff.\n",
    "Hrere is how it is used:"
   ]
  },
  {
   "cell_type": "code",
   "execution_count": null,
   "metadata": {
    "slideshow": {
     "slide_type": "-"
    }
   },
   "outputs": [],
   "source": [
    "print('Hello, how are you?')   # Using single quotes\n",
    "print(\"Hello, how are you?\")   # Using double quotes\n",
    "print(\"I'm fine, thanks for asking\")   # note we use can put single quotes inside double\n",
    "print('Excuse me: I said \"hello\"')"
   ]
  },
  {
   "cell_type": "markdown",
   "metadata": {
    "slideshow": {
     "slide_type": "slide"
    }
   },
   "source": [
    "So what is going on here?\n",
    "\n",
    "* What's with the \"(\" and the \")\"?\n",
    "* What with the \"hash\" symbols?\n",
    "\n",
    "We'll learn that ``print`` is a *function* in Python, and the parentheses are used to indicate this, and also enclose the argument. Soon we will learn how to write our own functions.\n",
    "\n",
    "The stuff between the quotes is called a ``string``. The next section is all about strings.\n",
    "\n",
    "The ``#`` symbols denote a _comment_. Python ignores everything on the rest of the line: the comments just provide information and context for the reader."
   ]
  },
  {
   "cell_type": "markdown",
   "metadata": {
    "slideshow": {
     "slide_type": "slide"
    }
   },
   "source": [
    "### Assignments\n",
    "Any program that is not too boring has to *store* data and manipulate it.\n",
    "\n",
    "The simplest way of storing data is to assign it a name, using the ``=`` symbol."
   ]
  },
  {
   "cell_type": "code",
   "execution_count": null,
   "metadata": {},
   "outputs": [],
   "source": [
    "a = 12.34  # we use \"=\" for assignment, never equality\n",
    "b = 1.04\n",
    "c = a-b  # Compute 12.34-1.04, and store the result in c\n",
    "print(a,'-', b, '=', c )\n",
    "\n",
    "a = -1234\n",
    "print(a)"
   ]
  },
  {
   "cell_type": "markdown",
   "metadata": {
    "slideshow": {
     "slide_type": "slide"
    }
   },
   "source": [
    "In that example, we would call ``a``, ``b``, and ``c`` *VARIABLES*, which just means that can take on any value we like, and that value can be changed at a later time.\n",
    "\n",
    "We can also store strings as variables:"
   ]
  },
  {
   "cell_type": "code",
   "execution_count": null,
   "metadata": {},
   "outputs": [],
   "source": [
    "message = \"This is my first string.\"\n",
    "print(message)\n",
    "type(message)  \n",
    "\"\"\" This is a comment too \"\"\""
   ]
  },
  {
   "cell_type": "markdown",
   "metadata": {
    "slideshow": {
     "slide_type": "slide"
    }
   },
   "source": [
    "### Variable names\n",
    "Variable names can be as long as you like. They can contain both letters and numbers, but they can’t begin with a number. It is legal to use uppercase letters, but (according to the textbook) it is conventional to use only lower case for variables names. \n",
    "\n",
    "You also can't use certain reserved words in the language (more later on this).\n",
    "\n",
    "Try to choose variable names that are meaningful (this leads to self-documenting code). \n",
    "\n",
    "The underscore character, _, can appear in a name. It is often used in names with multiple words, such as ``your_name`` or ``airspeed_of_unladen_swallow``.\n",
    "\n",
    "If you give a variable an illegal name, you get a syntax error."
   ]
  },
  {
   "cell_type": "code",
   "execution_count": null,
   "metadata": {},
   "outputs": [],
   "source": [
    "cs102_class_size = 58 # OK"
   ]
  },
  {
   "cell_type": "code",
   "execution_count": null,
   "metadata": {},
   "outputs": [],
   "source": [
    "2223_cs102_class_size = 58 # OK"
   ]
  },
  {
   "cell_type": "markdown",
   "metadata": {},
   "source": [
    "<span style='color:red'>Finished here on Wednesday</span"
   ]
  },
  {
   "cell_type": "markdown",
   "metadata": {
    "slideshow": {
     "slide_type": "slide"
    }
   },
   "source": [
    "## An Arcane Interlude\n",
    "\n",
    "Most of the time, these classes are focused on the fundamentals of programming in Python, starting from scratch. A down-side of this, is that it takes some time before we get to the _fun_ stuff.\n",
    "\n",
    "So, once per week, I'll give a short piece of Python code with fun/silly/interesting results, but not explained in detail.\n",
    "\n",
    "This week, we'll make a word-cloud of your holiday desinations. \n",
    "The code\n",
    "* Loads some Python modules\n",
    "* Reads an excel file containing data you submitted in the survey\n",
    "* Converts that to a wordcloud\n",
    "* Plots the word cloud."
   ]
  },
  {
   "cell_type": "code",
   "execution_count": null,
   "metadata": {
    "slideshow": {
     "slide_type": "subslide"
    }
   },
   "outputs": [],
   "source": [
    "import pandas as pd\n",
    "import matplotlib.pyplot as plt\n",
    "from wordcloud import WordCloud\n",
    "\n",
    "df = pd.read_excel (\"2223-CS102-CS103-where.xlsx\", na_filter = False);\n",
    "VacationList = \" \".join(cat for cat in df.Vacation)\n",
    "VacationCloud = WordCloud().generate(VacationList)\n",
    "plt.imshow(VacationCloud), plt.show()"
   ]
  },
  {
   "cell_type": "markdown",
   "metadata": {
    "slideshow": {
     "slide_type": "slide"
    }
   },
   "source": [
    "## Strings\n",
    "* We have seen the different types of numbers that a Python program can handle and e.g. perform standard arithmetic operations on.\n",
    "* Another basic data type in Python is called `str` (which is short for **string**).\n",
    "* A **string** is a sequence of characters and corresponds to a piece of text.\n",
    "* In Python, strings can be defined by enclosing the characters in double quotes (`\"`) or single quotes (`'`)."
   ]
  },
  {
   "cell_type": "code",
   "execution_count": null,
   "metadata": {
    "slideshow": {
     "slide_type": "subslide"
    }
   },
   "outputs": [],
   "source": [
    "\"double\""
   ]
  },
  {
   "cell_type": "code",
   "execution_count": null,
   "metadata": {
    "slideshow": {
     "slide_type": "-"
    }
   },
   "outputs": [],
   "source": [
    "'single'"
   ]
  },
  {
   "cell_type": "code",
   "execution_count": null,
   "metadata": {
    "slideshow": {
     "slide_type": "subslide"
    }
   },
   "outputs": [],
   "source": [
    "print(\"double\", 'single')"
   ]
  },
  {
   "cell_type": "code",
   "execution_count": null,
   "metadata": {},
   "outputs": [],
   "source": [
    "type(\"double\")"
   ]
  },
  {
   "cell_type": "markdown",
   "metadata": {
    "slideshow": {
     "slide_type": "subslide"
    }
   },
   "source": [
    "* **Text processing** is an important feature of many programming languages: many types of data and problems a program can deal with are text-based.\n",
    "\n",
    "* We will now discuss strings and some operations they support. This will allow us to easily build powerful text-processing applications in Python."
   ]
  },
  {
   "cell_type": "markdown",
   "metadata": {
    "slideshow": {
     "slide_type": "slide"
    }
   },
   "source": [
    "### Length, indexing, and slicing\n",
    "\n",
    "The number of characters in a string is its **length**.\n",
    "It can be obtained by calling the `len` function with the string as its **argument**."
   ]
  },
  {
   "cell_type": "code",
   "execution_count": null,
   "metadata": {
    "slideshow": {
     "slide_type": "-"
    }
   },
   "outputs": [],
   "source": [
    "len(\"python\")"
   ]
  },
  {
   "cell_type": "markdown",
   "metadata": {
    "slideshow": {
     "slide_type": "subslide"
    }
   },
   "source": [
    "The individual characters making up a string\n",
    "can be accessed through their position in the string, using\n",
    "an **index** inside a pair of square brackets (`[ ... ]`)."
   ]
  },
  {
   "cell_type": "code",
   "execution_count": null,
   "metadata": {
    "slideshow": {
     "slide_type": "-"
    }
   },
   "outputs": [],
   "source": [
    "message = \"Hello, there!\"\n",
    "print(\"message[0]=\", message[0]) # Count from zero!"
   ]
  },
  {
   "cell_type": "code",
   "execution_count": null,
   "metadata": {
    "slideshow": {
     "slide_type": "-"
    }
   },
   "outputs": [],
   "source": [
    "print(\"message[1]=\", message[1])"
   ]
  },
  {
   "cell_type": "code",
   "execution_count": null,
   "metadata": {},
   "outputs": [],
   "source": [
    "print(\"message[1]=\", message[12]) # 13 characters, so last one is [0]"
   ]
  },
  {
   "cell_type": "code",
   "execution_count": null,
   "metadata": {},
   "outputs": [],
   "source": [
    "print(\"message[1]=\", message[13]) # this one does not exist"
   ]
  },
  {
   "cell_type": "markdown",
   "metadata": {
    "slideshow": {
     "slide_type": "subslide"
    }
   },
   "source": [
    "* A **character** is simply a string of length $1$.\n",
    "\n",
    "* Indices begin with $0$ and end at length-1.\n",
    "\n",
    "* Negative indices can be used: they count from the *back* of the string."
   ]
  },
  {
   "cell_type": "code",
   "execution_count": null,
   "metadata": {
    "slideshow": {
     "slide_type": "subslide"
    }
   },
   "outputs": [],
   "source": [
    "message[-1]"
   ]
  },
  {
   "cell_type": "markdown",
   "metadata": {
    "slideshow": {
     "slide_type": "subslide"
    }
   },
   "source": [
    "### Slicing\n",
    "\n",
    "Square brackets can also be used to extract certain **substrings** of length bigger than $1$ (so-called **slices**).  Here two positional indices are needed: one marks the beginning and the other marks the end of the substring, separated by a colon (`:`)."
   ]
  },
  {
   "cell_type": "code",
   "execution_count": null,
   "metadata": {},
   "outputs": [],
   "source": [
    "message[0:5]"
   ]
  },
  {
   "cell_type": "code",
   "execution_count": null,
   "metadata": {
    "slideshow": {
     "slide_type": "subslide"
    }
   },
   "outputs": [],
   "source": [
    "message[7:12]"
   ]
  },
  {
   "cell_type": "markdown",
   "metadata": {
    "slideshow": {
     "slide_type": "-"
    }
   },
   "source": [
    "* Note how the substring starts at the first position and stops just short of the second position.  \n",
    "\n",
    "* In this way, the difference ($12-7$) of the two indices is the length of the substring ($5$).\n",
    "\n",
    "* Negative indices can also be used for slicing.\n",
    "\n",
    "* If any of the indices is omitted, it defaults to the beginning ($0$) or to the end ($-1$) of the string."
   ]
  },
  {
   "cell_type": "code",
   "execution_count": null,
   "metadata": {
    "slideshow": {
     "slide_type": "subslide"
    }
   },
   "outputs": [],
   "source": [
    "message[:7]  # if you omit the start index, it is treated as zero"
   ]
  },
  {
   "cell_type": "code",
   "execution_count": null,
   "metadata": {},
   "outputs": [],
   "source": [
    "message[7:]  # if you omit the end index, it is treated as the end"
   ]
  },
  {
   "cell_type": "code",
   "execution_count": null,
   "metadata": {
    "slideshow": {
     "slide_type": "-"
    }
   },
   "outputs": [],
   "source": [
    "message[:]  # a copy of the complete string"
   ]
  },
  {
   "cell_type": "markdown",
   "metadata": {
    "slideshow": {
     "slide_type": "subslide"
    }
   },
   "source": [
    "### Extended slices\n",
    "\n",
    "Slices support a third argument, called **step** or **stride**."
   ]
  },
  {
   "cell_type": "code",
   "execution_count": null,
   "metadata": {
    "slideshow": {
     "slide_type": "-"
    }
   },
   "outputs": [],
   "source": [
    "message[::2]"
   ]
  },
  {
   "cell_type": "markdown",
   "metadata": {
    "slideshow": {
     "slide_type": "-"
    }
   },
   "source": [
    "Again, negative values are supported."
   ]
  },
  {
   "cell_type": "code",
   "execution_count": null,
   "metadata": {},
   "outputs": [],
   "source": [
    "message[::-1]"
   ]
  },
  {
   "cell_type": "markdown",
   "metadata": {
    "slideshow": {
     "slide_type": "slide"
    }
   },
   "source": [
    "### String arithmetic\n",
    "\n",
    "Strings can be 'added' to each other and 'multiplied' by natural numbers (on either side).\n",
    "\n",
    "* **Concatenation.**  The `+` operator can be used to \n",
    "glue two or more strings together into a new one."
   ]
  },
  {
   "cell_type": "code",
   "execution_count": null,
   "metadata": {
    "slideshow": {
     "slide_type": "-"
    }
   },
   "outputs": [],
   "source": [
    "\"Hello \" + \"world!\""
   ]
  },
  {
   "cell_type": "markdown",
   "metadata": {
    "slideshow": {
     "slide_type": "subslide"
    }
   },
   "source": [
    "* **Repetition.**  To repeat a string a fixed number of times, multiply the string by that number."
   ]
  },
  {
   "cell_type": "code",
   "execution_count": null,
   "metadata": {
    "slideshow": {
     "slide_type": "-"
    }
   },
   "outputs": [],
   "source": [
    "\"'ello \" * 3"
   ]
  },
  {
   "cell_type": "markdown",
   "metadata": {
    "slideshow": {
     "slide_type": "subslide"
    }
   },
   "source": [
    "### Other string operations\n",
    "\n",
    "There are many **methods** for string manipulations."
   ]
  },
  {
   "cell_type": "code",
   "execution_count": null,
   "metadata": {},
   "outputs": [],
   "source": [
    "\"ATCGACTGATCGATCGTACGAT\".count(\"AT\")"
   ]
  },
  {
   "cell_type": "code",
   "execution_count": null,
   "metadata": {},
   "outputs": [],
   "source": [
    "\"ATCGACTGATCGATCGTACGAT\".find(\"ACT\")"
   ]
  },
  {
   "cell_type": "code",
   "execution_count": null,
   "metadata": {},
   "outputs": [],
   "source": [
    "\"ATCGACTGATCGATCGTACGAT\".lower()"
   ]
  },
  {
   "cell_type": "code",
   "execution_count": null,
   "metadata": {},
   "outputs": [],
   "source": [
    "\"ATCGACTGATCGATCGTACGAT\".replace(\"AT\", \"at\")"
   ]
  },
  {
   "cell_type": "code",
   "execution_count": null,
   "metadata": {
    "slideshow": {
     "slide_type": "subslide"
    }
   },
   "outputs": [],
   "source": [
    "\"A Title\".center(20)"
   ]
  },
  {
   "cell_type": "code",
   "execution_count": null,
   "metadata": {
    "slideshow": {
     "slide_type": "-"
    }
   },
   "outputs": [],
   "source": [
    "\"a little string\".upper()"
   ]
  },
  {
   "cell_type": "code",
   "execution_count": null,
   "metadata": {
    "slideshow": {
     "slide_type": "-"
    }
   },
   "outputs": [],
   "source": [
    "'    '.join('spread')"
   ]
  },
  {
   "cell_type": "markdown",
   "metadata": {
    "slideshow": {
     "slide_type": "-"
    }
   },
   "source": [
    "* The `string` module contains further useful string manipulation operations.\n",
    "* In Python, strings are **immutable**: operations never change strings, only produce new ones."
   ]
  },
  {
   "cell_type": "markdown",
   "metadata": {
    "slideshow": {
     "slide_type": "slide"
    }
   },
   "source": [
    "### The ASCII code\n",
    "\n",
    "* A Python program is traditionally composed of the characters in a fixed set of 128 symbols, called the **ASCII code** (from 1968!).\n",
    "\n",
    "* A modern extension of ASCII is [Unicode](https://docs.python.org/3/howto/unicode.html).\n",
    "\n",
    "* The ASCII code is based on the symbols that are found on the original US keyboards.\n",
    "\n",
    "* Each character corresponds to an integer between $0$ and $127$."
   ]
  },
  {
   "cell_type": "markdown",
   "metadata": {
    "slideshow": {
     "slide_type": "subslide"
    }
   },
   "source": [
    "<pre>\n",
    " 32     48 0   64 @   80 P   96 `  112 p \n",
    " 33 !   49 1   65 A   81 Q   97 a  113 q \n",
    " 34 \"   50 2   66 B   82 R   98 b  114 r \n",
    " 35 #   51 3   67 C   83 S   99 c  115 s \n",
    " 36 $   52 4   68 D   84 T  100 d  116 t \n",
    " 37 %   53 5   69 E   85 U  101 e  117 u \n",
    " 38 &   54 6   70 F   86 V  102 f  118 v \n",
    " 39 '   55 7   71 G   87 W  103 g  119 w \n",
    " 40 (   56 8   72 H   88 X  104 h  120 x \n",
    "</pre>"
   ]
  },
  {
   "cell_type": "markdown",
   "metadata": {
    "slideshow": {
     "slide_type": "subslide"
    }
   },
   "source": [
    "<pre>\n",
    " 41 )   57 9   73 I   89 Y  105 i  121 y \n",
    " 42 *   58 :   74 J   90 Z  106 j  122 z \n",
    " 43 +   59 ;   75 K   91 [  107 k  123 { \n",
    " 44 ,   60 <   76 L   92 \\  108 l  124 | \n",
    " 45 -   61 =   77 M   93 ]  109 m  125 } \n",
    " 46 .   62 >   78 N   94 ^  110 n  126 ~ \n",
    " 47 /   63 ?   79 O   95 _  111 o  127 DEL \n",
    "</pre>"
   ]
  },
  {
   "cell_type": "markdown",
   "metadata": {
    "slideshow": {
     "slide_type": "subslide"
    }
   },
   "source": [
    "The Python functions `ord` (\"ordinal\") and `chr` (\"character\") convert between\n",
    "a character and its numerical (ASCII) value:\n",
    "\n",
    "* `ord` returns the ASCII value of a character\n",
    "\n",
    "* `chr` returns the character for a given ASCII value"
   ]
  },
  {
   "cell_type": "code",
   "execution_count": null,
   "metadata": {},
   "outputs": [],
   "source": [
    "ord('A')"
   ]
  },
  {
   "cell_type": "code",
   "execution_count": null,
   "metadata": {},
   "outputs": [],
   "source": [
    "chr(65)"
   ]
  },
  {
   "cell_type": "markdown",
   "metadata": {
    "slideshow": {
     "slide_type": "slide"
    }
   },
   "source": [
    "### Summary: strings\n",
    "\n",
    "* Strings are **sequences** of characters. \n",
    "* **Characters** are themselves strings of length $1$.\n",
    "\n",
    "* String **literals** are enclosed in single (`'`) or double (`\"`) quotes.\n",
    "\n",
    "* There are built-in operations for **concatenation** (`+`), **repetition** (`*`), **indexing** (`[]`), **slicing** (`[:]`) and **length** (`len`)."
   ]
  },
  {
   "cell_type": "markdown",
   "metadata": {
    "slideshow": {
     "slide_type": "subslide"
    }
   },
   "source": [
    "* Internally, characters are represented by **numerical codes**. The functions `ord` and `chr` convert between the two representations.\n",
    "\n",
    "* String objects support many useful **string manipulation** functions.\n",
    "\n",
    "* Additional string methods are defined in **modules** such as the `string` module."
   ]
  },
  {
   "cell_type": "markdown",
   "metadata": {
    "slideshow": {
     "slide_type": "slide"
    }
   },
   "source": [
    "## Values, expressions, and variables.\n",
    "### Overview\n",
    "\n",
    "* Python programs operate on **values** of objects with **types** such as `int` or `str`.\n",
    "\n",
    "* Values can be assigned to **variables** for later (re)use.\n",
    "\n",
    "* **Literals** are representations of fixed values.\n",
    "\n",
    "* Literals and variables can be combined using operators (e.g. `+` or `*`) and other ingredients (e.g. function calls) to form **expressions**."
   ]
  },
  {
   "cell_type": "code",
   "execution_count": null,
   "metadata": {
    "slideshow": {
     "slide_type": "subslide"
    }
   },
   "outputs": [],
   "source": [
    "# The value represented by the literal 1234 is assigned to the variable x \n",
    "x = 1234 \n",
    "y = 5678  # val of literal 5678 is assigned to variable y\n",
    "# By combining literals and variables, we may form expressions\n",
    "5*x - y + 2"
   ]
  },
  {
   "cell_type": "markdown",
   "metadata": {
    "slideshow": {
     "slide_type": "-"
    }
   },
   "source": [
    "* When you run a code cell, the Python kernel attempts to **execute** the code. This involves **evaluating** all expressions, i.e. computing their values.\n",
    "* If successful and the final statement is an expression, its value is printed below the cell.\n",
    "\n",
    "Types of values include integers as above, or strings:"
   ]
  },
  {
   "cell_type": "code",
   "execution_count": null,
   "metadata": {
    "slideshow": {
     "slide_type": "-"
    }
   },
   "outputs": [],
   "source": [
    "'y' + \"\".join(x*17 for x in \"eah\")  # We'll explain this next week!"
   ]
  },
  {
   "cell_type": "markdown",
   "metadata": {
    "slideshow": {
     "slide_type": "subslide"
    }
   },
   "source": [
    "FAO 1BGG1, here is a random DNA sequences:"
   ]
  },
  {
   "cell_type": "code",
   "execution_count": null,
   "metadata": {
    "slideshow": {
     "slide_type": "-"
    }
   },
   "outputs": [],
   "source": [
    "import random\n",
    "\"\".join(\"AGCT\"[random.randint(0,3)] for _ in range(72))"
   ]
  },
  {
   "cell_type": "markdown",
   "metadata": {
    "slideshow": {
     "slide_type": "-"
    }
   },
   "source": [
    "These are examples of some of the types of objects that a Python program can deal with. Different types are stored in different digital formats but we won't worry about this here."
   ]
  },
  {
   "cell_type": "markdown",
   "metadata": {
    "slideshow": {
     "slide_type": "slide"
    }
   },
   "source": [
    "### Expressions\n",
    "\n",
    "* The fragments of Python code that describe the values (and that often look like mathematical formulae) are called **expressions**.\n",
    "\n",
    "* Expressions have values.\n",
    "\n",
    "* The simplest kind of an expression is a **literal** (like the number `17` or an explicit string `\"hello!\"`). The value of a literal is what you expect."
   ]
  },
  {
   "cell_type": "markdown",
   "metadata": {
    "slideshow": {
     "slide_type": "subslide"
    }
   },
   "source": [
    "* In general, expressions are obtained by combining simpler expressions.<br>\n",
    "  Examples:\n",
    "the sum of two numbers, or the sum of a product and a quotient, ...\n",
    "\n",
    "* The process of deriving a value from an expression is called **evaluation**\n",
    "\n",
    "* This is a major part of what the Python interpreter does!"
   ]
  },
  {
   "cell_type": "code",
   "execution_count": null,
   "metadata": {},
   "outputs": [],
   "source": [
    "(12 * 3) + (15 // 5)"
   ]
  },
  {
   "cell_type": "code",
   "execution_count": null,
   "metadata": {},
   "outputs": [],
   "source": [
    "3 * 13"
   ]
  },
  {
   "cell_type": "markdown",
   "metadata": {
    "slideshow": {
     "slide_type": "-"
    }
   },
   "source": [
    "### Variables and assignments (again)\n",
    "Earlier we learned:\n",
    "* Values can be preserved and reused by assigning them to **variables**.\n",
    "* A variable is a named container of a value.\n",
    "* A variable with a given name is created the first time it is **assigned** a value.\n",
    "* Subsequent assignments may change the value of the variable.\n",
    "* Evaluating a variable in an expression retrieves its value.\n",
    "* Assignment **always** consist of a variable (or several variables) on the left of the equals, and an expression on the right."
   ]
  },
  {
   "cell_type": "code",
   "execution_count": null,
   "metadata": {
    "slideshow": {
     "slide_type": "-"
    }
   },
   "outputs": [],
   "source": [
    "x = (12 * 3) + (15 // 5)\n",
    "x"
   ]
  },
  {
   "cell_type": "markdown",
   "metadata": {
    "slideshow": {
     "slide_type": "subslide"
    }
   },
   "source": [
    "It is important to note that the value of the expression on the right is first calculated, and then the result stored in the variable on the left. "
   ]
  },
  {
   "cell_type": "code",
   "execution_count": null,
   "metadata": {},
   "outputs": [],
   "source": [
    "print('x=',x)"
   ]
  },
  {
   "cell_type": "code",
   "execution_count": null,
   "metadata": {},
   "outputs": [],
   "source": [
    "x = x + 1"
   ]
  },
  {
   "cell_type": "code",
   "execution_count": null,
   "metadata": {},
   "outputs": [],
   "source": [
    "print('x=',x)"
   ]
  },
  {
   "cell_type": "markdown",
   "metadata": {
    "slideshow": {
     "slide_type": "-"
    }
   },
   "source": [
    "Variable names are examples of things called **identifier**.\n",
    "\n",
    "* An identifier is composed of letters (a to z and A to Z, digits (0 to 9) and underscores (_), but it cannot begin with a digit.\n",
    "* Certain keywords (such as `import`) have a special meaning in Python and cannot be used as identifiers.\n",
    "* Python is **case-sensitive**. The following identifiers are **all different** variables:\n",
    "    - `text`\n",
    "    - `Text`\n",
    "    - `tExT`\n"
   ]
  },
  {
   "cell_type": "markdown",
   "metadata": {
    "slideshow": {
     "slide_type": "subslide"
    }
   },
   "source": [
    "### Keywords\n",
    "\n",
    "The complete list of keywords in Python is as follows."
   ]
  },
  {
   "cell_type": "code",
   "execution_count": null,
   "metadata": {
    "scrolled": true,
    "slideshow": {
     "slide_type": "-"
    }
   },
   "outputs": [],
   "source": [
    "import keyword\n",
    "print(keyword.kwlist)"
   ]
  },
  {
   "cell_type": "markdown",
   "metadata": {
    "slideshow": {
     "slide_type": "subslide"
    }
   },
   "source": [
    "Or, in a more readable table:\n",
    "\n",
    "\n",
    "| | | | |\n",
    "|:-:|:-:|:-:|:-:|\n",
    "|`False`|`class`|`from`|`or`|\n",
    "|`None`|`continue`|`global`|`pass`|\n",
    "|`True`|`def`|`if`|`raise`|`yield`|\n",
    "|`and`|`del`|`import`|`return`|\n",
    "|`as`|`elif`|`in`|`try`|\n",
    "|`assert`|`else`|`is`|`while`|\n",
    "| `async` | `except`|`lambda`|`with`|\n",
    "| `await` | `finally` | `nonlocal` | `yield`|\n",
    "|`break`| `for` | `not` |\n",
    "\n",
    "We will encounter many (but not all) of these later on."
   ]
  },
  {
   "cell_type": "markdown",
   "metadata": {
    "collapsed": true,
    "slideshow": {
     "slide_type": "slide"
    }
   },
   "source": [
    "### Summary: expressions and assignments\n",
    "\n",
    "* A program deals with **values** of different types.\n",
    "\n",
    "* **Expressions** are fragments of code that **represent** data values.\n",
    "\n",
    "* **Literals** are expressions that explicitly describe a specific value, e.g. `\"hello\"`, or `3.1415`.\n",
    "\n",
    "* **Operators** (like `+`) are used to combine expressions into larger expressions.\n",
    "\n",
    "* Values can be assigned to **variables**."
   ]
  },
  {
   "cell_type": "markdown",
   "metadata": {
    "collapsed": true,
    "slideshow": {
     "slide_type": "subslide"
    }
   },
   "source": [
    "* Each variable has a **name** consisting of letters, digits and underscores, but not starting with a digit and different from any **keyword**.\n",
    "\n",
    "* Variables can be part of expressions. Upon evaluation, their current values are substituted into the expression.\n",
    "\n",
    "* Over time, a variable can be assigned different values."
   ]
  },
  {
   "cell_type": "markdown",
   "metadata": {
    "slideshow": {
     "slide_type": "slide"
    }
   },
   "source": [
    "## [Project Jupyter](http://jupyter.org/)\n",
    "\n",
    "> Project Jupyter exists to develop open-source software, open-standards, and services for interactive computing across dozens of programming languages.\n",
    "\n",
    "- Jupyter **notebooks** are interactive documents that combine Python code and text.\n",
    "\n",
    "- Modern (2015&ndash;) and actively developed.\n",
    "\n",
    "- Popular in several branches of science."
   ]
  },
  {
   "cell_type": "markdown",
   "metadata": {
    "slideshow": {
     "slide_type": "slide"
    }
   },
   "source": [
    "### [Jupyter notebooks](https://jupyter-notebook.readthedocs.io/en/stable/notebook.html)\n",
    "\n",
    "* Notebooks are created, modified, and used from within a browser. \n",
    "* We use them for lecture notes and practicals.\n",
    "* Notebooks can be uploaded to, downloaded from, edited, etc. on our server\n",
    "https://jupyter.nuigalway.ie\n",
    "\n",
    "To access the server: go to https://jupyter.nuigalway.ie, enter your student ID, and choose any password. Make sure you remember it. We can change it later, but it is tedious.\n",
    "\n",
    "You can also try Jupyter here: https://jupyter.org/try\n",
    "Warning. You need to save notebooks on your device if you want to reuse them later."
   ]
  },
  {
   "cell_type": "markdown",
   "metadata": {
    "slideshow": {
     "slide_type": "slide"
    }
   },
   "source": [
    "### Notebooks\n",
    "\n",
    "* A notebook consists of a sequence of **cells**.\n",
    "\n",
    "* A cell either contains **text** or (Python) **code**.\n",
    "\n",
    "* A text cell contains [markdown](https://daringfireball.net/projects/markdown/) formatted text.\n",
    "\n",
    "* A code cell can be executed (\"run\") using the notebook's Python **kernel**.\n",
    "\n",
    "* Running text cells 'renders' the text."
   ]
  },
  {
   "cell_type": "markdown",
   "metadata": {
    "slideshow": {
     "slide_type": "subslide"
    }
   },
   "source": [
    "At each time, the notebook is either in **edit mode** or in **command mode**.\n",
    "* In command mode, you can move around the notebook and operate on cells (e.g. copy and paste, split or merge cells, etc.).\n",
    "* In edit mode, the content of the current cell can be modified."
   ]
  },
  {
   "cell_type": "markdown",
   "metadata": {
    "slideshow": {
     "slide_type": "subslide"
    }
   },
   "source": [
    "Some keyboard shortcuts:\n",
    "\n",
    "* `Esc`: switch to command mode\n",
    "\n",
    "* `Enter`: switch to edit mode (from command mode)\n",
    "\n",
    "* `Shift-Enter`: run cell, switch to command mode, selects cell below\n",
    "\n",
    "More: use the Help menu!"
   ]
  },
  {
   "cell_type": "markdown",
   "metadata": {
    "slideshow": {
     "slide_type": "subslide"
    }
   },
   "source": [
    "Some keyboard shortcuts supported in **command mode**:\n",
    "\n",
    "* `Enter` switches to edit mode.\n",
    "\n",
    "* `Shift-Enter` runs the cell, then selects the cell below.\n",
    "\n",
    "* `Up` selects the cell above.\n",
    "\n",
    "* `Down` selects the cell below."
   ]
  },
  {
   "cell_type": "markdown",
   "metadata": {
    "slideshow": {
     "slide_type": "subslide"
    }
   },
   "source": [
    "<div align=\"center\">Now try it out yourself!</div>"
   ]
  }
 ],
 "metadata": {
  "celltoolbar": "Slideshow",
  "kernelspec": {
   "display_name": "Python 3 (ipykernel)",
   "language": "python",
   "name": "python3"
  },
  "language_info": {
   "codemirror_mode": {
    "name": "ipython",
    "version": 3
   },
   "file_extension": ".py",
   "mimetype": "text/x-python",
   "name": "python",
   "nbconvert_exporter": "python",
   "pygments_lexer": "ipython3",
   "version": "3.9.13"
  },
  "rise": {
   "backimage": "Snow-land.png",
   "footer": "<h2>CS102/CS103</h2>",
   "header": "<h2>Week 02</h2>",
   "theme": "serif"
  },
  "toc": {
   "base_numbering": 1,
   "nav_menu": {},
   "number_sections": true,
   "sideBar": false,
   "skip_h1_title": true,
   "title_cell": "Table of Contents",
   "title_sidebar": "Contents",
   "toc_cell": false,
   "toc_position": {
    "height": "66.7773px",
    "left": "1977.88px",
    "top": "21.3828px",
    "width": "159.414px"
   },
   "toc_section_display": false,
   "toc_window_display": true
  },
  "varInspector": {
   "cols": {
    "lenName": 16,
    "lenType": 16,
    "lenVar": 40
   },
   "kernels_config": {
    "python": {
     "delete_cmd_postfix": "",
     "delete_cmd_prefix": "del ",
     "library": "var_list.py",
     "varRefreshCmd": "print(var_dic_list())"
    },
    "r": {
     "delete_cmd_postfix": ") ",
     "delete_cmd_prefix": "rm(",
     "library": "var_list.r",
     "varRefreshCmd": "cat(var_dic_list()) "
    }
   },
   "types_to_exclude": [
    "module",
    "function",
    "builtin_function_or_method",
    "instance",
    "_Feature"
   ],
   "window_display": false
  }
 },
 "nbformat": 4,
 "nbformat_minor": 2
}
