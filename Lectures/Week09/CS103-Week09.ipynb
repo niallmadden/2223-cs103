{
 "cells": [
  {
   "cell_type": "markdown",
   "metadata": {
    "slideshow": {
     "slide_type": "slide"
    }
   },
   "source": [
    "# CS102/CS103: Week 09 - Dictionaries <span style='color:green'>(V1.0)</span>\n",
    "\n",
    "\n",
    "**Lecture notes for Week 9 of CS102/CS103, 23+24 November, 2022.**\n",
    "\n",
    "Dr [Niall Madden](mailto:Niall.Madden@UniversityOfGalway.ie), School of Mathematical and Statistical Sciences, \n",
    "University of Galway.\n",
    "            \n",
    "You can find these notes on\n",
    "    \n",
    "* Blackboard\n",
    "* as HTML at: [https://www.niallmadden.ie/2223-CS103](https://www.niallmadden.ie/2223-CS103)\n",
    "* Jupyter notebook on Binder [https://mybinder.org/v2/gh/niallmadden/2223-cs103/main](https://mybinder.org/v2/gh/niallmadden/2223-cs103/main) [![Binder](https://mybinder.org/badge_logo.svg)](https://mybinder.org/v2/gh/niallmadden/2223-cs103/main)\n",
    "\n",
    "* Both formats on Github: [https://github.com/niallmadden/2223-cs103](https://github.com/niallmadden/2223-cs103)\n",
    "\n",
    "\n",
    "***\n",
    "\n",
    "<div class=\"pink\"><font size=\"+1\"><em>This notebook was written by Niall Madden, and uses some material from Chapter 11 of <a href=\"https://greenteapress.com/thinkpython2/html\">Think Python</a>.</em></div>"
   ]
  },
  {
   "cell_type": "markdown",
   "metadata": {
    "slideshow": {
     "slide_type": "subslide"
    }
   },
   "source": [
    "## News: \n",
    "### Just one class on Wednesday\n",
    "For the rest of the semester, we'll have just one lecture on a Wednesday: 13.00 in MRA-201 (Martin Ryan Annex).\n",
    "\n"
   ]
  },
  {
   "cell_type": "markdown",
   "metadata": {
    "slideshow": {
     "slide_type": "subslide"
    }
   },
   "source": [
    "### Lab 6 this week\n",
    "\n",
    "Lab 6 uses a new system for fetching a submitting lab work. Have a look at the video for an explanation, as well as the solution to the first task.\n",
    "\n",
    "For it, you must use the Jupyter server at  [https://cloudjupyter.universityofgalway.ie/](https://cloudjupyter.universityofgalway.ie/). Check your email for a message from `maths-sto@universityofgalway.ie` with your username and password.\n",
    "\n",
    "**Deadline**: Friday, 25 Nov at 5pm."
   ]
  },
  {
   "cell_type": "markdown",
   "metadata": {
    "slideshow": {
     "slide_type": "subslide"
    }
   },
   "source": [
    "### Plans for the rest of the semester \n",
    "\n",
    "* We have two more weeks of labs. There will be some changes to the venues on Tuesday (6th December) and Wednesday (7th December) - we'll use MY127 instead of AMB-1024 and  BLE-2012 both days. You'll need to bring your own laptop to MY127. If that is a problem, contact Niall.\n",
    "\n",
    "Labs in the Cairnes Building will go ahead as planned."
   ]
  },
  {
   "cell_type": "markdown",
   "metadata": {},
   "source": [
    "### Assessment Summary\n",
    "\n",
    "[ Discuss Thursday]\n"
   ]
  },
  {
   "cell_type": "markdown",
   "metadata": {
    "slideshow": {
     "slide_type": "slide"
    }
   },
   "source": [
    "# Dictionaries\n",
    "\n",
    "At the end of our last class, we started learning about using a **dictionary** in Python. \n",
    "\n",
    "A *dictionary* is a collection of _things_ that are indexed by identifiers that we choose. That is, a **dictionary** is made up of\n",
    "* **keys**, which act like indices, but can have just about any value\n",
    "* **values** which are associated with the keys\n",
    "* Each key is associated with a single value: together they are called a _key:value pair_."
   ]
  },
  {
   "cell_type": "markdown",
   "metadata": {
    "slideshow": {
     "slide_type": "slide"
    }
   },
   "source": [
    "## Defining a dictionary\n",
    "\n",
    "A **dictionary** is made up of\n",
    "* **keys**, which act like indices, but can have just about any value\n",
    "* **values** which are associated with the keys\n",
    "* Each key is associated with a single value: together they are called a _key:value pair_.\n",
    "* Its data type is `dict`."
   ]
  },
  {
   "cell_type": "markdown",
   "metadata": {
    "slideshow": {
     "slide_type": "subslide"
    }
   },
   "source": [
    "### Dictionaries V Lists\n",
    "\n",
    "**Similarities**\n",
    "* Both dictionaries and list store collections of things.\n",
    "* Use the `len()` function to find out how many things are stored.\n",
    "* If `x` is dictionary or a list, index individual elements using square braces: `x[index]`. "
   ]
  },
  {
   "cell_type": "markdown",
   "metadata": {},
   "source": [
    "**Differences**\n",
    "\n",
    "* A `list` are indexed by integers: `0`, `1`, `2`, ..., `len(x)-1`. (So, they are numbered sequences)\n",
    "* A `dict` is indexed by its keys, and these keys can be _anything_"
   ]
  },
  {
   "cell_type": "markdown",
   "metadata": {
    "slideshow": {
     "slide_type": "slide"
    }
   },
   "source": [
    "There are two basic ways to define a dictionary."
   ]
  },
  {
   "cell_type": "markdown",
   "metadata": {
    "slideshow": {
     "slide_type": "-"
    }
   },
   "source": [
    "### Method one: make an empty dictionary and add stuff\n",
    "\n",
    "The keyword `dict()` can be used to create an empty dictionary. Then we can add `key:value pairs`, one at a time."
   ]
  },
  {
   "cell_type": "markdown",
   "metadata": {},
   "source": [
    "```pytohn\n",
    "x = dict()\n",
    "x[key1] = value1\n",
    "x[key2] = value2\n",
    "...\n",
    "```"
   ]
  },
  {
   "cell_type": "markdown",
   "metadata": {
    "slideshow": {
     "slide_type": "subslide"
    }
   },
   "source": [
    "### Method two: use `{` and `}`\n",
    "\n",
    "We can also make a dictionary with the `key:value` pairs. Syntax is:\n",
    "```python\n",
    "<dict_name> = { <key_1>: <value_1>, <key_2>: <value_2>, ..., <key_n>: <value_n>}\n",
    "```\n",
    "That is:\n",
    "* dictionary starts with `{` and ends with `}`.\n",
    "* There is a colon (`:`) between each key and its corresponding value.\n",
    "* `key:value` pairs are separated by commas."
   ]
  },
  {
   "cell_type": "markdown",
   "metadata": {
    "slideshow": {
     "slide_type": "subslide"
    }
   },
   "source": [
    "### Example: a dictionary for a dictionary\n",
    "\n",
    "Let's make a dictionary of computer-related terms. Each key will be a term in English, and its value the corresponding term in Irish (Gaeilge)."
   ]
  },
  {
   "cell_type": "code",
   "execution_count": null,
   "metadata": {},
   "outputs": [],
   "source": [
    "eng2gae = dict() # start with an empty dictionary\n",
    "eng2gae['variable']=\"athróg\"\n",
    "eng2gae['byte']=\"ochtán\"\n",
    "eng2gae['identifier']=\"aitheantóir\"\n",
    "eng2gae['email']=\"r-phost\""
   ]
  },
  {
   "cell_type": "code",
   "execution_count": null,
   "metadata": {},
   "outputs": [],
   "source": [
    "eng2gae"
   ]
  },
  {
   "cell_type": "markdown",
   "metadata": {
    "slideshow": {
     "slide_type": "subslide"
    }
   },
   "source": [
    "To access a value, use `<dictionary>[key]`. Example:"
   ]
  },
  {
   "cell_type": "code",
   "execution_count": null,
   "metadata": {},
   "outputs": [],
   "source": [
    "print(f\"The Irish for byte is {eng2gae['byte']}\")"
   ]
  },
  {
   "cell_type": "markdown",
   "metadata": {
    "slideshow": {
     "slide_type": "subslide"
    }
   },
   "source": [
    "Using a non-existent key causes an error:\n",
    "```python \n",
    "print(f\"The Irish for kilobyte is {eng2gae['kilobyte']}\")\n",
    "\n",
    "Slide Type￼\n",
    "￼\n",
    "print(f\"The Irish for kilobyte is {eng2gae['kilobyte']}\")\n",
    "---------------------------------------------------------------------------\n",
    "KeyError                                  Traceback (most recent call last)\n",
    "Input In [13], in <cell line: 1>()\n",
    "----> 1 print(f\"The Irish for kilobyte is {eng2gae['kilobyte']}\")\n",
    "\n",
    "KeyError: 'kilobyte'\n",
    "```\n",
    "\n",
    "(Use the `get` method to avoid errors; more later)."
   ]
  },
  {
   "cell_type": "markdown",
   "metadata": {
    "slideshow": {
     "slide_type": "slide"
    }
   },
   "source": [
    "## Working with dictionaries\n",
    "\n",
    "Some of the typical tasks we might what to do with a dictionary:\n",
    "* Check if a `key` is present\n",
    "* Check if a value is present\n",
    "* Iterate over the keys are values \n",
    "* ..."
   ]
  },
  {
   "cell_type": "markdown",
   "metadata": {
    "slideshow": {
     "slide_type": "subslide"
    }
   },
   "source": [
    "### The `in` operator\n",
    "\n",
    "When we apply the `in` operator to a dictionary, it applies to keys."
   ]
  },
  {
   "cell_type": "code",
   "execution_count": null,
   "metadata": {},
   "outputs": [],
   "source": [
    "\"byte\" in eng2gae"
   ]
  },
  {
   "cell_type": "code",
   "execution_count": null,
   "metadata": {},
   "outputs": [],
   "source": [
    "\"r-phost\" in eng2gae"
   ]
  },
  {
   "cell_type": "markdown",
   "metadata": {
    "slideshow": {
     "slide_type": "slide"
    }
   },
   "source": [
    "### The `.keys()`  and `.values()` methods\n",
    "\n",
    "The  `.keys()`  and `.values()` methods returns the keys and values as a `list`  (well, not quite lists, but very similar...). "
   ]
  },
  {
   "cell_type": "code",
   "execution_count": null,
   "metadata": {},
   "outputs": [],
   "source": [
    "eng2gae.keys()"
   ]
  },
  {
   "cell_type": "code",
   "execution_count": null,
   "metadata": {},
   "outputs": [],
   "source": [
    "eng2gae.values()"
   ]
  },
  {
   "cell_type": "markdown",
   "metadata": {},
   "source": [
    "The `values()` method can be used in conjunction with the `in` operator:"
   ]
  },
  {
   "cell_type": "code",
   "execution_count": null,
   "metadata": {},
   "outputs": [],
   "source": [
    "\"r-phost\" in eng2gae.values()"
   ]
  },
  {
   "cell_type": "markdown",
   "metadata": {
    "slideshow": {
     "slide_type": "slide"
    }
   },
   "source": [
    "### Dictionary methods\n",
    "\n",
    "There are other methods that can be applied to dictionaries.\n",
    "\n",
    "Each dictionary `D` supports the following **methods** which are called in the form `D.method(arg)`.\n",
    "\n",
    "|Method | Effect|\n",
    "|---|---|\n",
    "|`D.clear()`| deletes all keys (and values)|\n",
    "|`D.copy()`| creates a copy|\n",
    "|`D.get(key[, default])`|retrieves `D[key]` if `key in D` and `default` (or `None`) otherwise |\n",
    "|`D.items()`|return all key-value pairs|\n",
    "|`D.keys()`|return all keys|\n",
    "|`D.pop(key)`|remove key and return associated value|\n",
    "|`D.update(E)`|add all key-value pairs from `E` to `D`|\n",
    "|`D.values()`|return all values|\n"
   ]
  },
  {
   "cell_type": "markdown",
   "metadata": {
    "slideshow": {
     "slide_type": "subslide"
    }
   },
   "source": [
    "You can read about these methods yourself. BUt we'll have a quick look at using `.update()`, in part to review how t make a dictionary without using the `dict()` function.\n",
    "\n",
    "Calling  `D.update(E)` \"adds\" dictionary `E` to `D`:\n",
    "* If a key in `E` and not in `D` that `key:value` pair is added to `D`.\n",
    "* If a key in `E` is already in `D`, the `key:value` pair is `D` is _replaced_ by the one from `E`."
   ]
  },
  {
   "cell_type": "code",
   "execution_count": null,
   "metadata": {
    "slideshow": {
     "slide_type": "subslide"
    }
   },
   "outputs": [],
   "source": [
    "d1 = {1: 'i', 2: 'ii', 3: 'iii', 4: 'iv'}\n",
    "print(f\"d1={d1}\")"
   ]
  },
  {
   "cell_type": "code",
   "execution_count": null,
   "metadata": {},
   "outputs": [],
   "source": [
    "d2 = {4:'IV', 5:'V'}\n",
    "print(f\"d1={d2}\")"
   ]
  },
  {
   "cell_type": "code",
   "execution_count": null,
   "metadata": {},
   "outputs": [],
   "source": [
    "d1.update(d2)\n",
    "print(f\"d1={d1}\")"
   ]
  },
  {
   "cell_type": "markdown",
   "metadata": {
    "slideshow": {
     "slide_type": "slide"
    }
   },
   "source": [
    "# Histograms\n",
    "\n",
    "This section leads towards \"Dictionaries as counters\", based on Section 11.2 of Think Python.\n",
    "\n",
    "## What is a histogram?\n",
    "\n",
    "A *histogram* is a representation of a list a data, the counts the occurrence  of each element.\n"
   ]
  },
  {
   "cell_type": "markdown",
   "metadata": {
    "slideshow": {
     "slide_type": "subslide"
    }
   },
   "source": [
    "Example:\n",
    "> A group of 12 students did an assignment for which they received a mark of A, B, C, or D. Their scores are listed as `[A,B,A,B,D,C,A,D,A,A,B,A]`. A **histogram** for this data counts the numbers of `A`s, `B`s, `C`s and `D`s, as a table is:\n",
    "\n",
    "|Score | Freq|\n",
    "|--|--|\n",
    "|D|2|\n",
    "|C|1|\n",
    "|B|3|\n",
    "|A|6|"
   ]
  },
  {
   "cell_type": "markdown",
   "metadata": {
    "slideshow": {
     "slide_type": "subslide"
    }
   },
   "source": [
    "A histogram is also often represented as bar-plot, where the height of the bar represents the frequency.\n",
    "\n",
    "![Histgram of garde data](histo.png \"Histogram of garde data\")"
   ]
  },
  {
   "cell_type": "markdown",
   "metadata": {
    "slideshow": {
     "slide_type": "subslide"
    }
   },
   "source": [
    "(In the most general settings, we count the frequency of values in certain _ranges_, but we don't need that today).\n",
    "\n",
    "\n",
    "*Dictionaries* are very useful for representing histograms:\n",
    "* the **keys** are things being counted (`A`, `B`, `C` and `D`, in the last example).\n",
    "* the **values** are the frequencies.\n",
    "\n",
    "For example, the table\n",
    "\n",
    "|Score | Freq|\n",
    "|--|--|\n",
    "|D|2|\n",
    "|C|1|\n",
    "|B|3|\n",
    "|A|6|\n",
    "\n",
    "could be represented as \n",
    "```python\n",
    "{'A': 6, 'B': 3, 'C': 1, 'D': 2}\n",
    "```"
   ]
  },
  {
   "cell_type": "markdown",
   "metadata": {
    "slideshow": {
     "slide_type": "subslide"
    }
   },
   "source": [
    "In this section we want to:\n",
    "1. Write a function which takes a list as input, and returns a dictionary representing the histogram\n",
    "2. Write a function to plot a histogram."
   ]
  },
  {
   "cell_type": "markdown",
   "metadata": {
    "slideshow": {
     "slide_type": "-"
    }
   },
   "source": [
    "This function is adapted from Think Python. It works as follows:\n",
    "* takes a `list` as an argument.\n",
    "* makes an empty `dict`\n",
    "* iterate over each `element` of the list\n",
    "    * if `element` is not a key in the list, add the pair `element:1`.\n",
    "    * if `element` is already a key in the list, add `1` to its value.\n"
   ]
  },
  {
   "cell_type": "markdown",
   "metadata": {
    "slideshow": {
     "slide_type": "slide"
    }
   },
   "source": [
    "Here is the code for `histogram()` (adapted from Section 11.2 of Think Python)."
   ]
  },
  {
   "cell_type": "code",
   "execution_count": null,
   "metadata": {
    "slideshow": {
     "slide_type": "-"
    }
   },
   "outputs": [],
   "source": [
    "def histogram(my_list):\n",
    "    d = dict()\n",
    "    for element in my_list:\n",
    "        if element not in d:\n",
    "            d[element] = 1\n",
    "        else:\n",
    "            d[element] += 1\n",
    "        # print(d)\n",
    "    return d"
   ]
  },
  {
   "cell_type": "markdown",
   "metadata": {},
   "source": [
    "We'll check if it works:"
   ]
  },
  {
   "cell_type": "code",
   "execution_count": null,
   "metadata": {
    "slideshow": {
     "slide_type": "subslide"
    }
   },
   "outputs": [],
   "source": [
    "scores = ['A','B','A','B','C','D','A','D','A','A','B','A']"
   ]
  },
  {
   "cell_type": "code",
   "execution_count": null,
   "metadata": {
    "slideshow": {
     "slide_type": "-"
    }
   },
   "outputs": [],
   "source": [
    "scores_hist = histogram(scores)\n",
    "print( scores_hist)"
   ]
  },
  {
   "cell_type": "markdown",
   "metadata": {
    "slideshow": {
     "slide_type": "slide"
    }
   },
   "source": [
    "### Plotting histograms\n",
    "\n",
    "We will plot histograms dictionaries using the `bar()` function in the `matplotlib.pyplot` module. (Note: can also do this directly from a list with the `hist()` function, but we want to use the `histogram()` function).\n",
    "\n",
    "First we'll import the module."
   ]
  },
  {
   "cell_type": "code",
   "execution_count": null,
   "metadata": {
    "slideshow": {
     "slide_type": "-"
    }
   },
   "outputs": [],
   "source": [
    "import matplotlib.pyplot as plt"
   ]
  },
  {
   "cell_type": "markdown",
   "metadata": {
    "slideshow": {
     "slide_type": "slide"
    }
   },
   "source": [
    "Now we can use the `bar()` function. It takes two arguments, `x` and `y`,  both lists:\n",
    "* `x` (list) are the _bins_ on the horizontal axis. The list can be of all numbers or all strings.\n",
    "* `y` (list of numbers): `y[i]` is the height of the bar labeled `x[i]`\n",
    "\n",
    "Example:"
   ]
  },
  {
   "cell_type": "code",
   "execution_count": null,
   "metadata": {},
   "outputs": [],
   "source": [
    "x = [-1, 0, 2, 3, 4]\n",
    "y = [10,  2, 3, 4, 8]\n",
    "plt.bar(x,y);"
   ]
  },
  {
   "cell_type": "markdown",
   "metadata": {
    "slideshow": {
     "slide_type": "slide"
    }
   },
   "source": [
    "To use `bar()` to plot our dictionary, we'll use the `keys()` and `values()` methods, but with the results converted to list:"
   ]
  },
  {
   "cell_type": "code",
   "execution_count": null,
   "metadata": {},
   "outputs": [],
   "source": [
    "scores_hist.values()"
   ]
  },
  {
   "cell_type": "code",
   "execution_count": null,
   "metadata": {},
   "outputs": [],
   "source": [
    "list(scores_hist.values())"
   ]
  },
  {
   "cell_type": "code",
   "execution_count": null,
   "metadata": {
    "slideshow": {
     "slide_type": "slide"
    }
   },
   "outputs": [],
   "source": [
    "def plot_histogram(d):\n",
    "    \"\"\" plot histogram data stored in dictionary d \"\"\"\n",
    "    plt.bar( list(d.keys()), list(d.values()))"
   ]
  },
  {
   "cell_type": "code",
   "execution_count": null,
   "metadata": {},
   "outputs": [],
   "source": [
    "plot_histogram(scores_hist)"
   ]
  },
  {
   "cell_type": "markdown",
   "metadata": {
    "slideshow": {
     "slide_type": "slide"
    }
   },
   "source": [
    "We'll return to dictionaries and histograms later."
   ]
  },
  {
   "cell_type": "markdown",
   "metadata": {},
   "source": [
    "<div class=\"dyb\">Finished here Wednesday</div>"
   ]
  },
  {
   "cell_type": "markdown",
   "metadata": {
    "slideshow": {
     "slide_type": "slide"
    }
   },
   "source": [
    "# Arcane Interlude 8: Where are you coming from and where are you going to?\n",
    "\n",
    "This is a weekly break from the grind of learning how to program in Python, and just do something interesting. Explanations not included, but do ask if interested.\n",
    "\n",
    "The background is that, in Week 1, you completed a short survey, can included some details on where you are from, and where you last went on holiday. We used that data before, in Week 2. Let's visualise it now, using the geo-locator data from Week 3."
   ]
  },
  {
   "cell_type": "code",
   "execution_count": null,
   "metadata": {},
   "outputs": [],
   "source": [
    "import pandas as pd\n",
    "from geopy.geocoders import Nominatim\n",
    "import folium\n",
    "from folium.plugins import MarkerCluster\n",
    "import IPython"
   ]
  },
  {
   "cell_type": "code",
   "execution_count": null,
   "metadata": {
    "slideshow": {
     "slide_type": "subslide"
    }
   },
   "outputs": [],
   "source": [
    "input_df = pd.read_excel (\"2223-CS102-CS103-where.xlsx\", na_filter = False);\n",
    "print(input_df)"
   ]
  },
  {
   "cell_type": "code",
   "execution_count": null,
   "metadata": {
    "slideshow": {
     "slide_type": "subslide"
    }
   },
   "outputs": [],
   "source": [
    "geolocator = Nominatim(user_agent=\"cs103\")"
   ]
  },
  {
   "cell_type": "code",
   "execution_count": null,
   "metadata": {},
   "outputs": [],
   "source": [
    "HomeList = input_df['Home'].tolist()\n",
    "AwayList = input_df['Vacation'].tolist()"
   ]
  },
  {
   "cell_type": "code",
   "execution_count": null,
   "metadata": {},
   "outputs": [],
   "source": [
    "world_map = folium.Map(tiles=\"cartodbpositron\")\n",
    "marker_cluster = MarkerCluster().add_to(world_map)"
   ]
  },
  {
   "cell_type": "code",
   "execution_count": null,
   "metadata": {
    "scrolled": false,
    "slideshow": {
     "slide_type": "subslide"
    }
   },
   "outputs": [],
   "source": [
    "i=0\n",
    "for place in HomeList:\n",
    "    i+=1\n",
    "    location =  geolocator.geocode(place)\n",
    "    if (location == None):\n",
    "        print(f\"{i:3d} *** Warning, could not find {place}\")\n",
    "    else:\n",
    "        lat,lon = location.latitude, location.longitude\n",
    "        print(f'{i:3d}: Adding {place} at ({lat},{lon})')\n",
    "        folium.CircleMarker(location=[lat,lon], tooltip=place,popup=place, fill =True).add_to(marker_cluster)"
   ]
  },
  {
   "cell_type": "code",
   "execution_count": null,
   "metadata": {
    "slideshow": {
     "slide_type": "subslide"
    }
   },
   "outputs": [],
   "source": [
    "world_map.fit_bounds(world_map.get_bounds(), padding=(30, 30))\n",
    "world_map"
   ]
  },
  {
   "cell_type": "markdown",
   "metadata": {
    "slideshow": {
     "slide_type": "slide"
    }
   },
   "source": [
    "# Dictionaries and Histograms Again\n",
    "\n",
    "We had a function, `histogram` that creates a dictionary histogram of elements of a list or string. \n",
    "\n",
    "And we have a function, `plot_histogram()` that gives makes bar-chart of the data in the histogram.\n",
    "\n",
    "Let's test these by plotting the frequency of letters in a phrase, and then letters from the `words.txt` file."
   ]
  },
  {
   "cell_type": "markdown",
   "metadata": {
    "slideshow": {
     "slide_type": "subslide"
    }
   },
   "source": [
    "## Counting letters in a phrase\n",
    "Our phrase is chosen because it contains all 26 letters."
   ]
  },
  {
   "cell_type": "code",
   "execution_count": null,
   "metadata": {},
   "outputs": [],
   "source": [
    "phrase = \"Jackie will budget for the most expensive Zoology equipment\""
   ]
  },
  {
   "cell_type": "markdown",
   "metadata": {
    "slideshow": {
     "slide_type": "subslide"
    }
   },
   "source": [
    "Before proceeding, we will \"clean\" this data as follows:\n",
    "1. Change all letters to lower-case, with `.tolower()`\n",
    "2. Remove spaces. We'll use the `.replace()` method for that.\n",
    "3. Apply `sorted()` which arranges the letters alphabetically, and also converts to a list."
   ]
  },
  {
   "cell_type": "code",
   "execution_count": null,
   "metadata": {},
   "outputs": [],
   "source": [
    "phrase = sorted(phrase.lower().replace(\" \",\"\"))"
   ]
  },
  {
   "cell_type": "code",
   "execution_count": null,
   "metadata": {},
   "outputs": [],
   "source": [
    "print(phrase)"
   ]
  },
  {
   "cell_type": "markdown",
   "metadata": {
    "slideshow": {
     "slide_type": "subslide"
    }
   },
   "source": [
    "Now make the histogram dictionary, and plot it."
   ]
  },
  {
   "cell_type": "code",
   "execution_count": null,
   "metadata": {},
   "outputs": [],
   "source": [
    "phrase_histogram = histogram(phrase)"
   ]
  },
  {
   "cell_type": "code",
   "execution_count": null,
   "metadata": {
    "slideshow": {
     "slide_type": "subslide"
    }
   },
   "outputs": [],
   "source": [
    "plot_histogram(phrase_histogram)"
   ]
  },
  {
   "cell_type": "markdown",
   "metadata": {
    "slideshow": {
     "slide_type": "slide"
    }
   },
   "source": [
    "## Counting letters in a file\n",
    "\n",
    "The previous example wasn't very realistic. To get somewhat more realistic results, we'll take data from the `words.txt` file we used in Week 8."
   ]
  },
  {
   "cell_type": "code",
   "execution_count": null,
   "metadata": {},
   "outputs": [],
   "source": [
    "try:\n",
    "    fin = open(\"words.txt\")\n",
    "except:\n",
    "    print(\"Sorry - could not open words.txt.\")"
   ]
  },
  {
   "cell_type": "code",
   "execution_count": null,
   "metadata": {
    "slideshow": {
     "slide_type": "subslide"
    }
   },
   "outputs": [],
   "source": [
    "all_the_words = fin.read()"
   ]
  },
  {
   "cell_type": "markdown",
   "metadata": {},
   "source": [
    "The `.read()` method reads the entire contents of the file into a single string, including all `\\n`. So, we'll remove them."
   ]
  },
  {
   "cell_type": "code",
   "execution_count": null,
   "metadata": {},
   "outputs": [],
   "source": [
    "all_the_words = sorted(all_the_words.replace('\\n',''))"
   ]
  },
  {
   "cell_type": "code",
   "execution_count": null,
   "metadata": {
    "slideshow": {
     "slide_type": "subslide"
    }
   },
   "outputs": [],
   "source": [
    "letters_histogram = histogram(all_the_words)\n",
    "plot_histogram(letters_histogram)"
   ]
  },
  {
   "cell_type": "markdown",
   "metadata": {
    "slideshow": {
     "slide_type": "slide"
    }
   },
   "source": [
    "## Reverse look-up\n",
    "\n",
    "Given a dictionary a `look-up` operation returns the value for a given key.\n",
    "\n",
    "Example:\n"
   ]
  },
  {
   "cell_type": "code",
   "execution_count": null,
   "metadata": {},
   "outputs": [],
   "source": [
    "capitals = {\"Ireland\":\"Dublin\", \"Pakistan\":\"Islamabad\", \"Spain\":\"Madrid\", \n",
    "            \"USA\":\"Washington\", \"Ukraine\":\"Kyiv\", \"Czechia\":\"Prague\"}\n"
   ]
  },
  {
   "cell_type": "code",
   "execution_count": null,
   "metadata": {},
   "outputs": [],
   "source": [
    "print(capitals['Spain'])"
   ]
  },
  {
   "cell_type": "markdown",
   "metadata": {
    "slideshow": {
     "slide_type": "subslide"
    }
   },
   "source": [
    "A **reverse look-up** returns a key that is paired with a particular value. For example, a reverse lookup of `Madrid` in this dictionary should yield `Spain`.\n",
    "\n",
    "Here is a function that does this (taken from the book). It uses the `raise` instruction, which allows us to control error messages."
   ]
  },
  {
   "cell_type": "code",
   "execution_count": null,
   "metadata": {},
   "outputs": [],
   "source": [
    "def reverse_lookup(d, v):\n",
    "    for k in d:\n",
    "        if d[k] == v:\n",
    "            return k\n",
    "    raise LookupError(\"Value not found in dictionary\")\n"
   ]
  },
  {
   "cell_type": "code",
   "execution_count": null,
   "metadata": {},
   "outputs": [],
   "source": [
    "reverse_lookup(capitals, \"Madrid\")"
   ]
  },
  {
   "cell_type": "markdown",
   "metadata": {
    "slideshow": {
     "slide_type": "subslide"
    }
   },
   "source": [
    "If we try to find a non-existent value, we get an error such as this:\n",
    "```python \n",
    "reverse_lookup(capitals, \"Lisbon\")\n",
    "---------------------------------------------------------------------------\n",
    "LookupError                               Traceback (most recent call last)\n",
    "Input In [88], in <cell line: 1>()\n",
    "----> 1 reverse_lookup(capitals, \"Lisbon\")\n",
    "\n",
    "Input In [85], in reverse_lookup(d, v)\n",
    "      3     if d[k] == v:\n",
    "      4         return k\n",
    "----> 5 raise LookupError(\"Value not found in dictionary\")\n",
    "\n",
    "LookupError: Value not found in dictionary\n",
    "```"
   ]
  },
  {
   "cell_type": "markdown",
   "metadata": {
    "slideshow": {
     "slide_type": "slide"
    }
   },
   "source": [
    "## Inverting a dictionary\n",
    "\n",
    "(See Section 11.5 of Think Python).\n",
    "\n",
    "Occasionally, we need to _invert_ a dictionary. That is, we make a new dictionary where if `k:v` is a `key:value` pair in original dictionary, then `v:k` is a  `key:value` in the new one. For example, "
   ]
  },
  {
   "cell_type": "code",
   "execution_count": null,
   "metadata": {},
   "outputs": [],
   "source": [
    "print(capitals)"
   ]
  },
  {
   "cell_type": "markdown",
   "metadata": {},
   "source": [
    "if inverted would be like:\n"
   ]
  },
  {
   "cell_type": "code",
   "execution_count": null,
   "metadata": {},
   "outputs": [],
   "source": [
    "inv_cap = {'Dublin':'Ireland',  'Islamabad':'Pakistan',  'Madrid':'Spain', 'Washington':'USA',\n",
    " 'Kyiv':'Ukraine', 'Prague':'Czechia'}\n",
    "print(inv_cap)"
   ]
  },
  {
   "cell_type": "markdown",
   "metadata": {
    "slideshow": {
     "slide_type": "subslide"
    }
   },
   "source": [
    "But there is a catch! In a dictionary, each key is unique (i.e., it can be repeated with a different value). But the same values can be paired with different keys. Recall the `phrase_histogram` from earlier:\n"
   ]
  },
  {
   "cell_type": "code",
   "execution_count": null,
   "metadata": {},
   "outputs": [],
   "source": [
    "print(phrase_histogram)"
   ]
  },
  {
   "cell_type": "markdown",
   "metadata": {},
   "source": [
    "Numerous keys (=letters) have the same value. E.g, `a`, `b`, `c` and many others have the value `1`. \n",
    "\n",
    "**Question**: if we  were to invert this dictionary, what would be the value of the key `1`?\n",
    "\n",
    "**Answer**: a `list` of all keys from the original dictionary that were paired with `1`."
   ]
  },
  {
   "cell_type": "code",
   "execution_count": null,
   "metadata": {
    "slideshow": {
     "slide_type": "subslide"
    }
   },
   "outputs": [],
   "source": [
    "def invert_dict(d):\n",
    "    \"\"\" Invert a dictionary. If k:v is a pair in d, then the\n",
    "    returned dictionary has v as a key, and k in a list paired with it.\n",
    "    \"\"\"\n",
    "    inverse = dict()\n",
    "    for key in d:\n",
    "        val = d[key]\n",
    "        if val not in inverse:\n",
    "            inverse[val] = [key]\n",
    "        else:\n",
    "            inverse[val] += [key]\n",
    "    return inverse"
   ]
  },
  {
   "cell_type": "code",
   "execution_count": null,
   "metadata": {
    "slideshow": {
     "slide_type": "subslide"
    }
   },
   "outputs": [],
   "source": [
    "invert_dict(capitals)"
   ]
  },
  {
   "cell_type": "code",
   "execution_count": null,
   "metadata": {},
   "outputs": [],
   "source": [
    "print(invert_dict(phrase_histogram))"
   ]
  },
  {
   "cell_type": "markdown",
   "metadata": {
    "slideshow": {
     "slide_type": "slide"
    }
   },
   "source": [
    "# Example : Reverse Words\n",
    "\n",
    "In our last example, we'll make a list of words which, if reversed, give another work (in the `words.txt` file)."
   ]
  },
  {
   "cell_type": "markdown",
   "metadata": {
    "slideshow": {
     "slide_type": "subslide"
    }
   },
   "source": [
    "## Word reverser \n",
    "\n",
    "It will be useful to have a function that returns  a string reversed."
   ]
  },
  {
   "cell_type": "code",
   "execution_count": null,
   "metadata": {
    "slideshow": {
     "slide_type": "-"
    }
   },
   "outputs": [],
   "source": [
    "def reverse(word):\n",
    "    return word[::-1]"
   ]
  },
  {
   "cell_type": "code",
   "execution_count": null,
   "metadata": {},
   "outputs": [],
   "source": [
    "reverse(\"lamina\")"
   ]
  },
  {
   "cell_type": "code",
   "execution_count": null,
   "metadata": {},
   "outputs": [],
   "source": [
    "reverse(\"python\")"
   ]
  },
  {
   "cell_type": "markdown",
   "metadata": {
    "slideshow": {
     "slide_type": "subslide"
    }
   },
   "source": [
    "Now we'll read in all the words from `words.txt`, as elements of a `list`."
   ]
  },
  {
   "cell_type": "code",
   "execution_count": null,
   "metadata": {
    "slideshow": {
     "slide_type": "-"
    }
   },
   "outputs": [],
   "source": [
    "fin = open(\"words.txt\")\n",
    "all_the_words = fin.read()\n",
    "list_of_words = all_the_words.split()"
   ]
  },
  {
   "cell_type": "markdown",
   "metadata": {
    "slideshow": {
     "slide_type": "subslide"
    }
   },
   "source": [
    "Next make an empty dictionary. Then for each word in the list, check if its reverse is also in the list. If it is, add these as a key:pair to the dictionary. (Note: this is quite slow)."
   ]
  },
  {
   "cell_type": "code",
   "execution_count": null,
   "metadata": {},
   "outputs": [],
   "source": [
    "reversable = dict()\n",
    "for w in list_of_words[:3000]:\n",
    "    if (reverse(w) in list_of_words) and (w != reverse(w)):\n",
    "        #print(w)\n",
    "        reversable[w]=reverse(w)"
   ]
  },
  {
   "cell_type": "code",
   "execution_count": null,
   "metadata": {},
   "outputs": [],
   "source": [
    "reversable"
   ]
  },
  {
   "cell_type": "markdown",
   "metadata": {
    "slideshow": {
     "slide_type": "subslide"
    }
   },
   "source": [
    "This last example is based on Exercise 11.5 from the text. But that one is more interesting: it compiles lists of \"cycled\" word matches. \n",
    "More about lists and files next week!"
   ]
  },
  {
   "cell_type": "markdown",
   "metadata": {
    "slideshow": {
     "slide_type": "slide"
    }
   },
   "source": [
    "<div class=\"dby\">The end</div>"
   ]
  }
 ],
 "metadata": {
  "celltoolbar": "Slideshow",
  "jupytext": {
   "formats": "ipynb"
  },
  "kernelspec": {
   "display_name": "Python 3 (ipykernel)",
   "language": "python",
   "name": "python3"
  },
  "language_info": {
   "codemirror_mode": {
    "name": "ipython",
    "version": 3
   },
   "file_extension": ".py",
   "mimetype": "text/x-python",
   "name": "python",
   "nbconvert_exporter": "python",
   "pygments_lexer": "ipython3",
   "version": "3.9.13"
  },
  "rise": {
   "header": "CS102/CS103 Week 09",
   "slideNumber": "c/t",
   "theme": "serif",
   "transition": "fade"
  },
  "toc": {
   "base_numbering": 1,
   "nav_menu": {},
   "number_sections": true,
   "sideBar": false,
   "skip_h1_title": false,
   "title_cell": "Table of Contents",
   "title_sidebar": "Contents",
   "toc_cell": false,
   "toc_position": {
    "height": "873.328px",
    "left": "2534.99px",
    "top": "112px",
    "width": "165px"
   },
   "toc_section_display": true,
   "toc_window_display": true
  },
  "varInspector": {
   "cols": {
    "lenName": 16,
    "lenType": 16,
    "lenVar": 40
   },
   "kernels_config": {
    "python": {
     "delete_cmd_postfix": "",
     "delete_cmd_prefix": "del ",
     "library": "var_list.py",
     "varRefreshCmd": "print(var_dic_list())"
    },
    "r": {
     "delete_cmd_postfix": ") ",
     "delete_cmd_prefix": "rm(",
     "library": "var_list.r",
     "varRefreshCmd": "cat(var_dic_list()) "
    }
   },
   "types_to_exclude": [
    "module",
    "function",
    "builtin_function_or_method",
    "instance",
    "_Feature"
   ],
   "window_display": false
  }
 },
 "nbformat": 4,
 "nbformat_minor": 2
}
