{
 "cells": [
  {
   "cell_type": "markdown",
   "metadata": {
    "slideshow": {
     "slide_type": "slide"
    }
   },
   "source": [
    "# CS102/CS103: Week 08 - Files. <span style='color:green'>(V1.1)</span>\n",
    "\n",
    "\n",
    "**Lecture notes for Week 8 of CS102/CS103, 16+17 November, 2022.**\n",
    "\n",
    "Dr [Niall Madden](mailto:Niall.Madden@UniversityOfGalway.ie), School of Mathematical and Statistical Sciences, \n",
    "University of Galway.\n",
    "            \n",
    "You can find these notes on\n",
    "    \n",
    "* Blackboard\n",
    "* as HTML at: [https://www.niallmadden.ie/2223-CS103](https://www.niallmadden.ie/2223-CS103)\n",
    "* Jupyter notebook on Binder [https://mybinder.org/v2/gh/niallmadden/2223-cs103/main](https://mybinder.org/v2/gh/niallmadden/2223-cs103/main)\n",
    "\n",
    "* Both formats on Github: [https://github.com/niallmadden/2223-cs103](https://github.com/niallmadden/2223-cs103)\n",
    "\n",
    "\n",
    "***\n",
    "\n",
    "<div class=\"pink\"><font size=\"+1\"><em>This notebook was written by Niall Madden, and uses some material from Chapters 9 and 11 of <a href=\"https://greenteapress.com/thinkpython2/html\">Think Python</a>.</em></div>"
   ]
  },
  {
   "cell_type": "markdown",
   "metadata": {
    "slideshow": {
     "slide_type": "subslide"
    }
   },
   "source": [
    "## News: \n",
    "### Just one class on Wednesday\n",
    "For the next two weeks (and, maybe, the rest of the semester) we'll have just one lecture on a Wednesday, which will be at 1pm in MRA-201.\n",
    "\n",
    "\n"
   ]
  },
  {
   "cell_type": "markdown",
   "metadata": {},
   "source": [
    "### Lab 5 this week\n",
    "\n",
    "   In Lab 5 you are asked to write a notebook with\n",
    "    <ul>\n",
    "        <li> some information (What/Who/When/Why) in a markdown cell</li>\n",
    "        <li> a cell that imports that `math` and `matplotlib.pyplot` modules.</li>\n",
    "        <li> defines some functions.\n",
    "        <li> plots some data stored in lists.\n",
    "     </ul>\n",
    "\n",
    "You should upload your notebook by Friday (18 Nov) at 5pm."
   ]
  },
  {
   "cell_type": "markdown",
   "metadata": {
    "slideshow": {
     "slide_type": "subslide"
    }
   },
   "source": [
    "### Jupyter \n",
    "\n",
    "Thew new Jupter server is now available. It is at [https://cloudjupyter.universityofgalway.ie/](https://cloudjupyter.universityofgalway.ie/) \n",
    "\n",
    "You should receive an email from `maths-sto@universityofgalway.ie` with your username and password. Please check that these work.\n",
    "\n",
    "Also, please verify that you can use the server. In particular, try uploading the notebook for this class and run it.\n"
   ]
  },
  {
   "cell_type": "markdown",
   "metadata": {
    "slideshow": {
     "slide_type": "slide"
    }
   },
   "source": [
    "# Files\n",
    "\n",
    "Most useful program use some data that is stored in external sources, such as data-bases, web pages, audio clips, images, etc. In a sense, all of these are examples of **files**.\n",
    "\n",
    "Files are use to store data. In this section, the files that we will work with just contain plain text. \n",
    "We want to:\n",
    "* **Open the file**, which means to give our Python program access to it.\n",
    "* **Read the file**, which means to stores its contents as variables or lists (for example) in our program.\n",
    "* Later we will learn to *write* files, which means to store data from our programs in a file (e.g., so we can send it to someone else, or just so we can access it another time).\n"
   ]
  },
  {
   "cell_type": "markdown",
   "metadata": {
    "slideshow": {
     "slide_type": "subslide"
    }
   },
   "source": [
    "## Making a file to work with \n",
    "\n",
    "In order to work with files, we have to make one. In Jupyter we can that with `New... Text File`. Let's do that now..."
   ]
  },
  {
   "cell_type": "markdown",
   "metadata": {},
   "source": [
    "<div class=\"bw\">Niall does a demo</div>"
   ]
  },
  {
   "cell_type": "markdown",
   "metadata": {},
   "source": [
    "So now we have a file called `numbers.txt` in the same folder as our notebook. Its contents are\n",
    "```python\n",
    "One\n",
    "two\n",
    "Three\n",
    "FOUR\n",
    "```\n"
   ]
  },
  {
   "cell_type": "markdown",
   "metadata": {
    "slideshow": {
     "slide_type": "slide"
    }
   },
   "source": [
    "## Opening a file\n",
    "To open a file, we use the `open()` function. The returns a _handle_ for the file (actually, it's an object), which we can store in a variable. \n",
    "SYNTAX:\n",
    "```python\n",
    "<var_name> = open(<file_name>)\n",
    "```\n",
    "* `<file_name>` is a string that stores the name of the file.\n",
    "* `<var_name>` is a variable name of our choosing.\n"
   ]
  },
  {
   "cell_type": "markdown",
   "metadata": {
    "slideshow": {
     "slide_type": "subslide"
    }
   },
   "source": [
    "We'll open the `numbers.txt`, and use `number_file` as object name."
   ]
  },
  {
   "cell_type": "code",
   "execution_count": null,
   "metadata": {
    "slideshow": {
     "slide_type": "-"
    }
   },
   "outputs": [],
   "source": [
    "number_file = open(\"numbers.txt\")"
   ]
  },
  {
   "cell_type": "code",
   "execution_count": null,
   "metadata": {},
   "outputs": [],
   "source": [
    "print(number_file)"
   ]
  },
  {
   "cell_type": "markdown",
   "metadata": {
    "slideshow": {
     "slide_type": "slide"
    }
   },
   "source": [
    "## Reading data\n",
    "\n",
    "### The `readline()` method\n",
    "\n",
    "The `readline()` method returns the next line of the file as a string. The the end of the file is reached, the string is empty."
   ]
  },
  {
   "cell_type": "code",
   "execution_count": null,
   "metadata": {},
   "outputs": [],
   "source": [
    "next_line = number_file.readline()\n",
    "print(f\"The next line of the file is {next_line}. It has {len(next_line)} characters\")"
   ]
  },
  {
   "cell_type": "code",
   "execution_count": null,
   "metadata": {},
   "outputs": [],
   "source": [
    "next_line = number_file.readline()\n",
    "print(f\"The next line of the file is {next_line}. It has {len(next_line)} characters\")"
   ]
  },
  {
   "cell_type": "code",
   "execution_count": null,
   "metadata": {},
   "outputs": [],
   "source": [
    "next_line = number_file.readline()\n",
    "print(f\"The next line of the file is {next_line}. It has {len(next_line)} characters\")"
   ]
  },
  {
   "cell_type": "code",
   "execution_count": null,
   "metadata": {
    "slideshow": {
     "slide_type": "subslide"
    }
   },
   "outputs": [],
   "source": [
    "next_line = number_file.readline()\n",
    "print(f\"The next line of the file is {next_line}  It has {len(next_line)} characters.\")"
   ]
  },
  {
   "cell_type": "markdown",
   "metadata": {
    "slideshow": {
     "slide_type": "-"
    }
   },
   "source": [
    "Once we've read all the data, the string will be empty."
   ]
  },
  {
   "cell_type": "code",
   "execution_count": null,
   "metadata": {},
   "outputs": [],
   "source": [
    "next_line = number_file.readline()\n",
    "print(f\"The next line of the file is {next_line}. It has {len(next_line)} characters.\")"
   ]
  },
  {
   "cell_type": "markdown",
   "metadata": {},
   "source": [
    "Several things about this are strange:\n",
    "1. Why does it say `FOUR` has 5 characters?\n",
    "2. Why the line-break after `FOUR`?\n",
    "3. How can we tell a blank line, from the end of the file?"
   ]
  },
  {
   "cell_type": "markdown",
   "metadata": {
    "slideshow": {
     "slide_type": "subslide"
    }
   },
   "source": [
    "The answers to these questions are all the same: the `readline()` method stores the \"*new line*\" character in the string. This is usually depicted as `\\n`. In fact, we can use it in a print statement."
   ]
  },
  {
   "cell_type": "code",
   "execution_count": null,
   "metadata": {
    "scrolled": true
   },
   "outputs": [],
   "source": [
    "print(\"This sentence\\n will \\nbe printed\\n on FOUR lines.\")"
   ]
  },
  {
   "cell_type": "markdown",
   "metadata": {},
   "source": [
    "So this means that the string `FOUR` was really `FOUR\\n`, which has 5 characters (`\\n` is just a single character).\n",
    "\n",
    "Also, the string representing a blankline has length 1."
   ]
  },
  {
   "cell_type": "markdown",
   "metadata": {
    "slideshow": {
     "slide_type": "slide"
    }
   },
   "source": [
    "### `.strip()` \n",
    "Usually, we don't want that `\\n`. We can use the `strip()` method to remove it: if `my_str` is a string, then `my_str()` returns the string with any \"white space\" (spaces, tabs, new lines) removed. For example:\n"
   ]
  },
  {
   "cell_type": "code",
   "execution_count": null,
   "metadata": {},
   "outputs": [],
   "source": [
    "padded_text = \"     ++   Hello there!   **      \\n\"\n",
    "print(f\"padded_text={padded_text}. Try using .strip()\")"
   ]
  },
  {
   "cell_type": "code",
   "execution_count": null,
   "metadata": {},
   "outputs": [],
   "source": [
    "stripped_text = padded_text.strip()\n",
    "print(f\"stripped_text={stripped_text}. Notice effects of .strip()\")"
   ]
  },
  {
   "cell_type": "markdown",
   "metadata": {},
   "source": [
    "`strip()` can also be used to remove other characters. We'll return to that another time."
   ]
  },
  {
   "cell_type": "markdown",
   "metadata": {
    "slideshow": {
     "slide_type": "slide"
    }
   },
   "source": [
    "Now we'll return to \"fixing\" the data we read from our file."
   ]
  },
  {
   "cell_type": "code",
   "execution_count": null,
   "metadata": {
    "slideshow": {
     "slide_type": "-"
    }
   },
   "outputs": [],
   "source": [
    "number_file = open(\"numbers.txt\")  # opening the file again brings it back to the start\n",
    "next_line = number_file.readline()\n",
    "print(f\"Just read {next_line}. It has {len(next_line)} characters.\")"
   ]
  },
  {
   "cell_type": "code",
   "execution_count": null,
   "metadata": {},
   "outputs": [],
   "source": [
    "clean_line=next_line.strip()\n",
    "print(f\"The stripped version of the line of the file is {clean_line}. It has {len(clean_line)} characters.\")"
   ]
  },
  {
   "cell_type": "markdown",
   "metadata": {
    "slideshow": {
     "slide_type": "slide"
    }
   },
   "source": [
    "### Reading all the contents of a file, with a `for` loop\n",
    "\n",
    "We can use the `for` instruction to iterate over the contents of a file."
   ]
  },
  {
   "cell_type": "code",
   "execution_count": null,
   "metadata": {},
   "outputs": [],
   "source": [
    "number_file = open(\"numbers.txt\")  # opening the file again brings it back to the start\n",
    "for line in number_file:\n",
    "    word = line.strip()\n",
    "    print(word)"
   ]
  },
  {
   "cell_type": "markdown",
   "metadata": {
    "slideshow": {
     "slide_type": "slide"
    }
   },
   "source": [
    "# Word play\n",
    "\n",
    "Some questions?\n",
    "1. How many 20-letter words are?\n",
    "3. What words have no vowels?\n",
    "4. Can you think of a 5-letter word that includes both `P` and `T`, but not `E` or `S` (like in a Wordle clue)?\n",
    "2. Can you think of a word where all the letters appear in alphabetical order?\n",
    "\n",
    "This section is based on Chapter 9 of \"Think Python\", which was based on answering questions like that.\n",
    "\n",
    "It uses as its source, a collection of words stored in a file. The file comes from the \"Moby Project\", [https://en.wikipedia.org/wiki/Moby_Project](https://en.wikipedia.org/wiki/Moby_Project), but you can find it at [http://thinkpython2.com/code/words.txt](http://thinkpython2.com/code/words.txt). The file also on our github repository: [https://github.com/niallmadden/2223-cs103](https://github.com/niallmadden/2223-cs103)\n"
   ]
  },
  {
   "cell_type": "markdown",
   "metadata": {},
   "source": [
    "<div class=\"bw\">Niall does another demo</div>"
   ]
  },
  {
   "cell_type": "markdown",
   "metadata": {
    "slideshow": {
     "slide_type": "subslide"
    }
   },
   "source": [
    "Assuming `words.txt` is stored in this folder, we can open it with"
   ]
  },
  {
   "cell_type": "code",
   "execution_count": null,
   "metadata": {},
   "outputs": [],
   "source": [
    "fin = open(\"words.txt\")  # \"fin\", meaning \"file input\" is a common handle."
   ]
  },
  {
   "cell_type": "markdown",
   "metadata": {},
   "source": [
    "Now we'll read its contents into a list (there are other, neater ways of doing this, but we'll save that for next week)."
   ]
  },
  {
   "cell_type": "code",
   "execution_count": null,
   "metadata": {},
   "outputs": [],
   "source": [
    "list_of_words=[] # empty list\n",
    "for line in fin:\n",
    "    list_of_words+=[line.strip()]"
   ]
  },
  {
   "cell_type": "code",
   "execution_count": null,
   "metadata": {},
   "outputs": [],
   "source": [
    "print(f\"Read {len(list_of_words)} from the file\")"
   ]
  },
  {
   "cell_type": "code",
   "execution_count": null,
   "metadata": {
    "slideshow": {
     "slide_type": "subslide"
    }
   },
   "outputs": [],
   "source": [
    "print(list_of_words[0:10])"
   ]
  },
  {
   "cell_type": "code",
   "execution_count": null,
   "metadata": {},
   "outputs": [],
   "source": [
    "print(list_of_words[:-10:-1])"
   ]
  },
  {
   "cell_type": "code",
   "execution_count": null,
   "metadata": {},
   "outputs": [],
   "source": []
  },
  {
   "cell_type": "markdown",
   "metadata": {
    "slideshow": {
     "slide_type": "slide"
    }
   },
   "source": [
    "## Exercise 1: words with more than 20 characters\n",
    "> Exercise 1   Write a program that reads `words.txt` and prints only the words with more than 20 characters (not counting whitespace)."
   ]
  },
  {
   "cell_type": "code",
   "execution_count": null,
   "metadata": {},
   "outputs": [],
   "source": [
    "def more_than_20(my_list): # note: not a fruitful function\n",
    "    i=0;\n",
    "    for word in my_list:\n",
    "        if (len(word)>20):\n",
    "            i+=1\n",
    "            print(f\"{i : 3d}: {word}  (len(word)={len(word)})\")"
   ]
  },
  {
   "cell_type": "code",
   "execution_count": null,
   "metadata": {},
   "outputs": [],
   "source": [
    "more_than_20(list_of_words)"
   ]
  },
  {
   "cell_type": "markdown",
   "metadata": {
    "slideshow": {
     "slide_type": "slide"
    }
   },
   "source": [
    "## Exercise 3: `avoids()` \n",
    "\n",
    "> Write a function named `avoids()` that takes a word and a string of forbidden letters, and that returns `True` if the word doesn’t use any of the forbidden letters.\n",
    "\n",
    "We'll iterate through the `forbidden` list and return `False` if any are in the given word. If we get to the end of the list, none of the `forbidden` words must be present. (_Question_: could we do it the  other way 'round?)\n"
   ]
  },
  {
   "cell_type": "code",
   "execution_count": null,
   "metadata": {},
   "outputs": [],
   "source": [
    "def avoids(word, forbidden):\n",
    "    for c in forbidden:\n",
    "        if c in word:\n",
    "            return False\n",
    "    return True # If we get to here, none of the forbidden letters were found"
   ]
  },
  {
   "cell_type": "code",
   "execution_count": null,
   "metadata": {},
   "outputs": [],
   "source": [
    "bad = \"abcdefg\"\n",
    "avoids(\"hello\", bad)"
   ]
  },
  {
   "cell_type": "code",
   "execution_count": null,
   "metadata": {},
   "outputs": [],
   "source": [
    "avoids(\"python\", bad)"
   ]
  },
  {
   "cell_type": "markdown",
   "metadata": {
    "slideshow": {
     "slide_type": "subslide"
    }
   },
   "source": [
    "Now let's apply this to the list. We'll count all the words with 7 or more letters that have no vowels."
   ]
  },
  {
   "cell_type": "code",
   "execution_count": null,
   "metadata": {},
   "outputs": [],
   "source": [
    "i=0\n",
    "for word in list_of_words:\n",
    "    if (avoids(word, \"aeiou\") and len(word)>=7):\n",
    "        i+=1\n",
    "        print(f\"{i:3d}, {word}\")\n",
    "        "
   ]
  },
  {
   "cell_type": "markdown",
   "metadata": {
    "slideshow": {
     "slide_type": "slide"
    }
   },
   "source": [
    "## Exercise 5: `uses_all()`\n",
    "\n",
    "> Write a function named `uses_all()` that takes a word and a string of required letters, and that returns `True` if the word uses all the required letters at least once. How many words are there that use all the vowels `aeiou`?\n",
    "\n",
    "To do this, we'll iterate through the string of `must_have` words. If any are not present, we return `False`. If we get to the end, it must have all of them. "
   ]
  },
  {
   "cell_type": "code",
   "execution_count": null,
   "metadata": {},
   "outputs": [],
   "source": [
    "def uses_all(word, must_have):\n",
    "    for c in must_have:\n",
    "        if (c not in word):\n",
    "            return False\n",
    "    return(True)"
   ]
  },
  {
   "cell_type": "code",
   "execution_count": null,
   "metadata": {},
   "outputs": [],
   "source": [
    "W = \"boldface\"\n",
    "uses_all(W, \"abcdef\")"
   ]
  },
  {
   "cell_type": "code",
   "execution_count": null,
   "metadata": {},
   "outputs": [],
   "source": [
    "uses_all(W, \"aeiou\")"
   ]
  },
  {
   "cell_type": "markdown",
   "metadata": {
    "slideshow": {
     "slide_type": "subslide"
    }
   },
   "source": [
    "We'll now check through our file and find any with 7 or fewer letters, and which as all vowels."
   ]
  },
  {
   "cell_type": "code",
   "execution_count": null,
   "metadata": {},
   "outputs": [],
   "source": [
    "i=0\n",
    "for word in list_of_words:\n",
    "    if (uses_all(word, \"aeiou\") and len(word)<=7):\n",
    "        i+=1\n",
    "        print(f\"{i:3d}, {word}\")"
   ]
  },
  {
   "cell_type": "markdown",
   "metadata": {
    "slideshow": {
     "slide_type": "slide"
    }
   },
   "source": [
    "## More exercises\n",
    "\n",
    "There are some other exercises in Chapter 9 of the book, that you might like to try yourself. For example:\n",
    "> Exercise Write a function called `is_abecedarian()` that returns True if the letters in a word appear in alphabetical order (double letters are ok). How many abecedarian words are there?"
   ]
  },
  {
   "cell_type": "markdown",
   "metadata": {
    "slideshow": {
     "slide_type": "subslide"
    }
   },
   "source": [
    "<div class=\"dby\">Finished here Wednesday</div>"
   ]
  },
  {
   "cell_type": "markdown",
   "metadata": {
    "slideshow": {
     "slide_type": "slide"
    }
   },
   "source": [
    "# Arcane interlude: random comics on romance, sarcasm, math, and language\n",
    "\n",
    "\n",
    "`xkcd` is a comic strip, with a new strip most days. See [https://xkcd.com/]( https://xkcd.com/) \n",
    "\n",
    "The topics often involve programming and computer science, so are relevant to this module.\n",
    "I've made a list of 10 of them, with their names in the file `xkcd_cartoons.txt`. Let's see how to view one at random."
   ]
  },
  {
   "cell_type": "code",
   "execution_count": null,
   "metadata": {
    "slideshow": {
     "slide_type": "-"
    }
   },
   "outputs": [],
   "source": [
    "import IPython.display   # for display\n",
    "import random"
   ]
  },
  {
   "cell_type": "code",
   "execution_count": null,
   "metadata": {},
   "outputs": [],
   "source": [
    "xkcd_names = open(\"xkcd_cartoons.txt\")\n",
    "names = []\n",
    "for word in xkcd_names:\n",
    "    names += [word.strip()]"
   ]
  },
  {
   "cell_type": "code",
   "execution_count": null,
   "metadata": {},
   "outputs": [],
   "source": [
    "print(f\"There are {len(names)} entries: {names}\")"
   ]
  },
  {
   "cell_type": "markdown",
   "metadata": {
    "slideshow": {
     "slide_type": "subslide"
    }
   },
   "source": [
    "We'll pick one at random."
   ]
  },
  {
   "cell_type": "code",
   "execution_count": null,
   "metadata": {
    "slideshow": {
     "slide_type": "-"
    }
   },
   "outputs": [],
   "source": [
    "choose = random.randint(0,len(names)-1)\n",
    "cartoon = names[choose]\n",
    "print(f\"We picked item {choose} which is {cartoon}\")"
   ]
  },
  {
   "cell_type": "code",
   "execution_count": null,
   "metadata": {
    "slideshow": {
     "slide_type": "subslide"
    }
   },
   "outputs": [],
   "source": [
    "url_base = 'https://imgs.xkcd.com/comics/'\n",
    "url_image = url_base+cartoon+\".png\"\n",
    "IPython.display.Image(url_image, width=800)"
   ]
  },
  {
   "cell_type": "markdown",
   "metadata": {
    "slideshow": {
     "slide_type": "slide"
    }
   },
   "source": [
    "# More about files\n",
    "\n",
    "There are numerous other operations that we might like to do with files, including the most obvious\n",
    "* **write** to a file (next week)\n",
    "* **close** a file (if you can open a file, it makes sense that you can close it).\n",
    "\n",
    "Other important ones include\n",
    "* reading all the contents of a file\n",
    "* checking the current position\n",
    "* changing the current positon"
   ]
  },
  {
   "cell_type": "markdown",
   "metadata": {
    "slideshow": {
     "slide_type": "subslide"
    }
   },
   "source": [
    "## Closing a file: `close()`\n",
    "\n",
    "To close a file associated with the object `fin`, uses `fin.close()`.\n",
    "\n",
    "In the examples we saw this week, little can go wrong if we forget to. But it can be problematic if we are writing to a file. "
   ]
  },
  {
   "cell_type": "markdown",
   "metadata": {
    "slideshow": {
     "slide_type": "subslide"
    }
   },
   "source": [
    "## Reading the entire contents of a file\n",
    "\n",
    "There are two other ways (at least) to read a file with a single function.\n",
    "* `fin.readlines()` reads the file into a `list` of strings, with one line per list element. The `\\n` are included.\n",
    "* `fin.read()` reads the file into a single string, including each `\\n`.\n",
    "I find `read()` to be the most useful, because I can easily convert the string to a list of individual words, using the `.split()`."
   ]
  },
  {
   "cell_type": "markdown",
   "metadata": {
    "slideshow": {
     "slide_type": "subslide"
    }
   },
   "source": [
    "**Example**: So far, all the files we used had one word per line. \n",
    "Here is an example of a file, called `capitals.txt` that has two per line:\n",
    "```\n",
    "Ireland Dublin\n",
    "Pakistan Islamabad\n",
    "Spain Madrid\n",
    "USA Washington\n",
    "Ukraine Kyiv\n",
    "Czechia Prague\n",
    "```\n",
    "\n",
    "We can read all these words into a single string as follows:"
   ]
  },
  {
   "cell_type": "code",
   "execution_count": null,
   "metadata": {},
   "outputs": [],
   "source": [
    "fin = open(\"capitals.txt\")\n",
    "big_string = fin.read()"
   ]
  },
  {
   "cell_type": "code",
   "execution_count": null,
   "metadata": {
    "slideshow": {
     "slide_type": "subslide"
    }
   },
   "outputs": [],
   "source": [
    "print(f\"** Big_string as type {type(big_string)}. \\n**Its contents iare\\n{big_string:20s}\")"
   ]
  },
  {
   "cell_type": "code",
   "execution_count": null,
   "metadata": {
    "slideshow": {
     "slide_type": "-"
    }
   },
   "outputs": [],
   "source": [
    "big_string"
   ]
  },
  {
   "cell_type": "code",
   "execution_count": null,
   "metadata": {
    "slideshow": {
     "slide_type": "subslide"
    }
   },
   "outputs": [],
   "source": [
    "my_list=big_string.split()"
   ]
  },
  {
   "cell_type": "code",
   "execution_count": null,
   "metadata": {},
   "outputs": [],
   "source": [
    "print(f\"my_list as type {type(my_list)}. \\nIts contents is\\n{my_list}\")"
   ]
  },
  {
   "cell_type": "markdown",
   "metadata": {
    "slideshow": {
     "slide_type": "slide"
    }
   },
   "source": [
    "## Catching exceptions\n",
    "\n",
    "If we call `open()` for a file that does not exist, we get an error. Example:\n",
    "```python\n",
    "fin = open(\"no such file\")\n",
    "```\n",
    "generates the output \n",
    "```python\n",
    "---------------------------------------------------------------------------\n",
    "FileNotFoundError                         Traceback (most recent call last)\n",
    "Input In [2], in <cell line: 1>()\n",
    "----> 1 fin = open(\"no such file\")\n",
    "\n",
    "FileNotFoundError: [Errno 2] No such file or directory: 'no such file'\n",
    "```"
   ]
  },
  {
   "cell_type": "markdown",
   "metadata": {
    "slideshow": {
     "slide_type": "subslide"
    }
   },
   "source": [
    "We should be more careful. Every time we open a file, we should use `try` and `except` from last week. (Often I don't, but only to save space on slides)"
   ]
  },
  {
   "cell_type": "code",
   "execution_count": null,
   "metadata": {
    "slideshow": {
     "slide_type": "-"
    }
   },
   "outputs": [],
   "source": [
    "file_name = \"no such file\"\n",
    "# file_name = \"numbers.txt\"\n",
    "try:\n",
    "    fin = open(file_name)\n",
    "    print(f\"Sucessfully opened {file_name}\")\n",
    "except:\n",
    "    print(f\"Sorry: could not open {file_name}!\")"
   ]
  },
  {
   "cell_type": "markdown",
   "metadata": {
    "slideshow": {
     "slide_type": "slide"
    }
   },
   "source": [
    "## `.tell()`  and `.seek()`\n",
    "\n",
    "### Finding the current reference point, using `.tell()`\n",
    "\n",
    "Text file store data as a sequence of bytes (see Tuesday lectures of CS102). It can be useful to think of a file as being like an ancient cassette tape:\n",
    "* When a byte is \"played\" (i.e., read), the tape forwards to the next byte.\n",
    "* We can \"fast forward\" to the end of the file or, more usefully...\n",
    "* Rewind to the start of the file.\n",
    "\n",
    "At any stage, we can find the current position (i.e., current reference point) using the `.tell()` method. "
   ]
  },
  {
   "cell_type": "code",
   "execution_count": null,
   "metadata": {
    "slideshow": {
     "slide_type": "subslide"
    }
   },
   "outputs": [],
   "source": [
    "fin = open(\"numbers.txt\")\n",
    "print(f\"Current location in the file is {fin.tell()}\")"
   ]
  },
  {
   "cell_type": "markdown",
   "metadata": {},
   "source": [
    "Here `fin.tell()` is zero, because we are at the start of the file, and yet to read any data."
   ]
  },
  {
   "cell_type": "code",
   "execution_count": null,
   "metadata": {
    "slideshow": {
     "slide_type": "subslide"
    }
   },
   "outputs": [],
   "source": [
    "line = fin.readline()\n",
    "print(f\"1. We read `{line[:-1]}`. Now located at {fin.tell()}\")"
   ]
  },
  {
   "cell_type": "code",
   "execution_count": null,
   "metadata": {},
   "outputs": [],
   "source": [
    "line = fin.readline()\n",
    "print(f\"2. We read `{line[:-1]}`. Now located at {fin.tell()}\")"
   ]
  },
  {
   "cell_type": "markdown",
   "metadata": {
    "slideshow": {
     "slide_type": "slide"
    }
   },
   "source": [
    "### Changing the reference point with `.seek()`\n",
    "Every time we read a byte, the current reference increases by 1. To change it by other quantities, use `.seek()`. The syntax is a little obscure:\n",
    "\n",
    "`fin.seek(offset, whence)` where \n",
    "* `offset` (int) is the number of bytes to change the reference by. Can be negative.\n",
    "* `whence`(int)  is one of:\n",
    "    * 0: beginning of the file. E.g., `fin.seek(10,0)` is ten bytes after the start of the file.\n",
    "    * 1: current position\n",
    "    * 2: end of file.\n"
   ]
  },
  {
   "cell_type": "markdown",
   "metadata": {
    "slideshow": {
     "slide_type": "subslide"
    }
   },
   "source": [
    "By far the most used is `fin.seek(0,0)` which \"rewinds\" back to the start of the file."
   ]
  },
  {
   "cell_type": "code",
   "execution_count": null,
   "metadata": {},
   "outputs": [],
   "source": [
    "fin = open(\"capitals.txt\")\n",
    "print(f\"1. Current location in the file is {fin.tell()}\")\n",
    "line = fin.readline()\n",
    "print(f\"2. We read `{line[:-1]}`. Now located at {fin.tell()}\")\n",
    "fin.seek(0,0) # got back to the start.\n",
    "print(f\"3. Current location in the file is {fin.tell()}\")"
   ]
  },
  {
   "cell_type": "markdown",
   "metadata": {
    "slideshow": {
     "slide_type": "subslide"
    }
   },
   "source": [
    "You might want to go to the end of a file to check the number of bytes."
   ]
  },
  {
   "cell_type": "code",
   "execution_count": null,
   "metadata": {},
   "outputs": [],
   "source": [
    "fin.seek(0,2)\n",
    "print(f\"4. The file has {fin.tell()} bytes\")"
   ]
  },
  {
   "cell_type": "markdown",
   "metadata": {
    "slideshow": {
     "slide_type": "slide"
    }
   },
   "source": [
    "# Towards dictionaries\n",
    "\n",
    "So far, we have studied _lists_ (a lot) and _tuples_ (a little). Both are *indexed* (i.e., numbbered) collections of data. \n",
    "\n",
    "As an example, we'll revisit the data in the `capitals.txt` file."
   ]
  },
  {
   "cell_type": "code",
   "execution_count": null,
   "metadata": {},
   "outputs": [],
   "source": [
    "fin = open(\"capitals.txt\")\n",
    "big_string = fin.read()\n",
    "my_list=big_string.split()\n",
    "print(f\"my_list = {my_list}\")"
   ]
  },
  {
   "cell_type": "markdown",
   "metadata": {
    "slideshow": {
     "slide_type": "subslide"
    }
   },
   "source": [
    "Would can easily split this into two lists, one for countries, and one for their capital cities:"
   ]
  },
  {
   "cell_type": "code",
   "execution_count": null,
   "metadata": {},
   "outputs": [],
   "source": [
    "countries = my_list[0: :2]\n",
    "cities = my_list[1: :2]"
   ]
  },
  {
   "cell_type": "code",
   "execution_count": null,
   "metadata": {},
   "outputs": [],
   "source": [
    "print(f\"The capital of {countries[0]} is {cities[0]}\")"
   ]
  },
  {
   "cell_type": "code",
   "execution_count": null,
   "metadata": {},
   "outputs": [],
   "source": [
    "print(f\"The capital of {countries[1]} is {cities[1]}\")"
   ]
  },
  {
   "cell_type": "code",
   "execution_count": null,
   "metadata": {},
   "outputs": [],
   "source": [
    "print(f\"The capital of {countries[2]} is {cities[2]}\")"
   ]
  },
  {
   "cell_type": "markdown",
   "metadata": {
    "slideshow": {
     "slide_type": "subslide"
    }
   },
   "source": [
    "I could list them all with a `for` loop. But this is rather tedious: to find the capital of Ireland, I have to know its index in the list(s). This is because lists can only be indexed by number. \n",
    "\n",
    "It would be much nicer if I could index the list of capitals by the name of the associated country. And I can! This is called a dictionary!"
   ]
  },
  {
   "cell_type": "code",
   "execution_count": null,
   "metadata": {},
   "outputs": [],
   "source": [
    "my_capitals = {'Ireland': 'Dublin', 'Pakistan': 'Islamabad', 'Spain' : 'Madrid', \n",
    "               'USA' : 'Washington', 'Ukraine':  'Kyiv', 'Czechia' : 'Prague'}"
   ]
  },
  {
   "cell_type": "code",
   "execution_count": null,
   "metadata": {},
   "outputs": [],
   "source": [
    "print(f\"The capital of Ireland is {my_capitals['Ireland']}\")\n",
    "print(f\"The capital of Spain   is {my_capitals['Spain']}\")"
   ]
  },
  {
   "cell_type": "markdown",
   "metadata": {
    "slideshow": {
     "slide_type": "slide"
    }
   },
   "source": [
    "## Defining a dictionary\n",
    "\n",
    "A **dictionary** is made up of\n",
    "* **keys**, which act like indices, but can have just about any value\n",
    "* **values** which are associated with the keys\n",
    "* Each key is associated with a single value: together they are called a _key:value pair_.\n",
    "\n",
    "There are two basic ways to define a dictionary."
   ]
  },
  {
   "cell_type": "markdown",
   "metadata": {
    "slideshow": {
     "slide_type": "subslide"
    }
   },
   "source": [
    "### Method one: make an empty dictionary and add stuff\n",
    "\n",
    "The keyword `dict()` can be used to create an empty dictionary. Then we can add `key:value pairs`, one at a time."
   ]
  },
  {
   "cell_type": "code",
   "execution_count": null,
   "metadata": {},
   "outputs": [],
   "source": [
    "module_enrolment = dict()\n",
    "module_enrolment['BO101'] = 273\n",
    "module_enrolment['CH101'] = 278\n",
    "module_enrolment['CS102'] = 56\n",
    "module_enrolment['PH101'] = 141"
   ]
  },
  {
   "cell_type": "code",
   "execution_count": null,
   "metadata": {},
   "outputs": [],
   "source": [
    "print(module_enrolment)"
   ]
  },
  {
   "cell_type": "code",
   "execution_count": null,
   "metadata": {},
   "outputs": [],
   "source": [
    "print(f\"There are {module_enrolment['PH101']} students in PH101\")"
   ]
  },
  {
   "cell_type": "markdown",
   "metadata": {
    "slideshow": {
     "slide_type": "subslide"
    }
   },
   "source": [
    "### Method two: use `{` and `}`\n",
    "\n",
    "We can also make a dictionary with the `key:value` pairs. Syntax is:\n",
    "```python\n",
    "<dict_name> = { <key_1>: <value_1>, <key_2>: <value_2>, ..., <key_n>: <value_n>}\n",
    "```\n",
    "That is:\n",
    "* dictionary starts with `{` and ends with `}`.\n",
    "* There is a colon (`:`) between each key and its corresponding valed.\n",
    "* `key:value` pairs are separated by commas."
   ]
  },
  {
   "cell_type": "markdown",
   "metadata": {
    "slideshow": {
     "slide_type": "slide"
    }
   },
   "source": [
    "<div class=\"dgm\">The end</div>\n",
    "    "
   ]
  }
 ],
 "metadata": {
  "celltoolbar": "Slideshow",
  "jupytext": {
   "formats": "ipynb"
  },
  "kernelspec": {
   "display_name": "Python 3 (ipykernel)",
   "language": "python",
   "name": "python3"
  },
  "language_info": {
   "codemirror_mode": {
    "name": "ipython",
    "version": 3
   },
   "file_extension": ".py",
   "mimetype": "text/x-python",
   "name": "python",
   "nbconvert_exporter": "python",
   "pygments_lexer": "ipython3",
   "version": "3.9.13"
  },
  "rise": {
   "header": "CS102/CS103 Week 08",
   "slideNumber": "c/t",
   "theme": "serif",
   "transition": "fade"
  },
  "toc": {
   "base_numbering": 1,
   "nav_menu": {},
   "number_sections": true,
   "sideBar": false,
   "skip_h1_title": false,
   "title_cell": "Table of Contents",
   "title_sidebar": "Contents",
   "toc_cell": false,
   "toc_position": {
    "height": "873.328px",
    "left": "2534.99px",
    "top": "112px",
    "width": "165px"
   },
   "toc_section_display": true,
   "toc_window_display": true
  },
  "varInspector": {
   "cols": {
    "lenName": 16,
    "lenType": 16,
    "lenVar": 40
   },
   "kernels_config": {
    "python": {
     "delete_cmd_postfix": "",
     "delete_cmd_prefix": "del ",
     "library": "var_list.py",
     "varRefreshCmd": "print(var_dic_list())"
    },
    "r": {
     "delete_cmd_postfix": ") ",
     "delete_cmd_prefix": "rm(",
     "library": "var_list.r",
     "varRefreshCmd": "cat(var_dic_list()) "
    }
   },
   "types_to_exclude": [
    "module",
    "function",
    "builtin_function_or_method",
    "instance",
    "_Feature"
   ],
   "window_display": false
  }
 },
 "nbformat": 4,
 "nbformat_minor": 2
}
