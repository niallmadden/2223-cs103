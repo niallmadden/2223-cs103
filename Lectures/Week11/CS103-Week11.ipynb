{
 "cells": [
  {
   "cell_type": "markdown",
   "metadata": {
    "slideshow": {
     "slide_type": "slide"
    }
   },
   "source": [
    "# CS102/CS103: Week 11 - Classes and Objects <span style='color:green'>(V0.1)</span>\n",
    "\n",
    "\n",
    "**Lecture notes for Week 11 of CS102/CS103, 07 + 08 December, 2022.**\n",
    "\n",
    "Dr [Niall Madden](mailto:Niall.Madden@UniversityOfGalway.ie), School of Mathematical and Statistical Sciences, \n",
    "University of Galway.\n",
    "            \n",
    "You can find these notes at:\n",
    "    \n",
    "* Interactive Jupyter notebook on **Binder** [https://mybinder.org/v2/gh/niallmadden/2223-cs103/main](https://mybinder.org/v2/gh/niallmadden/2223-cs103/main) \n",
    "* Slides, HTML, and downloadable `.ipynb` files: [https://www.niallmadden.ie/2223-CS103](https://www.niallmadden.ie/2223-CS103) - HTML, Slides, and \n",
    "* Github repository: [https://github.com/niallmadden/2223-cs103](https://github.com/niallmadden/2223-cs103)\n",
    "\n",
    "Links also on Blackboard.\n",
    "\n",
    "***\n",
    "\n",
    "<div class=\"rc\"><font size=\"5\"><em>This notebook was written by Niall Madden, and uses some material from <a href=\"https://greenteapress.com/thinkpython2/html\">Think Python</a>, as well as notes by Tobias Rossmann.</em></div>"
   ]
  },
  {
   "cell_type": "markdown",
   "metadata": {
    "slideshow": {
     "slide_type": "subslide"
    }
   },
   "source": [
    "## What we are doing this week:\n",
    "\n",
    "1. Learning about Object Oriented Programming\n",
    "2. Classes and Objects and Methods and Operators\n",
    "3. Some examples of writing our own class: time of day, and rolling some dice.\n"
   ]
  },
  {
   "cell_type": "markdown",
   "metadata": {
    "slideshow": {
     "slide_type": "subslide"
    }
   },
   "source": [
    "## News"
   ]
  },
  {
   "cell_type": "markdown",
   "metadata": {
    "slideshow": {
     "slide_type": "-"
    }
   },
   "source": [
    "### Lab 8 (Project) this week\n",
    "\n",
    "Lab 8 is an open-ended assignment, to be completed by 13 Jan 2023 (end of Week 1 of Semester 2). It is a little similar in style to Labs 3 and 5: you'll write and upload your own Jupyter notebook. \n",
    "\n",
    "See the files on Blackboard for more information.\n"
   ]
  },
  {
   "cell_type": "markdown",
   "metadata": {
    "slideshow": {
     "slide_type": "subslide"
    }
   },
   "source": [
    "### Plans for the rest of the semester \n",
    "\n",
    "* Today (7th December) **MY127** instead of BLE-2012 both days.  You'll need to bring your own laptop to MY127. \n",
    "* Next week: no labs.\n",
    "* Next week: class test on Wednesday. More info below.\n",
    "* Next week: last lecture  Thursday at 9am."
   ]
  },
  {
   "cell_type": "markdown",
   "metadata": {
    "slideshow": {
     "slide_type": "subslide"
    }
   },
   "source": [
    "### Assessment Summary\n",
    "\n",
    "The assessment for CS103, and this part of CS102 is as follows:\n",
    "1. Lab 1: 5%\n",
    "2. Lab 3: 20% (all graded; if you didn't get a grade, talk to Niall)\n",
    "3. Lab 5: 20% (will be graded by 12 December)\n",
    "4. Lab 6: 10% (to be graded Friday)\n",
    "5. Lab 7: 10% (to be graded next week)\n",
    "6. Class test in Week 10: 10% (more of this presently)\n",
    "7. Lab 8/Project: 25% (due in 13 Jan, 2023)"
   ]
  },
  {
   "cell_type": "markdown",
   "metadata": {
    "slideshow": {
     "slide_type": "subslide"
    }
   },
   "source": [
    "### Class test in Week 12\n",
    "\n",
    "There will be a test on Wednesday of Week 12 (14 December). \n",
    "\n",
    "* The test will be on fundamental topics in Python, up to, but not including dictionaries (well... not much: see sample text paper).\n",
    "* It will be online, though you are welcome to come to the lecture and do it there, and ask questions.\n",
    "* It will run form 9 to 5 is designed to take no more than 50 minutes, but everyone will have 2 hours to complete it. \n",
    "* The test is designed to take no more than 50 minutes, but everyone will have 2 hours to complete it. \n",
    "* You can do the test anywhere you want.\n",
    "* It is \"Open Book\": you any resources you like, including lecture notes. In particular, you should have a Jupyter notebook handy to check code.\n",
    "* But you _can_ collaborate with class-mates, but you should not get assistance from anyone else."
   ]
  },
  {
   "cell_type": "markdown",
   "metadata": {
    "slideshow": {
     "slide_type": "slide"
    }
   },
   "source": [
    "# Object-oriented programming\n",
    "\n",
    "Our last \"big\" topic in this module is the concept of **Object-oriented programming**, and, specifically, the definitions of our own **classes** and **objects**.\n",
    "\n",
    "* So far, we have used the term **object** rather informally: anything that can be manipulated and passed around in a Python program was an object.\n",
    "\n",
    "\n",
    "These topics are covered in Chapters 15 to 18 of Think Python. It takes four chapters because\n",
    "* For ones, the book is very slow at getting to the point\n",
    "* The concepts involved are complicated, and so some pacing is required.\n",
    "\n"
   ]
  },
  {
   "cell_type": "markdown",
   "metadata": {
    "slideshow": {
     "slide_type": "subslide"
    }
   },
   "source": [
    "## The basic idea: a class\n",
    "\n",
    "Python comes with many built-in functions, such as `print()`. We have learned we can write our own functions too.\n",
    "\n",
    "Python also comes with many built-in **classes**, such as `int`, `str`, and `list`. These are used to represent \"_things_\", such as integers, words and sentences, and collections. \n",
    "\n",
    "Now we are going to learn how to write our own  classes, for example to represent times or dates or factions (i.e., rational numbers).\n",
    "\n",
    "What makes a **class** special is that we define both the data it can represent, and functions for operating on it. We'll call these \"_methods_\" or \"_operators_\", depending on the context.\n",
    "\n",
    "We'll also learn about **objects** which are \"instances\" of classes. \n"
   ]
  },
  {
   "cell_type": "markdown",
   "metadata": {
    "slideshow": {
     "slide_type": "subslide"
    }
   },
   "source": [
    "## The basic idea: an object\n",
    "\n",
    "An **object** is an _instance_ of a class. Examples:\n",
    "\n",
    "* `\"Hello\"` is an object belonging to the `str` class.\n",
    "* If we set `x=12`, then `x` is an object belonging to the `int` class.\n",
    "* If we set `words=[\"Here\", \"are\", \"some\", \"words\"]`, then `words` is an object of the `list` class.\n",
    "\n",
    "So objects can be \n",
    "* literals, such as `\"Hello\"` or \n",
    "* variables."
   ]
  },
  {
   "cell_type": "markdown",
   "metadata": {
    "slideshow": {
     "slide_type": "subslide"
    }
   },
   "source": [
    "## The basic idea: methods\n",
    "\n",
    "A **method** is a function that is specific to a class. \n",
    "\n",
    "For example if we define the string object `word`, we can apply the following methods:"
   ]
  },
  {
   "cell_type": "code",
   "execution_count": 1,
   "metadata": {},
   "outputs": [],
   "source": [
    "word = \"ThisIsALongWord\""
   ]
  },
  {
   "cell_type": "code",
   "execution_count": 2,
   "metadata": {},
   "outputs": [
    {
     "data": {
      "text/plain": [
       "2"
      ]
     },
     "execution_count": 2,
     "metadata": {},
     "output_type": "execute_result"
    }
   ],
   "source": [
    "word.count('o') # number of times `o` appeards"
   ]
  },
  {
   "cell_type": "code",
   "execution_count": 3,
   "metadata": {},
   "outputs": [
    {
     "data": {
      "text/plain": [
       "'thisisalongword'"
      ]
     },
     "execution_count": 3,
     "metadata": {},
     "output_type": "execute_result"
    }
   ],
   "source": [
    "word.lower() # convert to lower case"
   ]
  },
  {
   "cell_type": "code",
   "execution_count": 4,
   "metadata": {},
   "outputs": [
    {
     "data": {
      "text/plain": [
       "'hisIsALongWor'"
      ]
     },
     "execution_count": 4,
     "metadata": {},
     "output_type": "execute_result"
    }
   ],
   "source": [
    "word.strip(\"Td\")"
   ]
  },
  {
   "cell_type": "markdown",
   "metadata": {
    "slideshow": {
     "slide_type": "subslide"
    }
   },
   "source": [
    "## The basic idea: operators\n",
    "\n",
    "We are familiar with the arithmetic and logical operators such as `+`, `-`, `*`, `==`, `*`, `>=` and so on, and in particular, how they apply to numeric objects. These can also be defined for a class (where it makes sense to do so)."
   ]
  },
  {
   "cell_type": "code",
   "execution_count": 5,
   "metadata": {},
   "outputs": [],
   "source": [
    "word1 = \"Hello\"\n",
    "word2 = \"there\""
   ]
  },
  {
   "cell_type": "code",
   "execution_count": 6,
   "metadata": {},
   "outputs": [
    {
     "data": {
      "text/plain": [
       "'Hellothere'"
      ]
     },
     "execution_count": 6,
     "metadata": {},
     "output_type": "execute_result"
    }
   ],
   "source": [
    "word1+word2"
   ]
  },
  {
   "cell_type": "code",
   "execution_count": 7,
   "metadata": {},
   "outputs": [
    {
     "data": {
      "text/plain": [
       "False"
      ]
     },
     "execution_count": 7,
     "metadata": {},
     "output_type": "execute_result"
    }
   ],
   "source": [
    "word1>=word2"
   ]
  },
  {
   "cell_type": "code",
   "execution_count": 8,
   "metadata": {},
   "outputs": [
    {
     "data": {
      "text/plain": [
       "'HelloHello'"
      ]
     },
     "execution_count": 8,
     "metadata": {},
     "output_type": "execute_result"
    }
   ],
   "source": [
    "word1*2"
   ]
  },
  {
   "cell_type": "code",
   "execution_count": null,
   "metadata": {},
   "outputs": [],
   "source": []
  },
  {
   "cell_type": "markdown",
   "metadata": {
    "slideshow": {
     "slide_type": "slide"
    }
   },
   "source": [
    "So, our goal now is to define a class of our own, and some operators and methods to apply to objects belonging to that class. That is, we'll define an object and its _attributes_:\n",
    "\n",
    "* **Data attributes** store values.\n",
    "\n",
    "* **Methods** (= method attributes) are used to implement operations.\n",
    "\n",
    "To get started, we'll have to learn several things at ones:\n",
    "* the `class` key-word is used to define a class\n",
    "* the `__init__()` function is a function that is called automatically when ever a new object of that class is defined. (This is called a **constructor** in most programming languages)\n",
    "* the `self` \"variable\" which is used in the code to represent the object for which a method is being called."
   ]
  },
  {
   "cell_type": "markdown",
   "metadata": {
    "slideshow": {
     "slide_type": "slide"
    }
   },
   "source": [
    "# Our first example: `Time`\n",
    "\n",
    "(See Chapter 17 for more detail)\n",
    "We'll start by defining a class that represents a time of day. For that we'll use the new key-word `class`.\n",
    "We'll also have a doc-string, which is the same as a function.\n",
    "\n",
    "And it will have:\n",
    "* The data attributes `hour`, `minute`, `second`\n",
    "* The `__init__` function that sets the time to `00:00:00`\n"
   ]
  },
  {
   "cell_type": "code",
   "execution_count": 9,
   "metadata": {},
   "outputs": [],
   "source": [
    "class MyTime:\n",
    "    \"\"\"Represents the time of day. Attributes: hour, minute, second\"\"\"\n",
    "    def __init__(self, hour=0, minute=0, second=0):\n",
    "        self.hour = hour\n",
    "        self.minute = minute\n",
    "        self.second = second"
   ]
  },
  {
   "cell_type": "markdown",
   "metadata": {
    "slideshow": {
     "slide_type": "subslide"
    }
   },
   "source": [
    "Now we define a time:"
   ]
  },
  {
   "cell_type": "code",
   "execution_count": 10,
   "metadata": {
    "slideshow": {
     "slide_type": "-"
    }
   },
   "outputs": [],
   "source": [
    "time1 = MyTime() # note no arguments"
   ]
  },
  {
   "cell_type": "markdown",
   "metadata": {},
   "source": [
    "And check its attributes"
   ]
  },
  {
   "cell_type": "code",
   "execution_count": 11,
   "metadata": {},
   "outputs": [
    {
     "data": {
      "text/plain": [
       "0"
      ]
     },
     "execution_count": 11,
     "metadata": {},
     "output_type": "execute_result"
    }
   ],
   "source": [
    "time1.hour"
   ]
  },
  {
   "cell_type": "code",
   "execution_count": 12,
   "metadata": {},
   "outputs": [
    {
     "name": "stdout",
     "output_type": "stream",
     "text": [
      " time1.hour = 0 \n",
      " time1.minute = 0 \n",
      " time1.second = 0\n"
     ]
    }
   ],
   "source": [
    "print(\" time1.hour =\", time1.hour, \"\\n time1.minute =\",time1.minute, \"\\n time1.second =\",time1.second)"
   ]
  },
  {
   "cell_type": "markdown",
   "metadata": {
    "slideshow": {
     "slide_type": "subslide"
    }
   },
   "source": [
    "In that previous example, we made use of the **default** arguments to the function. So here is another example."
   ]
  },
  {
   "cell_type": "code",
   "execution_count": 13,
   "metadata": {},
   "outputs": [],
   "source": [
    "time2 = MyTime(9, 12, 15)"
   ]
  },
  {
   "cell_type": "code",
   "execution_count": 14,
   "metadata": {},
   "outputs": [
    {
     "name": "stdout",
     "output_type": "stream",
     "text": [
      " time2.hour = 9 \n",
      " time1.minute = 12 \n",
      " time1.second = 15\n"
     ]
    }
   ],
   "source": [
    "print(\" time2.hour =\", time2.hour, \"\\n time1.minute =\",time2.minute, \"\\n time1.second =\",time2.second)"
   ]
  },
  {
   "cell_type": "markdown",
   "metadata": {
    "slideshow": {
     "slide_type": "slide"
    }
   },
   "source": [
    "Displaying the time is a very common task. So we'll write a _method_ for that, called `print_time()`. \n",
    "\n",
    "We'll use an f-string. Recall that, in an f-string:\n",
    "* `{x}` displays the value of the variable `x`\n",
    "* `{x : 2d}` displays the value of the `int` variable `x` allowing for at least 2 digits (and adding space if needed)\n",
    "\n",
    "We now we will use\n",
    "* `{x : 02d}` displays the value of the `int` variable `x` allowing for at least 2 digits, and add `0`s if needed.\n"
   ]
  },
  {
   "cell_type": "code",
   "execution_count": 15,
   "metadata": {
    "slideshow": {
     "slide_type": "subslide"
    }
   },
   "outputs": [],
   "source": [
    "class MyTime:\n",
    "    \"\"\"Represents the time of day. Attributes: hour, minute, second\"\"\"\n",
    "    def __init__(self, hour=0, minute=0, second=0):\n",
    "        self.hour = hour\n",
    "        self.minute = minute\n",
    "        self.second = second\n",
    "    def print_time(self):\n",
    "        print(f'{self.hour:02d}:{self.minute:02d}:{self.second:02d}')"
   ]
  },
  {
   "cell_type": "code",
   "execution_count": 16,
   "metadata": {},
   "outputs": [],
   "source": [
    "time1 = MyTime()"
   ]
  },
  {
   "cell_type": "code",
   "execution_count": 17,
   "metadata": {},
   "outputs": [
    {
     "name": "stdout",
     "output_type": "stream",
     "text": [
      "00:00:00\n"
     ]
    }
   ],
   "source": [
    "time1.print_time()"
   ]
  },
  {
   "cell_type": "code",
   "execution_count": 18,
   "metadata": {},
   "outputs": [
    {
     "name": "stdout",
     "output_type": "stream",
     "text": [
      "09:14:16\n"
     ]
    }
   ],
   "source": [
    "time2 = MyTime(9,14,16)\n",
    "time2.print_time()"
   ]
  },
  {
   "cell_type": "markdown",
   "metadata": {
    "slideshow": {
     "slide_type": "slide"
    }
   },
   "source": [
    "# Another example: one die, two dice\n",
    "\n",
    "Let's build class that produces dice containing a user-specified number of sides.\n",
    "\n",
    "* These objects will be instances of a class `VarioDie`.\n",
    "\n",
    "* Each `VarioDie` instance will **know** two things:\n",
    "  1. its number of sides and\n",
    "  2. its current value.\n",
    "  "
   ]
  },
  {
   "cell_type": "markdown",
   "metadata": {
    "slideshow": {
     "slide_type": "subslide"
    }
   },
   "source": [
    "* In addition, each `VarioDie` instance can **do** something:\n",
    "  to `roll` a die means to produce a random value between `1` and the total number of its sides."
   ]
  },
  {
   "cell_type": "markdown",
   "metadata": {
    "slideshow": {
     "slide_type": "-"
    }
   },
   "source": [
    "* Interacting with such objects may look as follows."
   ]
  },
  {
   "cell_type": "markdown",
   "metadata": {
    "slideshow": {
     "slide_type": "-"
    }
   },
   "source": [
    "```python\n",
    "die = VarioDie(6)   # create new 6-sided die \n",
    "die.roll()          # roll the die\n",
    "die.value           # retrieve its value.\n",
    "die2 = VarioDie(20) # make a 20-sided die\n",
    "die2.roll()         # roll it\n",
    "die2.value          # check its value\n",
    "die.value           # old value unchanged\n",
    "```"
   ]
  },
  {
   "cell_type": "markdown",
   "metadata": {
    "slideshow": {
     "slide_type": "subslide"
    }
   },
   "source": [
    "* One can produce any number of dice each having an arbitrary number of\n",
    "sides.\n",
    "* Each die can be rolled independently and will always produce a random value in the proper range determined by its individual number of sides.\n",
    "* Using OOP terminology we create a die by invoking the constructor of our class `VarioDie`. It takes the number of sides as its argument."
   ]
  },
  {
   "cell_type": "markdown",
   "metadata": {
    "slideshow": {
     "slide_type": "subslide"
    }
   },
   "source": [
    "* Our die object will keep track of this number internally using an **instance variable**. Another instance variable is used to store the current value.\n",
    "* The latter can be accessed as `die.value`.\n",
    "* The current value can be changed using the method `roll`, or by directly assigning to the instance attribute `die.value`.\n",
    "* As before, invoking a constructor *looks* just like a function call except that the \"function\" being called is the class."
   ]
  },
  {
   "cell_type": "markdown",
   "metadata": {
    "slideshow": {
     "slide_type": "slide"
    }
   },
   "source": [
    "## Class definitions\n",
    "\n",
    "Reminder: In Python, classes are defined using the `class` statement. Its basic form is:"
   ]
  },
  {
   "cell_type": "markdown",
   "metadata": {
    "slideshow": {
     "slide_type": "-"
    }
   },
   "source": [
    "```python\n",
    "class Name:\n",
    "    <body>\n",
    "```\n",
    "\n",
    "* The name of a class can be any valid identifier.\n",
    "* The body of a class definition consists of statements, indented as usual."
   ]
  },
  {
   "cell_type": "markdown",
   "metadata": {
    "slideshow": {
     "slide_type": "-"
    }
   },
   "source": [
    "* In practice, the body usually consists of a sequence of method definitions.\n",
    "* Methods are defined using `def` statements, like functions."
   ]
  },
  {
   "cell_type": "markdown",
   "metadata": {
    "slideshow": {
     "slide_type": "subslide"
    }
   },
   "source": [
    "* It is customary (but not required) to distinguish class names from names of variables and methods.\n",
    "* One common way is to use partial capitalisation, e.g.\n",
    "  * `SomeDataType` (a class)\n",
    "  * `do_something` (a method or function)\n",
    "  * `some_value` (a variable or data attribute)"
   ]
  },
  {
   "cell_type": "markdown",
   "metadata": {
    "slideshow": {
     "slide_type": "slide"
    }
   },
   "source": [
    "Let's define the `VarioDie` class:"
   ]
  },
  {
   "cell_type": "code",
   "execution_count": 19,
   "metadata": {},
   "outputs": [],
   "source": [
    "import random # need this for rolling"
   ]
  },
  {
   "cell_type": "code",
   "execution_count": 20,
   "metadata": {
    "scrolled": true
   },
   "outputs": [],
   "source": [
    "class VarioDie:\n",
    "    def __init__(self, sides): # two underscores on each side!\n",
    "        self.sides = sides\n",
    "        self.value = 1\n",
    "        \n",
    "    def roll(self):\n",
    "        self.value = random.randint(1, self.sides)"
   ]
  },
  {
   "cell_type": "markdown",
   "metadata": {
    "slideshow": {
     "slide_type": "subslide"
    }
   },
   "source": [
    "## `self` again\n",
    "\n",
    "* Each method definition in a class has a **special first parameter**.\n",
    "* It is called `self` (by convention) and refers to the instance of the class that the method is acting upon."
   ]
  },
  {
   "cell_type": "markdown",
   "metadata": {
    "slideshow": {
     "slide_type": "-"
    }
   },
   "source": [
    "* That is, when the function is called as a method on behalf of an instance of the class, \n",
    "the value assigned to `self` is that object.\n",
    "\n",
    "For example,\n",
    "```python\n",
    "   die.roll()\n",
    "```\n",
    "will execute the body of the `roll` function with `die` as the value of `self`."
   ]
  },
  {
   "cell_type": "markdown",
   "metadata": {
    "slideshow": {
     "slide_type": "subslide"
    }
   },
   "source": [
    "The **special method** `__init__` is the **constructor** of the class:\n",
    "\n",
    "When a class `C` is \"called\" (as if it were a function) in the form `C(<args>)`,\n",
    "1. a new instance `ob` of the class is created,\n",
    "2. `__init__` is called with the given arguments and the newly created object `ob` as `self`, and\n",
    "3. the expression `C(<args>)` evaluates to `ob`."
   ]
  },
  {
   "cell_type": "markdown",
   "metadata": {
    "slideshow": {
     "slide_type": "subslide"
    }
   },
   "source": [
    "For example, the function call\n",
    "```python\n",
    "VarioDie(6)\n",
    "```\n",
    "executes the `__init__` method with `6` as the value of `sides` and returns the object `self`."
   ]
  },
  {
   "cell_type": "markdown",
   "metadata": {
    "slideshow": {
     "slide_type": "subslide"
    }
   },
   "source": [
    "* Constructors must *not* return any values other than `None`.\n",
    "* In some books/documentation,  `__init__` is called an \"initialiser\" rather than  a \"constructor\"."
   ]
  },
  {
   "cell_type": "markdown",
   "metadata": {
    "slideshow": {
     "slide_type": "slide"
    }
   },
   "source": [
    "## Let's roll ..."
   ]
  },
  {
   "cell_type": "code",
   "execution_count": 21,
   "metadata": {
    "scrolled": true
   },
   "outputs": [
    {
     "data": {
      "text/plain": [
       "1"
      ]
     },
     "execution_count": 21,
     "metadata": {},
     "output_type": "execute_result"
    }
   ],
   "source": [
    "die = VarioDie(6)\n",
    "die.value"
   ]
  },
  {
   "cell_type": "code",
   "execution_count": 22,
   "metadata": {
    "scrolled": true
   },
   "outputs": [
    {
     "data": {
      "text/plain": [
       "6"
      ]
     },
     "execution_count": 22,
     "metadata": {},
     "output_type": "execute_result"
    }
   ],
   "source": [
    "die.sides"
   ]
  },
  {
   "cell_type": "code",
   "execution_count": 23,
   "metadata": {
    "scrolled": true
   },
   "outputs": [
    {
     "data": {
      "text/plain": [
       "2"
      ]
     },
     "execution_count": 23,
     "metadata": {},
     "output_type": "execute_result"
    }
   ],
   "source": [
    "die.roll()\n",
    "die.value"
   ]
  },
  {
   "cell_type": "code",
   "execution_count": 24,
   "metadata": {
    "scrolled": true
   },
   "outputs": [
    {
     "data": {
      "text/plain": [
       "<__main__.VarioDie at 0x7f960c3ef8b0>"
      ]
     },
     "execution_count": 24,
     "metadata": {},
     "output_type": "execute_result"
    }
   ],
   "source": [
    "die"
   ]
  },
  {
   "cell_type": "code",
   "execution_count": 25,
   "metadata": {
    "scrolled": true,
    "slideshow": {
     "slide_type": "subslide"
    }
   },
   "outputs": [
    {
     "data": {
      "text/plain": [
       "1"
      ]
     },
     "execution_count": 25,
     "metadata": {},
     "output_type": "execute_result"
    }
   ],
   "source": [
    "die2 = VarioDie(13)\n",
    "die2.value"
   ]
  },
  {
   "cell_type": "code",
   "execution_count": 26,
   "metadata": {
    "scrolled": true
   },
   "outputs": [
    {
     "data": {
      "text/plain": [
       "13"
      ]
     },
     "execution_count": 26,
     "metadata": {},
     "output_type": "execute_result"
    }
   ],
   "source": [
    "die2.sides"
   ]
  },
  {
   "cell_type": "code",
   "execution_count": 27,
   "metadata": {
    "scrolled": true
   },
   "outputs": [
    {
     "data": {
      "text/plain": [
       "(5, 2)"
      ]
     },
     "execution_count": 27,
     "metadata": {},
     "output_type": "execute_result"
    }
   ],
   "source": [
    "die2.roll()\n",
    "die2.value, die.value"
   ]
  }
 ],
 "metadata": {
  "celltoolbar": "Slideshow",
  "jupytext": {
   "formats": "ipynb"
  },
  "kernelspec": {
   "display_name": "Python 3 (ipykernel)",
   "language": "python",
   "name": "python3"
  },
  "language_info": {
   "codemirror_mode": {
    "name": "ipython",
    "version": 3
   },
   "file_extension": ".py",
   "mimetype": "text/x-python",
   "name": "python",
   "nbconvert_exporter": "python",
   "pygments_lexer": "ipython3",
   "version": "3.9.13"
  },
  "rise": {
   "header": "CS102/CS103 Week 11",
   "slideNumber": "c/t",
   "theme": "serif",
   "transition": "fade"
  },
  "toc": {
   "base_numbering": 1,
   "nav_menu": {},
   "number_sections": true,
   "sideBar": false,
   "skip_h1_title": false,
   "title_cell": "Table of Contents",
   "title_sidebar": "Contents",
   "toc_cell": false,
   "toc_position": {
    "height": "873.328px",
    "left": "2534.99px",
    "top": "112px",
    "width": "165px"
   },
   "toc_section_display": true,
   "toc_window_display": true
  },
  "varInspector": {
   "cols": {
    "lenName": 16,
    "lenType": 16,
    "lenVar": 40
   },
   "kernels_config": {
    "python": {
     "delete_cmd_postfix": "",
     "delete_cmd_prefix": "del ",
     "library": "var_list.py",
     "varRefreshCmd": "print(var_dic_list())"
    },
    "r": {
     "delete_cmd_postfix": ") ",
     "delete_cmd_prefix": "rm(",
     "library": "var_list.r",
     "varRefreshCmd": "cat(var_dic_list()) "
    }
   },
   "types_to_exclude": [
    "module",
    "function",
    "builtin_function_or_method",
    "instance",
    "_Feature"
   ],
   "window_display": false
  }
 },
 "nbformat": 4,
 "nbformat_minor": 2
}
