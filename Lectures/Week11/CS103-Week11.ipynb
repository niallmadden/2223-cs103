{
 "cells": [
  {
   "cell_type": "markdown",
   "metadata": {
    "slideshow": {
     "slide_type": "slide"
    }
   },
   "source": [
    "# CS102/CS103: Week 11 - Classes and Objects <span style='color:green'>(V1.0)</span>\n",
    "\n",
    "\n",
    "**Lecture notes for Week 11 of CS102/CS103, 07 + 08 December, 2022.**\n",
    "\n",
    "Dr [Niall Madden](mailto:Niall.Madden@UniversityOfGalway.ie), School of Mathematical and Statistical Sciences, \n",
    "University of Galway.\n",
    "            \n",
    "You can find these notes at:\n",
    "    \n",
    "* Interactive Jupyter notebook on **Binder** [https://mybinder.org/v2/gh/niallmadden/2223-cs103/main](https://mybinder.org/v2/gh/niallmadden/2223-cs103/main) \n",
    "* Slides, HTML, and downloadable `.ipynb` files: [https://www.niallmadden.ie/2223-CS103](https://www.niallmadden.ie/2223-CS103) - HTML, Slides, and \n",
    "* Github repository: [https://github.com/niallmadden/2223-cs103](https://github.com/niallmadden/2223-cs103)\n",
    "    * (If you use `git`, try: `git clone https://github.com/niallmadden/2223-cs103`)\n",
    "\n",
    "Links also on Blackboard.\n",
    "\n",
    "***\n",
    "\n",
    "<div class=\"rc\"><font size=\"5\"><em>This notebook was written by Niall Madden, and uses some material from <a href=\"https://greenteapress.com/thinkpython2/html\">Think Python</a>, as well as notes by Tobias Rossmann.</em></div>"
   ]
  },
  {
   "cell_type": "markdown",
   "metadata": {
    "slideshow": {
     "slide_type": "subslide"
    }
   },
   "source": [
    "## What we are doing this week:\n",
    "\n",
    "1. Learning about Object Oriented Programming\n",
    "2. Classes and Objects and Methods and Operators\n",
    "3. Some examples of writing our own class: time of day, and rolling some dice.\n",
    "4. Dunder methods\n",
    "5. Operator overloading\n"
   ]
  },
  {
   "cell_type": "markdown",
   "metadata": {
    "slideshow": {
     "slide_type": "subslide"
    }
   },
   "source": [
    "## News"
   ]
  },
  {
   "cell_type": "markdown",
   "metadata": {
    "slideshow": {
     "slide_type": "-"
    }
   },
   "source": [
    "### Lab 8 (Project) this week\n",
    "\n",
    "Lab 8 is an open-ended assignment, to be completed by 13 Jan 2023 (end of Week 1 of Semester 2). It is a little similar in style to Labs 3 and 5: you'll write and upload your own Jupyter notebook. \n",
    "\n",
    "See the files on Blackboard for more information.\n"
   ]
  },
  {
   "cell_type": "markdown",
   "metadata": {
    "slideshow": {
     "slide_type": "subslide"
    }
   },
   "source": [
    "### Plans for the rest of the semester \n",
    "\n",
    "* Today (7th December) **MY127** instead of BLE-2012 both days.  You'll need to bring your own laptop to MY127. \n",
    "* Next week: no labs.\n",
    "* Next week: class test on Wednesday. More info below.\n",
    "* Next week: last lecture  Thursday at 9am."
   ]
  },
  {
   "cell_type": "markdown",
   "metadata": {
    "slideshow": {
     "slide_type": "subslide"
    }
   },
   "source": [
    "### Assessment Summary\n",
    "\n",
    "The assessment for CS103, and this part of CS102 is as follows:\n",
    "1. Lab 1: 5%\n",
    "2. Lab 3: 20% (all graded; if you didn't get a grade, talk to Niall)\n",
    "3. Lab 5: 20% (will be graded by 12 December)\n",
    "4. Lab 6: 10% (to be graded Friday)\n",
    "5. Lab 7: 10% (to be graded next week)\n",
    "6. Class test in Week 10: 10% (more of this presently)\n",
    "7. Lab 8/Project: 25% (due in 13 Jan, 2023)"
   ]
  },
  {
   "cell_type": "markdown",
   "metadata": {
    "slideshow": {
     "slide_type": "subslide"
    }
   },
   "source": [
    "### Class test in Week 12\n",
    "\n",
    "There will be a test on Wednesday of Week 12 (14 December). \n",
    "\n",
    "* The test will be on fundamental topics in Python, up to, but not including dictionaries (well... not much: see sample text paper).\n",
    "* It will be online, though you are welcome to come to the lecture and do it there, and ask questions.\n",
    "* It will run form 9 to 5 is designed to take no more than 50 minutes, but everyone will have 2 hours to complete it. \n",
    "* The test is designed to take no more than 50 minutes, but everyone will have 2 hours to complete it. \n",
    "* You can do the test anywhere you want.\n",
    "* It is \"Open Book\": you any resources you like, including lecture notes. In particular, you should have a Jupyter notebook handy to check code.\n",
    "* But you _can_ collaborate with class-mates, but you should not get assistance from anyone else."
   ]
  },
  {
   "cell_type": "markdown",
   "metadata": {},
   "source": [
    "### Want some more exercises?\n",
    "\n",
    "If you are enjoying coding in Python, maybe try the \"Advent of Code\" [https://adventofcode.com/]https://adventofcode.com).\n",
    "\n",
    "This proposes a new programming challenge each day until Christmas, usually with some \"Santa\"-related theme.\n",
    "\n",
    "Have fun!\n"
   ]
  },
  {
   "cell_type": "markdown",
   "metadata": {
    "slideshow": {
     "slide_type": "slide"
    }
   },
   "source": [
    "# Object-oriented programming\n",
    "\n",
    "Our last \"big\" topic in this module is the concept of **Object-oriented programming**, and, specifically, the definitions of our own **classes** and **objects**.\n",
    "\n",
    "\n",
    "These topics are covered in Chapters 15 to 18 of Think Python. It takes four chapters because\n",
    "* For ones, the book is very slow at getting to the point\n",
    "* The concepts involved are complicated, and so some pacing is required.\n",
    "\n"
   ]
  },
  {
   "cell_type": "markdown",
   "metadata": {
    "slideshow": {
     "slide_type": "subslide"
    }
   },
   "source": [
    "## The basic idea: a class\n",
    "\n",
    "Python comes with many built-in functions, such as `print()`. We have learned we can write our own functions too.\n",
    "\n",
    "Python also comes with many built-in **classes**, such as `int`, `str`, and `list`. These are used to represent \"_things_\", such as integers, words and sentences, and collections. \n",
    "\n",
    "Now we are going to learn how to write our own  classes, for example to represent times or dates or factions (i.e., rational numbers).\n",
    "\n",
    "What makes a **class** special is that we define both the data it can represent, and functions for operating on it. We'll call these \"_methods_\" or \"_operators_\", depending on the context.\n",
    "\n",
    "We'll also learn about **objects** which are \"instances\" of classes. \n"
   ]
  },
  {
   "cell_type": "markdown",
   "metadata": {
    "slideshow": {
     "slide_type": "subslide"
    }
   },
   "source": [
    "## The basic idea: an object\n",
    "\n",
    "An **object** is an _instance_ of a class. Examples:\n",
    "\n",
    "* `\"Hello\"` is an object belonging to the `str` class.\n",
    "* If we set `x=12`, then `x` is an object belonging to the `int` class.\n",
    "* If we set `words=[\"Here\", \"are\", \"some\", \"words\"]`, then `words` is an object of the `list` class.\n",
    "\n",
    "So objects can be \n",
    "* literals, such as `\"Hello\"` or \n",
    "* variables."
   ]
  },
  {
   "cell_type": "markdown",
   "metadata": {
    "slideshow": {
     "slide_type": "subslide"
    }
   },
   "source": [
    "## The basic idea: methods\n",
    "\n",
    "A **method** is a function that is specific to a class. \n",
    "\n",
    "For example if we define the string object `word`, we can apply the following methods:"
   ]
  },
  {
   "cell_type": "code",
   "execution_count": null,
   "metadata": {},
   "outputs": [],
   "source": [
    "word = \"ThisIsALongWord\"\n",
    "type(word)"
   ]
  },
  {
   "cell_type": "code",
   "execution_count": null,
   "metadata": {},
   "outputs": [],
   "source": [
    "word.count('o') # number of times `o` appeards"
   ]
  },
  {
   "cell_type": "code",
   "execution_count": null,
   "metadata": {},
   "outputs": [],
   "source": [
    "word.lower() # convert to lower case"
   ]
  },
  {
   "cell_type": "code",
   "execution_count": null,
   "metadata": {},
   "outputs": [],
   "source": [
    "word.strip(\"Tdh\")"
   ]
  },
  {
   "cell_type": "markdown",
   "metadata": {
    "slideshow": {
     "slide_type": "subslide"
    }
   },
   "source": [
    "## The basic idea: operators\n",
    "\n",
    "We are familiar with the arithmetic and logical operators such as `+`, `-`, `*`, `==`, `>=` and so on, and in particular, how they apply to numeric objects. These can also be defined for a class (where it makes sense to do so)."
   ]
  },
  {
   "cell_type": "code",
   "execution_count": null,
   "metadata": {},
   "outputs": [],
   "source": [
    "word1 = \"Hello\"\n",
    "word2 = \"there\""
   ]
  },
  {
   "cell_type": "code",
   "execution_count": null,
   "metadata": {},
   "outputs": [],
   "source": [
    "word1+word2"
   ]
  },
  {
   "cell_type": "code",
   "execution_count": null,
   "metadata": {},
   "outputs": [],
   "source": [
    "word1<word2"
   ]
  },
  {
   "cell_type": "markdown",
   "metadata": {},
   "source": [
    "Not every operators works. For example, we can't multiply two strings, though we can multiply a string by an `int`."
   ]
  },
  {
   "cell_type": "code",
   "execution_count": null,
   "metadata": {
    "slideshow": {
     "slide_type": "subslide"
    }
   },
   "outputs": [],
   "source": [
    "word1*2"
   ]
  },
  {
   "cell_type": "code",
   "execution_count": null,
   "metadata": {},
   "outputs": [],
   "source": []
  },
  {
   "cell_type": "markdown",
   "metadata": {
    "slideshow": {
     "slide_type": "slide"
    }
   },
   "source": [
    "So, our goal now is to define a class of our own, and some operators and methods to apply to objects belonging to that class. That is, we'll define an class and its objects' _attributes_:\n",
    "\n",
    "* **Data attributes** store values.\n",
    "\n",
    "* **Methods** (= method attributes) are used to implement operations.\n",
    "\n",
    "To get started, we'll have to learn several things at ones:\n",
    "* the `class` key-word is used to define a class\n",
    "* the `__init__()` function is a function that is called automatically when ever a new object of that class is defined. (This is called a **constructor** in most programming languages)\n",
    "* the `self` \"variable\" which is used in the code to represent the object for which a method is being called."
   ]
  },
  {
   "cell_type": "markdown",
   "metadata": {
    "slideshow": {
     "slide_type": "slide"
    }
   },
   "source": [
    "# Our first example: `Time`\n",
    "\n",
    "(See Chapter 17 for more detail)\n",
    "We'll start by defining a class that represents a time of day. For that we'll use the new key-word `class`.\n",
    "We'll also have a doc-string, which is the same as a function.\n",
    "\n",
    "And it will have:\n",
    "* The data attributes `hour`, `minute`, `second`\n",
    "* The `__init__` function that sets the time to `00:00:00`\n"
   ]
  },
  {
   "cell_type": "code",
   "execution_count": null,
   "metadata": {},
   "outputs": [],
   "source": [
    "class MyTime:\n",
    "    \"\"\"Represents the time of day. Attributes: hour, minute, second\"\"\"\n",
    "    def __init__(self, hour=0, minute=0, second=0):\n",
    "        self.hour = hour\n",
    "        self.minute = minute\n",
    "        self.second = second"
   ]
  },
  {
   "cell_type": "markdown",
   "metadata": {
    "slideshow": {
     "slide_type": "subslide"
    }
   },
   "source": [
    "Now we define a time:"
   ]
  },
  {
   "cell_type": "code",
   "execution_count": null,
   "metadata": {
    "slideshow": {
     "slide_type": "-"
    }
   },
   "outputs": [],
   "source": [
    "time1 = MyTime() # note no arguments"
   ]
  },
  {
   "cell_type": "markdown",
   "metadata": {},
   "source": [
    "And check its attributes"
   ]
  },
  {
   "cell_type": "code",
   "execution_count": null,
   "metadata": {},
   "outputs": [],
   "source": [
    "time1.hour "
   ]
  },
  {
   "cell_type": "code",
   "execution_count": null,
   "metadata": {},
   "outputs": [],
   "source": [
    "print(\" time1.hour =\", time1.hour, \"\\n time1.minute =\",time1.minute,\n",
    "      \"\\n time1.second =\",time1.second)"
   ]
  },
  {
   "cell_type": "markdown",
   "metadata": {
    "slideshow": {
     "slide_type": "subslide"
    }
   },
   "source": [
    "In that previous example, we made use of the **default** arguments to the function. So here is another example."
   ]
  },
  {
   "cell_type": "code",
   "execution_count": null,
   "metadata": {},
   "outputs": [],
   "source": [
    "time2 = MyTime(13, 46, 7)"
   ]
  },
  {
   "cell_type": "code",
   "execution_count": null,
   "metadata": {},
   "outputs": [],
   "source": [
    "print(\" time2.hour =\", time2.hour, \"\\n time2.minute =\",time2.minute, \n",
    "      \"\\n time2.second =\",time2.second)"
   ]
  },
  {
   "cell_type": "code",
   "execution_count": null,
   "metadata": {},
   "outputs": [],
   "source": [
    "print(f\"Time:{time2.second : 04d}\")"
   ]
  },
  {
   "cell_type": "markdown",
   "metadata": {
    "slideshow": {
     "slide_type": "slide"
    }
   },
   "source": [
    "Displaying the time is a very common task. So we'll write a _method_ for that, called `print_time()`. \n",
    "\n",
    "We'll use an f-string. Recall that, in an f-string:\n",
    "* `{x}` displays the value of the variable `x`\n",
    "* `{x : 2d}` displays the value of the `int` variable `x` allowing for at least 2 digits (and adding space if needed)\n",
    "\n",
    "We now we will use\n",
    "* `{x : 02d}` displays the value of the `int` variable `x` allowing for at least 2 digits, and add `0`s if needed.\n"
   ]
  },
  {
   "cell_type": "code",
   "execution_count": null,
   "metadata": {
    "slideshow": {
     "slide_type": "subslide"
    }
   },
   "outputs": [],
   "source": [
    "class MyTime:\n",
    "    \"\"\"Represents the time of day. Attributes: hour, minute, second\"\"\"\n",
    "    def __init__(self, hour=0, minute=0, second=0):\n",
    "        self.hour = hour\n",
    "        self.minute = minute\n",
    "        self.second = second\n",
    "    def print_time(self):\n",
    "        print(f'{self.hour:02d}:{self.minute:02d}:{self.second:02d}')"
   ]
  },
  {
   "cell_type": "code",
   "execution_count": null,
   "metadata": {},
   "outputs": [],
   "source": [
    "time1 = MyTime()"
   ]
  },
  {
   "cell_type": "code",
   "execution_count": null,
   "metadata": {},
   "outputs": [],
   "source": [
    "time1.print_time()"
   ]
  },
  {
   "cell_type": "code",
   "execution_count": null,
   "metadata": {},
   "outputs": [],
   "source": [
    "time2 = MyTime(9,14,16)\n",
    "time2.print_time()"
   ]
  },
  {
   "cell_type": "markdown",
   "metadata": {
    "slideshow": {
     "slide_type": "slide"
    }
   },
   "source": [
    "<div class=\"alert alert-block alert-info\">\n",
    "    Finished here Wednesday\n",
    "</div>"
   ]
  },
  {
   "cell_type": "markdown",
   "metadata": {
    "slideshow": {
     "slide_type": "slide"
    }
   },
   "source": [
    "# Arcane Interlude 10: You are just not that popular (on average)\n",
    "\n",
    "One of my favourite Python modules is `networkx` which is used to represent graphs and networks.\n",
    "\n",
    "In this example, we'll use it to verify the \"_Friendship Paradox_\": most people have fewer friends than their friends do."
   ]
  },
  {
   "cell_type": "code",
   "execution_count": null,
   "metadata": {},
   "outputs": [],
   "source": [
    "import networkx as nx\n",
    "import matplotlib.pyplot as plt\n",
    "import random\n",
    "import statistics"
   ]
  },
  {
   "cell_type": "code",
   "execution_count": null,
   "metadata": {
    "slideshow": {
     "slide_type": "subslide"
    }
   },
   "outputs": [],
   "source": [
    "G = nx.erdos_renyi_graph(150, 0.04)\n",
    "R = []\n",
    "for d in dict(G.degree).values():\n",
    "    R += [d**2]\n",
    "nx.draw(G, node_size = R )"
   ]
  },
  {
   "cell_type": "code",
   "execution_count": null,
   "metadata": {
    "slideshow": {
     "slide_type": "subslide"
    }
   },
   "outputs": [],
   "source": [
    "def ave_friends_friends(G, n):\n",
    "    res = 0\n",
    "    for f in G.neighbors(n):\n",
    "        res += G.degree(f)\n",
    "    return res/G.degree(n)"
   ]
  },
  {
   "cell_type": "code",
   "execution_count": null,
   "metadata": {},
   "outputs": [],
   "source": [
    "paradox_holds,paradox_fails=0,0\n",
    "for n in G.nodes:\n",
    "    if G.degree(n) < ave_friends_friends(G,n):\n",
    "        paradox_holds+=1\n",
    "    else:\n",
    "        paradox_fails+=1\n",
    "    #print(f\" degree({n:3d})={G.degree(n)}.  FoF = {ave_friends_friends(G,n)}\")\n",
    "    \n",
    "print(f\"Paradox holds {paradox_holds} times and fails {paradox_fails} times.\")"
   ]
  },
  {
   "cell_type": "markdown",
   "metadata": {
    "slideshow": {
     "slide_type": "slide"
    }
   },
   "source": [
    "# Another example: one die, two dice\n",
    "\n",
    "To recap on the key ideas in classes and objects in Python, let's build class that produces dice containing a user-specified number of sides.\n",
    "\n",
    "\n",
    "* Each `VarioDie` instance will **know** two things:\n",
    "  1. its number of side, $s$, and\n",
    "  2. its current value.\n",
    "  "
   ]
  },
  {
   "cell_type": "markdown",
   "metadata": {
    "slideshow": {
     "slide_type": "subslide"
    }
   },
   "source": [
    "* In addition, each `VarioDie` instance can **do** something:\n",
    "  to `roll` a die means to produce a random value between `1` and the total number of its sides."
   ]
  },
  {
   "cell_type": "markdown",
   "metadata": {
    "slideshow": {
     "slide_type": "-"
    }
   },
   "source": [
    "* Interacting with such objects may look as follows."
   ]
  },
  {
   "cell_type": "markdown",
   "metadata": {
    "slideshow": {
     "slide_type": "-"
    }
   },
   "source": [
    "```python\n",
    "die = VarioDie(12) # create new 12-sided die \n",
    "die.roll()         # roll the die\n",
    "die.value          # check its value\n",
    "die.roll()         # roll it again die\n",
    "die.value          # check its value\n",
    "\n",
    "```"
   ]
  },
  {
   "cell_type": "markdown",
   "metadata": {
    "slideshow": {
     "slide_type": "slide"
    }
   },
   "source": [
    "## Class definitions\n",
    "\n",
    "Reminder: In Python, classes are defined using the `class` statement. Its basic form is:"
   ]
  },
  {
   "cell_type": "markdown",
   "metadata": {
    "slideshow": {
     "slide_type": "-"
    }
   },
   "source": [
    "```python\n",
    "class Name:\n",
    "    <body>\n",
    "```\n",
    "\n",
    "* The name of a class can be any valid identifier.\n",
    "* The body of a class definition consists of statements, indented as usual."
   ]
  },
  {
   "cell_type": "markdown",
   "metadata": {
    "slideshow": {
     "slide_type": "subslide"
    }
   },
   "source": [
    "In practice, the body usually consists of a sequence of one or more _method_ (i.e., function) definitions.\n",
    "\n",
    "* If one of these is `__init__()` which is called automatically when an object of that class is defined (and the class name is treated as a function).\n",
    "\n",
    "* `__init__()` is an example of a _special method_. Often, it is read out loud as \"_dunder init_\", where \"_dunder_\" is short for \"_double underscore_\".\n",
    "\n"
   ]
  },
  {
   "cell_type": "markdown",
   "metadata": {
    "slideshow": {
     "slide_type": "subslide"
    }
   },
   "source": [
    "## Methods\n",
    "\n",
    "Syntax for a method is:"
   ]
  },
  {
   "cell_type": "markdown",
   "metadata": {
    "slideshow": {
     "slide_type": "-"
    }
   },
   "source": [
    "```python\n",
    "class Name:\n",
    "    def my_method(<arg>):\n",
    "        <method body>\n",
    "```\n"
   ]
  },
  {
   "cell_type": "markdown",
   "metadata": {},
   "source": [
    "Then, if (for example) the variable `n` is of type `Name`, we can call this method as `n.my_method(<arg>)`\n",
    " "
   ]
  },
  {
   "cell_type": "markdown",
   "metadata": {
    "slideshow": {
     "slide_type": "subslide"
    }
   },
   "source": [
    "## Data attributes\n",
    "\n",
    "If a method crates a new variable, it becomes a data attribute of the associated object. Use the `dot` notation to access it.\n",
    "\n",
    "\n",
    "## `self`\n",
    "Within the methods defined in the class, by custom we use the place-holder variable `self` to refer to the object for which the method is being called."
   ]
  },
  {
   "cell_type": "code",
   "execution_count": null,
   "metadata": {
    "slideshow": {
     "slide_type": "subslide"
    }
   },
   "outputs": [],
   "source": [
    "class Name:\n",
    "    def my_fn(self):\n",
    "        self.x=-1"
   ]
  },
  {
   "cell_type": "code",
   "execution_count": null,
   "metadata": {},
   "outputs": [],
   "source": [
    "n = Name() "
   ]
  },
  {
   "cell_type": "code",
   "execution_count": null,
   "metadata": {},
   "outputs": [],
   "source": [
    "n.my_fn() # Note: before now, n.x does not exist."
   ]
  },
  {
   "cell_type": "code",
   "execution_count": null,
   "metadata": {},
   "outputs": [],
   "source": [
    "n.x"
   ]
  },
  {
   "cell_type": "markdown",
   "metadata": {
    "slideshow": {
     "slide_type": "subslide"
    }
   },
   "source": [
    "## Naming conventions \n",
    "It is customary (but not required) to distinguish class names from names of variables and methods.\n",
    "\n",
    "One common way is to use partial capitalisation, e.g.\n",
    "  * `SomeDataType` (a class)\n",
    "  * `do_something()` (a method or function)\n",
    "  * `some_value` (a variable or data attribute)"
   ]
  },
  {
   "cell_type": "markdown",
   "metadata": {
    "slideshow": {
     "slide_type": "slide"
    }
   },
   "source": [
    "## Finally, the `VarioDie` class\n",
    "Let's define the `VarioDie` class.\n",
    "\n",
    "We'll need the `random` module for rolling."
   ]
  },
  {
   "cell_type": "code",
   "execution_count": null,
   "metadata": {},
   "outputs": [],
   "source": [
    "import random # need this for rolling"
   ]
  },
  {
   "cell_type": "markdown",
   "metadata": {
    "slideshow": {
     "slide_type": "slide"
    }
   },
   "source": [
    "Now we'll define the class. It will have **two methods**:\n",
    "* the constructor `__init__()`, which sets the number of sides, and a default value of 1.\n",
    "* `roll()` to change the value to something random between 1 and the number of size.\n",
    "\n",
    "There will be **two variables**:\n",
    "* `.sides`, which is the number of sides on the die.\n",
    "* `.value`, the result of the last roll."
   ]
  },
  {
   "cell_type": "markdown",
   "metadata": {
    "slideshow": {
     "slide_type": "subslide"
    }
   },
   "source": [
    "Here is the definition."
   ]
  },
  {
   "cell_type": "code",
   "execution_count": null,
   "metadata": {
    "scrolled": true,
    "slideshow": {
     "slide_type": "-"
    }
   },
   "outputs": [],
   "source": [
    "class VarioDie:\n",
    "    def __init__(self, sides): # two underscores on each side!\n",
    "        self.sides = sides\n",
    "        self.value = 1\n",
    "        \n",
    "    def roll(self):\n",
    "        self.value = random.randint(1, self.sides)"
   ]
  },
  {
   "cell_type": "markdown",
   "metadata": {
    "slideshow": {
     "slide_type": "subslide"
    }
   },
   "source": [
    "## `self` again\n",
    "\n",
    "* Each method definition in a class has a **special first parameter**.\n",
    "* It is called `self` (by convention) and refers to the instance of the class that the method is acting upon."
   ]
  },
  {
   "cell_type": "markdown",
   "metadata": {
    "slideshow": {
     "slide_type": "-"
    }
   },
   "source": [
    "* That is, when the function is called as a method as \n",
    "```python\n",
    "   die.roll()\n",
    "```\n",
    "then the function `roll()` is called with  `die` as the value of `self`."
   ]
  },
  {
   "cell_type": "markdown",
   "metadata": {
    "slideshow": {
     "slide_type": "subslide"
    }
   },
   "source": [
    "## Let's roll ..."
   ]
  },
  {
   "cell_type": "code",
   "execution_count": null,
   "metadata": {
    "scrolled": true
   },
   "outputs": [],
   "source": [
    "die = VarioDie(6)\n",
    "die.value"
   ]
  },
  {
   "cell_type": "code",
   "execution_count": null,
   "metadata": {
    "scrolled": true
   },
   "outputs": [],
   "source": [
    "die.sides"
   ]
  },
  {
   "cell_type": "code",
   "execution_count": null,
   "metadata": {
    "scrolled": true
   },
   "outputs": [],
   "source": [
    "die.roll()\n",
    "die.value"
   ]
  },
  {
   "cell_type": "code",
   "execution_count": null,
   "metadata": {
    "scrolled": true
   },
   "outputs": [],
   "source": [
    "die"
   ]
  },
  {
   "cell_type": "code",
   "execution_count": null,
   "metadata": {
    "scrolled": true,
    "slideshow": {
     "slide_type": "subslide"
    }
   },
   "outputs": [],
   "source": [
    "die2 = VarioDie(13)\n",
    "die2.value"
   ]
  },
  {
   "cell_type": "code",
   "execution_count": null,
   "metadata": {
    "scrolled": true
   },
   "outputs": [],
   "source": [
    "die2.sides"
   ]
  },
  {
   "cell_type": "code",
   "execution_count": null,
   "metadata": {
    "scrolled": true
   },
   "outputs": [],
   "source": [
    "die2.roll()\n",
    "die2.value, die.value"
   ]
  },
  {
   "cell_type": "markdown",
   "metadata": {
    "slideshow": {
     "slide_type": "slide"
    }
   },
   "source": [
    "# More \"dunder\" functions\n",
    "\n",
    "We've already seen that there is a special function called `__init__()`. In fact, many more exist.\n",
    "\n",
    "We'll just look at one now, called `__str__`. \n"
   ]
  },
  {
   "cell_type": "markdown",
   "metadata": {
    "slideshow": {
     "slide_type": "subslide"
    }
   },
   "source": [
    "Let's recall the `MyTime` class."
   ]
  },
  {
   "cell_type": "code",
   "execution_count": null,
   "metadata": {},
   "outputs": [],
   "source": [
    "class MyTime:\n",
    "    \"\"\"Represents the time of day. Attributes: hour, minute, second\"\"\"\n",
    "    def __init__(self, hour=0, minute=0, second=0):\n",
    "        self.hour = hour\n",
    "        self.minute = minute\n",
    "        self.second = second\n",
    "    def print_time(self):\n",
    "        print(f'{self.hour:02d}:{self.minute:02d}:{self.second:02d}')"
   ]
  },
  {
   "cell_type": "code",
   "execution_count": null,
   "metadata": {},
   "outputs": [],
   "source": [
    "now = MyTime(9,35,8)"
   ]
  },
  {
   "cell_type": "code",
   "execution_count": null,
   "metadata": {},
   "outputs": [],
   "source": [
    "now.print_time()"
   ]
  },
  {
   "cell_type": "markdown",
   "metadata": {
    "slideshow": {
     "slide_type": "subslide"
    }
   },
   "source": [
    "Given than `now` represents a typical value, we would like to be able to display it using `print()`, as we would any other type.\n",
    "\n",
    "However, the output is not what we might expect;"
   ]
  },
  {
   "cell_type": "code",
   "execution_count": null,
   "metadata": {},
   "outputs": [],
   "source": [
    "print(now)"
   ]
  },
  {
   "cell_type": "markdown",
   "metadata": {
    "slideshow": {
     "slide_type": "-"
    }
   },
   "source": [
    "That is, by default we just get a memory address of the object. But we can change that..."
   ]
  },
  {
   "cell_type": "markdown",
   "metadata": {
    "slideshow": {
     "slide_type": "subslide"
    }
   },
   "source": [
    "## The `__str__` method\n",
    "\n",
    "If you define the `__str__` method for a class, and then call `print()` for an object, the return value from `__str__` is displayed. \n",
    "\n",
    "\n",
    "More precisely, it defines what is returned by the `str()` function, which is then used (automagically) by `print()`.\n",
    "\n",
    "Note that we can used f-strings."
   ]
  },
  {
   "cell_type": "code",
   "execution_count": null,
   "metadata": {},
   "outputs": [],
   "source": [
    "class MyTime:\n",
    "    \"\"\"Represents the time of day. Attributes: hour, minute, second\"\"\"\n",
    "    def __init__(self, hour=0, minute=0, second=0):\n",
    "        self.hour = hour\n",
    "        self.minute = minute\n",
    "        self.second = second\n",
    "    def print_time(self):\n",
    "        print(f'{self.hour:02d}:{self.minute:02d}:{self.second:02d}')\n",
    "    def __str__(self):\n",
    "        return f\"{self.hour:02d}:{self.minute:02d}:{self.second:02d}\""
   ]
  },
  {
   "cell_type": "code",
   "execution_count": null,
   "metadata": {
    "slideshow": {
     "slide_type": "subslide"
    }
   },
   "outputs": [],
   "source": [
    "new_time = MyTime(9,23,4)"
   ]
  },
  {
   "cell_type": "code",
   "execution_count": null,
   "metadata": {},
   "outputs": [],
   "source": [
    "print(new_time)"
   ]
  },
  {
   "cell_type": "markdown",
   "metadata": {
    "slideshow": {
     "slide_type": "fragment"
    }
   },
   "source": [
    "We can even use the return value from `__str__` in an f-string."
   ]
  },
  {
   "cell_type": "code",
   "execution_count": null,
   "metadata": {
    "slideshow": {
     "slide_type": "-"
    }
   },
   "outputs": [],
   "source": [
    "print(f\"The time is {new_time}\")"
   ]
  },
  {
   "cell_type": "markdown",
   "metadata": {
    "slideshow": {
     "slide_type": "subslide"
    }
   },
   "source": [
    "### Other dunder methods\n",
    "\n",
    "You can use the `dir()` function to see what other special methods might exist for a class."
   ]
  },
  {
   "cell_type": "code",
   "execution_count": null,
   "metadata": {},
   "outputs": [],
   "source": [
    "dir(new_time)"
   ]
  },
  {
   "cell_type": "markdown",
   "metadata": {
    "slideshow": {
     "slide_type": "subslide"
    }
   },
   "source": [
    "But, like `str()`, many won't work in a sensible way, unless we define them properly."
   ]
  },
  {
   "cell_type": "markdown",
   "metadata": {
    "slideshow": {
     "slide_type": "slide"
    }
   },
   "source": [
    "# Operator overloading\n",
    "\n",
    "We'll finish with an example of overloading some numerical operators.\n",
    "\n",
    "The key idea, is that when, for example, we run `x <= y`, Python really runs a function called `__lt__`. So, if we define how that behaves, we can use the operator."
   ]
  },
  {
   "cell_type": "markdown",
   "metadata": {},
   "source": [
    "We are going to be a little lazy in our implementation, and use that `<` is defined for lists.\n",
    "\n",
    "(See board for explanation)."
   ]
  },
  {
   "cell_type": "code",
   "execution_count": null,
   "metadata": {
    "slideshow": {
     "slide_type": "subslide"
    }
   },
   "outputs": [],
   "source": [
    "class MyTime:\n",
    "    \"\"\"Represents the time of day. Attributes: hour, minute, second\"\"\"\n",
    "    def __init__(self, hour=0, minute=0, second=0):\n",
    "        self.hour = hour\n",
    "        self.minute = minute\n",
    "        self.second = second\n",
    "    def __str__(self):\n",
    "        return f\"{self.hour:02d}:{self.minute:02d}:{self.second:02d}\"\n",
    "    def __lt__(self, b):\n",
    "        return [self.hour, self.minute, self.second]  < [b.hour, b.minute, b.second]"
   ]
  },
  {
   "cell_type": "markdown",
   "metadata": {},
   "source": [
    "When we call \n",
    "```python\n",
    "x < y\n",
    "```\n",
    "it is the same as calling \n",
    "```python\n",
    "x.__lt__(y)\n",
    "```\n"
   ]
  },
  {
   "cell_type": "code",
   "execution_count": null,
   "metadata": {
    "slideshow": {
     "slide_type": "subslide"
    }
   },
   "outputs": [],
   "source": [
    "time1 = MyTime(1,2,3)\n",
    "print(time1)"
   ]
  },
  {
   "cell_type": "code",
   "execution_count": null,
   "metadata": {},
   "outputs": [],
   "source": [
    "time1 = MyTime(1,2,34)\n",
    "print(time1)"
   ]
  },
  {
   "cell_type": "code",
   "execution_count": null,
   "metadata": {},
   "outputs": [],
   "source": [
    "time1 < time2"
   ]
  },
  {
   "cell_type": "markdown",
   "metadata": {
    "slideshow": {
     "slide_type": "subslide"
    }
   },
   "source": [
    "## Other operators"
   ]
  },
  {
   "cell_type": "markdown",
   "metadata": {},
   "source": [
    "### Binary operators\n",
    "\n",
    "A binary operator has **two** arguments (`self` and `other`.)\n",
    "\n",
    "|Method|Operation|\n",
    "|---|---|\n",
    "|`__add__`|`x + y`|\n",
    "|`__sub__`|`x - y`|\n",
    "|`__mul__`|`x * y`|\n",
    "|`__truediv__`|`x / y`|\n",
    "|`__floordiv__`|`x // y`|\n",
    "|`__pow__`|`x ** y`|\n",
    "|`__mod__`|`x % y`|"
   ]
  },
  {
   "cell_type": "markdown",
   "metadata": {
    "slideshow": {
     "slide_type": "subslide"
    }
   },
   "source": [
    "### Unary operators\n",
    "(That is, the method takes only one argument, `self`.)\n",
    "\n",
    "|Method|Operation|\n",
    "|---|---|\n",
    "|`__pos__`|`+x`|\n",
    "|`__neg__`|`-x`|"
   ]
  },
  {
   "cell_type": "markdown",
   "metadata": {},
   "source": [
    "### Comparison (binary)\n",
    "|Method|Operation|\n",
    "|---|---|\n",
    "|`__eq__`|`x == y`|\n",
    "|`__ne__`|`x != y`|\n",
    "|`__lt__`|`x < y`|\n",
    "|`__le__`|`x <= y`|\n",
    "|`__gt__`|`x > y`|\n",
    "|`__ge__`|`x >= y`|"
   ]
  },
  {
   "cell_type": "markdown",
   "metadata": {
    "slideshow": {
     "slide_type": "slide"
    }
   },
   "source": [
    "<div class=\"alert alert-block alert-info\">\n",
    "    Finished here Wednesday\n",
    "</div>"
   ]
  }
 ],
 "metadata": {
  "celltoolbar": "Slideshow",
  "jupytext": {
   "formats": "ipynb"
  },
  "kernelspec": {
   "display_name": "Python 3 (ipykernel)",
   "language": "python",
   "name": "python3"
  },
  "language_info": {
   "codemirror_mode": {
    "name": "ipython",
    "version": 3
   },
   "file_extension": ".py",
   "mimetype": "text/x-python",
   "name": "python",
   "nbconvert_exporter": "python",
   "pygments_lexer": "ipython3",
   "version": "3.9.13"
  },
  "rise": {
   "header": "CS102/CS103 Week 11",
   "slideNumber": "c/t",
   "theme": "serif",
   "transition": "fade"
  },
  "toc": {
   "base_numbering": 1,
   "nav_menu": {},
   "number_sections": true,
   "sideBar": false,
   "skip_h1_title": false,
   "title_cell": "Table of Contents",
   "title_sidebar": "Contents",
   "toc_cell": false,
   "toc_position": {
    "height": "873.328px",
    "left": "2534.99px",
    "top": "112px",
    "width": "165px"
   },
   "toc_section_display": true,
   "toc_window_display": true
  },
  "varInspector": {
   "cols": {
    "lenName": 16,
    "lenType": 16,
    "lenVar": 40
   },
   "kernels_config": {
    "python": {
     "delete_cmd_postfix": "",
     "delete_cmd_prefix": "del ",
     "library": "var_list.py",
     "varRefreshCmd": "print(var_dic_list())"
    },
    "r": {
     "delete_cmd_postfix": ") ",
     "delete_cmd_prefix": "rm(",
     "library": "var_list.r",
     "varRefreshCmd": "cat(var_dic_list()) "
    }
   },
   "types_to_exclude": [
    "module",
    "function",
    "builtin_function_or_method",
    "instance",
    "_Feature"
   ],
   "window_display": false
  }
 },
 "nbformat": 4,
 "nbformat_minor": 2
}
