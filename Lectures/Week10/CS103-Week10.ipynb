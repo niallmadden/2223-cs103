{
 "cells": [
  {
   "cell_type": "markdown",
   "metadata": {
    "slideshow": {
     "slide_type": "slide"
    }
   },
   "source": [
    "# CS102/CS103: Week 10 - Files again <span style='color:red'>(V0.2)</span>\n",
    "\n",
    "\n",
    "**Lecture notes for Week 10 of CS102/CS103, 30 November + 1 December, 2022.**\n",
    "\n",
    "Dr [Niall Madden](mailto:Niall.Madden@UniversityOfGalway.ie), School of Mathematical and Statistical Sciences, \n",
    "University of Galway.\n",
    "            \n",
    "You can find these notes on\n",
    "    \n",
    "* Blackboard (including the xlsx file).\n",
    "* as HTML at: [https://www.niallmadden.ie/2223-CS103](https://www.niallmadden.ie/2223-CS103)\n",
    "* Jupyter notebook on Binder [https://mybinder.org/v2/gh/niallmadden/2223-cs103/main](https://mybinder.org/v2/gh/niallmadden/2223-cs103/main) [![Binder](https://mybinder.org/badge_logo.svg)](https://mybinder.org/v2/gh/niallmadden/2223-cs103/main)\n",
    "\n",
    "* Both formats on Github: [https://github.com/niallmadden/2223-cs103](https://github.com/niallmadden/2223-cs103)\n",
    "\n",
    "\n",
    "***\n",
    "\n",
    "<div class=\"pink\"><font size=\"+1\"><em>This notebook was written by Niall Madden, and uses some material from <a href=\"https://greenteapress.com/thinkpython2/html\">Think Python</a>.</em></div>"
   ]
  },
  {
   "cell_type": "markdown",
   "metadata": {
    "slideshow": {
     "slide_type": "subslide"
    }
   },
   "source": [
    "## What we are doing this week:\n",
    "\n",
    "2. Recap on reading from files\n",
    "2. Recap on if-statements\n",
    "3. How to time code, and to speed it up.\n",
    "4. How to *write* to a file."
   ]
  },
  {
   "cell_type": "markdown",
   "metadata": {
    "slideshow": {
     "slide_type": "subslide"
    }
   },
   "source": [
    "## News"
   ]
  },
  {
   "cell_type": "markdown",
   "metadata": {
    "slideshow": {
     "slide_type": "-"
    }
   },
   "source": [
    "### Lab 7 this week\n",
    "\n",
    "Lab 7 uses the same system as Lab 6 for fetching and submitting your lab work. Have a look at the video for an explanation, as well as the solution to the first task.\n",
    "\n",
    "For it, you must use the Jupyter server at  [https://cloudjupyter.universityofgalway.ie/](https://cloudjupyter.universityofgalway.ie/). Check your email for a message from `maths-sto@universityofgalway.ie` with your username and password.\n",
    "\n",
    "**Deadline**: Friday, 02 December at 5pm."
   ]
  },
  {
   "cell_type": "markdown",
   "metadata": {
    "slideshow": {
     "slide_type": "subslide"
    }
   },
   "source": [
    "### Plans for the rest of the semester \n",
    "\n",
    "Next week is the final week of labs. There will be some changes some changes to the venues:\n",
    "* Tuesday (6th December) **MY127** instead of AMB-1024\n",
    "* Wednesday (7th December) **MY127** instead of BLE-2012 both days. \n",
    "You'll need to bring your own laptop to MY127. If that is a problem, contact Niall.\n",
    "\n",
    "The Monday and Wednesday labs in the Cairnes Building will go ahead as usual."
   ]
  },
  {
   "cell_type": "markdown",
   "metadata": {
    "slideshow": {
     "slide_type": "subslide"
    }
   },
   "source": [
    "### Assessment Summary\n",
    "\n",
    "The assessment for CS103, and this part of CS102 is as follows:\n",
    "1. Lab 1: 5%\n",
    "2. Lab 3: 20% (will be finished grading by Monday)\n",
    "3. Lab 5: 20% (will be graded by 12 December)\n",
    "4. Lab 6: 10% (to be graded Friday)\n",
    "5. Lab 7: 10% (to be graded next week)\n",
    "6. Class test in Week 10: 10% (more of this presently)\n",
    "7. Lab 8/Project: 25% (due in 13 Jan, 2023)"
   ]
  },
  {
   "cell_type": "markdown",
   "metadata": {
    "slideshow": {
     "slide_type": "subslide"
    }
   },
   "source": [
    "### Class test in Week 12\n",
    "\n",
    "There will be a test during Wednesday of Week 12. It should be possible to complete in under an hour. However...\n",
    "1. The test will be on fundamental topics in Python, up to, but not including dictionaries.\n",
    "2. It will be online, though you are welcome to come to the lecture and do it there, and ask questions.\n",
    "3. It is designed to take no more than 50 minutes, but everyone will have 2 hours to complete it. (Will confirm exact details next week: **do you have any other tests that day??**.\n",
    "4. You can do the test anywhere you want.\n",
    "5. It is \"Open Book\": you any resources you like (but not contract cheating!).\n",
    "5. But you _can_ collaborate with class-mates."
   ]
  },
  {
   "cell_type": "markdown",
   "metadata": {
    "slideshow": {
     "slide_type": "slide"
    }
   },
   "source": [
    "# Files (Part 2)\n",
    "\n",
    "In Week 8 we learned how to read data from files. \n",
    "Now we want to learn how to *write* data to a file. \n",
    "\n",
    "First we'll recap reading from a file, and then finish an example from last week."
   ]
  },
  {
   "cell_type": "markdown",
   "metadata": {
    "slideshow": {
     "slide_type": "subslide"
    }
   },
   "source": [
    "## Opening  a file for reading\n",
    "\n",
    "\n",
    "Basic idea: _to open a file called `words.txt`, and attach it to the identifier `words_file` use_\n",
    "```python\n",
    "words_file = open(\"words.txt\")\n",
    "```\n",
    "To avoid errors should the file not exist, we should use `try... except`."
   ]
  },
  {
   "cell_type": "code",
   "execution_count": null,
   "metadata": {},
   "outputs": [],
   "source": [
    "file_name = \"words.txt\"\n",
    "try:\n",
    "    words_file = open(file_name)\n",
    "    print(f\"Opened {file_name} successfully\")\n",
    "except:\n",
    "    print(f\"Sorry - could not open {file_name}.\")"
   ]
  },
  {
   "cell_type": "markdown",
   "metadata": {
    "slideshow": {
     "slide_type": "subslide"
    }
   },
   "source": [
    "## Reading from a file\n",
    "You'll recall that\n",
    "* `words.txt` is a file that comes with the textbook (Think Python)\n",
    "* it contains a list of 113,783 words in the English language\n",
    "* it has one word per line\n",
    "* the _invisible_ new-line `\\n` character follows each word.\n",
    "\n",
    "The first 11 lines are:\n",
    "```\n",
    "aa\n",
    "aah\n",
    "aahed\n",
    "aahing\n",
    "aahs\n",
    "aal\n",
    "aalii\n",
    "aaliis\n",
    "aals\n",
    "aardvark\n",
    "```"
   ]
  },
  {
   "cell_type": "markdown",
   "metadata": {
    "slideshow": {
     "slide_type": "subslide"
    }
   },
   "source": [
    "There are numerous ways to read from a file. In this example, we'll use a `for` loop to read all the words from the file, and store them in a list called `all_the_words`.\n"
   ]
  },
  {
   "cell_type": "code",
   "execution_count": null,
   "metadata": {
    "slideshow": {
     "slide_type": "-"
    }
   },
   "outputs": [],
   "source": [
    "all_the_words = []\n",
    "for line in words_file:\n",
    "    word = line.strip() # remove the end-of-line `\\n` \n",
    "    all_the_words += [word] # Add that word as an item to the list"
   ]
  },
  {
   "cell_type": "markdown",
   "metadata": {},
   "source": [
    "Here are 5 not so randomly chosen words:"
   ]
  },
  {
   "cell_type": "code",
   "execution_count": null,
   "metadata": {},
   "outputs": [],
   "source": [
    "index_list = [10, 18656, 48593, 78818]\n",
    "for i in index_list:\n",
    "    print(all_the_words[i], end=\" -- \")"
   ]
  },
  {
   "cell_type": "markdown",
   "metadata": {
    "slideshow": {
     "slide_type": "slide"
    }
   },
   "source": [
    "# `if`-statements again\n",
    "\n",
    "## Recap\n",
    "\n",
    "Some weeks ago we learned that the format for an `if`-statement in Python is:\n",
    "```python\n",
    "if <boolean_exp_1>:\n",
    "    <body_1>  # do this if boolean_exp_1 is True\n",
    "elif <boolean_exp_2>:\n",
    "    <body_2>  # do this if boolean_exp_1 is False. but boolean_exp_2 is True\n",
    "# ...  \n",
    "elif <condition_n>:\n",
    "    <body_n>\n",
    "else:      # do this none of the boolean_exp are True\n",
    "    <body_0>\n",
    "```"
   ]
  },
  {
   "cell_type": "markdown",
   "metadata": {
    "slideshow": {
     "slide_type": "subslide"
    }
   },
   "source": [
    "(_The following is an old programming joke_).\n",
    "Suppose we wanted to check if an number between 0 and 4 is even or odd. We could do it like this (badly):"
   ]
  },
  {
   "cell_type": "code",
   "execution_count": null,
   "metadata": {},
   "outputs": [],
   "source": [
    "n = int(input(\"Enter a number between 0 and 4: \"))\n",
    "if (n==0):\n",
    "    print(f\"{n} is even\")\n",
    "elif (n == 1):\n",
    "    print(f\"{n} is odd\")\n",
    "elif (n == 2):\n",
    "    print(f\"{n} is even\")\n",
    "elif (n == 3):\n",
    "    print(f\"{n} is odd\")\n",
    "elif (n == 4):\n",
    "    print(f\"{n} is even\")   \n",
    "else:\n",
    "    print(f\"Sorry: {n} is not in range\")"
   ]
  },
  {
   "cell_type": "markdown",
   "metadata": {
    "slideshow": {
     "slide_type": "slide"
    }
   },
   "source": [
    "## `if`-statements: short circuting\n",
    "\n",
    "We also learned how to use the operators: `and`, and `or`. \n",
    "\n",
    "A _Boolean Expression_ is one that evaluates as either `True` or `False` (which are built-in literals).\n",
    "\n",
    "For example, if `A` and `B` are Boolean, then\n",
    "* `A and B` is `True` only if **both** `A` and `B` are `True`. That is the same as saying:\n",
    "* `A and B` is `False` if **either** `A` or `B` are `False`. \n",
    "* `A or B` is `True` if **either** `A` or `B` are `True`.  That is the same as saying:\n",
    "* `A or B` is `False` only if **both** `A` and `B` are `False`. \n",
    "\n",
    "But in fact, something more subtle is true... Let's look at an example first."
   ]
  },
  {
   "cell_type": "markdown",
   "metadata": {
    "slideshow": {
     "slide_type": "subslide"
    }
   },
   "source": [
    "First we'll define some simple functions that evaluate as `True` and `False`."
   ]
  },
  {
   "cell_type": "code",
   "execution_count": null,
   "metadata": {
    "slideshow": {
     "slide_type": "-"
    }
   },
   "outputs": [],
   "source": [
    "def ThisIsTrue():\n",
    "    print(\" **--Function ThisIsTrue()  called--**\")\n",
    "    return True\n",
    "\n",
    "def ThisIsFalse():\n",
    "    print(\" **--Function ThisIsFalse() called--**\")\n",
    "    return False"
   ]
  },
  {
   "cell_type": "markdown",
   "metadata": {},
   "source": [
    "Let's check happens when we call this:"
   ]
  },
  {
   "cell_type": "code",
   "execution_count": null,
   "metadata": {},
   "outputs": [],
   "source": [
    "x = ThisIsTrue() and ThisIsFalse()"
   ]
  },
  {
   "cell_type": "markdown",
   "metadata": {
    "slideshow": {
     "slide_type": "-"
    }
   },
   "source": [
    "We see output from both functions, which is what we expected, right? "
   ]
  },
  {
   "cell_type": "markdown",
   "metadata": {
    "slideshow": {
     "slide_type": "subslide"
    }
   },
   "source": [
    "Let's try that again, but with an `or` statement:"
   ]
  },
  {
   "cell_type": "code",
   "execution_count": null,
   "metadata": {},
   "outputs": [],
   "source": [
    "y = (ThisIsFalse() or ThisIsTrue())"
   ]
  },
  {
   "cell_type": "markdown",
   "metadata": {},
   "source": [
    "Again, what we expected: we see output from both functions. \n",
    "But how about the next two examples?"
   ]
  },
  {
   "cell_type": "code",
   "execution_count": null,
   "metadata": {},
   "outputs": [],
   "source": [
    "x = ThisIsFalse() and ThisIsTrue()"
   ]
  },
  {
   "cell_type": "code",
   "execution_count": null,
   "metadata": {},
   "outputs": [],
   "source": [
    "y = ThisIsTrue() or ThisIsFalse()"
   ]
  },
  {
   "cell_type": "markdown",
   "metadata": {},
   "source": [
    "We only see one line of output from each! This is called *short circuiting*."
   ]
  },
  {
   "cell_type": "markdown",
   "metadata": {},
   "source": [
    "## Short circuiting. \n",
    "\n",
    "Since\n",
    "```\n",
    "True or ANYTHING\n",
    "```\n",
    "is True no matter what `ANYTHING` is, there is no need to check the its value, or even run that code.\n",
    "\n",
    "Similarly, \n",
    "```\n",
    "False and ANYTHING\n",
    "```\n",
    "is False irrespective of the value of `ANYTHING`. So Python does not even bother running the `ANYTHING` code."
   ]
  },
  {
   "cell_type": "markdown",
   "metadata": {
    "slideshow": {
     "slide_type": "slide"
    }
   },
   "source": [
    "# A 'file' example : Reverse Words\n",
    "\n",
    "THe example is \"left over\" from last week. We'll make a list of words which, if reversed, give another word (in the `words.txt` file)."
   ]
  },
  {
   "cell_type": "markdown",
   "metadata": {
    "slideshow": {
     "slide_type": "-"
    }
   },
   "source": [
    "## Word reverser \n",
    "\n",
    "It will be useful to have a function that returns a string reversed."
   ]
  },
  {
   "cell_type": "code",
   "execution_count": null,
   "metadata": {
    "slideshow": {
     "slide_type": "-"
    }
   },
   "outputs": [],
   "source": [
    "def reverse(word):\n",
    "    return word[::-1]"
   ]
  },
  {
   "cell_type": "code",
   "execution_count": null,
   "metadata": {},
   "outputs": [],
   "source": [
    "reverse(\"lamina\")"
   ]
  },
  {
   "cell_type": "code",
   "execution_count": null,
   "metadata": {},
   "outputs": [],
   "source": [
    "reverse(\"python\")"
   ]
  },
  {
   "cell_type": "markdown",
   "metadata": {
    "slideshow": {
     "slide_type": "slide"
    }
   },
   "source": [
    "## Timing code"
   ]
  },
  {
   "cell_type": "markdown",
   "metadata": {
    "slideshow": {
     "slide_type": "-"
    }
   },
   "source": [
    "There are actually quite a few \"reversable\" words, 885 in fact. So we'll try to find a small subset, for example, those with exactly 8 characters.\n",
    "\n",
    "Here is some code that could be used to find all these words. Notice the use of the `and` operator. \n",
    "\n",
    "**WARNING**: this code is VERY slow:\n",
    "```python \n",
    "reversable = list()\n",
    "for w in all_the_words:\n",
    "    if (reverse(w) in all_the_words) and (len(w) == 8):\n",
    "        reversable += [reverse(w)]\n",
    "```        \n"
   ]
  },
  {
   "cell_type": "markdown",
   "metadata": {
    "slideshow": {
     "slide_type": "subslide"
    }
   },
   "source": [
    "On my laptop this takes just over 2 minutes. To check that we'll use some \"_Jupyter Magic_\". There are various *magic commands* which change how Jupyter behaves. In cell type\n",
    "```python\n",
    "%%commmand\n",
    "``` \n",
    "and it applies to the whole cell. \n",
    "The only one we are interested in is `time`, which reports how long a bit of code would take to run."
   ]
  },
  {
   "cell_type": "code",
   "execution_count": null,
   "metadata": {},
   "outputs": [],
   "source": [
    "%%time\n",
    "## WARNING - this code could take several minutes to run!\n",
    "reversable = list()\n",
    "for w in all_the_words:\n",
    "    if (reverse(w) in all_the_words) and (len(w) == 8):\n",
    "        reversable += [reverse(w)]"
   ]
  },
  {
   "cell_type": "code",
   "execution_count": null,
   "metadata": {},
   "outputs": [],
   "source": [
    "print(f\"There are {len(reversable)} eight-letter reversable words\")"
   ]
  },
  {
   "cell_type": "markdown",
   "metadata": {
    "slideshow": {
     "slide_type": "subslide"
    }
   },
   "source": [
    "<div class=\"by\"><font size=\"12\"><b>Question</b>: Why is it so slow?</font></div>"
   ]
  },
  {
   "cell_type": "markdown",
   "metadata": {
    "slideshow": {
     "slide_type": "fragment"
    }
   },
   "source": [
    "<div class=\"yb\"><font size=\"12\"><b>Answer:</b>: There are over 100,000 words in the file. For each of those, we compare its reversal against every other word in the file. That is 10 billion calculations!</font></div>"
   ]
  },
  {
   "cell_type": "markdown",
   "metadata": {},
   "source": [
    "***"
   ]
  },
  {
   "cell_type": "markdown",
   "metadata": {
    "slideshow": {
     "slide_type": "fragment"
    }
   },
   "source": [
    "<div class=\"rc\"><font size=\"12\"><b>Question</b>: How can we speed this up?</font></div>"
   ]
  },
  {
   "cell_type": "markdown",
   "metadata": {
    "slideshow": {
     "slide_type": "fragment"
    }
   },
   "source": [
    "<div class=\"cr\"><font size=\"12\"><b>Answer</b>: Using short-circuiting!</font></div>"
   ]
  },
  {
   "cell_type": "markdown",
   "metadata": {},
   "source": [
    "In the `if` statement, we check two things:\n",
    "* `reverse(w) in all_the_words`: this involves 100,000 calculations\n",
    "* `len(w) == 8` this involves just 1.\n",
    "\n",
    "Since `len(w) == 8` frequently evaluates as `False` we can save a some time by putting this first."
   ]
  },
  {
   "cell_type": "markdown",
   "metadata": {
    "slideshow": {
     "slide_type": "subslide"
    }
   },
   "source": [
    "In this version we have just changed the order of the conditions in the `if` statement. It reduces the run-time by abut 75%."
   ]
  },
  {
   "cell_type": "code",
   "execution_count": null,
   "metadata": {
    "slideshow": {
     "slide_type": "-"
    }
   },
   "outputs": [],
   "source": [
    "%%time\n",
    "reversable = list()\n",
    "for w in all_the_words:\n",
    "    if (len(w) == 8) and (reverse(w) in all_the_words):\n",
    "        reversable += [reverse(w)]"
   ]
  },
  {
   "cell_type": "code",
   "execution_count": null,
   "metadata": {},
   "outputs": [],
   "source": [
    "print(f\"There are {len(reversable)} words, which are {reversable}\")\n"
   ]
  },
  {
   "cell_type": "markdown",
   "metadata": {
    "slideshow": {
     "slide_type": "subslide"
    }
   },
   "source": [
    "This last example is based on Exercise 11.5 from the text. But that one is more interesting: it compiles lists of \"cycled\" word matches.  Also, it uses a dictionary, rather than a list.\n"
   ]
  },
  {
   "cell_type": "markdown",
   "metadata": {
    "slideshow": {
     "slide_type": "slide"
    }
   },
   "source": [
    "# Writing Files\n",
    "\n",
    "(See Chapter 14 of Think Python for more details).\n",
    "\n",
    "## Persistence \n",
    "\n",
    "> Most of the programs we have seen so far are _transient_: they run for a short time and produce some output. When they end, their data disappears. If you run the program again, it starts with a clean slate.\n",
    "\n",
    "> Other programs are **persistent**: they run for a long time; they keep at least some of their data in permanent storage; if they shut down and restart, they pick up where they left off.\n",
    "\n",
    "One of the simplest ways for programs to maintain their data is by reading and **writing** text files. We've already done reading. Now we'll now do writing of files."
   ]
  },
  {
   "cell_type": "markdown",
   "metadata": {
    "slideshow": {
     "slide_type": "subslide"
    }
   },
   "source": [
    "## Open a file for writing\n",
    "\n",
    "SYNTAX:\n",
    "```python \n",
    "out_file = open(\"newfile.txt\", \"w\")\n",
    "```\n",
    "* If the file `newfile.txt` does not exist, it is created, and the program is allowed store data there.\n",
    "* If the file `newfile.txt` already exists, it's old contents are deleted. \n",
    "\n",
    "This assumes that the program is _allowed_ open the file. We'll come back to this later"
   ]
  },
  {
   "cell_type": "markdown",
   "metadata": {
    "slideshow": {
     "slide_type": "subslide"
    }
   },
   "source": [
    "## Writing to a file\n",
    "\n",
    "The simplest way to write to a file, is to use the `.write( < string > )` method which writes string to the file. \n",
    "```\n",
    "out_file.write( < string > )\n",
    "```\n",
    "writes `string` to the open file. It does not include the new-line. The function returns the number of bytes written.\n",
    "\n",
    "When we are done, we should `close()` the file."
   ]
  },
  {
   "cell_type": "markdown",
   "metadata": {
    "slideshow": {
     "slide_type": "subslide"
    }
   },
   "source": [
    "Here we'll \n",
    "* open a file\n",
    "* write two lines to it\n",
    "* close the file"
   ]
  },
  {
   "cell_type": "code",
   "execution_count": null,
   "metadata": {
    "slideshow": {
     "slide_type": "-"
    }
   },
   "outputs": [],
   "source": [
    "out_file = open(\"newfile.txt\", \"w\")"
   ]
  },
  {
   "cell_type": "code",
   "execution_count": null,
   "metadata": {},
   "outputs": [],
   "source": [
    "out_file.write(\"This is Line 1\\n\") # notice the use of `\\n`\n",
    "out_file.write(\"This is Line 2\\n\")"
   ]
  },
  {
   "cell_type": "code",
   "execution_count": null,
   "metadata": {},
   "outputs": [],
   "source": [
    "out_file.close() # close the file"
   ]
  },
  {
   "cell_type": "markdown",
   "metadata": {
    "slideshow": {
     "slide_type": "slide"
    }
   },
   "source": [
    "<div class=\"green\">Finish here Wednesday</div>"
   ]
  },
  {
   "cell_type": "code",
   "execution_count": null,
   "metadata": {},
   "outputs": [],
   "source": []
  }
 ],
 "metadata": {
  "celltoolbar": "Slideshow",
  "jupytext": {
   "formats": "ipynb"
  },
  "kernelspec": {
   "display_name": "Python 3 (ipykernel)",
   "language": "python",
   "name": "python3"
  },
  "language_info": {
   "codemirror_mode": {
    "name": "ipython",
    "version": 3
   },
   "file_extension": ".py",
   "mimetype": "text/x-python",
   "name": "python",
   "nbconvert_exporter": "python",
   "pygments_lexer": "ipython3",
   "version": "3.9.13"
  },
  "rise": {
   "header": "CS102/CS103 Week 10",
   "slideNumber": "c/t",
   "theme": "serif",
   "transition": "fade"
  },
  "toc": {
   "base_numbering": 1,
   "nav_menu": {},
   "number_sections": true,
   "sideBar": false,
   "skip_h1_title": false,
   "title_cell": "Table of Contents",
   "title_sidebar": "Contents",
   "toc_cell": false,
   "toc_position": {
    "height": "873.328px",
    "left": "2534.99px",
    "top": "112px",
    "width": "165px"
   },
   "toc_section_display": true,
   "toc_window_display": true
  },
  "varInspector": {
   "cols": {
    "lenName": 16,
    "lenType": 16,
    "lenVar": 40
   },
   "kernels_config": {
    "python": {
     "delete_cmd_postfix": "",
     "delete_cmd_prefix": "del ",
     "library": "var_list.py",
     "varRefreshCmd": "print(var_dic_list())"
    },
    "r": {
     "delete_cmd_postfix": ") ",
     "delete_cmd_prefix": "rm(",
     "library": "var_list.r",
     "varRefreshCmd": "cat(var_dic_list()) "
    }
   },
   "types_to_exclude": [
    "module",
    "function",
    "builtin_function_or_method",
    "instance",
    "_Feature"
   ],
   "window_display": false
  }
 },
 "nbformat": 4,
 "nbformat_minor": 2
}
