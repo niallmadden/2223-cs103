{
 "cells": [
  {
   "cell_type": "markdown",
   "metadata": {
    "slideshow": {
     "slide_type": "slide"
    }
   },
   "source": [
    "# CS102/CS103: Week 06 - Lists <span style='color:green'>(V1.2)</span>\n",
    "\n",
    "Lecture notes for Week 6 of CS102/CS103, 2+3 November, 2022. \n",
    "\n",
    "Dr [Niall Madden](mailto:Niall.Madden@UniversityOfGalway.ie), School of Mathematical and Statistical Sciences, \n",
    "University of Galway.\n",
    "\n",
    "You can find these notes on\n",
    "    \n",
    "* Blackboard\n",
    "* as HTML at: [https://www.niallmadden.ie/2223-CS103](https://www.niallmadden.ie/2223-CS103)\n",
    "* Jupyter notebook on Binder [https://mybinder.org/v2/gh/niallmadden/2223-cs103/main](https://mybinder.org/v2/gh/niallmadden/2223-cs103/main) [![Binder](https://mybinder.org/badge_logo.svg)](https://mybinder.org/v2/gh/niallmadden/2223-cs103/main)\n",
    "\n",
    "* Both formats on Github: https://github.com/niallmadden/2223-cs103\n",
    "\n",
    "\n",
    "***\n",
    "\n",
    "<font size=\"-2\"><em>This notebook was written by Niall Madden, and uses some material by Tobias Rossmann, and Chapter 10 (Lists) of  [Think Python](https://greenteapress.com/thinkpython2/html).</em></div>\n"
   ]
  },
  {
   "cell_type": "markdown",
   "metadata": {
    "slideshow": {
     "slide_type": "subslide"
    }
   },
   "source": [
    "## News: \n",
    "### No lab this week\n",
    "\n",
    "<div class=\"alert alert-block alert-info\">\n",
    "    <ul>\n",
    "        <li> <b>Did you submit your work for Lab 3?</b>\n",
    "    <li> Labs return next week (7-9 November).\n",
    "    </ul>\n",
    "    </div>\n",
    "    \n"
   ]
  },
  {
   "cell_type": "markdown",
   "metadata": {},
   "source": [
    "### Jupyter \n",
    "\n",
    "We are _still_ working on out \"Jupyter-in-the-cloud\" solution. For now, continue to use\n",
    "[https://jupyter.nuigalway.ie/](https://jupyter.nuigalway.ie/) or [https://jupyter.org/](https://jupyter.org/) or \n",
    "[https://colab.research.google.com/](https://colab.research.google.com/) or other solution."
   ]
  },
  {
   "cell_type": "markdown",
   "metadata": {
    "slideshow": {
     "slide_type": "slide"
    }
   },
   "source": [
    "## Collections\n",
    "\n",
    "Some of the Python **types** that we have encountered so far store a single value, include booleans, integers, floats, and functions\n",
    "\n",
    "Python includes several types which can be used to hold **collections** of values. Strings are one such example: each string is a sequence of characters.\n",
    "\n",
    "We also encountered **ranges**: `range(n)` \"represents\" the collection of integers from `0` to `n-1`."
   ]
  },
  {
   "cell_type": "markdown",
   "metadata": {
    "slideshow": {
     "slide_type": "-"
    }
   },
   "source": [
    "Often, we need data types that store collections of things. They might represent, for example, vectors or matrices.\n",
    "\n",
    "Or they could represent something that has multiple different components, such as a student record (name, ID number, address, programme. modules, ...)\n",
    "    "
   ]
  },
  {
   "cell_type": "markdown",
   "metadata": {
    "slideshow": {
     "slide_type": "subslide"
    }
   },
   "source": [
    "The most important general collection (or compound) types in Python are:\n",
    "* **Lists**: a list is a mutable (= changeable) ordered collection. Duplicates are allowed.\n",
    "* **Tuples**: a tuple is an immutable ordered collection. Duplicates are allowed.\n",
    "* **Sets**: a (Python) set is a mutable unordered collection without duplicates.\n",
    "* **Dictionaries**: a dictionary is an unordered but indexed mutable collection without duplicate indices.\n",
    "\n",
    "First we'll look at `list`s (Chapter 10 of the book), then `tuple`s (Chapter 11) and dictionaries (Chapter 12)."
   ]
  },
  {
   "cell_type": "markdown",
   "metadata": {
    "slideshow": {
     "slide_type": "slide"
    }
   },
   "source": [
    "## Lists\n",
    "\n",
    "* **A `list` is a sequence of values**. But, whereas a string is a sequence of characters, a list can be a sequence of  any type. \n",
    "* The values in a list are called _items_ or _elements_.\n",
    "* The list starts with `[`, ends with `]`, and items are separated by commas.\n",
    "\n",
    "In this section, we'll learn\n",
    "* What a list is\n",
    "* How to create one\n",
    "* Modifying items in a list\n",
    "* Indexing and slicing\n",
    "* How to traverse a list with a `for` loop\n",
    "* Some functions/methods for operating on a list\n"
   ]
  },
  {
   "cell_type": "markdown",
   "metadata": {
    "slideshow": {
     "slide_type": "slide"
    }
   },
   "source": [
    "## Making lists\n",
    "### Making a list with `[` and `]`\n",
    "\n",
    "The simplest way to create a list is using square backets, `[` and `]`, with a comma between elements."
   ]
  },
  {
   "cell_type": "code",
   "execution_count": null,
   "metadata": {},
   "outputs": [],
   "source": [
    "[0, 1, 2, 3, 4] # a list of integers"
   ]
  },
  {
   "cell_type": "code",
   "execution_count": null,
   "metadata": {},
   "outputs": [],
   "source": [
    "['zero', 'one', 'two', 'three'] # a list of strings"
   ]
  },
  {
   "cell_type": "markdown",
   "metadata": {},
   "source": [
    "Usually, we assign a variable name to the list."
   ]
  },
  {
   "cell_type": "code",
   "execution_count": null,
   "metadata": {},
   "outputs": [],
   "source": [
    "my_favourite_numbers = [0, 4, 1024]"
   ]
  },
  {
   "cell_type": "code",
   "execution_count": null,
   "metadata": {},
   "outputs": [],
   "source": [
    "print(f\"{my_favourite_numbers}\")"
   ]
  },
  {
   "cell_type": "markdown",
   "metadata": {
    "slideshow": {
     "slide_type": "subslide"
    }
   },
   "source": [
    "### A list with different types of items\n",
    "\n",
    "An item in a list can be just about anything. And items in a list can be of different types from each other.\n",
    "This list includes strings, an integer, a float, and a boolean."
   ]
  },
  {
   "cell_type": "code",
   "execution_count": null,
   "metadata": {},
   "outputs": [],
   "source": [
    "mixed_list = [\"Sean Student\", \"1BS1\", 22113344, 78.5, True]\n",
    "print(mixed_list)"
   ]
  },
  {
   "cell_type": "code",
   "execution_count": null,
   "metadata": {},
   "outputs": [],
   "source": [
    "type(mixed_list)"
   ]
  },
  {
   "cell_type": "code",
   "execution_count": null,
   "metadata": {},
   "outputs": [],
   "source": [
    "type(mixed_list[2])"
   ]
  },
  {
   "cell_type": "markdown",
   "metadata": {
    "slideshow": {
     "slide_type": "subslide"
    }
   },
   "source": [
    "You can even make a list with includes another list as an item. This is called _nesting_"
   ]
  },
  {
   "cell_type": "code",
   "execution_count": null,
   "metadata": {},
   "outputs": [],
   "source": [
    "name = \"Sean Student\" # string\n",
    "instance = \"1BS1\"     # string\n",
    "id_number = 22334455  # int\n",
    "grade = 87.5          # float\n",
    "is_fulltime = True    # boolean  \n",
    "modules = [\"CS102\", \"MP180\", \"MA180\", \"PH101\"]  # list\n",
    "\n",
    "\n",
    "new_list = [name, instance, id_number, grade, is_fulltime, modules ]\n",
    "print(new_list)\n"
   ]
  },
  {
   "cell_type": "code",
   "execution_count": null,
   "metadata": {},
   "outputs": [],
   "source": [
    "new_list[5][1] "
   ]
  },
  {
   "cell_type": "markdown",
   "metadata": {
    "slideshow": {
     "slide_type": "slide"
    }
   },
   "source": [
    "### `len()`\n",
    "Later we'll learn about the many operations that can be preformed on lists. Right now, we'll just look at the most important: counting the number of items in a list. \n",
    "\n",
    "As with a `string` (and lots of other things), we can use the `len()` function. "
   ]
  },
  {
   "cell_type": "code",
   "execution_count": null,
   "metadata": {
    "slideshow": {
     "slide_type": "-"
    }
   },
   "outputs": [],
   "source": [
    "modules_in_1BS1 = [\"BO101\", \"CH101\", \"CS102\", \"MA180\", \"MA161\", \"MP180\", \"PH101\"]\n",
    "number_of_modules = len(modules_in_1BS1)\n",
    "print(f\"You can choose from {number_of_modules} modules in 1BS1\")"
   ]
  },
  {
   "cell_type": "markdown",
   "metadata": {
    "slideshow": {
     "slide_type": "subslide"
    }
   },
   "source": [
    "### Making a list with `list()`\n",
    "\n",
    "One can also use the function `list()` to create a new list from an object, such as a `range` of numbers, or a `string`."
   ]
  },
  {
   "cell_type": "code",
   "execution_count": null,
   "metadata": {},
   "outputs": [],
   "source": [
    "list_of_numbers = list(range(10))\n",
    "print(list_of_numbers)"
   ]
  },
  {
   "cell_type": "code",
   "execution_count": null,
   "metadata": {},
   "outputs": [],
   "source": [
    "list(\"hello\")"
   ]
  },
  {
   "cell_type": "markdown",
   "metadata": {
    "slideshow": {
     "slide_type": "slide"
    }
   },
   "source": [
    "### The `In[]`list\n",
    "\n",
    "Without noticing it, we've used lists since the start of the semester: Jupyter stores each *in*put command as an item in a list called `In`. You can review all inputs so far with:"
   ]
  },
  {
   "cell_type": "code",
   "execution_count": null,
   "metadata": {},
   "outputs": [],
   "source": [
    "print(In)"
   ]
  },
  {
   "cell_type": "markdown",
   "metadata": {},
   "source": [
    "You can verify that `In` is a list using the `type()` function. "
   ]
  },
  {
   "cell_type": "code",
   "execution_count": null,
   "metadata": {},
   "outputs": [],
   "source": [
    "type(In)"
   ]
  },
  {
   "cell_type": "markdown",
   "metadata": {
    "slideshow": {
     "slide_type": "subslide"
    }
   },
   "source": [
    "It is tempting to think that all outputs are stored as a list too. And, at first glance, it might seem so."
   ]
  },
  {
   "cell_type": "code",
   "execution_count": null,
   "metadata": {},
   "outputs": [],
   "source": [
    "print(Out)"
   ]
  },
  {
   "cell_type": "markdown",
   "metadata": {},
   "source": [
    "But notice that this collection starts and ends with `{` and `}`. We learn that, in fact, this is a dictionary."
   ]
  },
  {
   "cell_type": "markdown",
   "metadata": {
    "slideshow": {
     "slide_type": "slide"
    }
   },
   "source": [
    "## Indexing and slicing lists\n",
    "**Indexing** and **slicing** too work just as for strings.\n",
    "\n",
    "### Indexing\n",
    "Indexing works as for strings, including that the first item can be indexed with '0', and the last with '-1'."
   ]
  },
  {
   "cell_type": "code",
   "execution_count": null,
   "metadata": {},
   "outputs": [],
   "source": [
    "modules_in_1BS1"
   ]
  },
  {
   "cell_type": "code",
   "execution_count": null,
   "metadata": {},
   "outputs": [],
   "source": [
    "modules_in_1BS1[0]  # first item"
   ]
  },
  {
   "cell_type": "code",
   "execution_count": null,
   "metadata": {},
   "outputs": [],
   "source": [
    "modules_in_1BS1[-1]  # last item"
   ]
  },
  {
   "cell_type": "markdown",
   "metadata": {
    "slideshow": {
     "slide_type": "slide"
    }
   },
   "source": [
    "### Slicing\n",
    "\n",
    "Recall that we could create a sub-string from a string using the \"`colon`\" notation.\n",
    "This words with lists top."
   ]
  },
  {
   "cell_type": "code",
   "execution_count": null,
   "metadata": {},
   "outputs": [],
   "source": [
    "print(modules_in_1BS1)"
   ]
  },
  {
   "cell_type": "code",
   "execution_count": null,
   "metadata": {
    "slideshow": {
     "slide_type": "-"
    }
   },
   "outputs": [],
   "source": [
    "print(modules_in_1BS1[0:3])  # first 3"
   ]
  },
  {
   "cell_type": "code",
   "execution_count": null,
   "metadata": {},
   "outputs": [],
   "source": [
    "print(modules_in_1BS1[3:5])  # middle 2"
   ]
  },
  {
   "cell_type": "code",
   "execution_count": null,
   "metadata": {},
   "outputs": [],
   "source": [
    "print(modules_in_1BS1[5:7])  # last 2"
   ]
  },
  {
   "cell_type": "code",
   "execution_count": null,
   "metadata": {},
   "outputs": [],
   "source": [
    "print(modules_in_1BS1[0:7:2])  # every second one"
   ]
  },
  {
   "cell_type": "markdown",
   "metadata": {
    "slideshow": {
     "slide_type": "subslide"
    }
   },
   "source": [
    "## Changing lists\n",
    "\n",
    "You will recall that it is not possible to change a single character in a string (though you can change the entire string).\n",
    "That its \n",
    "```python\n",
    "module=\"CS102\"\n",
    "module[1]=\"H\"\n",
    "\n",
    "\n",
    "```\n",
    "would give an error: `TypeError: 'str' object does not support item assignment`.\n",
    "\n",
    "We say strings are not _mutable_. However, **lists are mutable**."
   ]
  },
  {
   "cell_type": "markdown",
   "metadata": {
    "slideshow": {
     "slide_type": "slide"
    }
   },
   "source": [
    "### Changing existing items\n",
    "Suppose we decide to replace `CS102` with a new Data Science module, `DS101`."
   ]
  },
  {
   "cell_type": "code",
   "execution_count": null,
   "metadata": {
    "slideshow": {
     "slide_type": "-"
    }
   },
   "outputs": [],
   "source": [
    "modules_in_1BS1"
   ]
  },
  {
   "cell_type": "code",
   "execution_count": null,
   "metadata": {},
   "outputs": [],
   "source": [
    "modules_in_1BS1[2] = 'DS101'  # Replace CS102 with DS101\n",
    "modules_in_1BS1"
   ]
  },
  {
   "cell_type": "markdown",
   "metadata": {
    "slideshow": {
     "slide_type": "subslide"
    }
   },
   "source": [
    "We can also change more than one item at at time, using slicing. As ever, remember that `a:b`, includes the items indexed from `a` up to `b-1`. "
   ]
  },
  {
   "cell_type": "code",
   "execution_count": null,
   "metadata": {},
   "outputs": [],
   "source": [
    "print(modules_in_1BS1)\n",
    "modules_in_1BS1[0:2] = [\"2223-BO101\", \"2223-CH101\"]  # `[` and `]` are optional\n",
    "modules_in_1BS1"
   ]
  },
  {
   "cell_type": "markdown",
   "metadata": {
    "slideshow": {
     "slide_type": "subslide"
    }
   },
   "source": [
    "#### Adding new item \n",
    "We can extend a list, adding new items to the end. \n",
    "Let's reset our modules list."
   ]
  },
  {
   "cell_type": "code",
   "execution_count": null,
   "metadata": {},
   "outputs": [],
   "source": [
    "modules_in_1BS1 = [\"BO101\", \"CH101\", \"CS102\", \"MA180\", \"MA161\", \"MP180\", \"PH101\"]\n",
    "print(f\"You can choose from {len(modules_in_1BS1)} modules in 1BS1: {modules_in_1BS1}\")"
   ]
  },
  {
   "cell_type": "markdown",
   "metadata": {},
   "source": [
    "Now add a new item to the end"
   ]
  },
  {
   "cell_type": "code",
   "execution_count": null,
   "metadata": {},
   "outputs": [],
   "source": [
    "modules_in_1BS1 = modules_in_1BS1 + [\"DS101\"]\n",
    "print(f\"You can choose from {len(modules_in_1BS1)} modules in 1BS1: {modules_in_1BS1}\")"
   ]
  },
  {
   "cell_type": "markdown",
   "metadata": {
    "slideshow": {
     "slide_type": "subslide"
    }
   },
   "source": [
    "Assigning values to non-existent list positions like\n",
    "```python\n",
    "modules_in_1BS1[10] = [\"AB123\"]\n",
    "```\n",
    "results in an error: `IndexError: list assignment index out of range`\n",
    "\n",
    "Best do this  using the `append()` and `extend()` methods."
   ]
  },
  {
   "cell_type": "markdown",
   "metadata": {
    "slideshow": {
     "slide_type": "subslide"
    }
   },
   "source": [
    "#### `extend()` \n",
    "The `extend()` method adds a list to the end of another list. \n",
    "SYNTAX:\n",
    "```python\n",
    "list1.extend(list2)\n",
    "```\n",
    "adds the items in `list2` to the end of `list1`."
   ]
  },
  {
   "cell_type": "code",
   "execution_count": null,
   "metadata": {},
   "outputs": [],
   "source": [
    "suits = [\"hearts\"]        # a list with 1 item\n",
    "print(f\"First suits={suits}\")"
   ]
  },
  {
   "cell_type": "code",
   "execution_count": null,
   "metadata": {},
   "outputs": [],
   "source": [
    "suits.extend([\"diamonds\"])   # extended by a list with one item\n",
    "print(f\"Now suits={suits}\")"
   ]
  },
  {
   "cell_type": "code",
   "execution_count": null,
   "metadata": {},
   "outputs": [],
   "source": [
    "suits.extend([\"clubs\", \"spades\"])   # extended by another list with 2 items\n",
    "print(f\"And finally suits={suits}\")"
   ]
  },
  {
   "cell_type": "markdown",
   "metadata": {
    "slideshow": {
     "slide_type": "subslide"
    }
   },
   "source": [
    "#### `append()`\n",
    "The `append()` function is similar, but adds a single item. \n",
    "```python\n",
    "list1.append(\"new item\")\n",
    "```\n",
    "\n",
    "It can add a single item (not a list) to the end.\n",
    "_Warning_ if given a list as an argument, it creates a new item which is itself a list (_nesting_).\n"
   ]
  },
  {
   "cell_type": "code",
   "execution_count": null,
   "metadata": {
    "slideshow": {
     "slide_type": "-"
    }
   },
   "outputs": [],
   "source": [
    "suits = [\"hearts\"]        # a list with 1 item\n",
    "print(f\"First suits={suits}\")"
   ]
  },
  {
   "cell_type": "code",
   "execution_count": null,
   "metadata": {},
   "outputs": [],
   "source": [
    "suits.append(\"diamonds\")   # append new item to list\n",
    "print(f\"Now suits={suits}\")"
   ]
  },
  {
   "cell_type": "code",
   "execution_count": null,
   "metadata": {},
   "outputs": [],
   "source": [
    "suits.append([\"clubs\", \"spades\"])   # append another list with 2 items\n",
    "print(f\"And finally suits={suits}\")"
   ]
  },
  {
   "cell_type": "markdown",
   "metadata": {
    "slideshow": {
     "slide_type": "slide"
    }
   },
   "source": [
    "<div class=\"alert alert-block alert-info\">Finished here Wednesday</div>"
   ]
  },
  {
   "cell_type": "markdown",
   "metadata": {
    "slideshow": {
     "slide_type": "slide"
    }
   },
   "source": [
    "#### Inserting items\n",
    "Suppose we want to add a new item to a location in a list, other than at the end. The method to so this is called `insert()`. \n",
    "Syntax:\n",
    "```python\n",
    "list1.insert(<position>, <item>)\n",
    "```\n",
    "* `list1` is an existing list\n",
    "* `<position>` is the location where the new item will be added. Anything to the right of that position is shuffled right. If `<position>` is greater than `len(list1)` it will be added to the end.\n",
    "* `<item>` the new item to add.\n"
   ]
  },
  {
   "cell_type": "code",
   "execution_count": null,
   "metadata": {
    "slideshow": {
     "slide_type": "subslide"
    }
   },
   "outputs": [],
   "source": [
    "suits = [\"hearts\", \"spades\"]   # a list with 2 items\n",
    "print(f\"First suits={suits}\") \n",
    "suits.insert(1, \"diamonds\")   # extended by a list with one item\n",
    "print(f\"Now suits={suits}\")"
   ]
  },
  {
   "cell_type": "markdown",
   "metadata": {
    "slideshow": {
     "slide_type": "subslide"
    }
   },
   "source": [
    "#### Deleting items from a list\n",
    "There are two ways to remove an item from a list\n",
    "* remove a particular item (by its value) using the **method**  `remove()`\n",
    "* remove an item at a location using the **operator**  `del`"
   ]
  },
  {
   "cell_type": "code",
   "execution_count": null,
   "metadata": {},
   "outputs": [],
   "source": [
    "suits = [\"hearts\", \"diamonds\", \"clubs\", \"spades\"]   # a list with 4 items\n",
    "print(f\"First suits={suits}\")"
   ]
  },
  {
   "cell_type": "code",
   "execution_count": null,
   "metadata": {},
   "outputs": [],
   "source": [
    "suits.remove(\"diamonds\")   # remove `diamonds`\n",
    "print(f\"Now suits={suits}\") # removal based on entry"
   ]
  },
  {
   "cell_type": "markdown",
   "metadata": {
    "slideshow": {
     "slide_type": "subslide"
    }
   },
   "source": [
    "The `del` operator removes a item by its index"
   ]
  },
  {
   "cell_type": "code",
   "execution_count": null,
   "metadata": {
    "slideshow": {
     "slide_type": "-"
    }
   },
   "outputs": [],
   "source": [
    "items = ['one', 'two', 'three']\n",
    "del items[1] # removal based on position\n",
    "items"
   ]
  },
  {
   "cell_type": "markdown",
   "metadata": {
    "slideshow": {
     "slide_type": "slide"
    }
   },
   "source": [
    "## Arcane Interlude 5: Pretty as a picture\n",
    "\n",
    "It's time again when we cover something which, if there was an exam for this material, it would not come up.\n",
    "\n",
    "Today: **image manipulation**. For this we'll use the \"Pillow\" library (`PIL` = Python Imaging Library)."
   ]
  },
  {
   "cell_type": "code",
   "execution_count": null,
   "metadata": {
    "slideshow": {
     "slide_type": "subslide"
    }
   },
   "outputs": [],
   "source": [
    "from PIL import Image, ImageFilter\n",
    "my_image = Image.open(\"EyeAndMoon.png\")\n",
    "# my_image = Image.open(\"Quad-Chaosheng-Zhang.png\")\n",
    "display(my_image)  # in some settings, use eye.show()"
   ]
  },
  {
   "cell_type": "code",
   "execution_count": null,
   "metadata": {
    "slideshow": {
     "slide_type": "subslide"
    }
   },
   "outputs": [],
   "source": [
    "print(f\"Image is of type {my_image.format}, and size {my_image.size}\")"
   ]
  },
  {
   "cell_type": "code",
   "execution_count": null,
   "metadata": {
    "slideshow": {
     "slide_type": "subslide"
    }
   },
   "outputs": [],
   "source": [
    "my_image_bw = my_image.convert(\"L\")\n",
    "display(my_image_bw) "
   ]
  },
  {
   "cell_type": "code",
   "execution_count": null,
   "metadata": {
    "slideshow": {
     "slide_type": "subslide"
    }
   },
   "outputs": [],
   "source": [
    "my_image_bw.filter(ImageFilter.FIND_EDGES)"
   ]
  },
  {
   "cell_type": "markdown",
   "metadata": {
    "slideshow": {
     "slide_type": "subslide"
    }
   },
   "source": [
    "The PIL package has many more capabilities. For more, see [https://pillow.readthedocs.io/en/stable/](https://pillow.readthedocs.io/en/stable/)"
   ]
  },
  {
   "cell_type": "markdown",
   "metadata": {
    "slideshow": {
     "slide_type": "slide"
    }
   },
   "source": [
    "## Taversing a list with a `for` loop\n",
    "\n",
    "**`for` loops** work well with lists.\n",
    "One form of the `for` statement is\n",
    "```python\n",
    "for <var> in <list>:\n",
    "    <body>\n",
    "```\n",
    "It consists of a **heading** and a **body** The heading, between the keyword `for` and the colon (`:`) introduces a **loop variable** `<var>` and refers to a list `<list>`.\n",
    "The `<body>` is a consistently indented sequence of statements."
   ]
  },
  {
   "cell_type": "code",
   "execution_count": null,
   "metadata": {},
   "outputs": [],
   "source": []
  },
  {
   "cell_type": "markdown",
   "metadata": {
    "slideshow": {
     "slide_type": "subslide"
    }
   },
   "source": [
    "When executed, a `for` statement results in the execution of its `<body>` of statements once for each item of the list (in order). The particular item for each iteration is stored as the value of the variable `<var>`."
   ]
  },
  {
   "cell_type": "code",
   "execution_count": null,
   "metadata": {},
   "outputs": [],
   "source": [
    "numbers = [10, 3, -1, -11, 12]\n",
    "numbers"
   ]
  },
  {
   "cell_type": "code",
   "execution_count": null,
   "metadata": {},
   "outputs": [],
   "source": [
    "for item in numbers:\n",
    "    print(item, end=\"--**--\")"
   ]
  },
  {
   "cell_type": "markdown",
   "metadata": {
    "slideshow": {
     "slide_type": "subslide"
    }
   },
   "source": [
    "Often we want to change items in the list. In the following example, we'll take a list of 1BS1 modules, and add a prefix of `2223-` to each code. For that we'll need to keep count of the items"
   ]
  },
  {
   "cell_type": "code",
   "execution_count": null,
   "metadata": {},
   "outputs": [],
   "source": [
    "print(modules_in_1BS1)"
   ]
  },
  {
   "cell_type": "code",
   "execution_count": null,
   "metadata": {},
   "outputs": [],
   "source": [
    "i = 0\n",
    "for item in modules_in_1BS1:\n",
    "    modules_in_1BS1[i]='2223-'+item\n",
    "    i=i+1\n",
    "    \n",
    "print(modules_in_1BS1)    "
   ]
  },
  {
   "cell_type": "markdown",
   "metadata": {
    "slideshow": {
     "slide_type": "slide"
    }
   },
   "source": [
    "### Map-Filter-Reduce\n",
    "\n",
    "Most times we iterate through a list, we wish to preform some operation on the list.  These operations are usually classed as one of **Map**. **Filter** or **Reduce**\n",
    "\n",
    "* *MAP*: make a new list based on applying a formula/function to all values in a given list\n",
    "* *FILTER*: make a sublist of those items that satisfy some criterion\n",
    "* *REDUCE*: combine items in the list in some way\n",
    "\n",
    "There are actually built-in functions to do these tasks, but we'll see first how to do them manually."
   ]
  },
  {
   "cell_type": "markdown",
   "metadata": {
    "slideshow": {
     "slide_type": "slide"
    }
   },
   "source": [
    "### A map function\n",
    "We will write a function at adds one to every item in a list of numbers.\n",
    "\n",
    "**IMPORTANT**: Unlike the methods we saw earlier, this function creates a new list: it does not change the old one."
   ]
  },
  {
   "cell_type": "code",
   "execution_count": null,
   "metadata": {},
   "outputs": [],
   "source": [
    "def add_one(my_list):\n",
    "    new_list = []  # an empty list\n",
    "    for item in my_list:\n",
    "        new_list.append(item+1)\n",
    "    return new_list        "
   ]
  },
  {
   "cell_type": "code",
   "execution_count": null,
   "metadata": {
    "slideshow": {
     "slide_type": "subslide"
    }
   },
   "outputs": [],
   "source": [
    "numbers = [10, 3, -1, -11, 12]\n",
    "print(f\"<original> numbers = {numbers}\")\n",
    "numbers = add_one(numbers)\n",
    "print(f\"   <add 1> numbers = {numbers}\")\n",
    "      "
   ]
  },
  {
   "cell_type": "markdown",
   "metadata": {
    "slideshow": {
     "slide_type": "subslide"
    }
   },
   "source": [
    "In this example, we'll modify strings in a list with a function that converts all strings in a list to upper-case. "
   ]
  },
  {
   "cell_type": "code",
   "execution_count": null,
   "metadata": {},
   "outputs": [],
   "source": [
    "def upper_all(my_list):\n",
    "    new_list = []  # empty list\n",
    "    for item in my_list:\n",
    "        new_list.append(item.upper())\n",
    "    return new_list   "
   ]
  },
  {
   "cell_type": "code",
   "execution_count": null,
   "metadata": {},
   "outputs": [],
   "source": [
    "suits = [\"HeartS\", \"DiAmOnDs\", \"clubs\", \"SPADES\"]   # mixed case\n",
    "print(f\"Original list     = {suits}\")\n",
    "print(f\"upper_all returns = {upper_all(suits)}\")   "
   ]
  },
  {
   "cell_type": "markdown",
   "metadata": {
    "slideshow": {
     "slide_type": "subslide"
    }
   },
   "source": [
    "**WARNING**: In these last two examples, and the next ones, I am being lazy. I should check that the data types for each item is correct, so that, for example, `item.upper()` makes sense."
   ]
  },
  {
   "cell_type": "markdown",
   "metadata": {
    "slideshow": {
     "slide_type": "slide"
    }
   },
   "source": [
    "### A filter function\n",
    "\n",
    "We will write a function takes a list of numbers as arguments, and returns a list of the even ones.\n"
   ]
  },
  {
   "cell_type": "code",
   "execution_count": null,
   "metadata": {},
   "outputs": [],
   "source": [
    "def even_list(my_list):\n",
    "    new_list = []  # an empty list\n",
    "    for item in my_list:\n",
    "        if (item%2 == 0):  # is remainder on dividing by 2 is zero\n",
    "            new_list.append(item)\n",
    "    return new_list   "
   ]
  },
  {
   "cell_type": "code",
   "execution_count": null,
   "metadata": {},
   "outputs": [],
   "source": [
    "numbers = [10, 3, -1, 0 , -11, 0, 12]\n",
    "print(f\"<old> numbers = {numbers}\")"
   ]
  },
  {
   "cell_type": "code",
   "execution_count": null,
   "metadata": {},
   "outputs": [],
   "source": [
    "even_numbers = even_list(numbers)\n",
    "print(f\" even numbers = {even_numbers}\")"
   ]
  },
  {
   "cell_type": "markdown",
   "metadata": {
    "slideshow": {
     "slide_type": "subslide"
    }
   },
   "source": [
    "In this filter example we'll make a sub-list of strings. The School of Mathematics and Statistical Sciences teaches modules in 1BS1 that start with the 'MA', 'MP' and 'CS' codes. \n",
    "\n",
    "\n",
    "For that we will use the `in` operator. Just like for strings, \n",
    " ```python\n",
    "i in list_of_vals\n",
    "```\n",
    "evaluates as `True` if `i` is contained in the last, or `False` otherwise."
   ]
  },
  {
   "cell_type": "code",
   "execution_count": null,
   "metadata": {},
   "outputs": [],
   "source": [
    "print(numbers)\n",
    "x = -12\n",
    "x in numbers"
   ]
  },
  {
   "cell_type": "code",
   "execution_count": null,
   "metadata": {
    "slideshow": {
     "slide_type": "subslide"
    }
   },
   "outputs": [],
   "source": [
    "def maths_modules(my_list):\n",
    "    mss_list = []  # an empty list\n",
    "    for item in my_list:\n",
    "        if (item[0:2] in [\"MA\", \"CS\", \"MP\"]):\n",
    "            mss_list.append(item)\n",
    "    return mss_list "
   ]
  },
  {
   "cell_type": "code",
   "execution_count": null,
   "metadata": {},
   "outputs": [],
   "source": [
    "modules_in_1BS1 = [\"BO101\", \"CH101\", \"CS102\", \"MA180\", \"MA161\", \"MP180\", \"PH101\"]\n",
    "mss_modules = maths_modules(modules_in_1BS1)\n",
    "print(f\"The modules in 1BS1 are {modules_in_1BS1}\")\n",
    "print(f\"The ones taught by the School of Maths are {mss_modules}\")"
   ]
  },
  {
   "cell_type": "markdown",
   "metadata": {
    "slideshow": {
     "slide_type": "slide"
    }
   },
   "source": [
    "### A reduce function\n",
    "\n",
    "A \"reduce\" operation combines elements in a list, usually to some single value. This usually makes use of an \n",
    "**accumulator** variable (very common in programing).\n",
    "\n",
    "Example: suppose we want to compute the sum $$\\sum_{i=1}^{10}i =1+2+\\dotsb+9+10$$ of the numbers\n",
    "from $1$ to $10$."
   ]
  },
  {
   "cell_type": "markdown",
   "metadata": {
    "slideshow": {
     "slide_type": "subslide"
    }
   },
   "source": [
    "One way to implement this in Python is to\n",
    "* **initialise** an **accumulator variable** `total` with a value of $0$ and\n",
    "* loop over the numbers 1, ..., 10 and add each to the accumulator."
   ]
  },
  {
   "cell_type": "code",
   "execution_count": null,
   "metadata": {},
   "outputs": [],
   "source": [
    "total = 0\n",
    "for i in [1,2,3,4,5,6,7,8,9,10]:\n",
    "    total = total + i    \n",
    "print(total)"
   ]
  },
  {
   "cell_type": "markdown",
   "metadata": {
    "slideshow": {
     "slide_type": "subslide"
    }
   },
   "source": [
    "A more common example is to compute the _mean_ (usual \"average\") of number in a list."
   ]
  },
  {
   "cell_type": "code",
   "execution_count": null,
   "metadata": {},
   "outputs": [],
   "source": [
    "def mean(number_list):\n",
    "    total = 0\n",
    "    for i in number_list:\n",
    "        total+=i\n",
    "    return( total/len(number_list))"
   ]
  },
  {
   "cell_type": "code",
   "execution_count": null,
   "metadata": {},
   "outputs": [],
   "source": [
    "nums = [1,3,-2,6,-5,9]\n",
    "print(f\"The mean of {nums} is {mean(nums)}\")"
   ]
  },
  {
   "cell_type": "markdown",
   "metadata": {
    "slideshow": {
     "slide_type": "slide"
    }
   },
   "source": [
    "<div class=\"alert alert-block alert-info\">Finished here Friday</div>"
   ]
  },
  {
   "cell_type": "markdown",
   "metadata": {
    "slideshow": {
     "slide_type": "slide"
    }
   },
   "source": [
    "## Ranges\n",
    "\n",
    "Last week we met the built-in function `range()` that produces special objects corresponding to integer intervals.\n",
    "\n",
    "\n",
    "* `range(stop)` returns the range 0, 1, ..., stop-1.\n",
    "* `range(start, stop)` returns the range `start`, `start+1`, `start+2`, ... `stop-1)`\n",
    "* `range(start, stop, step])` returns the range `start`, `start+step`, `start+2*step`, `start*3*step`, up to the largest possible value less than `stop`"
   ]
  },
  {
   "cell_type": "code",
   "execution_count": null,
   "metadata": {},
   "outputs": [],
   "source": [
    "list(range(10,101,10))"
   ]
  },
  {
   "cell_type": "code",
   "execution_count": null,
   "metadata": {},
   "outputs": [],
   "source": []
  },
  {
   "cell_type": "markdown",
   "metadata": {
    "slideshow": {
     "slide_type": "subslide"
    }
   },
   "source": [
    "Ranges can be useful when operating on elements of a list, and where we want to change individual elements."
   ]
  },
  {
   "cell_type": "code",
   "execution_count": null,
   "metadata": {
    "slideshow": {
     "slide_type": "-"
    }
   },
   "outputs": [],
   "source": [
    "nums = [1,2,-3,-4,5,6,-7,8]\n",
    "print(f\"nums={nums}\")\n",
    "for i in range(len(nums)):\n",
    "    if (nums[i]<0):\n",
    "        nums[i] *=-1\n",
    "\n",
    "print(f\"nums={nums}\")"
   ]
  },
  {
   "cell_type": "markdown",
   "metadata": {
    "slideshow": {
     "slide_type": "slide"
    }
   },
   "source": [
    "## List operations\n",
    "\n",
    "### List addition\n",
    "\n",
    "Earlier we saw that we can add one list to the end of another as follows:\n",
    "```python \n",
    "list1 += list2\n",
    "```"
   ]
  },
  {
   "cell_type": "code",
   "execution_count": null,
   "metadata": {},
   "outputs": [],
   "source": [
    "list1 = ['i', 'ii', 'iii', 'iv', 'v']\n",
    "list2 = [1, 2, 3, 4, 5]\n",
    "list1 += list2\n",
    "print(list1)"
   ]
  },
  {
   "cell_type": "markdown",
   "metadata": {},
   "source": [
    "It is instructive to note that `list1 += list2` is just short-hand for \n",
    "`list1 = list1 + list2`. Therefore, we see that\n",
    "* The plus operator can be used to add two list (i.e., add one to the end of another)\n",
    "* The result is a new list, but we can give it a name using the assignment operator."
   ]
  },
  {
   "cell_type": "markdown",
   "metadata": {
    "slideshow": {
     "slide_type": "subslide"
    }
   },
   "source": [
    "### List multiplication\n",
    "\n",
    "We can use the `*` operator to repeat a list."
   ]
  },
  {
   "cell_type": "code",
   "execution_count": 1,
   "metadata": {},
   "outputs": [
    {
     "name": "stdout",
     "output_type": "stream",
     "text": [
      "['i', 'ii', 'iii', 'iv', 'i', 'ii', 'iii', 'iv', 'i', 'ii', 'iii', 'iv']\n"
     ]
    }
   ],
   "source": [
    "list1 =  ['i', 'ii', 'iii', 'iv']\n",
    "list2 = list1*3\n",
    "print(list2)"
   ]
  },
  {
   "cell_type": "code",
   "execution_count": 2,
   "metadata": {},
   "outputs": [],
   "source": [
    "del list2[3]"
   ]
  },
  {
   "cell_type": "code",
   "execution_count": 6,
   "metadata": {},
   "outputs": [
    {
     "name": "stdout",
     "output_type": "stream",
     "text": [
      "['i', 'iii', 'i', 'iii', 'iv', 'i', 'ii', 'iii', 'iv']\n"
     ]
    }
   ],
   "source": [
    "list2.pop(3); print(list2)"
   ]
  },
  {
   "cell_type": "markdown",
   "metadata": {
    "slideshow": {
     "slide_type": "slide"
    }
   },
   "source": [
    "## What else?\n",
    "\n",
    "There are many other methods and functions that can be applied to lists. See, e.g., [https://docs.python.org/3/tutorial/datastructures.html](https://docs.python.org/3/tutorial/datastructures.html)\n",
    "\n",
    "Here are a few of the most important:\n"
   ]
  },
  {
   "cell_type": "markdown",
   "metadata": {
    "slideshow": {
     "slide_type": "subslide"
    }
   },
   "source": [
    "### sorted() and sort()\n",
    "\n",
    "To sort items in a list, you can use one of these methods:\n",
    "* `sorted()` builtin function returns a new list what has the items of the old list, but sorted.\n",
    "* `sort()` method modifies the list so that its items are sorted."
   ]
  },
  {
   "cell_type": "code",
   "execution_count": null,
   "metadata": {},
   "outputs": [],
   "source": [
    "python_terms = ['len', 'def', 'while', 'for', 'if', 'elif', 'else', 'list', 'dict']\n",
    "print(python_terms)\n",
    "print(sorted(python_terms))  # original list not changed"
   ]
  },
  {
   "cell_type": "code",
   "execution_count": null,
   "metadata": {
    "slideshow": {
     "slide_type": "slide"
    }
   },
   "outputs": [],
   "source": [
    "print(python_terms)\n",
    "python_terms.sort() # changes the list\n",
    "print(python_terms)"
   ]
  },
  {
   "cell_type": "markdown",
   "metadata": {
    "slideshow": {
     "slide_type": "slide"
    }
   },
   "source": [
    "### From list to strings to lists, and back again,  with `join()` and `split()`\n",
    "\n",
    "#### join()\n",
    "The `join()` method applies to strings, taking a list as an argument, and returns a string. The string is used a a delimiter between members of the list."
   ]
  },
  {
   "cell_type": "code",
   "execution_count": null,
   "metadata": {},
   "outputs": [],
   "source": [
    "new_str = \"--\".join(python_terms)\n",
    "print(new_str)"
   ]
  },
  {
   "cell_type": "markdown",
   "metadata": {
    "slideshow": {
     "slide_type": "subslide"
    }
   },
   "source": [
    "#### split()\n",
    "To convert from a string with multiple words into a list, use `split()`.\n",
    "\n",
    "Again, it is applied to a string, which will be split into items, takes a delimiter as argument, and returns a list."
   ]
  },
  {
   "cell_type": "code",
   "execution_count": null,
   "metadata": {},
   "outputs": [],
   "source": [
    "new_str.split('--')"
   ]
  },
  {
   "cell_type": "code",
   "execution_count": null,
   "metadata": {},
   "outputs": [],
   "source": []
  },
  {
   "cell_type": "code",
   "execution_count": 21,
   "metadata": {},
   "outputs": [],
   "source": [
    "import matplotlib.pyplot as plt\n",
    "import math\n",
    "import numpy as np"
   ]
  },
  {
   "cell_type": "code",
   "execution_count": 19,
   "metadata": {},
   "outputs": [],
   "source": [
    "x1 = list(range(0,10))"
   ]
  },
  {
   "cell_type": "code",
   "execution_count": 30,
   "metadata": {},
   "outputs": [],
   "source": [
    "def fn(x_vals):\n",
    "    y_vals = []\n",
    "    for x in x_vals:\n",
    "        y_vals+=[x**2.0]\n",
    "    return y_vals"
   ]
  },
  {
   "cell_type": "code",
   "execution_count": 31,
   "metadata": {},
   "outputs": [
    {
     "data": {
      "text/plain": [
       "[<matplotlib.lines.Line2D at 0x7fdcbe09ea30>]"
      ]
     },
     "execution_count": 31,
     "metadata": {},
     "output_type": "execute_result"
    },
    {
     "data": {
      "image/png": "[encoded data removed]",
      "text/plain": [
       "<Figure size 640x480 with 1 Axes>"
      ]
     },
     "metadata": {},
     "output_type": "display_data"
    }
   ],
   "source": [
    "plt.plot(x1, fn(x1))"
   ]
  },
  {
   "cell_type": "code",
   "execution_count": 29,
   "metadata": {},
   "outputs": [
    {
     "ename": "TypeError",
     "evalue": "'float' object is not iterable",
     "output_type": "error",
     "traceback": [
      "\u001b[0;31m---------------------------------------------------------------------------\u001b[0m",
      "\u001b[0;31mTypeError\u001b[0m                                 Traceback (most recent call last)",
      "Input \u001b[0;32mIn [29]\u001b[0m, in \u001b[0;36m<cell line: 1>\u001b[0;34m()\u001b[0m\n\u001b[0;32m----> 1\u001b[0m \u001b[38;5;28mprint\u001b[39m(\u001b[43mfn\u001b[49m\u001b[43m(\u001b[49m\u001b[43mx1\u001b[49m\u001b[43m)\u001b[49m)\n",
      "Input \u001b[0;32mIn [25]\u001b[0m, in \u001b[0;36mfn\u001b[0;34m(x_vals)\u001b[0m\n\u001b[1;32m      2\u001b[0m y_vals \u001b[38;5;241m=\u001b[39m []\n\u001b[1;32m      3\u001b[0m \u001b[38;5;28;01mfor\u001b[39;00m x \u001b[38;5;129;01min\u001b[39;00m x_vals:\n\u001b[0;32m----> 4\u001b[0m     y_vals\u001b[38;5;241m+\u001b[39m\u001b[38;5;241m=\u001b[39mx\u001b[38;5;241m*\u001b[39m\u001b[38;5;241m*\u001b[39m\u001b[38;5;241m2.0\u001b[39m\n\u001b[1;32m      5\u001b[0m \u001b[38;5;28;01mreturn\u001b[39;00m y_vals\n",
      "\u001b[0;31mTypeError\u001b[0m: 'float' object is not iterable"
     ]
    }
   ],
   "source": [
    "print(fn(x1))"
   ]
  },
  {
   "cell_type": "code",
   "execution_count": 23,
   "metadata": {},
   "outputs": [
    {
     "ename": "TypeError",
     "evalue": "must be real number, not list",
     "output_type": "error",
     "traceback": [
      "\u001b[0;31m---------------------------------------------------------------------------\u001b[0m",
      "\u001b[0;31mTypeError\u001b[0m                                 Traceback (most recent call last)",
      "Input \u001b[0;32mIn [23]\u001b[0m, in \u001b[0;36m<cell line: 1>\u001b[0;34m()\u001b[0m\n\u001b[0;32m----> 1\u001b[0m \u001b[43mmath\u001b[49m\u001b[38;5;241;43m.\u001b[39;49m\u001b[43mpow\u001b[49m\u001b[43m(\u001b[49m\u001b[43mx1\u001b[49m\u001b[43m,\u001b[49m\u001b[38;5;241;43m2\u001b[39;49m\u001b[43m)\u001b[49m\n",
      "\u001b[0;31mTypeError\u001b[0m: must be real number, not list"
     ]
    }
   ],
   "source": [
    "math.pow(x1,2)"
   ]
  },
  {
   "cell_type": "code",
   "execution_count": null,
   "metadata": {},
   "outputs": [],
   "source": []
  }
 ],
 "metadata": {
  "celltoolbar": "Slideshow",
  "kernelspec": {
   "display_name": "Python 3 (ipykernel)",
   "language": "python",
   "name": "python3"
  },
  "language_info": {
   "codemirror_mode": {
    "name": "ipython",
    "version": 3
   },
   "file_extension": ".py",
   "mimetype": "text/x-python",
   "name": "python",
   "nbconvert_exporter": "python",
   "pygments_lexer": "ipython3",
   "version": "3.9.13"
  },
  "rise": {
   "footer": "<h2>CS102/CS103</h2>",
   "header": "<h2>Week 07</h2>",
   "theme": "robot-lung"
  },
  "toc": {
   "base_numbering": 1,
   "nav_menu": {},
   "number_sections": true,
   "sideBar": false,
   "skip_h1_title": true,
   "title_cell": "Table of Contents",
   "title_sidebar": "Contents",
   "toc_cell": false,
   "toc_position": {
    "height": "420.938px",
    "left": "1861.98px",
    "top": "0px",
    "width": "169.102px"
   },
   "toc_section_display": true,
   "toc_window_display": false
  },
  "varInspector": {
   "cols": {
    "lenName": 16,
    "lenType": 16,
    "lenVar": 40
   },
   "kernels_config": {
    "python": {
     "delete_cmd_postfix": "",
     "delete_cmd_prefix": "del ",
     "library": "var_list.py",
     "varRefreshCmd": "print(var_dic_list())"
    },
    "r": {
     "delete_cmd_postfix": ") ",
     "delete_cmd_prefix": "rm(",
     "library": "var_list.r",
     "varRefreshCmd": "cat(var_dic_list()) "
    }
   },
   "types_to_exclude": [
    "module",
    "function",
    "builtin_function_or_method",
    "instance",
    "_Feature"
   ],
   "window_display": false
  }
 },
 "nbformat": 4,
 "nbformat_minor": 2
}
