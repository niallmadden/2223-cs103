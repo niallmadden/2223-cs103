{
 "cells": [
  {
   "cell_type": "markdown",
   "metadata": {
    "heading_collapsed": true,
    "slideshow": {
     "slide_type": "slide"
    }
   },
   "source": [
    "# CS102/CS103: Week 07 - Lists (II), Exceptions, and Tuples <span style='color:green'>(V1.0)</span>\n",
    "\n",
    "\n",
    "**Lecture notes for Week 7 of CS102/CS103, 9+10 November, 2022.**\n",
    "\n",
    "Dr [Niall Madden](mailto:Niall.Madden@UniversityOfGalway.ie), School of Mathematical and Statistical Sciences, \n",
    "University of Galway.\n",
    "            \n",
    "You can find these notes on\n",
    "    \n",
    "* Blackboard\n",
    "* as HTML at: [https://www.niallmadden.ie/2223-CS103](https://www.niallmadden.ie/2223-CS103)\n",
    "* Jupyter notebook on Binder [https://mybinder.org/v2/gh/niallmadden/2223-cs103/main](https://mybinder.org/v2/gh/niallmadden/2223-cs103/main) [![Binder](https://mybinder.org/badge_logo.svg)](https://mybinder.org/v2/gh/niallmadden/2223-cs103/main)\n",
    "\n",
    "* Both formats on Github: https://github.com/niallmadden/2223-cs103\n",
    "\n",
    "\n",
    "***\n",
    "\n",
    "<div class=\"pink\"><font size=\"+1\"><em>This notebook was written by Niall Madden, and uses some material by Tobias Rossmann, and Chapter 10 (Lists) and Chapter 11 (Tuples) of  [Think Python](https://greenteapress.com/thinkpython2/html).</em></div>"
   ]
  },
  {
   "cell_type": "markdown",
   "metadata": {
    "hidden": true,
    "slideshow": {
     "slide_type": "subslide"
    }
   },
   "source": [
    "## News: \n",
    "### Lab 4 this week\n",
    "\n",
    "   In Lab 4 you are asked to write a notebook with\n",
    "    <ul>\n",
    "        <li> some information (What/Who/When/Why) in a markdown cell</li>\n",
    "        <li> a function that returns a list of all prime numbers in the range 2 to <em>n</em> for some input <tt>n</tt>. This involves two <tt>for</tt> loops, and an <tt>if</tt> statement.</li>\n",
    "        <li> a function that uses a <tt>while</tt> loop to do some input checking. </li>\n",
    "     </ul>\n",
    "\n",
    "\n",
    "### Lab 5 next week.\n",
    "We'll develop the notebook next week, as part of an assignment.\n",
    "\n",
    "### May switch to just one class on Wednesday\n",
    "Watch this space (and Blackboard)... "
   ]
  },
  {
   "cell_type": "markdown",
   "metadata": {
    "hidden": true,
    "slideshow": {
     "slide_type": "subslide"
    }
   },
   "source": [
    "### Jupyter \n",
    "\n",
    "Yes, we are _still_ working on our \"Jupyter-in-the-cloud\" solution. For now, continue to use\n",
    "[https://jupyter.nuigalway.ie/](https://jupyter.nuigalway.ie/) or [https://jupyter.org/](https://jupyter.org/) or \n",
    "[https://colab.research.google.com/](https://colab.research.google.com/) or other solution."
   ]
  },
  {
   "cell_type": "markdown",
   "metadata": {
    "slideshow": {
     "slide_type": "slide"
    }
   },
   "source": [
    "# Lists (again)\n",
    "## Review\n",
    "Last week we learned about `list`s, which is a way of collecting multiple values together under one variable name.\n",
    "\n",
    "Here are the basics:\n",
    "* **A `list` is a sequence of values**. The values in a list are called _items_ or _elements_.\n",
    "* The list starts with `[`, ends with `]`, and items are separated by commas. It can be assigned a (variable) name.\n",
    "* `len(<list>)` returns the number of elements in the list\n",
    "* `<list>[k]` returns item k form the list, starting from zero.\n"
   ]
  },
  {
   "cell_type": "markdown",
   "metadata": {},
   "source": [
    "Example:"
   ]
  },
  {
   "cell_type": "code",
   "execution_count": 1,
   "metadata": {
    "slideshow": {
     "slide_type": "subslide"
    }
   },
   "outputs": [
    {
     "name": "stdout",
     "output_type": "stream",
     "text": [
      "There are 7 item(s) in the list\n"
     ]
    }
   ],
   "source": [
    "days_of_week = ['Mon', 'Tue', 'Wed', 'Thu', 'Fri', 'Sat', 'Sun']\n",
    "print(f\"There are {len(days_of_week)} item(s) in the list\")"
   ]
  },
  {
   "cell_type": "code",
   "execution_count": 2,
   "metadata": {},
   "outputs": [
    {
     "name": "stdout",
     "output_type": "stream",
     "text": [
      "Item 3 is Thu\n"
     ]
    }
   ],
   "source": [
    "k=3\n",
    "print(f\"Item {k} is {days_of_week[k]}\")"
   ]
  },
  {
   "cell_type": "markdown",
   "metadata": {
    "slideshow": {
     "slide_type": "subslide"
    }
   },
   "source": [
    "* Slicing is the same as with strings, using the colon notation:"
   ]
  },
  {
   "cell_type": "code",
   "execution_count": 3,
   "metadata": {},
   "outputs": [
    {
     "name": "stdout",
     "output_type": "stream",
     "text": [
      "['Mon', 'Tue', 'Wed', 'Thu', 'Fri', 'Sat', 'Sun']\n",
      "Days 3, 4, and 5, are ['Thu', 'Fri', 'Sat']\n"
     ]
    }
   ],
   "source": [
    "print(days_of_week)\n",
    "print(f\"Days 3, 4, and 5, are {days_of_week[3:6]}\")"
   ]
  },
  {
   "cell_type": "code",
   "execution_count": 4,
   "metadata": {},
   "outputs": [
    {
     "name": "stdout",
     "output_type": "stream",
     "text": [
      "First 3 days are ['Mon', 'Tue', 'Wed']\n"
     ]
    }
   ],
   "source": [
    "print(f\"First 3 days are {days_of_week[:3]}\")"
   ]
  },
  {
   "cell_type": "code",
   "execution_count": 5,
   "metadata": {},
   "outputs": [
    {
     "name": "stdout",
     "output_type": "stream",
     "text": [
      "Last 3 days are ['Fri', 'Sat', 'Sun']\n"
     ]
    }
   ],
   "source": [
    "print(f\"Last 3 days are {days_of_week[-3:]}\")"
   ]
  },
  {
   "cell_type": "code",
   "execution_count": 6,
   "metadata": {},
   "outputs": [
    {
     "name": "stdout",
     "output_type": "stream",
     "text": [
      "Every second day are ['Mon', 'Wed', 'Fri', 'Sun']\n"
     ]
    }
   ],
   "source": [
    "print(f\"Every second day are {days_of_week[ : :2]}\")"
   ]
  },
  {
   "cell_type": "markdown",
   "metadata": {
    "slideshow": {
     "slide_type": "subslide"
    }
   },
   "source": [
    "* Use `+` operator to add an item, or use the `.extend()`, `.append()`, or `.insert()` methods"
   ]
  },
  {
   "cell_type": "code",
   "execution_count": 7,
   "metadata": {},
   "outputs": [
    {
     "name": "stdout",
     "output_type": "stream",
     "text": [
      "['Mon', 'Tue', 'Wed', 'Thu', 'Fri', 'Sat', 'Sun', 'Hol']\n"
     ]
    }
   ],
   "source": [
    "days_of_week = days_of_week + [\"Hol\"]\n",
    "print(days_of_week)"
   ]
  },
  {
   "cell_type": "code",
   "execution_count": 8,
   "metadata": {},
   "outputs": [
    {
     "name": "stdout",
     "output_type": "stream",
     "text": [
      "['Mon', 'Tue', 'Wed', 'Thu', 'Fri', 'Sat', 'Sun', 'Hol', 'Sleep']\n"
     ]
    }
   ],
   "source": [
    "days_of_week += ['Sleep']\n",
    "print(days_of_week)  "
   ]
  },
  {
   "cell_type": "markdown",
   "metadata": {
    "slideshow": {
     "slide_type": "subslide"
    }
   },
   "source": [
    "* Traverse a list with a `for` loop."
   ]
  },
  {
   "cell_type": "code",
   "execution_count": 9,
   "metadata": {},
   "outputs": [
    {
     "name": "stdout",
     "output_type": "stream",
     "text": [
      "\"What a week, eh?\" \"Captain, its only Monday\"\n",
      "\"What a week, eh?\" \"Captain, its only Tueday\"\n",
      "\"What a week, eh?\" \"Captain, its only Wedday\"\n",
      "\"What a week, eh?\" \"Captain, its only Thuday\"\n",
      "\"What a week, eh?\" \"Captain, its only Friday\"\n",
      "\"What a week, eh?\" \"Captain, its only Satday\"\n",
      "\"What a week, eh?\" \"Captain, its only Sunday\"\n",
      "\"What a week, eh?\" \"Captain, its only Holday\"\n",
      "\"What a week, eh?\" \"Captain, its only Sleepday\"\n"
     ]
    }
   ],
   "source": [
    "for d in days_of_week:\n",
    "    print(f'\"What a week, eh?\" \"Captain, its only {d}day\"')"
   ]
  },
  {
   "cell_type": "markdown",
   "metadata": {
    "slideshow": {
     "slide_type": "subslide"
    }
   },
   "source": [
    "* Use `.remove()` method  or `del` operator to remove an item (Note: could use `.pop()` instead of `del`."
   ]
  },
  {
   "cell_type": "code",
   "execution_count": 10,
   "metadata": {},
   "outputs": [
    {
     "name": "stdout",
     "output_type": "stream",
     "text": [
      "Days of the week: ['Mon', 'Tue', 'Wed', 'Thu', 'Fri', 'Sat', 'Sun', 'Hol', 'Sleep']\n"
     ]
    }
   ],
   "source": [
    "print(f\"Days of the week: {days_of_week}\")"
   ]
  },
  {
   "cell_type": "code",
   "execution_count": 11,
   "metadata": {},
   "outputs": [
    {
     "data": {
      "text/plain": [
       "'Wed'"
      ]
     },
     "execution_count": 11,
     "metadata": {},
     "output_type": "execute_result"
    }
   ],
   "source": [
    "days_of_week.pop(2) # remove Wednesday"
   ]
  },
  {
   "cell_type": "code",
   "execution_count": 12,
   "metadata": {},
   "outputs": [
    {
     "name": "stdout",
     "output_type": "stream",
     "text": [
      "Days of the week: ['Mon', 'Tue', 'Thu', 'Fri', 'Sat', 'Sun', 'Hol', 'Sleep']\n"
     ]
    }
   ],
   "source": [
    "print(f\"Days of the week: {days_of_week}\")"
   ]
  },
  {
   "cell_type": "markdown",
   "metadata": {
    "slideshow": {
     "slide_type": "subslide"
    }
   },
   "source": [
    "* The `.pop()` method also returns the item removed\n",
    "* If no argument is given, it removes the last time."
   ]
  },
  {
   "cell_type": "code",
   "execution_count": 13,
   "metadata": {},
   "outputs": [
    {
     "name": "stdout",
     "output_type": "stream",
     "text": [
      "We removed Sleep, so now we are left with ['Mon', 'Tue', 'Thu', 'Fri', 'Sat', 'Sun', 'Hol']\n"
     ]
    }
   ],
   "source": [
    "removed_day=  days_of_week.pop()\n",
    "print(f\"We removed {removed_day}, so now we are left with {days_of_week}\")"
   ]
  },
  {
   "cell_type": "markdown",
   "metadata": {
    "slideshow": {
     "slide_type": "slide"
    }
   },
   "source": [
    "## Ranges\n",
    "\n",
    "In Week 5, and Lab 4, we met the built-in function `range()` that produces special objects corresponding to integer intervals.\n",
    "\n",
    "\n",
    "* `range(stop)` returns the range 0, 1, ..., stop-1.\n",
    "* `range(start, stop)` returns the range `start`, `start+1`, `start+2`, ... `stop-1)`\n",
    "* `range(start, stop, step])` returns the range `start`, `start+step`, `start+2*step`, `start*3*step`, up to the largest possible value less than `stop`"
   ]
  },
  {
   "cell_type": "code",
   "execution_count": 14,
   "metadata": {},
   "outputs": [
    {
     "data": {
      "text/plain": [
       "[-10, -7, -4, -1, 2, 5, 8]"
      ]
     },
     "execution_count": 14,
     "metadata": {},
     "output_type": "execute_result"
    }
   ],
   "source": [
    "list(range(-10,10,3))"
   ]
  },
  {
   "cell_type": "markdown",
   "metadata": {
    "slideshow": {
     "slide_type": "subslide"
    }
   },
   "source": [
    "Ranges can be useful when operating on elements of a list, and where we want to change individual elements."
   ]
  },
  {
   "cell_type": "code",
   "execution_count": 15,
   "metadata": {},
   "outputs": [
    {
     "name": "stdout",
     "output_type": "stream",
     "text": [
      "Before: nums=[1, 2, -3, -4, 5, 6, -7, 8]\n"
     ]
    }
   ],
   "source": [
    "nums = [1,2,-3,-4,5,6,-7,8]\n",
    "print(f\"Before: nums={nums}\")"
   ]
  },
  {
   "cell_type": "code",
   "execution_count": 16,
   "metadata": {},
   "outputs": [
    {
     "name": "stdout",
     "output_type": "stream",
     "text": [
      "After: nums=[1, 2, 3, 4, 5, 6, 7, 8]\n"
     ]
    }
   ],
   "source": [
    "for i in range(len(nums)):\n",
    "    if (nums[i]<0):\n",
    "        nums[i] = -nums[i]\n",
    "\n",
    "print(f\"After: nums={nums}\")"
   ]
  },
  {
   "cell_type": "markdown",
   "metadata": {
    "slideshow": {
     "slide_type": "slide"
    }
   },
   "source": [
    "## List operations\n",
    "\n",
    "### List addition\n",
    "\n",
    "Earlier we saw that we can add one list to the end of another as follows:\n",
    "```python \n",
    "new_list = list1+list2\n",
    "```"
   ]
  },
  {
   "cell_type": "markdown",
   "metadata": {},
   "source": [
    "It is instructive to note that `list1 += list2` is just short-hand for \n",
    "`list1 = list1 + list2`. Therefore, we see that\n",
    "* The plus operator can be used to add two list (i.e., add one to the end of another)\n",
    "* The result is a new list, but we can give it a name using the assignment operator."
   ]
  },
  {
   "cell_type": "code",
   "execution_count": 17,
   "metadata": {
    "slideshow": {
     "slide_type": "subslide"
    }
   },
   "outputs": [],
   "source": [
    "l1 = [1,2,3,4]\n",
    "l2 = [5,6,10,11]\n",
    "l3 = l1+l2"
   ]
  },
  {
   "cell_type": "code",
   "execution_count": 18,
   "metadata": {},
   "outputs": [
    {
     "name": "stdout",
     "output_type": "stream",
     "text": [
      "l1=[1, 2, 3, 4], l2=[5, 6, 10, 11], l1+l2=[1, 2, 3, 4, 5, 6, 10, 11]\n"
     ]
    }
   ],
   "source": [
    "print(f\"l1={l1}, l2={l2}, l1+l2={l3}\")"
   ]
  },
  {
   "cell_type": "code",
   "execution_count": 19,
   "metadata": {},
   "outputs": [
    {
     "name": "stdout",
     "output_type": "stream",
     "text": [
      "[1, 2, 3, 4]\n"
     ]
    }
   ],
   "source": [
    "print(l1)"
   ]
  },
  {
   "cell_type": "markdown",
   "metadata": {
    "slideshow": {
     "slide_type": "subslide"
    }
   },
   "source": [
    "*Example*: To show how to use\n",
    "* list addition, \n",
    "* another example of using a `for` loop to iterate over a list,\n",
    "* writing functions\n",
    "let's consider the problem of removing duplicates from a list.\n",
    "\n",
    "More precisely, given `list1`, produce `list2` that contains every element in `list1` but without any duplicates.\n"
   ]
  },
  {
   "cell_type": "code",
   "execution_count": 20,
   "metadata": {},
   "outputs": [],
   "source": [
    "def unique_list(list1):\n",
    "    list2 = [] # start with an empty list\n",
    "    for item in list1:\n",
    "        if (item not in list2):\n",
    "            list2 += [item]   # Important: [item] is a list (with just one thing )\n",
    "    return list2"
   ]
  },
  {
   "cell_type": "code",
   "execution_count": 21,
   "metadata": {
    "slideshow": {
     "slide_type": "subslide"
    }
   },
   "outputs": [
    {
     "name": "stdout",
     "output_type": "stream",
     "text": [
      "Original list: ['M', 'u', 'c', 'k', 'a', 'n', 'a', 'g', 'h', 'e', 'd', 'e', 'r', 'd', 'a', 'u', 'h', 'a', 'u', 'l', 'i', 'a']\n"
     ]
    }
   ],
   "source": [
    "#list1 = list(\"University of Galway\")\n",
    "list1 = list('Muckanaghederdauhaulia')\n",
    "print(f\"Original list: {list1}\")"
   ]
  },
  {
   "cell_type": "code",
   "execution_count": 22,
   "metadata": {},
   "outputs": [
    {
     "name": "stdout",
     "output_type": "stream",
     "text": [
      "Unique list: ['M', 'u', 'c', 'k', 'a', 'n', 'g', 'h', 'e', 'd', 'r', 'l', 'i']\n"
     ]
    }
   ],
   "source": [
    "print(f\"Unique list: {unique_list(list1)}\")"
   ]
  },
  {
   "cell_type": "markdown",
   "metadata": {
    "slideshow": {
     "slide_type": "subslide"
    }
   },
   "source": [
    "### List multiplication\n",
    "\n",
    "We can use the `*` operator to repeat a list."
   ]
  },
  {
   "cell_type": "code",
   "execution_count": 23,
   "metadata": {},
   "outputs": [
    {
     "name": "stdout",
     "output_type": "stream",
     "text": [
      "list2= ['i', 'ii', 'iii', 'iv', 'i', 'ii', 'iii', 'iv', 'i', 'ii', 'iii', 'iv']\n"
     ]
    }
   ],
   "source": [
    "list1 =  ['i', 'ii', 'iii', 'iv']\n",
    "#list1 = [0]\n",
    "list2 = list1*3\n",
    "print(\"list2=\", list2)"
   ]
  },
  {
   "cell_type": "markdown",
   "metadata": {
    "slideshow": {
     "slide_type": "slide"
    }
   },
   "source": [
    "## What else?\n",
    "\n",
    "There are many other methods and functions that can be applied to lists. See, e.g., [https://docs.python.org/3/tutorial/datastructures.html](https://docs.python.org/3/tutorial/datastructures.html)\n",
    "\n",
    "Here are a few of the most important."
   ]
  },
  {
   "cell_type": "markdown",
   "metadata": {
    "slideshow": {
     "slide_type": "subslide"
    }
   },
   "source": [
    "### `count()`\n",
    "Use to count the number of occurrences of an element in a list."
   ]
  },
  {
   "cell_type": "code",
   "execution_count": 24,
   "metadata": {},
   "outputs": [
    {
     "name": "stdout",
     "output_type": "stream",
     "text": [
      "list2 = ['i', 'ii', 'iii', 'iv', 'i', 'ii', 'iii', 'iv', 'i', 'ii', 'iii', 'iv']\n"
     ]
    }
   ],
   "source": [
    "print(f\"list2 = {list2}\")"
   ]
  },
  {
   "cell_type": "code",
   "execution_count": 25,
   "metadata": {},
   "outputs": [
    {
     "name": "stdout",
     "output_type": "stream",
     "text": [
      " `ii` occurs 3 times in list2\n"
     ]
    }
   ],
   "source": [
    "count_ii = list2.count('ii')\n",
    "print(f\" `ii` occurs {count_ii} times in list2\")"
   ]
  },
  {
   "cell_type": "code",
   "execution_count": 26,
   "metadata": {},
   "outputs": [
    {
     "name": "stdout",
     "output_type": "stream",
     "text": [
      " `vi` occurs 0 times in list2\n"
     ]
    }
   ],
   "source": [
    "count_vi = list2.count('vi')\n",
    "print(f\" `vi` occurs {count_vi} times in list2\")"
   ]
  },
  {
   "cell_type": "markdown",
   "metadata": {
    "slideshow": {
     "slide_type": "slide"
    }
   },
   "source": [
    "### `index()`\n",
    "\n",
    "The `index()` function is used to find the location of an element in a list."
   ]
  },
  {
   "cell_type": "code",
   "execution_count": 27,
   "metadata": {},
   "outputs": [
    {
     "name": "stdout",
     "output_type": "stream",
     "text": [
      "list2 = ['i', 'ii', 'iii', 'iv', 'i', 'ii', 'iii', 'iv', 'i', 'ii', 'iii', 'iv']\n"
     ]
    }
   ],
   "source": [
    "print(f\"list2 = {list2}\")"
   ]
  },
  {
   "cell_type": "code",
   "execution_count": 28,
   "metadata": {},
   "outputs": [
    {
     "name": "stdout",
     "output_type": "stream",
     "text": [
      " `iv` is item 3 in list2\n"
     ]
    }
   ],
   "source": [
    "index_iv = list2.index('iv')\n",
    "print(f\" `iv` is item {index_iv} in list2\")"
   ]
  },
  {
   "cell_type": "markdown",
   "metadata": {},
   "source": [
    "If we try to find the index of an element that is not in the list, and error is generated."
   ]
  },
  {
   "cell_type": "markdown",
   "metadata": {
    "slideshow": {
     "slide_type": "slide"
    }
   },
   "source": [
    "### sorted() and sort()\n",
    "\n",
    "To sort items in a list, you can use one of these methods:\n",
    "* `sorted()` builtin function returns a new list what has the items of the old list, but sorted.\n",
    "* `sort()` method modifies the list so that its items are sorted."
   ]
  },
  {
   "cell_type": "code",
   "execution_count": 29,
   "metadata": {},
   "outputs": [
    {
     "name": "stdout",
     "output_type": "stream",
     "text": [
      "['len', 'def', 'while', 'for', 'if', 'elif', 'else', 'list', 'dict']\n",
      "['def', 'dict', 'elif', 'else', 'for', 'if', 'len', 'list', 'while']\n"
     ]
    }
   ],
   "source": [
    "python_terms = ['len', 'def', 'while', 'for', 'if', 'elif', 'else', 'list', 'dict']\n",
    "print(python_terms)\n",
    "print(sorted(python_terms))  # original list not changed"
   ]
  },
  {
   "cell_type": "code",
   "execution_count": 30,
   "metadata": {},
   "outputs": [
    {
     "name": "stdout",
     "output_type": "stream",
     "text": [
      "['len', 'def', 'while', 'for', 'if', 'elif', 'else', 'list', 'dict']\n",
      "['def', 'dict', 'elif', 'else', 'for', 'if', 'len', 'list', 'while']\n"
     ]
    }
   ],
   "source": [
    "print(python_terms)\n",
    "python_terms.sort() # changes the list\n",
    "print(f\"{python_terms}\")"
   ]
  },
  {
   "cell_type": "markdown",
   "metadata": {
    "slideshow": {
     "slide_type": "subslide"
    }
   },
   "source": [
    "<div class=\"alert alert-block alert-info\"><b><font size=\"+1\">Finished here Wednesday</font></b></div>"
   ]
  },
  {
   "cell_type": "markdown",
   "metadata": {
    "slideshow": {
     "slide_type": "slide"
    }
   },
   "source": [
    "## From list to strings to lists, and back again,  with `join()` and `split()`\n",
    "\n",
    "### join()\n",
    "The `join()` method applies to strings, taking a list as an argument, and returns a string. The string is used a a delimiter between members of the list."
   ]
  },
  {
   "cell_type": "code",
   "execution_count": 31,
   "metadata": {},
   "outputs": [
    {
     "name": "stdout",
     "output_type": "stream",
     "text": [
      "def--dict--elif--else--for--if--len--list--while\n"
     ]
    }
   ],
   "source": [
    "new_str = \"--\".join(python_terms)\n",
    "print(new_str)"
   ]
  },
  {
   "cell_type": "markdown",
   "metadata": {
    "slideshow": {
     "slide_type": "subslide"
    }
   },
   "source": [
    "### split()\n",
    "To convert from a string with multiple words into a list, use `split()`.\n",
    "\n",
    "Again, it is applied to a string, which will be split into items, takes a delimiter as argument, and returns a list."
   ]
  },
  {
   "cell_type": "code",
   "execution_count": 32,
   "metadata": {},
   "outputs": [
    {
     "data": {
      "text/plain": [
       "['def', 'dict', 'elif', 'else', 'for', 'if', 'len', 'list', 'while']"
      ]
     },
     "execution_count": 32,
     "metadata": {},
     "output_type": "execute_result"
    }
   ],
   "source": [
    "new_str.split('--')"
   ]
  },
  {
   "cell_type": "code",
   "execution_count": 33,
   "metadata": {},
   "outputs": [
    {
     "name": "stdout",
     "output_type": "stream",
     "text": [
      "def--dict--elif--else--for--if--len--list--while\n"
     ]
    }
   ],
   "source": [
    "print(new_str)"
   ]
  },
  {
   "cell_type": "code",
   "execution_count": 34,
   "metadata": {},
   "outputs": [
    {
     "data": {
      "text/plain": [
       "['de', '--dict--eli', '--else--', 'or--i', '--len--list--while']"
      ]
     },
     "execution_count": 34,
     "metadata": {},
     "output_type": "execute_result"
    }
   ],
   "source": [
    "new_str.split('f')"
   ]
  },
  {
   "cell_type": "markdown",
   "metadata": {
    "slideshow": {
     "slide_type": "slide"
    }
   },
   "source": [
    "# Arcane Interlude 6: What's it like out?\n",
    "\n",
    "For today's silliness, we'll try to find out what the weather is like outside. I got this idea from Al Sweigart's \"Automate the Boring Stuff with Python\". It used data from [openweathermap.org]. I couldn't get it to work in time (have to register the API) So I stole this example from [geeksforgeeks.org/]. \n",
    "\n",
    "Really, it is just Goog'ling the weather, and using the \"beautiful soup\" package to extract what we want from the returned webpage.\n"
   ]
  },
  {
   "cell_type": "code",
   "execution_count": 35,
   "metadata": {
    "slideshow": {
     "slide_type": "subslide"
    }
   },
   "outputs": [
    {
     "name": "stdout",
     "output_type": "stream",
     "text": [
      "As of Tuesday 15:00, it is Sunny in Kyiv, Kyiv city, Ukraine. The temperature is -4 °C\n"
     ]
    }
   ],
   "source": [
    "from bs4 import BeautifulSoup\n",
    "import requests\n",
    "city = \"Kiev+weather\"\n",
    "headers = {\n",
    "    'User-Agent': 'Mozilla/5.0 (Windows NT 10.0; Win64; x64) AppleWebKit/537.36 (KHTML, like Gecko) Chrome/58.0.3029.110 Safari/537.3'}\n",
    "res = requests.get(\n",
    "        f'https://www.google.com/search?q={city}&oq={city}&aqs=chrome.0.35i39l2j0l4j46j69i60.6128j1j7&sourceid=chrome&ie=UTF-8', headers=headers)\n",
    "soup = BeautifulSoup(res.text, 'html.parser')\n",
    "location = soup.select('#wob_loc')[0].getText().strip()\n",
    "time = soup.select('#wob_dts')[0].getText().strip()\n",
    "info = soup.select('#wob_dc')[0].getText().strip()\n",
    "weather = soup.select('#wob_tm')[0].getText().strip()\n",
    "\n",
    "print(f\"As of {time}, it is {info} in {location}. The temperature is {weather} °C\")"
   ]
  },
  {
   "cell_type": "markdown",
   "metadata": {
    "slideshow": {
     "slide_type": "slide"
    }
   },
   "source": [
    "# Input checking\n",
    "\n",
    "In Lab 4, you have to write a function prompts the user for an integer input that is no less than 2. If the user gives an incorrect input, a `while` loop is used to prompt them repeatedly for correct input. "
   ]
  },
  {
   "cell_type": "code",
   "execution_count": 36,
   "metadata": {},
   "outputs": [
    {
     "name": "stdout",
     "output_type": "stream",
     "text": [
      "Enter an integer greater than 1: -3\n",
      "You entered n=-3. Please enter a number greater than 1\n",
      "Enter an integer greater than 1: 3\n",
      "Well done - you entered 3, which is acceptable\n"
     ]
    }
   ],
   "source": [
    "n = int(input(\"Enter an integer greater than 1: \"))\n",
    "while ( n < 2):\n",
    "    print(f\"You entered n={n}. Please enter a number greater than 1\")\n",
    "    n = int(input(\"Enter an integer greater than 1: \"))\n",
    "print(f\"Well done - you entered {n}, which is acceptable\")"
   ]
  },
  {
   "cell_type": "markdown",
   "metadata": {
    "slideshow": {
     "slide_type": "subslide"
    }
   },
   "source": [
    "Let's consider what exactly is happening with  the line\n",
    "```python\n",
    "n = int(input(\"Enter an integer greater than 1: \"))\n",
    "```\n",
    "\n",
    "The `input()` function returns a string (that is, it has type `str`). Then the built-in `int()` function converts that to an integer.\n",
    "\n",
    "The `while` loop then handles the case where the user enters a number that is too small (e.g., a negative number). But, support they enter something that cannot be converted to an `int`, such as number with a decimal point, or string that is not just digits. \n",
    "\n",
    "Then we would get an error.\n",
    "```python\n",
    "int('3.1415')\n",
    "\n",
    "---------------------------------------------------------------------------\n",
    "ValueError                                Traceback (most recent call last)\n",
    "Input In [36], in <cell line: 1>()\n",
    "----> 1 int(\"3.1415\")\n",
    "\n",
    "ValueError: invalid literal for int() with base 10: '3.1415'\n",
    "```"
   ]
  },
  {
   "cell_type": "markdown",
   "metadata": {
    "slideshow": {
     "slide_type": "slide"
    }
   },
   "source": [
    "## `try`...`except`\n",
    "\n",
    "Fortunately, Python has a construct for handling errors. It is especially useful when\n",
    "* working with data inputted by the user\n",
    "* opening files (often leads to errors, if the file is missing, for not accessible)\n",
    "* preforming network operations (e.g., our OpenStreetMap query from a few weeks ago).\n",
    "\n",
    "SYNTAX:\n",
    "```python\n",
    "try: \n",
    "    <some block of code>\n",
    "except: \n",
    "    <stuff to do when an error was caused>\n",
    "```"
   ]
  },
  {
   "cell_type": "markdown",
   "metadata": {
    "slideshow": {
     "slide_type": "subslide"
    }
   },
   "source": [
    "**Example:**"
   ]
  },
  {
   "cell_type": "code",
   "execution_count": 37,
   "metadata": {
    "slideshow": {
     "slide_type": "-"
    }
   },
   "outputs": [
    {
     "name": "stdout",
     "output_type": "stream",
     "text": [
      "Enter an integer:1.23\n",
      "Input not convertable to int. Defaulting to 30\n"
     ]
    }
   ],
   "source": [
    "try:\n",
    "    n = int(input(\"Enter an integer:\"))\n",
    "except:\n",
    "    print(\"Input not convertable to int. Defaulting to 30\")\n",
    "    n = 30"
   ]
  },
  {
   "cell_type": "markdown",
   "metadata": {},
   "source": [
    "We'll use `try...except` next week if/when the new server is working."
   ]
  },
  {
   "cell_type": "markdown",
   "metadata": {
    "slideshow": {
     "slide_type": "slide"
    }
   },
   "source": [
    "# Tuples\n",
    "\n",
    "We've already seen how to represent collections of \"_things_\" in Python using a `list`. There is a very similar structure called a `tuple`. \n",
    "\n",
    "There are three main **differences** between tuples and lists\n",
    "1. Tuples start with `(` and end with `)`, compared to `[` and `]` with lists.\n",
    "2. Tuples are not mutable, but list are. \n",
    "3. Tuples are more efficient than lists (though quantifying this might be beyond us right now)\n",
    "4. Tuples have very few methods: just `.count()` and `.index()`\n",
    "\n",
    "There are many **similarities**, in particular, indexing and slicing is the same as with lists.\n",
    "\n",
    "\n",
    "Most times, we use lists rather then tuples, but there are special occasions where `tuples` are preferred."
   ]
  },
  {
   "cell_type": "markdown",
   "metadata": {
    "slideshow": {
     "slide_type": "subslide"
    }
   },
   "source": [
    "## Defining a tuple\n",
    "\n",
    "A tuple can be defined in several ways. The least common is using the `tuple()` function:"
   ]
  },
  {
   "cell_type": "code",
   "execution_count": 38,
   "metadata": {},
   "outputs": [],
   "source": [
    "t1 = tuple(range(2,11,2))"
   ]
  },
  {
   "cell_type": "code",
   "execution_count": 39,
   "metadata": {},
   "outputs": [
    {
     "data": {
      "text/plain": [
       "tuple"
      ]
     },
     "execution_count": 39,
     "metadata": {},
     "output_type": "execute_result"
    }
   ],
   "source": [
    "type(t1)"
   ]
  },
  {
   "cell_type": "code",
   "execution_count": 40,
   "metadata": {},
   "outputs": [
    {
     "name": "stdout",
     "output_type": "stream",
     "text": [
      "(2, 4, 6, 8, 10)\n"
     ]
    }
   ],
   "source": [
    "print(t1)"
   ]
  },
  {
   "cell_type": "markdown",
   "metadata": {
    "slideshow": {
     "slide_type": "subslide"
    }
   },
   "source": [
    "It is more common to use `(` and `)`:"
   ]
  },
  {
   "cell_type": "code",
   "execution_count": 41,
   "metadata": {},
   "outputs": [],
   "source": [
    "t1 = (1, 2.4679, 'word') # tuple with elements of different types"
   ]
  },
  {
   "cell_type": "code",
   "execution_count": 42,
   "metadata": {},
   "outputs": [
    {
     "name": "stdout",
     "output_type": "stream",
     "text": [
      "(1, 2.4679, 'word')\n"
     ]
    }
   ],
   "source": [
    "type(t1)\n",
    "print(t1)"
   ]
  },
  {
   "cell_type": "markdown",
   "metadata": {
    "slideshow": {
     "slide_type": "subslide"
    }
   },
   "source": [
    "Strictly speaking, the `(` and `)` are optional. "
   ]
  },
  {
   "cell_type": "code",
   "execution_count": 43,
   "metadata": {},
   "outputs": [],
   "source": [
    "t2 = 1, 2.4679, 'word'"
   ]
  },
  {
   "cell_type": "code",
   "execution_count": 44,
   "metadata": {},
   "outputs": [
    {
     "name": "stdout",
     "output_type": "stream",
     "text": [
      "len(t2)=3\n"
     ]
    },
    {
     "data": {
      "text/plain": [
       "tuple"
      ]
     },
     "execution_count": 44,
     "metadata": {},
     "output_type": "execute_result"
    }
   ],
   "source": [
    "print(f\"len(t2)={len(t2)}\")\n",
    "type(t2)"
   ]
  },
  {
   "cell_type": "code",
   "execution_count": 45,
   "metadata": {},
   "outputs": [
    {
     "data": {
      "text/plain": [
       "True"
      ]
     },
     "execution_count": 45,
     "metadata": {},
     "output_type": "execute_result"
    }
   ],
   "source": [
    "t1 == t2"
   ]
  },
  {
   "cell_type": "markdown",
   "metadata": {
    "slideshow": {
     "slide_type": "-"
    }
   },
   "source": [
    "However, it can lead to confusion, especially when there is only one element in the tuple."
   ]
  },
  {
   "cell_type": "markdown",
   "metadata": {
    "slideshow": {
     "slide_type": "slide"
    }
   },
   "source": [
    "## Tuples with assignments\n",
    "\n",
    "The main use of `tuples` is in make assignments to multiple variables at once."
   ]
  },
  {
   "cell_type": "code",
   "execution_count": 46,
   "metadata": {},
   "outputs": [
    {
     "name": "stdout",
     "output_type": "stream",
     "text": [
      "a=3, b=4\n"
     ]
    }
   ],
   "source": [
    "(a,b) = (3,4)\n",
    "print(f\"a={a}, b={b}\")"
   ]
  },
  {
   "cell_type": "markdown",
   "metadata": {},
   "source": [
    "That is, `(a,b) = (3,4)` gives the same result as \n",
    "```python\n",
    "a=3\n",
    "b=4\n",
    "```\n",
    "This turns out to be very useful when we have functions with multiple return values."
   ]
  },
  {
   "cell_type": "markdown",
   "metadata": {
    "slideshow": {
     "slide_type": "slide"
    }
   },
   "source": [
    "## Using tuples as function return values\n",
    "\n",
    "Most \"fruitful\" functions we have seen so far just return a single. But some might need to return two or more values. We'll do a simple example here, and then spend the next section doing a slightly more complicated version (with other stuff, such as plotting).\n",
    "\n",
    "In this example, we'll write a function that takes as input a float, and returns separately its integer and fractional part.\n",
    "\n",
    "For example, $9/4$ should be returned as $(2, 0.25)$."
   ]
  },
  {
   "cell_type": "code",
   "execution_count": 47,
   "metadata": {
    "slideshow": {
     "slide_type": "subslide"
    }
   },
   "outputs": [],
   "source": [
    "def int_and_factional(x):\n",
    "    i = int(x)  # rounds down\n",
    "    f = x-i\n",
    "    return(i,f)   "
   ]
  },
  {
   "cell_type": "code",
   "execution_count": 48,
   "metadata": {},
   "outputs": [
    {
     "name": "stdout",
     "output_type": "stream",
     "text": [
      "The integral and fractional parts of 2.25 are 2 and 0.25\n"
     ]
    }
   ],
   "source": [
    "x = 9/4\n",
    "x_int, x_frac = int_and_factional(x)\n",
    "print(f\"The integral and fractional parts of {x} are {x_int} and {x_frac}\")"
   ]
  },
  {
   "cell_type": "markdown",
   "metadata": {
    "slideshow": {
     "slide_type": "slide"
    }
   },
   "source": [
    "# Example: functions and plotting\n",
    "A classical example of a function with two return values is one that computes solutions to quadratic equations\n",
    "$$ ax^2 + bx + c=0.$$\n",
    "This has solutions \n",
    "$$ \\frac{-b - \\sqrt{b^2 - 4ac}}{2a}  \\text{ and } \\frac{-b + \\sqrt{b^2 - 4ac}}{2a}. \n",
    "$$\n",
    "Of course, depending on the values of $a$, $b$ and $c$, this equation may have zero, one or two real solutions (today, we are ignoring the existence of complex numbers). \n",
    "\n",
    "In this example we will see how to\n",
    "* import some modules (<span style='color:green'>again</span>)\n",
    "* define a function that uses a `for` loop to iterate over a `list` (<span style='color:green'>again</span>)\n",
    "* plot that function (<span style='color:red'>new!</span>)\n",
    "* define a function with a tuple as its return value (<span style='color:green'>again</span>)."
   ]
  },
  {
   "cell_type": "markdown",
   "metadata": {
    "slideshow": {
     "slide_type": "subslide"
    }
   },
   "source": [
    "## Importing modules\n",
    "\n",
    "We've seen several examples of importing modules in previous weeks. Towards the end of this course, we'll learn more about that, and how to write our own. For now, it is enough to know that\n",
    "```python\n",
    "import <module_name>\n",
    "```\n",
    "gives us access to functions (and other things) defined in `<module_name>`. We can then access those functions using the syntax `<module_name>.<method>`. Example:"
   ]
  },
  {
   "cell_type": "code",
   "execution_count": 49,
   "metadata": {
    "slideshow": {
     "slide_type": "subslide"
    }
   },
   "outputs": [
    {
     "name": "stdout",
     "output_type": "stream",
     "text": [
      "The square root of 14 is 3.7416573867739413\n"
     ]
    }
   ],
   "source": [
    "import math\n",
    "x = 14\n",
    "y = math.sqrt(x) \n",
    "print(f\"The square root of {x} is {y}\")"
   ]
  },
  {
   "cell_type": "markdown",
   "metadata": {
    "slideshow": {
     "slide_type": "subslide"
    }
   },
   "source": [
    "Sometimes, by convention or for brevity, we can give the imported module a different name.\n",
    "\n",
    "**SYNTAX:**\n",
    "```python\n",
    "import <module_name> as <my_name>\n",
    "```\n",
    "Now we can access those functions in `<module_name>` using the `<my_name>` handle.\n",
    "\n",
    "Also:\n",
    "* A module need only be imported once into a Jupyter notebook, unless you restart the kernel.\n",
    "* It is good practice to put all `import` lines together in a single cell near the start of the notebook.\n",
    "* I don't do that in these examples, only for the purpose of exposition (so, do as I say, and not as I do, please)."
   ]
  },
  {
   "cell_type": "markdown",
   "metadata": {
    "slideshow": {
     "slide_type": "subslide"
    }
   },
   "source": [
    "In this example, I'll need the `math` and `matplotlib.pyplot` modules."
   ]
  },
  {
   "cell_type": "code",
   "execution_count": 50,
   "metadata": {},
   "outputs": [],
   "source": [
    "import math   # needed for sqrt\n",
    "import matplotlib.pyplot as plt   # needed for ploting"
   ]
  },
  {
   "cell_type": "markdown",
   "metadata": {
    "slideshow": {
     "slide_type": "subslide"
    }
   },
   "source": [
    "## Defining functions\n",
    "\n",
    "We want to define a function, representing a quadratic equation.\n",
    "* It is good practice to do that in a single cell.\n",
    "* We are going to describe it with a `docstring`. This is string at the beginning of a function that explains how to use it. `doc` is short for _documentation_). A doc string starts and ends with tripple quotes `\"\"\"`. These are special strings that can span multiple lines.\n",
    "* The arguments to the function will be the coefficients of the quadratic, $a$, $b$ and $c$, and the _list_ of values it will be evaluated at."
   ]
  },
  {
   "cell_type": "code",
   "execution_count": 51,
   "metadata": {
    "slideshow": {
     "slide_type": "subslide"
    }
   },
   "outputs": [],
   "source": [
    "def my_quadratic(a, b, c, x_vals):\n",
    "    \"\"\" Computes a values of quadratic polynomial.\n",
    "    Inputs: \n",
    "        a (float): coefficient of x^2\n",
    "        b (float): coefficient of x\n",
    "        c (float): zero-order term (coefficient of x^0)\n",
    "        x_vals (list):  a list of floats\n",
    "    Returns: a list of floats.\"\"\"\n",
    "    y_vals = []\n",
    "    for x in x_vals:\n",
    "        y_vals += [a*x**2.0 + b*x + c]\n",
    "    return y_vals"
   ]
  },
  {
   "cell_type": "code",
   "execution_count": 52,
   "metadata": {},
   "outputs": [
    {
     "data": {
      "text/plain": [
       "[-6.1556]"
      ]
     },
     "execution_count": 52,
     "metadata": {},
     "output_type": "execute_result"
    }
   ],
   "source": [
    "my_quadratic(-1, -2, 4, [2.34])"
   ]
  },
  {
   "cell_type": "markdown",
   "metadata": {
    "slideshow": {
     "slide_type": "subslide"
    }
   },
   "source": [
    "In Jupyter, you can check the docstring for a function with with the `help()` function, or the `?` symbol"
   ]
  },
  {
   "cell_type": "code",
   "execution_count": 53,
   "metadata": {},
   "outputs": [
    {
     "name": "stdout",
     "output_type": "stream",
     "text": [
      "Help on function my_quadratic in module __main__:\n",
      "\n",
      "my_quadratic(a, b, c, x_vals)\n",
      "    Computes a values of quadratic polynomial.\n",
      "    Inputs: \n",
      "        a (float): coefficient of x^2\n",
      "        b (float): coefficient of x\n",
      "        c (float): zero-order term (coefficient of x^0)\n",
      "        x_vals (list):  a list of floats\n",
      "    Returns: a list of floats.\n",
      "\n"
     ]
    }
   ],
   "source": [
    "help(my_quadratic)"
   ]
  },
  {
   "cell_type": "code",
   "execution_count": 54,
   "metadata": {},
   "outputs": [],
   "source": [
    "my_quadratic?"
   ]
  },
  {
   "cell_type": "markdown",
   "metadata": {
    "slideshow": {
     "slide_type": "subslide"
    }
   },
   "source": [
    "### `my_range`\n",
    "To plot the quadratic, we'll need a list of points at which to evaluate the function. We'll write a function to create such as list because\n",
    "* the `range()` function only works for `int`egers, and we want `float`s\n",
    "* there is a module called `numpy` that would be better for this, but we save that until next semester"
   ]
  },
  {
   "cell_type": "code",
   "execution_count": 55,
   "metadata": {},
   "outputs": [],
   "source": [
    "def my_range(a, b, h):\n",
    "    \"\"\" Computes a list of values starting at a, ending at b, and with steps of h\"\"\"\n",
    "    y = [a] # The start\n",
    "    while (y[-1]<b):\n",
    "        y+=[y[-1]+h]\n",
    "    return y\n"
   ]
  },
  {
   "cell_type": "markdown",
   "metadata": {
    "slideshow": {
     "slide_type": "slide"
    }
   },
   "source": [
    "### Plotting a quadratic\n",
    "\n",
    "To plot our quadratic, we'll \n",
    "* use `my_range` to make a list of values we'll evaluate the function at\n",
    "* use `my_quadratic()` to make a list of values of the function\n",
    "* use `plt.plot(x, y)` to plot the two lists against each other."
   ]
  },
  {
   "cell_type": "markdown",
   "metadata": {
    "slideshow": {
     "slide_type": "subslide"
    }
   },
   "source": [
    "* The `plt.plot()` needs at least two arguments: lists `x` and `y` which contain floats (or ints) and are of the same length\n",
    "* The two lists are coordinates for points $(x[0], y[0])$, $(x[1], y[1])$, ..., $(x[n], y[n])$.\n",
    "* Lines joining adjacent points are plotted\n",
    "* The line-style can be changed (I've give some examples, but it is not important for today)."
   ]
  },
  {
   "cell_type": "code",
   "execution_count": 56,
   "metadata": {
    "slideshow": {
     "slide_type": "subslide"
    }
   },
   "outputs": [
    {
     "data": {
      "text/plain": [
       "[<matplotlib.lines.Line2D at 0x7faf90f1e730>]"
      ]
     },
     "execution_count": 56,
     "metadata": {},
     "output_type": "execute_result"
    },
    {
     "data": {
      "image/png": "[encoded data removed]",
      "text/plain": [
       "<Figure size 640x480 with 1 Axes>"
      ]
     },
     "metadata": {},
     "output_type": "display_data"
    }
   ],
   "source": [
    "plt.plot([-1, 1, 2], [1, -3, 2])"
   ]
  },
  {
   "cell_type": "markdown",
   "metadata": {
    "slideshow": {
     "slide_type": "subslide"
    }
   },
   "source": [
    "If we include more and more points, eventually this starts to look like a continuous curve."
   ]
  },
  {
   "cell_type": "code",
   "execution_count": 57,
   "metadata": {},
   "outputs": [
    {
     "data": {
      "text/plain": [
       "[<matplotlib.lines.Line2D at 0x7faf88e10730>,\n",
       " <matplotlib.lines.Line2D at 0x7faf88e10790>]"
      ]
     },
     "execution_count": 57,
     "metadata": {},
     "output_type": "execute_result"
    },
    {
     "data": {
      "image/png": "[encoded data removed]",
      "text/plain": [
       "<Figure size 640x480 with 1 Axes>"
      ]
     },
     "metadata": {},
     "output_type": "display_data"
    }
   ],
   "source": [
    "plt.plot([-1, 1, 2], [1, -3, 2], [-1, -.5,    0, .5, 1, 1.5, 2], [1, -.5, -1.5, -2.5, -3, -1, 2],\n",
    "         'r--x')"
   ]
  },
  {
   "cell_type": "markdown",
   "metadata": {
    "slideshow": {
     "slide_type": "slide"
    }
   },
   "source": [
    "Now we can plot our quadratic."
   ]
  },
  {
   "cell_type": "code",
   "execution_count": 58,
   "metadata": {
    "slideshow": {
     "slide_type": "-"
    }
   },
   "outputs": [],
   "source": [
    "x = my_range(-4,2, .5)  # make a list of x-values"
   ]
  },
  {
   "cell_type": "code",
   "execution_count": 59,
   "metadata": {},
   "outputs": [],
   "source": [
    "y = my_quadratic(1, 2, -3, x) # a list of corresponding y-values"
   ]
  },
  {
   "cell_type": "code",
   "execution_count": 60,
   "metadata": {},
   "outputs": [
    {
     "data": {
      "text/plain": [
       "[<matplotlib.lines.Line2D at 0x7faf88d7e970>]"
      ]
     },
     "execution_count": 60,
     "metadata": {},
     "output_type": "execute_result"
    },
    {
     "data": {
      "image/png": "[encoded data removed]",
      "text/plain": [
       "<Figure size 640x480 with 1 Axes>"
      ]
     },
     "metadata": {},
     "output_type": "display_data"
    }
   ],
   "source": [
    "plt.plot(x, y)"
   ]
  },
  {
   "cell_type": "markdown",
   "metadata": {
    "slideshow": {
     "slide_type": "slide"
    }
   },
   "source": [
    "## The quadratic solver\n",
    "Finally we  get to solving \n",
    "$$ ax^2 + bx + c=0.$$\n",
    "This has solutions \n",
    "$$ \\frac{-b - \\sqrt{b^2 - 4ac}}{2a}  \\text{ and } \\frac{-b + \\sqrt{b^2 - 4ac}}{2a}. \n",
    "$$\n",
    "* If $b^2-4ac<0$, then there are no real solutions\n",
    "* If $b^2+4ac=0$, there is one real solution (actually, there are two, but they are the same).\n",
    "* If $b^2+4ac>0$, there are two different real solutions.\n"
   ]
  },
  {
   "cell_type": "code",
   "execution_count": 61,
   "metadata": {
    "slideshow": {
     "slide_type": "subslide"
    }
   },
   "outputs": [],
   "source": [
    "def solve_quadratic(a,b,c):\n",
    "    if (b**2 - 4*a*c)<0:\n",
    "        soln = tuple()  # empty tuple\n",
    "    elif (b**2 -4*a*c)==0:\n",
    "        soln = -b/(2*a),  # comma is important here to make a tuple with one element\n",
    "    else:\n",
    "        soln = ((-b - math.sqrt(b*2 - 4*a*c))/2*a, (-b + math.sqrt(b*2 - 4*a*c))/2*a)\n",
    "    return soln"
   ]
  },
  {
   "cell_type": "code",
   "execution_count": 62,
   "metadata": {},
   "outputs": [
    {
     "name": "stdout",
     "output_type": "stream",
     "text": [
      "There are 2, which are (-3.0, 1.0)\n"
     ]
    }
   ],
   "source": [
    "roots = solve_quadratic(1,2,-3)\n",
    "print(f\"There are {len(roots)}, which are {roots}\")"
   ]
  },
  {
   "cell_type": "markdown",
   "metadata": {
    "slideshow": {
     "slide_type": "subslide"
    }
   },
   "source": [
    "<div class=\"alert alert-block alert-info\">The end</div>\n",
    "    "
   ]
  }
 ],
 "metadata": {
  "celltoolbar": "Slideshow",
  "jupytext": {
   "formats": "ipynb"
  },
  "kernelspec": {
   "display_name": "Python 3 (ipykernel)",
   "language": "python",
   "name": "python3"
  },
  "language_info": {
   "codemirror_mode": {
    "name": "ipython",
    "version": 3
   },
   "file_extension": ".py",
   "mimetype": "text/x-python",
   "name": "python",
   "nbconvert_exporter": "python",
   "pygments_lexer": "ipython3",
   "version": "3.9.13"
  },
  "rise": {
   "header": "CS102/CS103 Week 07",
   "slideNumber": "c/t"
  },
  "toc": {
   "base_numbering": 1,
   "nav_menu": {},
   "number_sections": true,
   "sideBar": true,
   "skip_h1_title": false,
   "title_cell": "Table of Contents",
   "title_sidebar": "Contents",
   "toc_cell": false,
   "toc_position": {},
   "toc_section_display": true,
   "toc_window_display": false
  },
  "varInspector": {
   "cols": {
    "lenName": 16,
    "lenType": 16,
    "lenVar": 40
   },
   "kernels_config": {
    "python": {
     "delete_cmd_postfix": "",
     "delete_cmd_prefix": "del ",
     "library": "var_list.py",
     "varRefreshCmd": "print(var_dic_list())"
    },
    "r": {
     "delete_cmd_postfix": ") ",
     "delete_cmd_prefix": "rm(",
     "library": "var_list.r",
     "varRefreshCmd": "cat(var_dic_list()) "
    }
   },
   "types_to_exclude": [
    "module",
    "function",
    "builtin_function_or_method",
    "instance",
    "_Feature"
   ],
   "window_display": false
  }
 },
 "nbformat": 4,
 "nbformat_minor": 2
}
