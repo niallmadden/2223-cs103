{
 "cells": [
  {
   "cell_type": "markdown",
   "metadata": {
    "slideshow": {
     "slide_type": "slide"
    }
   },
   "source": [
    "# CS102/CS103: Week 01 - Introductions\n",
    "Dr [Niall Madden](mailto:Niall.Madden@UniversityOfGalway.ie)<br>\n",
    "School of Mathematical and Statistical Sciences<br>\n",
    "University of Galway\n",
    "\n",
    "<font size=\"3\">*This notebook is adapted from one Dr Tobias Rossmann*</font>\n",
    "\n",
    "<!--<span style='color:red'>Red</span> <span style='color:green'>Green</span><span style='color:blue'> Blue</span>-->\n",
    "\n",
    "\n",
    "## Welcome to CS102/CS103\n",
    "\n",
    "<div class=\"alert alert-block alert-info\">\n",
    "    This is <font color=\"red\"><b>Introduction to Programming<b></font>, which is part of CS102 and all of CS103.\n",
    "    </div>\n",
    "    \n",
    "Usually I'll call it \"Intro to Programming\" or, with applogies to some of you, just **CS102**.\n",
    "\n",
    "\n"
   ]
  },
  {
   "cell_type": "markdown",
   "metadata": {
    "slideshow": {
     "slide_type": "slide"
    }
   },
   "source": [
    "## Introductions\n",
    "### Who am I?\n",
    "I am Dr **Niall Madden**, a lecturer in Mathematics.\n",
    "My office is in Aras de Brun, AdB-1013.\n",
    "<center><img src=\"AdeB.jpg\" width=\"40%\"/></center> "
   ]
  },
  {
   "cell_type": "markdown",
   "metadata": {
    "collapsed": true,
    "slideshow": {
     "slide_type": "slide"
    }
   },
   "source": [
    "\n",
    "### Who are you?\n",
    "\n",
    "This module is taken by various groups of students:\n",
    "\n",
    "* **CS102** (1BPC1, 1BS1, 1MR1) ($\\approx 60$ students):<br>\n",
    "15 ECTS.<br>Your final mark is the average of your Semester 1 and Semester 2 scores. \n",
    "\n",
    "* **CS103** (1BGG1, 1BMS1, 1FM1, 1PHO1) ($\\approx 145$ students):<br>\n",
    "5 ECTS. \n",
    "\n",
    "The Wednesday and Thursday lectures in Semester 1 are common to both modules. These cover <b>Introduction to Programming</b>. For more about CS102 and CS103, see the slides from the Orientation Session posted to the \"Information\" section on the Blackboard modules.\n",
    "\n",
    "But we'd like to learn more about you: please complete this survey: https://forms.office.com/r/igSzkS0rCt\n",
    "<center>\n",
    "    <img src=\"qr.png\" width=\"10%\">\n",
    "    </center>"
   ]
  },
  {
   "cell_type": "markdown",
   "metadata": {
    "slideshow": {
     "slide_type": "slide"
    }
   },
   "source": [
    "## Basic Information\n",
    "### Topics in \"Introduction to Programming\"\n",
    "Among other things, we will cover the following:\n",
    "\n",
    "1. Getting started with Python and Jupyter\n",
    "2. Strings and text processing\n",
    "3. Variables and expressions\n",
    "4. Functions\n",
    "5. Loop, iteration and recursion\n",
    "6. Contionals and decision points\n",
    "7. Input and output\n",
    "8. Tuples, lists and dictionaries\n",
    "9. Classes and objects\n",
    "10. Files and storage"
   ]
  },
  {
   "cell_type": "markdown",
   "metadata": {
    "slideshow": {
     "slide_type": "slide"
    }
   },
   "source": [
    "### Schedule for Intro to Programming\n",
    "\n",
    "#### Lectures\n",
    "Two lectures per week.\n",
    "\n",
    "* Wednesdays: at 12:00 in HBB-G019 and repeated at 13:00 in MRA-201. Expectation is that this will change to just Wednesdays at 13:00 in MRA-201.\n",
    "* Thursday 9:00 in AMB-1022 (\"Fottrell\")\n",
    "\n",
    "#### Labs\n",
    "Labs start in Week 3, and run every Monday, Tuesday and Wednesday 15:00-17:00 (may run to 18:00 if needed). Venues and other information next week.\n"
   ]
  },
  {
   "cell_type": "markdown",
   "metadata": {
    "slideshow": {
     "slide_type": "slide"
    }
   },
   "source": [
    "### Assessment (Semester 1)\n",
    "\n",
    "* 5 programming assignments: 60%\n",
    "* Two class/lab tests: 20% each\n",
    "* No final exam\n",
    "\n",
    "No written exam this year."
   ]
  },
  {
   "cell_type": "markdown",
   "metadata": {
    "collapsed": true,
    "slideshow": {
     "slide_type": "subslide"
    }
   },
   "source": [
    "### Textbook \n",
    "\n",
    "Allen B. Downey\n",
    "_Think Python: How to Think Like a Computer Scientist_\n",
    "*2nd Edition*, Version 2.4.0\n",
    "            \n",
    "Freely available from https://greenteapress.com/thinkpython2/html/index.html\n",
    "\n"
   ]
  },
  {
   "cell_type": "markdown",
   "metadata": {
    "slideshow": {
     "slide_type": "slide"
    }
   },
   "source": [
    "### What is \"Programming\"\n",
    "#### What is a computer?\n",
    "\n",
    "From [Wikipedia](https://en.wikipedia.org/wiki/Computer) (accessed: 28/10/2022):\n",
    "> A computer is a digital electronic machine that can be programmed to carry out sequences of arithmetic or logical operations (computation) automatically. Modern computers can perform generic sets of operations known as programs. These programs enable computers to perform a wide range of tasks. \n",
    "\n",
    "* A computer is a **universal machine** that **stores** and **manipulates** information under the control of a changeable **program**.\n",
    "    \n",
    "* A **computer program** is a step-by-step\n",
    "list of **instructions** telling a computer exactly what to do.\n",
    "\n",
    "* A computer is a machine for **executing** programs."
   ]
  },
  {
   "cell_type": "markdown",
   "metadata": {
    "slideshow": {
     "slide_type": "slide"
    }
   },
   "source": [
    "### Algorithms\n",
    "\n",
    "* In Computer Science, a _recipe_ for solving a particular type of problem is called an **algorithm**.\n",
    "\n",
    "* This course will teach you how to **think algorithmically** and to apply this thinking in practice.\n",
    "\n",
    "* A good command of algorithms can benefit you in almost all fields of science.\n",
    "\n",
    " Y. N. Harari, *Homo Deus: A Brief History of Tomorrow* (2016):\n",
    "> 'Algorithm’ is arguably the single most important concept in our world. If we want to understand our life and our future, we should make every effort to understand what an algorithm is [...] An algorithm is a methodical set of steps that can be used to make calculations, resolve problems and reach decisions. An algorithm isn’t a particular calculation, but the method followed when making the calculation. \n"
   ]
  },
  {
   "cell_type": "markdown",
   "metadata": {
    "slideshow": {
     "slide_type": "slide"
    }
   },
   "source": [
    "### Programming languages\n",
    "\n",
    "* Human (natural) languages are not well suited for describing complex algorithms.<br>(Can you think of some reasons?)\n",
    "\n",
    "* A **programming language** is a (mathematical) notation\n",
    "used to express computations in a precise way.\n",
    "\n",
    "* Every part of a program has a precise form\n",
    "(its **syntax**) and a precise meaning\n",
    "(its **semantics**)."
   ]
  },
  {
   "cell_type": "markdown",
   "metadata": {
    "slideshow": {
     "slide_type": "subslide"
    }
   },
   "source": [
    "* A **low-level** language is designed for machine readabilty (\"close to the metal\").\n",
    "\n",
    "* A **high-level** language is more human readable (e.g. more abstract or mathematical).\n",
    "\n",
    "* These are not absolute terms and depend on context.\n",
    "\n",
    "\n",
    "Many high-level languages are translated (\"**compiled**\") to a low-level language prior to execution. Others are **interpreted** by a specialised piece of software (an **interpreter**)."
   ]
  },
  {
   "cell_type": "markdown",
   "metadata": {
    "slideshow": {
     "slide_type": "subslide"
    }
   },
   "source": [
    "Over the past decades, many programming languages have been conceived.  Some widespread languages:\n",
    "\n",
    "* Assembly languages\n",
    "* C\n",
    "* Java\n",
    "* Python"
   ]
  },
  {
   "cell_type": "markdown",
   "metadata": {
    "slideshow": {
     "slide_type": "subslide"
    }
   },
   "source": [
    "All programming languages essentially serve the same purpose and have many features in common.\n",
    "\n",
    "In this module, we use Python to learn about the fundamental elements of computer programming."
   ]
  },
  {
   "cell_type": "markdown",
   "metadata": {
    "slideshow": {
     "slide_type": "slide"
    }
   },
   "source": [
    "#### Assembly language (MIPS) example\n",
    "\n",
    "Assembly programs consist of *extremely* low-level instructions to the processor, like\n",
    "```\n",
    "  la $t0, a\n",
    "  la $t1, b\n",
    "  la $t2, c\n",
    "  lw $s0, 0($t1)\n",
    "  lw $s1, 0($t2)\n",
    "  mult $s0, $s1\n",
    "  mflo $s0\n",
    "  sw $s0, 0($t0)\n",
    "```\n",
    "\n",
    "This program computes $a = b \\,\\cdotp c$."
   ]
  },
  {
   "cell_type": "markdown",
   "metadata": {
    "slideshow": {
     "slide_type": "slide"
    }
   },
   "source": [
    "#### C Example\n",
    "\n",
    "The same formula (with $a = 12$ and $b = 127$) as a C program looks like\n",
    "```C\n",
    "  #include <stdio.h>\n",
    "  int main(void) {\n",
    "    int a, b, c;\n",
    "    a = 12;\n",
    "    b = 127;\n",
    "    c = a * b;\n",
    "    printf(\"c = %d\\n\", c);\n",
    "    return 0;\n",
    "  }\n",
    "  ```"
   ]
  },
  {
   "cell_type": "markdown",
   "metadata": {
    "slideshow": {
     "slide_type": "slide"
    }
   },
   "source": [
    "#### Python example\n",
    "\n",
    "In Python, the same effect can be achieved with fewer (and far more readable!) statements:"
   ]
  },
  {
   "cell_type": "code",
   "execution_count": 1,
   "metadata": {
    "scrolled": false,
    "slideshow": {
     "slide_type": "-"
    }
   },
   "outputs": [
    {
     "name": "stdout",
     "output_type": "stream",
     "text": [
      "c = 1524\n"
     ]
    }
   ],
   "source": [
    "a = 12\n",
    "b = 127\n",
    "c = a * b\n",
    "print('c =', c)"
   ]
  },
  {
   "cell_type": "markdown",
   "metadata": {
    "slideshow": {
     "slide_type": "slide"
    }
   },
   "source": [
    "## Python\n",
    "\n",
    "### Why Python?\n",
    "\n",
    "Because Python ...\n",
    "\n",
    "* ...  is **easy to learn**, **easy to use**, and **intuitive**.\n",
    "* ... is **powerful** and in **widespread use**.\n",
    "* ... is a **modern** programming language\n",
    "(and e.g. knows about the internet).\n",
    "* ...  is a **high-level** language (like C, Java, ...).\n",
    "* ... is, by most measures, the **most popular langaue in the world**"
   ]
  },
  {
   "cell_type": "markdown",
   "metadata": {
    "slideshow": {
     "slide_type": "subslide"
    }
   },
   "source": [
    "* ...  is **interpreted** (rather than compiled). \n",
    "* ...  supports **object-oriented programming** (but doesn't force it upon us).\n",
    "* ...  is <font color=\"green\"><b>free</b></font> (in every sense).\n",
    "* ... is great **fun**.\n",
    "\n",
    "See [www.python.org](http://www.python.org)."
   ]
  },
  {
   "cell_type": "markdown",
   "metadata": {
    "slideshow": {
     "slide_type": "slide"
    }
   },
   "source": [
    "### History of Python\n",
    "* Guido van Rossum began to develop Python in the 1980s. He held the title of 'benevolent dictator for life' until July 2018. The name comes from _Monty Python's Flying Circus_.\n",
    "\n",
    "\n",
    "* First public release: 1991\n",
    "\n",
    "* Python 1.0: 1994\n",
    "* Python 2.0: 2000\n",
    "* Python 3.0: 2008. _Major changes_\n",
    "* Python 3.8: 2019\n",
    "* Python 3.10.7: 19 September 2022"
   ]
  },
  {
   "cell_type": "markdown",
   "metadata": {
    "slideshow": {
     "slide_type": "slide"
    }
   },
   "source": [
    "## Getting started with Python\n",
    "\n",
    "You are not required to install Python on your own computer: there are web-based versions that you can use. \n",
    "* https://www.python.org/shell/\n",
    "* https://repl.it/languages/python3\n",
    "    \n",
    "\n",
    "Of course, you can install it (it is recommended, but not required). I suggest \n",
    "installing it as part of the [Anaconda](https://www.anaconda.com/) distribution.\n",
    "\n",
    "\n",
    "*Important.* There are two incompatible versions of Python in use. We'll use Python 3.\n",
    "\n",
    "* For these lectures (and the assignments), we use Python from within **Jupyter notebooks**.\n",
    "* Jupyter notebooks are included with the Anaconda distribution.\n",
    "* More about them and about writing and running your own code: next week."
   ]
  },
  {
   "cell_type": "markdown",
   "metadata": {
    "slideshow": {
     "slide_type": "slide"
    }
   },
   "source": [
    "### Python as a calulator\n",
    "We can use the Python interpreter as a powerful calculator, using\n",
    "\n",
    "* `+`, `-`, `*`, `/` for the usual arithmetic operations,\n",
    "\n",
    "* `//` for **floor division**,\n",
    "\n",
    "* `%` for the **modulus** (remainder) operation,\n",
    "\n",
    "* `**` for exponentiation."
   ]
  },
  {
   "cell_type": "markdown",
   "metadata": {
    "slideshow": {
     "slide_type": "subslide"
    }
   },
   "source": [
    "Python can deal with very large numbers:"
   ]
  },
  {
   "cell_type": "code",
   "execution_count": 2,
   "metadata": {
    "scrolled": false,
    "slideshow": {
     "slide_type": "-"
    }
   },
   "outputs": [
    {
     "data": {
      "text/plain": [
       "3116402981210161152"
      ]
     },
     "execution_count": 2,
     "metadata": {},
     "output_type": "execute_result"
    }
   ],
   "source": [
    "(12 * 4) ** (5 + 6)"
   ]
  },
  {
   "cell_type": "markdown",
   "metadata": {
    "slideshow": {
     "slide_type": "-"
    }
   },
   "source": [
    "What is the last digit of $2^{100}$?"
   ]
  },
  {
   "cell_type": "code",
   "execution_count": 3,
   "metadata": {
    "scrolled": false,
    "slideshow": {
     "slide_type": "-"
    }
   },
   "outputs": [
    {
     "data": {
      "text/plain": [
       "6"
      ]
     },
     "execution_count": 3,
     "metadata": {},
     "output_type": "execute_result"
    }
   ],
   "source": [
    "(2**100) % 10"
   ]
  },
  {
   "cell_type": "markdown",
   "metadata": {
    "slideshow": {
     "slide_type": "subslide"
    }
   },
   "source": [
    "Ordinary division"
   ]
  },
  {
   "cell_type": "code",
   "execution_count": 4,
   "metadata": {
    "scrolled": false,
    "slideshow": {
     "slide_type": "-"
    }
   },
   "outputs": [
    {
     "data": {
      "text/plain": [
       "0.25"
      ]
     },
     "execution_count": 4,
     "metadata": {},
     "output_type": "execute_result"
    }
   ],
   "source": [
    "1/4"
   ]
  },
  {
   "cell_type": "markdown",
   "metadata": {
    "slideshow": {
     "slide_type": "-"
    }
   },
   "source": [
    "Floor division"
   ]
  },
  {
   "cell_type": "code",
   "execution_count": 5,
   "metadata": {
    "scrolled": false
   },
   "outputs": [
    {
     "data": {
      "text/plain": [
       "0"
      ]
     },
     "execution_count": 5,
     "metadata": {},
     "output_type": "execute_result"
    }
   ],
   "source": [
    "1//3"
   ]
  },
  {
   "cell_type": "markdown",
   "metadata": {
    "slideshow": {
     "slide_type": "subslide"
    }
   },
   "source": [
    "Parentheses are used for grouping as in algebraic formulae.\n"
   ]
  },
  {
   "cell_type": "code",
   "execution_count": 6,
   "metadata": {
    "scrolled": false,
    "slideshow": {
     "slide_type": "-"
    }
   },
   "outputs": [
    {
     "data": {
      "text/plain": [
       "0.1111111111111111"
      ]
     },
     "execution_count": 6,
     "metadata": {},
     "output_type": "execute_result"
    }
   ],
   "source": [
    "(3 / (2**(4+1)-5))"
   ]
  },
  {
   "cell_type": "markdown",
   "metadata": {
    "slideshow": {
     "slide_type": "subslide"
    }
   },
   "source": [
    "There are rules specifying the **precedence** and **associativity** of mathematical operators. (But for caution and clarity, I prefer to use parentheses)."
   ]
  },
  {
   "cell_type": "code",
   "execution_count": 7,
   "metadata": {
    "scrolled": false,
    "slideshow": {
     "slide_type": "-"
    }
   },
   "outputs": [
    {
     "data": {
      "text/plain": [
       "7625597484987"
      ]
     },
     "execution_count": 7,
     "metadata": {},
     "output_type": "execute_result"
    }
   ],
   "source": [
    "3**(3**3)"
   ]
  },
  {
   "cell_type": "code",
   "execution_count": 8,
   "metadata": {
    "scrolled": false,
    "slideshow": {
     "slide_type": "-"
    }
   },
   "outputs": [
    {
     "data": {
      "text/plain": [
       "19683"
      ]
     },
     "execution_count": 8,
     "metadata": {},
     "output_type": "execute_result"
    }
   ],
   "source": [
    "(3**3)**3"
   ]
  },
  {
   "cell_type": "code",
   "execution_count": 9,
   "metadata": {
    "scrolled": false,
    "slideshow": {
     "slide_type": "-"
    }
   },
   "outputs": [
    {
     "data": {
      "text/plain": [
       "7625597484987"
      ]
     },
     "execution_count": 9,
     "metadata": {},
     "output_type": "execute_result"
    }
   ],
   "source": [
    "3**3**3"
   ]
  },
  {
   "cell_type": "markdown",
   "metadata": {
    "slideshow": {
     "slide_type": "slide"
    }
   },
   "source": [
    "## Types of numbers (in mathematics)\n",
    "\n",
    "There are different types of numbers. For example, the numbers we use to count objects are different from the ones we use to measure lengths.\n",
    "\n",
    "So it is important to be aware of the different types of numbers in use,\n",
    "what their properties are, and what corresponds to them in Python.\n",
    "\n",
    "### Natural numbers\n",
    "\n",
    "$0, 1, 2, 3, \\ldots$: used for counting and sorting.\n",
    "\n",
    "### Integers\n",
    "\n",
    "$\\ldots, -3, -2, -1, 0, 1, 2, 3, \\ldots$: the natural numbers extended by negative numbers."
   ]
  },
  {
   "cell_type": "markdown",
   "metadata": {
    "slideshow": {
     "slide_type": "subslide"
    }
   },
   "source": [
    "### Rational numbers\n",
    "\n",
    "Positive or negative **fractions** consisting of a **numerator** and a **denominator** (which are both integers), like $1/2$ or $-123/456$.\n",
    "\n",
    "### Real numbers\n",
    "\n",
    "Positive or negative numbers with a possibly infinite, possibly non-repeating decimal expansion, like $\\sqrt{2}$ or $\\pi$."
   ]
  },
  {
   "cell_type": "markdown",
   "metadata": {
    "slideshow": {
     "slide_type": "subslide"
    }
   },
   "source": [
    "### Complex numbers \n",
    "\n",
    "Complex numbers are numbers of the form $a + b i$, with a *real part* $a$ and an imaginary part $b$ (both $a$ and $b$ are real numbers), where $i$ is a square root of $-1$ (i.e. $i^2 = -1$).\n",
    "\n",
    "Reminder:\n",
    "\n",
    "$(a+bi) + (c+di) = (a+c) + (b+d)i$.\n",
    "\n",
    "$(a+bi)(c+di) = (ac-bd) + (ad+bc)i$."
   ]
  },
  {
   "cell_type": "markdown",
   "metadata": {
    "slideshow": {
     "slide_type": "slide"
    }
   },
   "source": [
    "##  Numbers in Python\n",
    "\n",
    "\n",
    "* Python has several **data types** to represent and work with numerical values.\n",
    "\n",
    "* These data types are **disjoint**:<br> each number object\n",
    "has a unique data type.\n",
    "\n",
    "* Integers are of type `int`.\n",
    "\n",
    "* In Python, integers can be arbitrarily large while still allowing for exact computations ('arbitrary-precision arithmetic')."
   ]
  },
  {
   "cell_type": "markdown",
   "metadata": {
    "slideshow": {
     "slide_type": "subslide"
    }
   },
   "source": [
    "The type of a Python object can be determined with the `type()` function:"
   ]
  },
  {
   "cell_type": "code",
   "execution_count": 10,
   "metadata": {
    "scrolled": false,
    "slideshow": {
     "slide_type": "-"
    }
   },
   "outputs": [
    {
     "data": {
      "text/plain": [
       "int"
      ]
     },
     "execution_count": 10,
     "metadata": {},
     "output_type": "execute_result"
    }
   ],
   "source": [
    "type(1234)"
   ]
  },
  {
   "cell_type": "code",
   "execution_count": 11,
   "metadata": {
    "scrolled": false,
    "slideshow": {
     "slide_type": "-"
    }
   },
   "outputs": [
    {
     "data": {
      "text/plain": [
       "114374367934617190099880295228066276746218078451850229775887975052369504785666896446606568365201542169649974727730628842345343196581134895919942820874449837212099476648958359023796078549041949007807220625356526926729664064846685758382803707100766740220839267"
      ]
     },
     "execution_count": 11,
     "metadata": {},
     "output_type": "execute_result"
    }
   ],
   "source": [
    "123 ** 123 "
   ]
  },
  {
   "cell_type": "code",
   "execution_count": 12,
   "metadata": {
    "scrolled": false
   },
   "outputs": [
    {
     "data": {
      "text/plain": [
       "int"
      ]
     },
     "execution_count": 12,
     "metadata": {},
     "output_type": "execute_result"
    }
   ],
   "source": [
    "type(123 ** 123)"
   ]
  },
  {
   "cell_type": "markdown",
   "metadata": {
    "slideshow": {
     "slide_type": "subslide"
    }
   },
   "source": [
    "* Rationals and reals are of type `float` (\"floating point numbers\").\n",
    "\n",
    "* `float`s are only approximations to real numbers!\n",
    "\n",
    "* If possible, use `int`s whenever precise results are required.\n",
    "\n",
    "* Operations can be slow for huge integers."
   ]
  },
  {
   "cell_type": "markdown",
   "metadata": {
    "slideshow": {
     "slide_type": "subslide"
    }
   },
   "source": [
    "**Beware:** In Python, the square of the square root of $2$ is not exactly $2$."
   ]
  },
  {
   "cell_type": "code",
   "execution_count": 27,
   "metadata": {
    "scrolled": false,
    "slideshow": {
     "slide_type": "-"
    }
   },
   "outputs": [
    {
     "data": {
      "text/plain": [
       "3.0"
      ]
     },
     "execution_count": 27,
     "metadata": {},
     "output_type": "execute_result"
    }
   ],
   "source": [
    "import math\n",
    "math.sqrt(9)"
   ]
  },
  {
   "cell_type": "code",
   "execution_count": 25,
   "metadata": {
    "scrolled": false,
    "slideshow": {
     "slide_type": "-"
    }
   },
   "outputs": [
    {
     "data": {
      "text/plain": [
       "6.0"
      ]
     },
     "execution_count": 25,
     "metadata": {},
     "output_type": "execute_result"
    }
   ],
   "source": [
    "math.sqrt(9) * math.sqrt(4)"
   ]
  },
  {
   "cell_type": "markdown",
   "metadata": {
    "slideshow": {
     "slide_type": "subslide"
    }
   },
   "source": [
    "* Complex numbers are of type `complex`\n",
    "\n",
    "* Python (like engineers) uses the letter `j` for the imaginary\n",
    "unit "
   ]
  },
  {
   "cell_type": "code",
   "execution_count": 15,
   "metadata": {
    "scrolled": false
   },
   "outputs": [
    {
     "name": "stdout",
     "output_type": "stream",
     "text": [
      "(2-3j)\n"
     ]
    }
   ],
   "source": [
    "z = 2 - 3j\n",
    "print(z)"
   ]
  },
  {
   "cell_type": "code",
   "execution_count": 16,
   "metadata": {
    "scrolled": false
   },
   "outputs": [
    {
     "name": "stdout",
     "output_type": "stream",
     "text": [
      "2.0\n",
      "<class 'float'>\n",
      "-3.0\n",
      "<class 'float'>\n"
     ]
    }
   ],
   "source": [
    "print(z.real)\n",
    "print(type(z.real))\n",
    "print(z.imag)\n",
    "print(type(z.imag))"
   ]
  },
  {
   "cell_type": "code",
   "execution_count": 30,
   "metadata": {
    "scrolled": false,
    "slideshow": {
     "slide_type": "subslide"
    }
   },
   "outputs": [
    {
     "name": "stdout",
     "output_type": "stream",
     "text": [
      "<class 'int'>\n",
      "<class 'float'>\n",
      "<class 'complex'>\n"
     ]
    }
   ],
   "source": [
    "print(type(2))\n",
    "print(type(2.0))"
   ]
  },
  {
   "cell_type": "markdown",
   "metadata": {
    "slideshow": {
     "slide_type": "slide"
    }
   },
   "source": [
    "##  Basic arithmetic\n",
    "\n",
    "* Python supports \"mixed arithmetic\".\n",
    "\n",
    "* When a binary arithmetic operator has operands of different numeric types, the operand with the “narrower” type is widened to that of the other.\n",
    "\n",
    "* Here `int` is narrower than `float`, which is narrower than `complex`.\n",
    "\n",
    "* This is Python's way of realising mathematical 'inclusions', e.g. $\\mathbb Z\\subset \\mathbb Q$ (i.e. every integer is a rational number)."
   ]
  },
  {
   "cell_type": "code",
   "execution_count": 18,
   "metadata": {
    "scrolled": false,
    "slideshow": {
     "slide_type": "subslide"
    }
   },
   "outputs": [
    {
     "name": "stdout",
     "output_type": "stream",
     "text": [
      "7\n",
      "-1\n",
      "12\n",
      "0.75\n",
      "81\n"
     ]
    }
   ],
   "source": [
    "print(3 + 4)  # addition\n",
    "print(3 - 4)  # subtraction\n",
    "print(3 * 4)  # multiplication\n",
    "print(3 / 4)  # division\n",
    "print(3 ** 4) # exponentiation"
   ]
  },
  {
   "cell_type": "code",
   "execution_count": 19,
   "metadata": {
    "scrolled": false
   },
   "outputs": [
    {
     "name": "stdout",
     "output_type": "stream",
     "text": [
      "7.0\n"
     ]
    }
   ],
   "source": [
    "print(3.0 + 4)"
   ]
  },
  {
   "cell_type": "code",
   "execution_count": 20,
   "metadata": {
    "scrolled": false
   },
   "outputs": [
    {
     "data": {
      "text/plain": [
       "3.0"
      ]
     },
     "execution_count": 20,
     "metadata": {},
     "output_type": "execute_result"
    }
   ],
   "source": [
    "float(3)"
   ]
  },
  {
   "cell_type": "markdown",
   "metadata": {
    "slideshow": {
     "slide_type": "slide"
    }
   },
   "source": [
    "## Integer division\n",
    "\n",
    "* Usually, operations on two numbers of the **same type** result in a third number of that **same type**.  \n",
    "\n",
    "* Division of `int`s, however results in a `float`, if the corresponding fraction is not an integer.\n",
    "\n",
    "* If the **integer quotient** is required, Python provides **floor division** (`//`) as a separate operation.\n",
    "\n",
    "* The corresponding **remainder** can be computed with the **modulus** operator `%`."
   ]
  },
  {
   "cell_type": "code",
   "execution_count": 21,
   "metadata": {
    "scrolled": false,
    "slideshow": {
     "slide_type": "subslide"
    }
   },
   "outputs": [
    {
     "name": "stdout",
     "output_type": "stream",
     "text": [
      "5\n",
      "2\n",
      "(5, 2)\n"
     ]
    }
   ],
   "source": [
    "print(17 // 3)  # integer quotient\n",
    "print(17 % 3)   # the remainder: 17 mod 3\n",
    "print(divmod(17, 3)) # quotient and remainder in one"
   ]
  },
  {
   "cell_type": "markdown",
   "metadata": {
    "slideshow": {
     "slide_type": "subslide"
    }
   },
   "source": [
    "Floor division and modulus are related: `x == (x//y)*y + (x%y)`."
   ]
  },
  {
   "cell_type": "code",
   "execution_count": 22,
   "metadata": {
    "scrolled": false,
    "slideshow": {
     "slide_type": "-"
    }
   },
   "outputs": [
    {
     "name": "stdout",
     "output_type": "stream",
     "text": [
      "2\n",
      "-6\n"
     ]
    }
   ],
   "source": [
    "print((-16) % 3)\n",
    "print((-16) // 3)"
   ]
  },
  {
   "cell_type": "markdown",
   "metadata": {
    "slideshow": {
     "slide_type": "-"
    }
   },
   "source": [
    "For further details on floor division and the modulus operation (e.g. signs), see the [Python Language Reference](https://docs.python.org/3.4/reference/expressions.html#binary-arithmetic-operations)"
   ]
  },
  {
   "cell_type": "markdown",
   "metadata": {
    "slideshow": {
     "slide_type": "slide"
    }
   },
   "source": [
    "## The `math` Library\n",
    "\n",
    "* Python comes with many additional **modules**. These extend its basic functionality. \n",
    "\n",
    "* One fundamental module is the `math` library.\n",
    "\n",
    "* It needs to be `import`ed before it can be used in a program."
   ]
  },
  {
   "cell_type": "code",
   "execution_count": 23,
   "metadata": {
    "scrolled": false
   },
   "outputs": [
    {
     "data": {
      "text/plain": [
       "1.4142135623730951"
      ]
     },
     "execution_count": 23,
     "metadata": {},
     "output_type": "execute_result"
    }
   ],
   "source": [
    "import math\n",
    "math.sqrt(2)"
   ]
  },
  {
   "cell_type": "markdown",
   "metadata": {
    "slideshow": {
     "slide_type": "subslide"
    }
   },
   "source": [
    "* The `math` library contains many useful mathematical constants and\n",
    "additional functions:\n",
    "\n",
    "| Python | Mathematics | English |\n",
    "|--|--|--|\n",
    "| `pi` | $\\pi$ | an approximation of the number $\\pi$ |\n",
    "| `e` | $e$ | an approximation of Euler's number $e$ |\n",
    "| `abs(x)` | $\\lvert x\\rvert$ | the absolute value of $x$\n",
    "| `sqrt(x)` | $\\sqrt x$ | the square root of $x$ |\n",
    "| `sin(x)` | $\\sin(x)$ | the sine of $x$ |\n",
    "| `cos(x)` | $\\cos(x)$ | the cosine of $x$ |\n",
    "| `tan(x)` | $\\tan(x)$ | ... |\n",
    "| `asin(x)` | $\\sin^{-1}(x)$ | the inverse sine of $x$ |\n",
    "| `acos(x)` | $\\cos^{-1}(x)$ | ... |\n",
    "| `atan(x)` | $\\tan^{-1}(x)$ | ... |\n",
    "| `log(x)` | $\\ln(x)$ | the natural (base $e$) logarithm of $x$ |\n",
    "| `log10(x)` | $\\log_{10}(x)$ | the base $10$ logarithm of $x$ |\n",
    "| `exp(x)` | $e^x$ | the exponential of $x$ |\n",
    "| `ceil(x)` | $\\lceil x\\rceil$ | the smallest integer $\\geq x$ |\n",
    "| `floor(x)` | $\\lfloor x\\rfloor$ | the largest integer $\\leq x$ |"
   ]
  },
  {
   "cell_type": "code",
   "execution_count": 24,
   "metadata": {
    "scrolled": false,
    "slideshow": {
     "slide_type": "-"
    }
   },
   "outputs": [
    {
     "data": {
      "text/plain": [
       "3"
      ]
     },
     "execution_count": 24,
     "metadata": {},
     "output_type": "execute_result"
    }
   ],
   "source": [
    "math.floor(math.pi)"
   ]
  },
  {
   "cell_type": "markdown",
   "metadata": {
    "slideshow": {
     "slide_type": "slide"
    }
   },
   "source": [
    "## Summary: Numbers\n",
    "\n",
    "* The **data type** of an object determines what values it\n",
    "can have and what operations it supports.\n",
    "\n",
    "* Python has three built-in data types for representing **numerical values**: `int`, `float` and `complex`.\n",
    "\n",
    "* `float`s are (only) **approximations** to real numbers.\n",
    "\n",
    "* `int`s can be **arbitrarily large**."
   ]
  },
  {
   "cell_type": "markdown",
   "metadata": {
    "slideshow": {
     "slide_type": "subslide"
    }
   },
   "source": [
    "* Numeric data types support the basic **arithmetic operations**\n",
    "addition (`+`), subtraction (`-`), multiplication (`*`),\n",
    "division (`/`), and exponentiation (`**`).\n",
    "\n",
    "* Special operations for integers are **floor division** (`//`)\n",
    "and **remainder** (`%`).\n",
    "\n",
    "* More functions: see the `math` library.\n",
    "\n",
    "* In some situations, Python **automatically converts** numbers from one data type\n",
    "to another.\n",
    "* **Explicit conversion** (`int`, `float`, `complex`) functions can be used, too."
   ]
  }
 ],
 "metadata": {
  "celltoolbar": "Slideshow",
  "kernelspec": {
   "display_name": "Python 3 (ipykernel)",
   "language": "python",
   "name": "python3"
  },
  "language_info": {
   "codemirror_mode": {
    "name": "ipython",
    "version": 3
   },
   "file_extension": ".py",
   "mimetype": "text/x-python",
   "name": "python",
   "nbconvert_exporter": "python",
   "pygments_lexer": "ipython3",
   "version": "3.9.13"
  },
  "rise": {
   "backimage": "Snow-land.png",
   "footer": "<h2>CS102/CS103</h2>",
   "header": "<h2>Week 01</h2>",
   "theme": "beige"
  },
  "toc": {
   "base_numbering": 1,
   "nav_menu": {},
   "number_sections": true,
   "sideBar": false,
   "skip_h1_title": true,
   "title_cell": "Table of Contents",
   "title_sidebar": "Contents",
   "toc_cell": false,
   "toc_position": {
    "height": "66.7773px",
    "left": "1977.88px",
    "top": "21.3828px",
    "width": "159.414px"
   },
   "toc_section_display": false,
   "toc_window_display": true
  }
 },
 "nbformat": 4,
 "nbformat_minor": 2
}
