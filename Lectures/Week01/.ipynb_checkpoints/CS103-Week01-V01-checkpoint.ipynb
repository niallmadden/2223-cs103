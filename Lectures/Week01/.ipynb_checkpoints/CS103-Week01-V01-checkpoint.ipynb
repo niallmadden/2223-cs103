{
 "cells": [
  {
   "cell_type": "markdown",
   "metadata": {
    "slideshow": {
     "slide_type": "slide"
    }
   },
   "source": [
    "# CS102/CS103: Week 1\n",
    "\n",
    "Dr [Niall Madden](mailto:Niall.Madden@UniversityOfGalway.ie)<br>\n",
    "School of Mathematical and Statistical Sciences<br>\n",
    "University of Galway\n",
    "\n",
    "<font size=\"3\">*This notebook is adapted from one Dr Tobias Rossmann*</font>\n",
    "\n",
    "<!--<span style='color:red'>Red</span> <span style='color:green'>Green</span><span style='color:blue'> Blue</span>-->\n",
    "\n",
    "\n",
    "## Welcome to CS102/CS103\n",
    "\n",
    "<div class=\"alert alert-block alert-info\">\n",
    "    This is <font color=\"red\"><b>Introduction to Programming<b></font>, which is part of CS102 and all of CS103.\n",
    "    </div>\n",
    "    \n",
    "Usually I'll call it \"Intro to Programming\" or, with applogies to some of you, just **CS102**.\n",
    "\n",
    "\n"
   ]
  },
  {
   "cell_type": "markdown",
   "metadata": {
    "slideshow": {
     "slide_type": "slide"
    }
   },
   "source": [
    "## Introductions\n",
    "### Who am I?\n",
    "I am Dr **Niall Madden**, a lecturer in Mathematics.\n",
    "My office is in Aras de Brun, AdB-1013.\n",
    "<center><img src=\"AdeB.jpg\" width=\"40%\"/></center> "
   ]
  },
  {
   "cell_type": "markdown",
   "metadata": {
    "collapsed": true,
    "slideshow": {
     "slide_type": "slide"
    }
   },
   "source": [
    "\n",
    "### Who are you?\n",
    "\n",
    "This module is taken by various groups of students:\n",
    "\n",
    "* **CS102** (1BPC1, 1BS1, 1MR1) ($\\approx 60$ students):<br>\n",
    "15 ECTS.<br>Your final mark is the average of your Semester 1 and Semester 2 scores. \n",
    "\n",
    "* **CS103** (1BGG1, 1BMS1, 1FM1, 1PHO1) ($\\approx 145$ students):<br>\n",
    "5 ECTS. \n",
    "\n",
    "The Wednesday and Thursday lectures in Semester 1 are common to both modules. These cover <b>Introduction to Programming</b>. For more about CS102 and CS103, see the slides from the Orientation Session posted to the \"Information\" sectioon on the Blackboard modules."
   ]
  },
  {
   "cell_type": "markdown",
   "metadata": {
    "slideshow": {
     "slide_type": "slide"
    }
   },
   "source": [
    "## Topics in \"Introduction to Programming\"\n",
    "Among other things, we will cover the following:\n",
    "\n",
    "1. Getting started with Python and Jupyter\n",
    "2. Strings and text processing\n",
    "3. Variables and expressions\n",
    "4. Functions\n",
    "5. Loop, iteration and recursion\n",
    "6. Contionals and decision points\n",
    "7. Input and output\n",
    "8. Tuples, lists and dictionaries\n",
    "9. Classes and objects\n",
    "10. Files and storage"
   ]
  },
  {
   "cell_type": "markdown",
   "metadata": {
    "slideshow": {
     "slide_type": "slide"
    }
   },
   "source": [
    "## Schedule for Intro to Programming\n",
    "\n",
    "### Lectures\n",
    "Two lectures per week.\n",
    "\n",
    "* Wednesdays: at 12:00 in HBB-G019 and repeated at 13:00 in MRA-201. Expectation is that this will change to just Wednesdays at 13:00 in MRA-201.\n",
    "* Thursday 9:00 in AMB-1022 (\"Fottrell\")\n",
    "\n",
    "### Labs\n",
    "Labs start in Week 3, and run every Monday, Tuesday and Wednesday 15:00-17:00 (may run to 18:00 if needed). Venues and other information next week.\n"
   ]
  },
  {
   "cell_type": "markdown",
   "metadata": {
    "slideshow": {
     "slide_type": "slide"
    }
   },
   "source": [
    "## Assessment (Semester 1)\n",
    "\n",
    "* 5 programming assignments: 60%\n",
    "* Two class/lab tests: 20% each\n",
    "* No final exam\n",
    "\n",
    "No written exam this year."
   ]
  },
  {
   "cell_type": "markdown",
   "metadata": {
    "collapsed": true,
    "slideshow": {
     "slide_type": "subslide"
    }
   },
   "source": [
    "## Textbook \n",
    "\n",
    "Allen B. Downey\n",
    "_Think Python: How to Think Like a Computer Scientist_\n",
    "*2nd Edition*, Version 2.4.0\n",
    "            \n",
    "Freely available from https://greenteapress.com/thinkpython2/html/index.html\n",
    "\n"
   ]
  },
  {
   "cell_type": "markdown",
   "metadata": {
    "slideshow": {
     "slide_type": "slide"
    }
   },
   "source": [
    "## What is a computer?\n",
    "\n",
    "From [Wikipedia](https://en.wikipedia.org/wiki/Computer) (accessed: 28/10/2022):\n",
    "> A computer is a digital electronic machine that can be programmed to carry out sequences of arithmetic or logical operations (computation) automatically. Modern computers can perform generic sets of operations known as programs. These programs enable computers to perform a wide range of tasks. \n",
    "\n",
    "* A computer is a **universal machine** that **stores** and **manipulates** information under the control of a changeable **program**.\n",
    "    \n",
    "* A **computer program** is a step-by-step\n",
    "list of **instructions** telling a computer exactly what to do.\n",
    "\n",
    "* A computer is a machine for **executing** programs."
   ]
  },
  {
   "cell_type": "markdown",
   "metadata": {
    "slideshow": {
     "slide_type": "slide"
    }
   },
   "source": [
    "## Algorithms\n",
    "\n",
    "* In Computer Science, a _recipe_ for solving a particular type of problem is called an **algorithm**.\n",
    "\n",
    "* This course will teach you how to **think algorithmically** and to apply this thinking in practice.\n",
    "\n",
    "* A good command of algorithms can benefit you in almost all fields of science.\n",
    "\n",
    " Y. N. Harari, *Homo Deus: A Brief History of Tomorrow* (2016):\n",
    "> 'Algorithm’ is arguably the single most important concept in our world. If we want to understand our life and our future, we should make every effort to understand what an algorithm is [...] An algorithm is a methodical set of steps that can be used to make calculations, resolve problems and reach decisions. An algorithm isn’t a particular calculation, but the method followed when making the calculation. \n"
   ]
  },
  {
   "cell_type": "markdown",
   "metadata": {
    "slideshow": {
     "slide_type": "slide"
    }
   },
   "source": [
    "## Programming languages\n",
    "\n",
    "* Human (natural) languages are not well suited for describing complex algorithms.<br>(Can you think of some reasons?)\n",
    "\n",
    "* A **programming language** is a (mathematical) notation\n",
    "used to express computations in a precise way.\n",
    "\n",
    "* Every part of a program has a precise form\n",
    "(its **syntax**) and a precise meaning\n",
    "(its **semantics**)."
   ]
  },
  {
   "cell_type": "markdown",
   "metadata": {
    "slideshow": {
     "slide_type": "subslide"
    }
   },
   "source": [
    "* A **low-level** language is designed for machine readabilty (\"close to the metal\").\n",
    "\n",
    "* A **high-level** language is more human readable (e.g. more abstract or mathematical).\n",
    "\n",
    "* These are not absolute terms and depend on context.\n",
    "\n",
    "\n",
    "Many high-level languages are translated (\"**compiled**\") to a low-level language prior to execution. Others are **interpreted** by a specialised piece of software (an **interpreter**)."
   ]
  },
  {
   "cell_type": "markdown",
   "metadata": {
    "slideshow": {
     "slide_type": "subslide"
    }
   },
   "source": [
    "Over the past decades, many programming languages have been conceived.  Some widespread languages:\n",
    "\n",
    "* Assembly languages\n",
    "* C\n",
    "* Java\n",
    "* Python"
   ]
  },
  {
   "cell_type": "markdown",
   "metadata": {
    "slideshow": {
     "slide_type": "subslide"
    }
   },
   "source": [
    "All programming languages essentially serve the same purpose and have many features in common.\n",
    "\n",
    "In this module, we use Python to learn about the fundamental elements of computer programming."
   ]
  },
  {
   "cell_type": "markdown",
   "metadata": {
    "slideshow": {
     "slide_type": "slide"
    }
   },
   "source": [
    "### Assembly language (MIPS) example\n",
    "\n",
    "Assembly programs consist of *extremely* low-level instructions to the processor, like\n",
    "```\n",
    "  la $t0, a\n",
    "  la $t1, b\n",
    "  la $t2, c\n",
    "  lw $s0, 0($t1)\n",
    "  lw $s1, 0($t2)\n",
    "  mult $s0, $s1\n",
    "  mflo $s0\n",
    "  sw $s0, 0($t0)\n",
    "```\n",
    "\n",
    "This program computes $a = b \\,\\cdotp c$."
   ]
  },
  {
   "cell_type": "markdown",
   "metadata": {
    "slideshow": {
     "slide_type": "slide"
    }
   },
   "source": [
    "### C Example\n",
    "\n",
    "The same formula (with $a = 12$ and $b = 127$) as a C program looks like\n",
    "```C\n",
    "  #include <stdio.h>\n",
    "  int main(void) {\n",
    "    int a, b, c;\n",
    "    a = 12;\n",
    "    b = 127;\n",
    "    c = a * b;\n",
    "    printf(\"c = %d\\n\", c);\n",
    "    return 0;\n",
    "  }\n",
    "  ```"
   ]
  },
  {
   "cell_type": "markdown",
   "metadata": {
    "slideshow": {
     "slide_type": "slide"
    }
   },
   "source": [
    "### Python example\n",
    "\n",
    "In Python, the same effect can be achieved with fewer (and far more readable!) statements:"
   ]
  },
  {
   "cell_type": "code",
   "execution_count": 1,
   "metadata": {
    "scrolled": false,
    "slideshow": {
     "slide_type": "-"
    }
   },
   "outputs": [
    {
     "name": "stdout",
     "output_type": "stream",
     "text": [
      "c = 1524\n"
     ]
    }
   ],
   "source": [
    "a = 12\n",
    "b = 127\n",
    "c = a * b\n",
    "print('c =', c)"
   ]
  },
  {
   "cell_type": "markdown",
   "metadata": {
    "slideshow": {
     "slide_type": "slide"
    }
   },
   "source": [
    "## Python\n",
    "\n",
    "### Why Python?\n",
    "\n",
    "Because Python ...\n",
    "\n",
    "* ...  is **easy to learn**, **easy to use**, and **intuitive**.\n",
    "* ... is **powerful** and in **widespread use**.\n",
    "* ... is a **modern** programming language\n",
    "(and e.g. knows about the internet).\n",
    "* ...  is a **high-level** language (like C, Java, ...).\n",
    "* ... is, by most measures, the **most popular langaue in the world**"
   ]
  },
  {
   "cell_type": "markdown",
   "metadata": {
    "slideshow": {
     "slide_type": "subslide"
    }
   },
   "source": [
    "* ...  is **interpreted** (rather than compiled). \n",
    "* ...  supports **object-oriented programming** (but doesn't force it upon us).\n",
    "* ...  is <font color=\"green\"><b>free</b></font> (in every sense).\n",
    "* ... is great **fun**.\n",
    "\n",
    "See [www.python.org](http://www.python.org)."
   ]
  },
  {
   "cell_type": "markdown",
   "metadata": {
    "slideshow": {
     "slide_type": "slide"
    }
   },
   "source": [
    "### History of Python\n",
    "* Guido van Rossum began to develop Python in the 1980s. He held the title of 'benevolent dictator for life' until July 2018. The name comes from _Monty Python's Flying Circus_.\n",
    "\n",
    "\n",
    "* First public release: 1991\n",
    "\n",
    "* Python 1.0: 1994\n",
    "* Python 2.0: 2000\n",
    "* Python 3.0: 2008. _Major changes_\n",
    "* Python 3.8: 2019\n",
    "* Python 3.10.7: 19 September 2022"
   ]
  },
  {
   "cell_type": "markdown",
   "metadata": {
    "collapsed": true,
    "slideshow": {
     "slide_type": "slide"
    }
   },
   "source": [
    "## Summary: Computer programming\n",
    "\n",
    "* A computer is a **universal machine**.\n",
    "\n",
    "* **Computer science** is the study of what can be computed.\n",
    "\n",
    "* Computer **programs** are written using a formal notation known as a\n",
    "  **programming language**.\n",
    "\n",
    "* A Python program is a sequence of commands (called **statements**)\n",
    "  for the **Python interpreter** to execute.\n"
   ]
  },
  {
   "cell_type": "code",
   "execution_count": null,
   "metadata": {},
   "outputs": [],
   "source": []
  }
 ],
 "metadata": {
  "celltoolbar": "Slideshow",
  "kernelspec": {
   "display_name": "Python 3 (ipykernel)",
   "language": "python",
   "name": "python3"
  },
  "language_info": {
   "codemirror_mode": {
    "name": "ipython",
    "version": 3
   },
   "file_extension": ".py",
   "mimetype": "text/x-python",
   "name": "python",
   "nbconvert_exporter": "python",
   "pygments_lexer": "ipython3",
   "version": "3.9.13"
  },
  "rise": {
   "backimage": "Snow-land.png",
   "footer": "<h2>CS102/CS103</h2>",
   "header": "<h2>Week 01</h2>",
   "theme": "beige"
  },
  "toc": {
   "base_numbering": 1,
   "nav_menu": {},
   "number_sections": true,
   "sideBar": false,
   "skip_h1_title": false,
   "title_cell": "Table of Contents",
   "title_sidebar": "Contents",
   "toc_cell": false,
   "toc_position": {
    "height": "1005px",
    "left": "1648.2px",
    "top": "111.441px",
    "width": "159.115px"
   },
   "toc_section_display": false,
   "toc_window_display": true
  }
 },
 "nbformat": 4,
 "nbformat_minor": 2
}
