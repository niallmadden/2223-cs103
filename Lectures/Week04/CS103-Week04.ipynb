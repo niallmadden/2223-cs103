{
 "cells": [
  {
   "cell_type": "markdown",
   "metadata": {
    "slideshow": {
     "slide_type": "slide"
    }
   },
   "source": [
    "# CS102/CS103: Week 04 - Logic, and Fruitful functions <span style='color:red'>(V0.2)</span>\n",
    "\n",
    "<font size=\"+1\">Lecture notes for Week 4 of CS102/CS103, 19+20 Oct, 2022. You can also find these notes as a HTML file and Jupyter notebook on BINDER at [https://mybinder.org/v2/gh/niallmadden/2223-cs103/main](https://mybinder.org/v2/gh/niallmadden/2223-cs103/main)\n",
    "</font>\n",
    "<br />\n",
    "<font size=\"-1\">Dr [Niall Madden](mailto:Niall.Madden@UniversityOfGalway.ie), School of Mathematical and Statistical Sciences, \n",
    "University of Galway.\n",
    "</font>\n",
    "\n",
    "[![Binder](https://mybinder.org/badge_logo.svg)](https://mybinder.org/v2/gh/niallmadden/2223-cs103/main)\n",
    "\n",
    "\n",
    "\n",
    "***\n",
    "\n",
    "*This notebook was written by Niall Madden, and uses some material by Tobias Rossmann, and from textbook, [Think Python](https://greenteapress.com/thinkpython2/html), in particular*\n",
    "* Chapter 5:  Conditionals and recursion\n",
    "* Chapter 6:  Fruitful functions\n"
   ]
  },
  {
   "cell_type": "markdown",
   "metadata": {
    "slideshow": {
     "slide_type": "subslide"
    }
   },
   "source": [
    "## News: \n",
    "### Lab 2 this week\n",
    "\n",
    "<div class=\"alert alert-block alert-info\">\n",
    "   In Lab 2 of CS102, you are expected to write a function that counts the number of occurences of the letter `A` in a DNA sequence. You don't have to submit anything this week, but you'll develop the code further for an assignment next week.   \n",
    "    </div>"
   ]
  },
  {
   "cell_type": "markdown",
   "metadata": {
    "slideshow": {
     "slide_type": "subslide"
    }
   },
   "source": [
    "### Jupyter \n",
    "\n",
    "* We are busy porting the Jupyter server, [https://jupyter.nuigalway.ie/](https://jupyter.nuigalway.ie/), to AWS. When that happens, we may not be able to move all your files. Please download anything you want to keep no later than Thursday.\n",
    "* You can still try Jupyter at  [https://jupyter.org/](https://jupyter.org/) \n",
    "* Or at [https://colab.research.google.com/](https://colab.research.google.com/)"
   ]
  },
  {
   "cell_type": "markdown",
   "metadata": {
    "slideshow": {
     "slide_type": "slide"
    }
   },
   "source": [
    "## Boolean Expressions\n",
    "\n",
    "We learned last week that an _expression_ is something that can be evaluated, like `1+2-3/4*5`.\n",
    "\n",
    "A **Boolean expression** is one that evaluate as either `True` or `False`. (They are named in honour of [George Boole](https://mathshistory.st-andrews.ac.uk/Biographies/Boole), first Professor of Mathematics at University College Cork, and a founder of the mathematical theory of logic).\n",
    "\n",
    "Some examples:"
   ]
  },
  {
   "cell_type": "code",
   "execution_count": 1,
   "metadata": {},
   "outputs": [
    {
     "data": {
      "text/plain": [
       "True"
      ]
     },
     "execution_count": 1,
     "metadata": {},
     "output_type": "execute_result"
    }
   ],
   "source": [
    "(2+2)==4"
   ]
  },
  {
   "cell_type": "code",
   "execution_count": 7,
   "metadata": {},
   "outputs": [
    {
     "data": {
      "text/plain": [
       "False"
      ]
     },
     "execution_count": 7,
     "metadata": {},
     "output_type": "execute_result"
    }
   ],
   "source": [
    "123 == (1+2+3)"
   ]
  },
  {
   "cell_type": "markdown",
   "metadata": {
    "slideshow": {
     "slide_type": "subslide"
    }
   },
   "source": [
    "Note that\n",
    "* \"*double equals*\", `==` is used to check equality,\n",
    "* \"*single equals*\", `=` is used for assignment. \n",
    "\n",
    "Here is what happens if you mix them up:"
   ]
  },
  {
   "cell_type": "code",
   "execution_count": 8,
   "metadata": {},
   "outputs": [
    {
     "ename": "SyntaxError",
     "evalue": "cannot assign to literal (2141377799.py, line 1)",
     "output_type": "error",
     "traceback": [
      "\u001b[0;36m  Cell \u001b[0;32mIn [8], line 1\u001b[0;36m\u001b[0m\n\u001b[0;31m    123 = (1+2+3)\u001b[0m\n\u001b[0m    ^\u001b[0m\n\u001b[0;31mSyntaxError\u001b[0m\u001b[0;31m:\u001b[0m cannot assign to literal\n"
     ]
    }
   ],
   "source": [
    "123 = (1+2+3)"
   ]
  },
  {
   "cell_type": "code",
   "execution_count": 9,
   "metadata": {},
   "outputs": [
    {
     "ename": "NameError",
     "evalue": "name 'x' is not defined",
     "output_type": "error",
     "traceback": [
      "\u001b[0;31m---------------------------------------------------------------------------\u001b[0m",
      "\u001b[0;31mNameError\u001b[0m                                 Traceback (most recent call last)",
      "Cell \u001b[0;32mIn [9], line 1\u001b[0m\n\u001b[0;32m----> 1\u001b[0m \u001b[43mx\u001b[49m \u001b[38;5;241m==\u001b[39m \u001b[38;5;241m123\u001b[39m\n",
      "\u001b[0;31mNameError\u001b[0m: name 'x' is not defined"
     ]
    }
   ],
   "source": [
    "x == 123"
   ]
  },
  {
   "cell_type": "markdown",
   "metadata": {
    "slideshow": {
     "slide_type": "subslide"
    }
   },
   "source": [
    "The keywords `True` and `False` look like strings, but are not: they belong to their own data type, `bool`:\n"
   ]
  },
  {
   "cell_type": "code",
   "execution_count": 10,
   "metadata": {},
   "outputs": [
    {
     "data": {
      "text/plain": [
       "bool"
      ]
     },
     "execution_count": 10,
     "metadata": {},
     "output_type": "execute_result"
    }
   ],
   "source": [
    "type(True)"
   ]
  },
  {
   "cell_type": "markdown",
   "metadata": {
    "slideshow": {
     "slide_type": "slide"
    }
   },
   "source": [
    "### Relational Operators\n",
    "\n",
    "The equality operator is one of several that tests how expressions relate to each other. The important relational operators include:\n",
    " \n",
    "| Python | Mathematics | meaning |\n",
    "|:-:|:-:|:--|\n",
    "| `a < b` | $a < b$ | Is $a$ less than $b$? |\n",
    "| `a <= b` | $a \\leq b$ | Is $a$ less than or equal to $b$? |\n",
    "| `a == b` | $a = b$ | Is $a$ equal to $b$? |\n",
    "| `a >= b` | $a \\geq b$ | Is $a$ greater than or equal to $b$? |\n",
    "| `a > b` | $a > b$ | Is $a$ greater than $b$? |\n",
    "| `a != b` | $a \\neq b$ | Is $a$ different from $b$? |\n",
    "| `a in b` | $a \\in b$ | Does $a$ belong to $b$? |\n",
    "\n",
    "Note that some of these operators consist of **two symbols**; there must be no space between them!"
   ]
  },
  {
   "cell_type": "code",
   "execution_count": 15,
   "metadata": {
    "slideshow": {
     "slide_type": "subslide"
    }
   },
   "outputs": [
    {
     "data": {
      "text/plain": [
       "True"
      ]
     },
     "execution_count": 15,
     "metadata": {},
     "output_type": "execute_result"
    }
   ],
   "source": [
    "a=3.4\n",
    "b=34\n",
    "a <= b"
   ]
  },
  {
   "cell_type": "code",
   "execution_count": 16,
   "metadata": {},
   "outputs": [
    {
     "data": {
      "text/plain": [
       "False"
      ]
     },
     "execution_count": 16,
     "metadata": {},
     "output_type": "execute_result"
    }
   ],
   "source": [
    "\"Galway\" > \"Kerry\" # Strings are compared lexicographically (\"dictionary order\"):"
   ]
  },
  {
   "cell_type": "code",
   "execution_count": 21,
   "metadata": {},
   "outputs": [
    {
     "data": {
      "text/plain": [
       "True"
      ]
     },
     "execution_count": 21,
     "metadata": {},
     "output_type": "execute_result"
    }
   ],
   "source": [
    "'way' in 'Galway'"
   ]
  },
  {
   "cell_type": "markdown",
   "metadata": {
    "slideshow": {
     "slide_type": "slide"
    }
   },
   "source": [
    "### Logical Operators\n",
    "\n",
    "There are *three logical operators*: \n",
    "* `X and Y`, which is true if both the expressions 'X' and 'Y' evaluate as 'True'; otherwise is 'False`\n",
    "* `X or Y`, which is true if at least one of the expressions 'X' and 'Y' evaluate as 'True'; it is `False` only when both are `False`\n",
    "* `not X`, which is `True` when `X` is `False` and _vice versa_.\n",
    "\n"
   ]
  },
  {
   "cell_type": "code",
   "execution_count": 27,
   "metadata": {},
   "outputs": [
    {
     "name": "stdout",
     "output_type": "stream",
     "text": [
      "(x > 0) and (x < 10) is  True\n",
      "(y > 0) and (y < 10) is  False\n"
     ]
    }
   ],
   "source": [
    "x = 8\n",
    "y = -1\n",
    "print('(x > 0) and (x < 10) is ', (x > 0) and (x < 10))\n",
    "print('(y > 0) and (y < 10) is ', (y > 0) and (y < 10))"
   ]
  },
  {
   "cell_type": "code",
   "execution_count": 31,
   "metadata": {
    "slideshow": {
     "slide_type": "subslide"
    }
   },
   "outputs": [
    {
     "name": "stdout",
     "output_type": "stream",
     "text": [
      "The staement \"x is largest\" is True\n"
     ]
    }
   ],
   "source": [
    "x = 122\n",
    "y = 55\n",
    "z = 4\n",
    "print('The statement \"x is largest\" is', (x >= y) and (x >= z))"
   ]
  },
  {
   "cell_type": "code",
   "execution_count": 32,
   "metadata": {},
   "outputs": [
    {
     "name": "stdout",
     "output_type": "stream",
     "text": [
      "The staement \"y not smallest\" is True\n"
     ]
    }
   ],
   "source": [
    "print('The statement \"y not smallest\" is', (y >= x) or (y >= z))"
   ]
  },
  {
   "cell_type": "code",
   "execution_count": 33,
   "metadata": {},
   "outputs": [
    {
     "name": "stdout",
     "output_type": "stream",
     "text": [
      "The statement \"z not smallest\" is False\n"
     ]
    }
   ],
   "source": [
    "print('The statement \"z not smallest\" is', (z >= x) or (z >= y))"
   ]
  },
  {
   "cell_type": "code",
   "execution_count": 34,
   "metadata": {
    "slideshow": {
     "slide_type": "subslide"
    }
   },
   "outputs": [
    {
     "name": "stdout",
     "output_type": "stream",
     "text": [
      "not False =  True\n"
     ]
    }
   ],
   "source": [
    "print(\"not False = \", not False)"
   ]
  },
  {
   "cell_type": "code",
   "execution_count": 38,
   "metadata": {},
   "outputs": [
    {
     "data": {
      "text/plain": [
       "False"
      ]
     },
     "execution_count": 38,
     "metadata": {},
     "output_type": "execute_result"
    }
   ],
   "source": [
    "'u' in \"University of Galway\" # Note: case-sensitive"
   ]
  },
  {
   "cell_type": "code",
   "execution_count": 39,
   "metadata": {},
   "outputs": [
    {
     "data": {
      "text/plain": [
       "True"
      ]
     },
     "execution_count": 39,
     "metadata": {},
     "output_type": "execute_result"
    }
   ],
   "source": [
    "not( 'u' in \"University of Galway\")"
   ]
  },
  {
   "cell_type": "markdown",
   "metadata": {
    "slideshow": {
     "slide_type": "subslide"
    }
   },
   "source": [
    "> Strictly speaking, the operands of the logical operators should be boolean expressions, but Python is not very \n",
    "> strict. Any nonzero number is interpreted as True:\n"
   ]
  },
  {
   "cell_type": "code",
   "execution_count": 40,
   "metadata": {},
   "outputs": [
    {
     "data": {
      "text/plain": [
       "'Yes'"
      ]
     },
     "execution_count": 40,
     "metadata": {},
     "output_type": "execute_result"
    }
   ],
   "source": []
  },
  {
   "cell_type": "markdown",
   "metadata": {},
   "source": [
    "This flexibility can be useful, but there are some subtleties to it that might be confusing. You might want to avoid it."
   ]
  },
  {
   "cell_type": "code",
   "execution_count": null,
   "metadata": {},
   "outputs": [],
   "source": []
  },
  {
   "cell_type": "code",
   "execution_count": null,
   "metadata": {},
   "outputs": [],
   "source": []
  },
  {
   "cell_type": "markdown",
   "metadata": {
    "slideshow": {
     "slide_type": "slide"
    }
   },
   "source": [
    "## Detour: getting fancy with `print()`\n",
    "\n",
    "Before we learn how to use Boolean expressions with things called `if` statements, let's see how to get `print()` to be more flexible. We do this using **format strings**, usually called `f-strings`. \n",
    "\n",
    "An `f-string` is like a standard string, but\n",
    "* starts with the character `f` before the quotes. E.g., ``f\"hello\"``\n",
    "* if the string contains an expression between `{` and `}` it is evaluated.\n"
   ]
  },
  {
   "cell_type": "markdown",
   "metadata": {
    "slideshow": {
     "slide_type": "subslide"
    }
   },
   "source": [
    "Given a variable `x`, we can display its value as:"
   ]
  },
  {
   "cell_type": "code",
   "execution_count": 41,
   "metadata": {
    "slideshow": {
     "slide_type": "-"
    }
   },
   "outputs": [
    {
     "name": "stdout",
     "output_type": "stream",
     "text": [
      "x= 122\n"
     ]
    }
   ],
   "source": [
    "print(\"x=\", x)"
   ]
  },
  {
   "cell_type": "markdown",
   "metadata": {},
   "source": [
    "This can be also done with "
   ]
  },
  {
   "cell_type": "code",
   "execution_count": 42,
   "metadata": {},
   "outputs": [
    {
     "name": "stdout",
     "output_type": "stream",
     "text": [
      "x=122\n"
     ]
    }
   ],
   "source": [
    "print(f\"x={x}\")"
   ]
  },
  {
   "cell_type": "markdown",
   "metadata": {},
   "source": [
    "Other examples:"
   ]
  },
  {
   "cell_type": "code",
   "execution_count": 45,
   "metadata": {},
   "outputs": [
    {
     "name": "stdout",
     "output_type": "stream",
     "text": [
      "Hello, my name is George Boole, and I work as a professor. I don't like rain\n"
     ]
    }
   ],
   "source": [
    "name = \"George Boole\"\n",
    "job = \"professor\"\n",
    "alergy = \"rain\"\n",
    "print(f\"Hello, my name is {name}, and I work as a {job}. I don't like {alergy}\")"
   ]
  },
  {
   "cell_type": "markdown",
   "metadata": {
    "slideshow": {
     "slide_type": "subslide"
    }
   },
   "source": [
    "We can also call functions in an f-string:"
   ]
  },
  {
   "cell_type": "code",
   "execution_count": 46,
   "metadata": {},
   "outputs": [
    {
     "name": "stdout",
     "output_type": "stream",
     "text": [
      "Hello, my name is GEORGE BOOLE, and I work as a Professor\n"
     ]
    }
   ],
   "source": [
    "print(f\"Hello, my name is {name}, and I work as a {job}\")\n",
    "print(f\"Hello, my name is {name.upper()}, and I work as a {job.capitalize()}\")"
   ]
  },
  {
   "cell_type": "markdown",
   "metadata": {
    "slideshow": {
     "slide_type": "subslide"
    }
   },
   "source": [
    "We can also use f-strings to format numbers, for example, to determine how many decimal places of a float to show. \n",
    "\n",
    "Syntax: `{var:.3f}` to show, e.g., 3 decimal places of the `float` stored as `var`.\n",
    "Example:\n"
   ]
  },
  {
   "cell_type": "code",
   "execution_count": 51,
   "metadata": {},
   "outputs": [
    {
     "name": "stdout",
     "output_type": "stream",
     "text": [
      "George Boole spent 30.612244897959183% of his life in Cork\n"
     ]
    }
   ],
   "source": [
    "GB_born = 1815\n",
    "GB_moved_to_Cork = 1849\n",
    "GB_died = 1864\n",
    "percent_life_in_Cork = 100*(GB_died-GB_moved_to_Cork)/(GB_died-GB_born)\n",
    "print(f\"George Boole spent {percent_life_in_Cork}% of his life in Cork\")"
   ]
  },
  {
   "cell_type": "markdown",
   "metadata": {},
   "source": [
    "This would be better as"
   ]
  },
  {
   "cell_type": "code",
   "execution_count": 55,
   "metadata": {},
   "outputs": [
    {
     "name": "stdout",
     "output_type": "stream",
     "text": [
      "George Boole spent 30.61% of his life in Cork\n"
     ]
    }
   ],
   "source": [
    "print(f\"George Boole spent {percent_life_in_Cork:.2f}% of his life in Cork\")"
   ]
  },
  {
   "cell_type": "markdown",
   "metadata": {
    "slideshow": {
     "slide_type": "slide"
    }
   },
   "source": [
    "## Conditional execution: `if` statements\n",
    "\n",
    "In order to write useful programs, we need the ability to check conditions and change the behavior of the program accordingly. Conditional statements give us this ability. The simplest form is the `if` statement:\n",
    "\n",
    "if x > 0:\n",
    "    print('x is positive')\n",
    "The boolean expression after if is called the condition. If it is true, the indented statement runs. If not, nothing happens.\n",
    "\n",
    "if statements have the same structure as function definitions: a header followed by an indented body. Statements like this are called compound statements.\n",
    "\n",
    "There is no limit on the number of statements that can appear in the body, but there has to be at least one. Occasionally, it is useful to have a body with no statements (usually as a place keeper for code you haven’t written yet). In that case, you can use the pass statement, which does nothing.\n",
    "\n",
    "if x < 0:\n",
    "    pass          # TODO: need to handle negative values!"
   ]
  },
  {
   "cell_type": "markdown",
   "metadata": {
    "slideshow": {
     "slide_type": "slide"
    }
   },
   "source": [
    "## Arcane Interlude 3:\n",
    "\n"
   ]
  },
  {
   "cell_type": "markdown",
   "metadata": {
    "slideshow": {
     "slide_type": "slide"
    }
   },
   "source": [
    "## Functions (again)\n",
    "\n",
    "[Stuff form last week. To be updated before Thursday] \n",
    "In this module, we are studying _computer science_, and programming as one of the main aspects of that. _Computer Science_ is a huge field of human activity, and a very creative one. Like many other areas of science and engineering, it involves\n",
    "* Problem solving\n",
    "* Creating things, \n",
    "* Building things for building other things\n",
    "\n",
    "It is often about using tools in a new ways that the makers of the tools never even thought of.\n",
    "\n",
    "Our first steps towards building and creating involves writing our own *functions*, which are reusable tools for solving problems.\n"
   ]
  },
  {
   "cell_type": "markdown",
   "metadata": {
    "slideshow": {
     "slide_type": "slide"
    }
   },
   "source": [
    "### Built-in functions\n",
    "Before we write a function, we should acknowledge that we've already used some functions in Python:\n",
    "* print()\n",
    "* type()\n",
    "* int()\n",
    "\n",
    "Of course, there are many more functions. But all are of two types:\n",
    "* some do some calculation, and give us back a value which, for example, can be stored in variable. The textbook calls these **fruitful functions**. See [Chapter 6](https://greenteapress.com/thinkpython2/html/thinkpython2007.html).\n",
    "* some just ``do a thing``, like `print()`. The don't return a value. Often called **void** functions.\n",
    "\n",
    "Example of \"fruitful functions\" include `int()` and `float()`"
   ]
  },
  {
   "cell_type": "code",
   "execution_count": 1,
   "metadata": {},
   "outputs": [
    {
     "data": {
      "text/plain": [
       "3"
      ]
     },
     "execution_count": 1,
     "metadata": {},
     "output_type": "execute_result"
    }
   ],
   "source": [
    "int(3.1415)"
   ]
  },
  {
   "cell_type": "code",
   "execution_count": 2,
   "metadata": {},
   "outputs": [
    {
     "data": {
      "text/plain": [
       "33.0"
      ]
     },
     "execution_count": 2,
     "metadata": {},
     "output_type": "execute_result"
    }
   ],
   "source": [
    "float(33)"
   ]
  },
  {
   "cell_type": "markdown",
   "metadata": {
    "slideshow": {
     "slide_type": "slide"
    }
   },
   "source": [
    "### The `input()` function\n",
    "A new (to us) function is `input()`. Its syntax is \n",
    "```python\n",
    "  <variable> = input( <prompt> )\n",
    "```\n",
    "Here `<prompt>` is a string. Upon execution, Python displays this string and then pauses until the user has typed in an answer, followed by `Enter`.\n",
    "Whatever the user has typed (a string) will then become the **value** of the call to `input` and assigned to the variable."
   ]
  },
  {
   "cell_type": "code",
   "execution_count": 8,
   "metadata": {},
   "outputs": [
    {
     "name": "stdout",
     "output_type": "stream",
     "text": [
      "What is your name? Bob Roberts\n"
     ]
    }
   ],
   "source": [
    "name = input(\"What is your name? \")"
   ]
  },
  {
   "cell_type": "code",
   "execution_count": 9,
   "metadata": {},
   "outputs": [
    {
     "name": "stdout",
     "output_type": "stream",
     "text": [
      "You said your name is  Bob Roberts\n"
     ]
    }
   ],
   "source": [
    "print(\"You said your name is \", name)"
   ]
  },
  {
   "cell_type": "markdown",
   "metadata": {
    "slideshow": {
     "slide_type": "subslide"
    }
   },
   "source": [
    "The `input()` function always returns a string, When the input is expected to be an integer or float, it is convenient to convert the string value of the input call using `int` or `float`, respectively."
   ]
  },
  {
   "cell_type": "code",
   "execution_count": 11,
   "metadata": {},
   "outputs": [
    {
     "name": "stdout",
     "output_type": "stream",
     "text": [
      "Your Age: 12\n",
      "Your height: 1.9\n"
     ]
    }
   ],
   "source": [
    "age = int(input(\"Your Age: \"))\n",
    "height = float(input(\"Your height: \"))"
   ]
  },
  {
   "cell_type": "markdown",
   "metadata": {
    "slideshow": {
     "slide_type": "slide"
    }
   },
   "source": [
    "### Mathematical functions\n",
    "The word \"function\" is used in mathematics often. In that context, a function is  a mapping from one value to another. For example $\\sin(\\pi/2)=1$: the $\\sin()$ function maps $\\pi/2$ to 1.\n",
    "As mentioned last week, we can access mathematical functions through the `math` module."
   ]
  },
  {
   "cell_type": "code",
   "execution_count": 12,
   "metadata": {},
   "outputs": [],
   "source": [
    "import math"
   ]
  },
  {
   "cell_type": "code",
   "execution_count": 13,
   "metadata": {},
   "outputs": [
    {
     "data": {
      "text/plain": [
       "module"
      ]
     },
     "execution_count": 13,
     "metadata": {},
     "output_type": "execute_result"
    }
   ],
   "source": [
    "type(math)"
   ]
  },
  {
   "cell_type": "markdown",
   "metadata": {},
   "source": [
    "The module object contains the functions and variables defined in the module. To access one of the functions, you have to specify the name of the module and the name of the function, separated by a dot (also known as a period). This format is called **dot notation**."
   ]
  },
  {
   "cell_type": "code",
   "execution_count": 18,
   "metadata": {},
   "outputs": [
    {
     "name": "stdout",
     "output_type": "stream",
     "text": [
      "sin(x)= 0.999999998926914\n"
     ]
    }
   ],
   "source": [
    "x = 3.1415/2\n",
    "y = math.sin(x)\n",
    "print('sin(x)=', y)"
   ]
  },
  {
   "cell_type": "markdown",
   "metadata": {
    "slideshow": {
     "slide_type": "slide"
    }
   },
   "source": [
    "## Writing functions: `def`\n",
    "\n",
    "We can create our own functions using the `def` key-word:"
   ]
  },
  {
   "cell_type": "code",
   "execution_count": 20,
   "metadata": {},
   "outputs": [],
   "source": [
    "def say_hello():\n",
    "    print(\"Why hello there!\")"
   ]
  },
  {
   "cell_type": "markdown",
   "metadata": {},
   "source": [
    "* `def` is a key-word indicating we are writing (\"*defining*\") our own function\n",
    "* `say_hello` is the name of the function\n",
    "* `()` just indicates that we are not giving any information to the function. We say \"*we don't pass values to to the function*\". This is in contrast to, for example, the `math.sin()` function, which is _passed_ the value `x`\n",
    "* Together, the line `def say_hello():` is called the **function header**. It ends with a colon.\n",
    "* The rest of the function is called the *function body*. It is _indented_.\n",
    "* To use this function, just type `say_hello()` in a cell, and run it. This is referred to as **calling** the function.\n",
    "* When `say_hello()` is called, Python will \n",
    "    - jump to the function's code\n",
    "    - run it \n",
    "    - jump back."
   ]
  },
  {
   "cell_type": "code",
   "execution_count": 21,
   "metadata": {
    "slideshow": {
     "slide_type": "subslide"
    }
   },
   "outputs": [
    {
     "name": "stdout",
     "output_type": "stream",
     "text": [
      "Why hello there!\n"
     ]
    }
   ],
   "source": [
    "say_hello()  # note that the () is essential"
   ]
  },
  {
   "cell_type": "markdown",
   "metadata": {
    "slideshow": {
     "slide_type": "-"
    }
   },
   "source": [
    "If we omit the `()`, we get some unusual output: "
   ]
  },
  {
   "cell_type": "code",
   "execution_count": 23,
   "metadata": {},
   "outputs": [
    {
     "data": {
      "text/plain": [
       "function"
      ]
     },
     "execution_count": 23,
     "metadata": {},
     "output_type": "execute_result"
    }
   ],
   "source": [
    "type(say_hello)"
   ]
  },
  {
   "cell_type": "markdown",
   "metadata": {
    "slideshow": {
     "slide_type": "slide"
    }
   },
   "source": [
    "### Parameters and arguments\n",
    "Our `say_hello` function did not take an argument.\n",
    "We can write a function that takes an argument as follows:"
   ]
  },
  {
   "cell_type": "code",
   "execution_count": null,
   "metadata": {},
   "outputs": [],
   "source": []
  },
  {
   "cell_type": "code",
   "execution_count": 25,
   "metadata": {},
   "outputs": [],
   "source": [
    "def say_hello_to(name):\n",
    "    print(\"Why, hello there\", name, \"!\")"
   ]
  },
  {
   "cell_type": "markdown",
   "metadata": {},
   "source": [
    "We'll try it:"
   ]
  },
  {
   "cell_type": "code",
   "execution_count": 27,
   "metadata": {},
   "outputs": [
    {
     "name": "stdout",
     "output_type": "stream",
     "text": [
      "Why, hello there Bob !\n"
     ]
    }
   ],
   "source": [
    "say_hello_to( \")"
   ]
  },
  {
   "cell_type": "markdown",
   "metadata": {
    "slideshow": {
     "slide_type": "subslide"
    }
   },
   "source": [
    "A function can have more than one line, and can take more than one argument:"
   ]
  },
  {
   "cell_type": "code",
   "execution_count": 29,
   "metadata": {},
   "outputs": [
    {
     "name": "stdout",
     "output_type": "stream",
     "text": [
      "\"Once upon a time there were three little sisters,\"\n",
      "the Dormouse began in a great hurry;\n",
      "\"and their names were Elsie , Lacie , and Tillie \"\n"
     ]
    }
   ],
   "source": [
    "def start_story(name1, name2, name3):\n",
    "    print('\"Once upon a time there were three little sisters,\"')\n",
    "    print('the Dormouse began in a great hurry;')\n",
    "    print('\"and their names were', name1, \",\", name2, \", and\", name3, '\"')\n",
    "    \n",
    "    \n",
    "sister1 = \"Elsie\"\n",
    "sister2 = \"Lacie\"\n",
    "sister3 = \"Tillie\"\n",
    "start_story(sister1, sister2, sister3)"
   ]
  },
  {
   "cell_type": "markdown",
   "metadata": {
    "slideshow": {
     "slide_type": "slide"
    }
   },
   "source": [
    "### The software development process\n",
    "\n",
    "Writing functions is one of the most important aspects of programming. Usually, it involves some of the following steps.\n",
    "\n",
    "1. Formalise and analyse the problem\n",
    "\n",
    "2. Determine specification\n",
    "\n",
    "3. Create a design (= description of program)\n",
    "\n",
    "4. Implement the design\n",
    "\n",
    "5. Test and debug the program\n",
    "\n",
    "6. Maintain the program\n"
   ]
  },
  {
   "cell_type": "markdown",
   "metadata": {
    "slideshow": {
     "slide_type": "subslide"
    }
   },
   "source": [
    "#### Problem\n",
    "\n",
    "The current temperature in New York is 62 degrees Fahrenheit. What does that mean?  I'm used to the **Celsius** (or centigrade) scale!\n",
    "\n",
    "#### Analysis\n",
    "\n",
    "Temperatures in Fahrenheit and temperatures in Celsius are\n",
    "related to each other by a formula: $f$ degrees Fahrenheit correspond to $c$ degrees Celsius, where\n",
    "$$c = \\frac{5}{9}\\bigl(\\,f - 32\\,\\bigr).$$\n",
    "\n",
    "\n",
    "#### Specification\n",
    "\n",
    "Write a program that takes a temperature in degrees Fahrenheit as **input**\n",
    "and computes the corresponding temperature in degrees Celsius as **output**."
   ]
  },
  {
   "cell_type": "markdown",
   "metadata": {
    "slideshow": {
     "slide_type": "subslide"
    }
   },
   "source": [
    "#### Design\n",
    "\n",
    "One possible design of a program implementing this specification might be the following:\n",
    "\n",
    "1. Input temperature in degrees Fahrenheit, call this value `fahrenheit`.\n",
    "\n",
    "2. Use the above formula to compute the corresponding temperature in degrees Celsius, call this value `celsius`.\n",
    "\n",
    "3. Output `celsius`."
   ]
  },
  {
   "cell_type": "markdown",
   "metadata": {
    "slideshow": {
     "slide_type": "subslide"
    }
   },
   "source": [
    "#### Implementation\n",
    "\n",
    "In this example, each of the above points translates into one line of Python code. \n",
    "\n",
    "We'll also use a new function, `input()`, which prompts the user for some input, and stores the result in a variable.\n",
    "\n",
    "Here is our implementation:"
   ]
  },
  {
   "cell_type": "code",
   "execution_count": 31,
   "metadata": {},
   "outputs": [],
   "source": [
    "# A program to convert Fahrenheit into Celsius temperatures.\n",
    "def convert():\n",
    "    fahrenheit = float(input(\"Temperature in Fahrenheit: \"))\n",
    "    celsius = 5/9 * (fahrenheit - 32)\n",
    "    print(\"The temperature is\", celsius, \"degrees Celsius.\")"
   ]
  },
  {
   "cell_type": "markdown",
   "metadata": {
    "slideshow": {
     "slide_type": "subslide"
    }
   },
   "source": [
    "Now that it is defined, we can call it:"
   ]
  },
  {
   "cell_type": "code",
   "execution_count": 32,
   "metadata": {},
   "outputs": [
    {
     "name": "stdout",
     "output_type": "stream",
     "text": [
      "Temperature in Fahrenheit: 62\n",
      "The temperature is 16.666666666666668 degrees Celsius.\n"
     ]
    }
   ],
   "source": [
    "convert()"
   ]
  },
  {
   "cell_type": "markdown",
   "metadata": {
    "slideshow": {
     "slide_type": "slide"
    }
   },
   "source": [
    "### Variables and parameters are local\n",
    "\n",
    "When a variable us defined in a function, it is known only to that function. For example, within the `convert()` function there are variables `fahrenheit` and `celsius`. But they cannot be accessed outside the function:"
   ]
  },
  {
   "cell_type": "code",
   "execution_count": 33,
   "metadata": {},
   "outputs": [
    {
     "ename": "NameError",
     "evalue": "name 'celsius' is not defined",
     "output_type": "error",
     "traceback": [
      "\u001b[0;31m---------------------------------------------------------------------------\u001b[0m",
      "\u001b[0;31mNameError\u001b[0m                                 Traceback (most recent call last)",
      "Cell \u001b[0;32mIn [33], line 1\u001b[0m\n\u001b[0;32m----> 1\u001b[0m \u001b[38;5;28mprint\u001b[39m(\u001b[43mcelsius\u001b[49m)\n",
      "\u001b[0;31mNameError\u001b[0m: name 'celsius' is not defined"
     ]
    }
   ],
   "source": [
    "print(celsius)"
   ]
  },
  {
   "cell_type": "markdown",
   "metadata": {},
   "source": [
    "<div class=\"alert alert-block alert-info\">Finished here Friday</div>"
   ]
  }
 ],
 "metadata": {
  "celltoolbar": "Slideshow",
  "kernelspec": {
   "display_name": "Python 3 (ipykernel)",
   "language": "python",
   "name": "python3"
  },
  "language_info": {
   "codemirror_mode": {
    "name": "ipython",
    "version": 3
   },
   "file_extension": ".py",
   "mimetype": "text/x-python",
   "name": "python",
   "nbconvert_exporter": "python",
   "pygments_lexer": "ipython3",
   "version": "3.9.13"
  },
  "rise": {
   "backimage": "Snow-land.png",
   "footer": "<h2>CS102/CS103</h2>",
   "header": "<h2>Week 04</h2>",
   "theme": "solarized"
  },
  "toc": {
   "base_numbering": 1,
   "nav_menu": {},
   "number_sections": true,
   "sideBar": false,
   "skip_h1_title": true,
   "title_cell": "Table of Contents",
   "title_sidebar": "Contents",
   "toc_cell": false,
   "toc_position": {
    "height": "66.7773px",
    "left": "1977.88px",
    "top": "21.3828px",
    "width": "159.414px"
   },
   "toc_section_display": false,
   "toc_window_display": false
  },
  "varInspector": {
   "cols": {
    "lenName": 16,
    "lenType": 16,
    "lenVar": 40
   },
   "kernels_config": {
    "python": {
     "delete_cmd_postfix": "",
     "delete_cmd_prefix": "del ",
     "library": "var_list.py",
     "varRefreshCmd": "print(var_dic_list())"
    },
    "r": {
     "delete_cmd_postfix": ") ",
     "delete_cmd_prefix": "rm(",
     "library": "var_list.r",
     "varRefreshCmd": "cat(var_dic_list()) "
    }
   },
   "types_to_exclude": [
    "module",
    "function",
    "builtin_function_or_method",
    "instance",
    "_Feature"
   ],
   "window_display": false
  }
 },
 "nbformat": 4,
 "nbformat_minor": 2
}
