{
 "cells": [
  {
   "cell_type": "markdown",
   "metadata": {
    "slideshow": {
     "slide_type": "slide"
    }
   },
   "source": [
    "# CS102/CS103: Week 04 - Logic, and Fruitful functions <span style='color:red'>(V1.0)</span>\n",
    "\n",
    "<font size=\"+1\">Lecture notes for Week 4 of CS102/CS103, 19+20 Oct, 2022. You can also find these notes as a HTML file and Jupyter notebook on BINDER at [https://mybinder.org/v2/gh/niallmadden/2223-cs103/main](https://mybinder.org/v2/gh/niallmadden/2223-cs103/main)\n",
    "</font>\n",
    "<br />\n",
    "<font size=\"-1\">Dr [Niall Madden](mailto:Niall.Madden@UniversityOfGalway.ie), School of Mathematical and Statistical Sciences, \n",
    "University of Galway.\n",
    "</font>\n",
    "\n",
    "[![Binder](https://mybinder.org/badge_logo.svg)](https://mybinder.org/v2/gh/niallmadden/2223-cs103/main)\n",
    "\n",
    "\n",
    "\n",
    "***\n",
    "\n",
    "*This notebook was written by Niall Madden, and uses some material by Tobias Rossmann, and from textbook, [Think Python](https://greenteapress.com/thinkpython2/html), in particular*\n",
    "* Chapter 5:  Conditionals and recursion\n",
    "* Chapter 6:  Fruitful functions\n"
   ]
  },
  {
   "cell_type": "markdown",
   "metadata": {
    "slideshow": {
     "slide_type": "subslide"
    }
   },
   "source": [
    "## News: \n",
    "### Lab 2 this week\n",
    "\n",
    "<div class=\"alert alert-block alert-info\">\n",
    "   In Lab 2 of CS102, you are expected to write a function that counts the number of occurences of the letter `A` in a DNA sequence. You don't have to submit anything this week, but you'll develop the code further for an assignment next week.   \n",
    "    </div>"
   ]
  },
  {
   "cell_type": "markdown",
   "metadata": {
    "slideshow": {
     "slide_type": "subslide"
    }
   },
   "source": [
    "### Jupyter \n",
    "\n",
    "* We are busy porting the Jupyter server, [https://jupyter.nuigalway.ie/](https://jupyter.nuigalway.ie/), to AWS. When that happens, we may not be able to move all your files. Please download anything you want to keep no later than Thursday.\n",
    "* You can still try Jupyter at  [https://jupyter.org/](https://jupyter.org/) \n",
    "* Or at [https://colab.research.google.com/](https://colab.research.google.com/)"
   ]
  },
  {
   "cell_type": "markdown",
   "metadata": {
    "slideshow": {
     "slide_type": "slide"
    }
   },
   "source": [
    "## Boolean Expressions\n",
    "\n",
    "We learned last week that an _expression_ is something that can be evaluated, like `1+2-3/4*5`.\n",
    "\n",
    "A **Boolean expression** is one that evaluate as either `True` or `False`. (They are named in honour of [George Boole](https://mathshistory.st-andrews.ac.uk/Biographies/Boole), first Professor of Mathematics at University College Cork, and a founder of the mathematical theory of logic).\n",
    "\n",
    "Some examples:"
   ]
  },
  {
   "cell_type": "code",
   "execution_count": null,
   "metadata": {},
   "outputs": [],
   "source": [
    "(2+2)==4"
   ]
  },
  {
   "cell_type": "code",
   "execution_count": null,
   "metadata": {},
   "outputs": [],
   "source": [
    "123 == (1+2+3)"
   ]
  },
  {
   "cell_type": "markdown",
   "metadata": {
    "slideshow": {
     "slide_type": "subslide"
    }
   },
   "source": [
    "Note that\n",
    "* \"*double equals*\", `==` is used to check equality,\n",
    "* \"*single equals*\", `=` is used for assignment. \n",
    "\n",
    "Here is what happens if you mix them up:"
   ]
  },
  {
   "cell_type": "code",
   "execution_count": null,
   "metadata": {},
   "outputs": [],
   "source": [
    "123 = (1+2+3)"
   ]
  },
  {
   "cell_type": "code",
   "execution_count": null,
   "metadata": {},
   "outputs": [],
   "source": [
    "x == 123 "
   ]
  },
  {
   "cell_type": "markdown",
   "metadata": {
    "slideshow": {
     "slide_type": "subslide"
    }
   },
   "source": [
    "The keywords `True` and `False` look like strings, but are not: they belong to their own data type, `bool`:\n"
   ]
  },
  {
   "cell_type": "code",
   "execution_count": null,
   "metadata": {},
   "outputs": [],
   "source": [
    "type(True)"
   ]
  },
  {
   "cell_type": "code",
   "execution_count": null,
   "metadata": {},
   "outputs": [],
   "source": [
    "type ( (1+2+3) == 6)"
   ]
  },
  {
   "cell_type": "code",
   "execution_count": null,
   "metadata": {},
   "outputs": [],
   "source": [
    "print ( ( (1+2+3)==6) == \"True\")"
   ]
  },
  {
   "cell_type": "markdown",
   "metadata": {
    "slideshow": {
     "slide_type": "slide"
    }
   },
   "source": [
    "### Relational Operators\n",
    "\n",
    "The equality operator is one of several that tests how expressions relate to each other. The important relational operators include:\n",
    " \n",
    "| Python | Mathematics | meaning |\n",
    "|:-:|:-:|:--|\n",
    "| `a < b` | $a < b$ | Is $a$ less than $b$? |\n",
    "| `a <= b` | $a \\leq b$ | Is $a$ less than or equal to $b$? |\n",
    "| `a == b` | $a = b$ | Is $a$ equal to $b$? |\n",
    "| `a >= b` | $a \\geq b$ | Is $a$ greater than or equal to $b$? |\n",
    "| `a > b` | $a > b$ | Is $a$ greater than $b$? |\n",
    "| `a != b` | $a \\neq b$ | Is $a$ different from $b$? |\n",
    "| `a in b` | $a \\in b$ | Does $a$ belong to $b$? |\n",
    "\n",
    "Note that some of these operators consist of **two symbols**; there must be no space between them!"
   ]
  },
  {
   "cell_type": "code",
   "execution_count": null,
   "metadata": {
    "slideshow": {
     "slide_type": "subslide"
    }
   },
   "outputs": [],
   "source": [
    "a=3.4\n",
    "b=34\n",
    "a <= b"
   ]
  },
  {
   "cell_type": "code",
   "execution_count": null,
   "metadata": {},
   "outputs": [],
   "source": [
    "\"Galway\" > \"Mayo\" # Strings are compared lexicographically (\"dictionary order\"):"
   ]
  },
  {
   "cell_type": "code",
   "execution_count": null,
   "metadata": {},
   "outputs": [],
   "source": [
    "'wlay' in 'Galway'"
   ]
  },
  {
   "cell_type": "code",
   "execution_count": null,
   "metadata": {},
   "outputs": [],
   "source": [
    "s = \"GALWAY\"\n",
    "s.isupper()"
   ]
  },
  {
   "cell_type": "markdown",
   "metadata": {
    "slideshow": {
     "slide_type": "slide"
    }
   },
   "source": [
    "### Logical Operators\n",
    "\n",
    "There are *three logical operators*: \n",
    "* `X and Y`, which is true if both the expressions 'X' and 'Y' evaluate as 'True'; otherwise is 'False`\n",
    "* `X or Y`, which is true if at least one of the expressions 'X' and 'Y' evaluate as 'True'; it is `False` only when both are `False`\n",
    "* `not X`, which is `True` when `X` is `False` and _vice versa_.\n",
    "\n"
   ]
  },
  {
   "cell_type": "code",
   "execution_count": null,
   "metadata": {},
   "outputs": [],
   "source": [
    "x = 8\n",
    "y = -1\n",
    "print('(x > 0) and (x < 10) is ', (x > 0) and (x < 10))\n",
    "print('(y > 0) and (y < 10) is ', (y > 0) and (y < 10))"
   ]
  },
  {
   "cell_type": "code",
   "execution_count": null,
   "metadata": {
    "slideshow": {
     "slide_type": "subslide"
    }
   },
   "outputs": [],
   "source": [
    "True and True"
   ]
  },
  {
   "cell_type": "code",
   "execution_count": null,
   "metadata": {},
   "outputs": [],
   "source": [
    "True and False"
   ]
  },
  {
   "cell_type": "code",
   "execution_count": null,
   "metadata": {},
   "outputs": [],
   "source": [
    "False and True"
   ]
  },
  {
   "cell_type": "code",
   "execution_count": null,
   "metadata": {},
   "outputs": [],
   "source": [
    "False and False"
   ]
  },
  {
   "cell_type": "code",
   "execution_count": null,
   "metadata": {
    "slideshow": {
     "slide_type": "subslide"
    }
   },
   "outputs": [],
   "source": [
    "x = 122\n",
    "y = 55\n",
    "z = 4\n",
    "print('The statement \"x is largest\" is', (x >= y) and (x >= z))"
   ]
  },
  {
   "cell_type": "code",
   "execution_count": null,
   "metadata": {},
   "outputs": [],
   "source": [
    "print('The statement \"y not smallest\" is', (y >= x) or (y >= z))"
   ]
  },
  {
   "cell_type": "code",
   "execution_count": null,
   "metadata": {},
   "outputs": [],
   "source": [
    "print('The statement \"z not smallest\" is', (z >= x) or (z >= y))"
   ]
  },
  {
   "cell_type": "code",
   "execution_count": null,
   "metadata": {
    "slideshow": {
     "slide_type": "subslide"
    }
   },
   "outputs": [],
   "source": [
    "print(\"not False = \", not False)  "
   ]
  },
  {
   "cell_type": "code",
   "execution_count": null,
   "metadata": {
    "slideshow": {
     "slide_type": "subslide"
    }
   },
   "outputs": [],
   "source": [
    "True or True"
   ]
  },
  {
   "cell_type": "code",
   "execution_count": null,
   "metadata": {},
   "outputs": [],
   "source": [
    "True or False"
   ]
  },
  {
   "cell_type": "code",
   "execution_count": null,
   "metadata": {},
   "outputs": [],
   "source": [
    "False or True"
   ]
  },
  {
   "cell_type": "code",
   "execution_count": null,
   "metadata": {},
   "outputs": [],
   "source": [
    "False or False"
   ]
  },
  {
   "cell_type": "code",
   "execution_count": null,
   "metadata": {
    "slideshow": {
     "slide_type": "subslide"
    }
   },
   "outputs": [],
   "source": [
    "'u' in \"University of Galway\" # Note: case-sensitive"
   ]
  },
  {
   "cell_type": "code",
   "execution_count": null,
   "metadata": {},
   "outputs": [],
   "source": [
    "not( 'u' in \"University of Galway\")"
   ]
  },
  {
   "cell_type": "code",
   "execution_count": null,
   "metadata": {},
   "outputs": [],
   "source": [
    "not True"
   ]
  },
  {
   "cell_type": "code",
   "execution_count": null,
   "metadata": {},
   "outputs": [],
   "source": [
    "not False"
   ]
  },
  {
   "cell_type": "markdown",
   "metadata": {
    "slideshow": {
     "slide_type": "subslide"
    }
   },
   "source": [
    "> Strictly speaking, the operands of the logical operators should be boolean expressions, but Python is not very \n",
    "> strict. Any nonzero number is interpreted as True:\n"
   ]
  },
  {
   "cell_type": "code",
   "execution_count": null,
   "metadata": {},
   "outputs": [],
   "source": [
    "not (\"-10\")"
   ]
  },
  {
   "cell_type": "markdown",
   "metadata": {},
   "source": [
    "This flexibility can be useful, but there are some subtleties to it that might be confusing. You might want to avoid it."
   ]
  },
  {
   "cell_type": "code",
   "execution_count": null,
   "metadata": {},
   "outputs": [],
   "source": [
    "not (\"False\") # the string \"False\" is not the same as the bool False"
   ]
  },
  {
   "cell_type": "markdown",
   "metadata": {
    "slideshow": {
     "slide_type": "subslide"
    }
   },
   "source": [
    "Many functions return a `bool` value. For example, the string methods `islower()` and `isupper()`"
   ]
  },
  {
   "cell_type": "code",
   "execution_count": null,
   "metadata": {},
   "outputs": [],
   "source": [
    "s = 'HELLO'\n",
    "print('s.isupper()=', s.isupper())"
   ]
  },
  {
   "cell_type": "markdown",
   "metadata": {
    "slideshow": {
     "slide_type": "slide"
    }
   },
   "source": [
    "## Detour: getting fancy with `print()`\n",
    "\n",
    "Before we learn how to use Boolean expressions with things called `if` statements, let's see how to get `print()` to be more flexible. We do this using **format strings**, usually called `f-strings`. \n",
    "\n",
    "An `f-string` is like a standard string, but\n",
    "* starts with the character `f` before the quotes. E.g., ``f\"hello\"``\n",
    "* if the string contains an expression between `{` and `}` it is evaluated.\n"
   ]
  },
  {
   "cell_type": "markdown",
   "metadata": {
    "slideshow": {
     "slide_type": "subslide"
    }
   },
   "source": [
    "Given a variable `x`, we can display its value as:"
   ]
  },
  {
   "cell_type": "code",
   "execution_count": null,
   "metadata": {
    "slideshow": {
     "slide_type": "-"
    }
   },
   "outputs": [],
   "source": [
    "print(\"x=\", x)"
   ]
  },
  {
   "cell_type": "markdown",
   "metadata": {},
   "source": [
    "This can be also done with "
   ]
  },
  {
   "cell_type": "code",
   "execution_count": null,
   "metadata": {},
   "outputs": [],
   "source": [
    "print(f\"x={x}\")"
   ]
  },
  {
   "cell_type": "markdown",
   "metadata": {},
   "source": [
    "Other examples:"
   ]
  },
  {
   "cell_type": "code",
   "execution_count": null,
   "metadata": {},
   "outputs": [],
   "source": [
    "name = \"George Boole\"\n",
    "job = \"professor\"\n",
    "alergy = \"rain\"\n",
    "print(f\"Hello, my name is {name}, and I work as a {job}. I don't like {alergy}.\")\n",
    "print(\"Hello, my name is\", name, \", and I work as a\", job,\". I don't like\", alergy, \".\")"
   ]
  },
  {
   "cell_type": "markdown",
   "metadata": {
    "slideshow": {
     "slide_type": "subslide"
    }
   },
   "source": [
    "We can also call functions in an f-string:"
   ]
  },
  {
   "cell_type": "code",
   "execution_count": null,
   "metadata": {},
   "outputs": [],
   "source": [
    "print(f\"1. Hello, my name is {name}, and I work as a {job}\")\n",
    "print(f\"2. Hello, my name is {name.upper()}, and I work as a {job.capitalize()}\") "
   ]
  },
  {
   "cell_type": "markdown",
   "metadata": {
    "slideshow": {
     "slide_type": "subslide"
    }
   },
   "source": [
    "We can also use f-strings to format numbers, for example, to determine how many decimal places of a float to show. \n",
    "\n",
    "Syntax: `{var:.3f}` to show, e.g., 3 decimal places of the `float` stored as `var`.\n",
    "Example:\n"
   ]
  },
  {
   "cell_type": "code",
   "execution_count": null,
   "metadata": {},
   "outputs": [],
   "source": [
    "GB_born = 1815\n",
    "GB_moved_to_Cork = 1849\n",
    "GB_died = 1864 \n",
    "percent_life_in_Cork = 100*(GB_died-GB_moved_to_Cork)/(GB_died-GB_born)\n",
    "print(f\"George Boole spent {percent_life_in_Cork}% of his life in Cork\")"
   ]
  },
  {
   "cell_type": "markdown",
   "metadata": {},
   "source": [
    "This would be better as"
   ]
  },
  {
   "cell_type": "code",
   "execution_count": null,
   "metadata": {},
   "outputs": [],
   "source": [
    "print(f\"George Boole spent {percent_life_in_Cork:.2f}% of his life in Cork\")"
   ]
  },
  {
   "cell_type": "code",
   "execution_count": null,
   "metadata": {
    "slideshow": {
     "slide_type": "subslide"
    }
   },
   "outputs": [],
   "source": [
    "# Checking how rounding works\n",
    "print(f\"{1.6354:.1f}\")\n",
    "print(f\"{1.6374:.2f}\")\n",
    "print(f\"{1.6374:.3f}\")\n",
    "print(f\"{1.6374:.4f}\")\n"
   ]
  },
  {
   "cell_type": "markdown",
   "metadata": {},
   "source": [
    "<div class=\"alert alert-block alert-info\">Finished here Wednesday</div>"
   ]
  },
  {
   "cell_type": "markdown",
   "metadata": {
    "slideshow": {
     "slide_type": "slide"
    }
   },
   "source": [
    "## Arcane Interlude 3: Sound Out!\n",
    "\n",
    "It's that time of the week when I pause trying to teach Python, and just demo something fun/silly/cool stuff. As usual, emphasis is on application, not explanation\n",
    "\n",
    "**Want to play some music while coding? Here is one way:*"
   ]
  },
  {
   "cell_type": "code",
   "execution_count": null,
   "metadata": {},
   "outputs": [],
   "source": [
    "import scipy.io.wavfile as wav\n",
    "import sounddevice as sd\n",
    "\n",
    "AGS_fs, AGS_x = wav.read('Bach-AirOnAGString.wav')\n",
    "sd.play(AGS_x, AGS_fs)"
   ]
  },
  {
   "cell_type": "markdown",
   "metadata": {
    "slideshow": {
     "slide_type": "subslide"
    }
   },
   "source": [
    "Some other things you can do:"
   ]
  },
  {
   "cell_type": "code",
   "execution_count": null,
   "metadata": {},
   "outputs": [],
   "source": [
    "sd.stop() # stop playing\n",
    "duration = len(AGS_x)/AGS_fs\n",
    "print(f\"That piece lasts {int(duration//60)} minutes and {int(duration%60)} seconds\" )"
   ]
  },
  {
   "cell_type": "markdown",
   "metadata": {},
   "source": [
    "Speed it up!"
   ]
  },
  {
   "cell_type": "code",
   "execution_count": null,
   "metadata": {},
   "outputs": [],
   "source": [
    "sd.stop()\n",
    "sd.play(AGS_x, 2*AGS_fs)"
   ]
  },
  {
   "cell_type": "markdown",
   "metadata": {},
   "source": [
    "Play it backwards!"
   ]
  },
  {
   "cell_type": "code",
   "execution_count": null,
   "metadata": {},
   "outputs": [],
   "source": [
    "sd.stop()\n",
    "sd.play(AGS_x[-1:0:-1,:], AGS_fs)"
   ]
  },
  {
   "cell_type": "markdown",
   "metadata": {
    "slideshow": {
     "slide_type": "subslide"
    }
   },
   "source": [
    "Visualise it"
   ]
  },
  {
   "cell_type": "code",
   "execution_count": null,
   "metadata": {},
   "outputs": [],
   "source": [
    "import matplotlib.pyplot as plt\n",
    "plt.plot(AGS_x[0:600000,:])\n",
    "len(AGS_x)/10"
   ]
  },
  {
   "cell_type": "markdown",
   "metadata": {
    "slideshow": {
     "slide_type": "slide"
    }
   },
   "source": [
    "## Conditional execution: `if` statements\n",
    "### Syntax\n",
    "\n",
    "In order to write useful programs, we need the ability to check conditions and change the behavior of the program accordingly. Conditional statements give us this ability. The simplest form is the `if` statement. The syntax is a little like a function:  a header followed by an indented body. \n",
    "\n",
    "```python\n",
    "if (Boolean Expression):\n",
    "    do something\n",
    "    Another thing\n",
    "# Ends with an un-indented line\n",
    "```"
   ]
  },
  {
   "cell_type": "markdown",
   "metadata": {},
   "source": []
  },
  {
   "cell_type": "markdown",
   "metadata": {
    "slideshow": {
     "slide_type": "subslide"
    }
   },
   "source": [
    "```python\n",
    "if (Boolean Expression):\n",
    "    do something\n",
    "    Another thing\n",
    "# Ends with an un-indented line\n",
    "```\n",
    "\n",
    "* `if` is a key word\n",
    "* followed by a Boolean Expression. I usually write this in `(...)` for clarity, but that is not required.\n",
    "* the `if` line ends with a colon\n",
    "* the next lines are intented. They are executed if the Bollean expression evaluates as `True`. Otherwise they are ignored."
   ]
  },
  {
   "cell_type": "code",
   "execution_count": null,
   "metadata": {
    "slideshow": {
     "slide_type": "subslide"
    }
   },
   "outputs": [],
   "source": [
    "x = 19\n",
    "if ( (x%2) == 1):   # reminder on dividing x by 2 is 1.\n",
    "    print(f\"{x} is odd\")\n",
    "   "
   ]
  },
  {
   "cell_type": "code",
   "execution_count": null,
   "metadata": {},
   "outputs": [],
   "source": [
    "y = 20\n",
    "if ( (y%2) == 0):\n",
    "    print(f\"{y} is even\")"
   ]
  },
  {
   "cell_type": "code",
   "execution_count": null,
   "metadata": {
    "slideshow": {
     "slide_type": "subslide"
    }
   },
   "outputs": [],
   "source": [
    "dna_string = 'ACGTtgaGA'\n",
    "if (not dna_string.isupper()):\n",
    "    print(f\"Warning: string {dna_string} should be in uppercase\")\n"
   ]
  },
  {
   "cell_type": "markdown",
   "metadata": {
    "slideshow": {
     "slide_type": "slide"
    }
   },
   "source": [
    "### The `if`-`else` statement\n",
    "\n",
    "When writing an `if` statement, we usually want to do one thing when the condition is true, and another when it is false. For this we use an `if`-`else` statement. General form\n",
    "```python\n",
    "if <condition>:\n",
    "    <body_1>\n",
    "else:\n",
    "    <body_2>\n",
    "```\n",
    "When executed, `<condition>` is evaluated.\n",
    "If its value is `True`, the statements in `<body_1>` are executed; if its value is `False`, then the statements in `<body_2>` are executed instead."
   ]
  },
  {
   "cell_type": "markdown",
   "metadata": {
    "slideshow": {
     "slide_type": "subslide"
    }
   },
   "source": [
    "Example: check if a number is *odd or even*"
   ]
  },
  {
   "cell_type": "code",
   "execution_count": null,
   "metadata": {},
   "outputs": [],
   "source": [
    "x = 19\n",
    "if ( (x%2) == 1):\n",
    "    print(f\"{x} is odd\")\n",
    "else:\n",
    "    print(f\"{x} is even\")"
   ]
  },
  {
   "cell_type": "raw",
   "metadata": {
    "slideshow": {
     "slide_type": "subslide"
    }
   },
   "source": [
    "This last example would be even better if was written as a function. Note that when we do this, the body of the `if` statement is indented twice."
   ]
  },
  {
   "cell_type": "code",
   "execution_count": null,
   "metadata": {},
   "outputs": [],
   "source": [
    "def is_odd_or_even(n):\n",
    "    if ( (n % 2) == 1):\n",
    "        print(f\"{n} is odd\")\n",
    "    else:\n",
    "        print(f\"{n} is even\")"
   ]
  },
  {
   "cell_type": "code",
   "execution_count": null,
   "metadata": {},
   "outputs": [],
   "source": [
    "is_odd_or_even(23)"
   ]
  },
  {
   "cell_type": "markdown",
   "metadata": {
    "slideshow": {
     "slide_type": "slide"
    }
   },
   "source": [
    "### The `if`-`elif`-`else` statement\n",
    "\n",
    "In the book these are called \"Chained Conditionals\". They are the most general form of the `if`-statement:\n",
    "```python\n",
    "if <condition_1>:\n",
    "    <body_1>\n",
    "elif <condition_2>:\n",
    "    <body_2>\n",
    "# ...  \n",
    "elif <condition_n>:\n",
    "    <body_n>\n",
    "else:\n",
    "    <body_0>\n",
    "```\n",
    "\n",
    "(The final `else`-clause is optional, as are the `elif`-clauses.)"
   ]
  },
  {
   "cell_type": "code",
   "execution_count": null,
   "metadata": {
    "slideshow": {
     "slide_type": "-"
    }
   },
   "outputs": [],
   "source": [
    "def is_int_odd_or_even(n):\n",
    "    if (type(n) != int):\n",
    "        print(f\"Warning: this function works for ints but you gave {n} what is {type(n)}\")\n",
    "    elif ( (n % 2) == 1):\n",
    "        print(f\"{n} is odd\")\n",
    "    else:\n",
    "        print(f\"{n} is even\")"
   ]
  },
  {
   "cell_type": "code",
   "execution_count": null,
   "metadata": {},
   "outputs": [],
   "source": [
    "is_int_odd_or_even(123)"
   ]
  },
  {
   "cell_type": "code",
   "execution_count": null,
   "metadata": {},
   "outputs": [],
   "source": [
    "is_int_odd_or_even(1230)"
   ]
  },
  {
   "cell_type": "code",
   "execution_count": null,
   "metadata": {},
   "outputs": [],
   "source": [
    "is_int_odd_or_even(1230.01)"
   ]
  },
  {
   "cell_type": "code",
   "execution_count": null,
   "metadata": {},
   "outputs": [],
   "source": [
    "is_int_odd_or_even(\"Galway\")"
   ]
  },
  {
   "cell_type": "markdown",
   "metadata": {
    "slideshow": {
     "slide_type": "slide"
    }
   },
   "source": [
    "## Fruitful functions\n",
    "\n",
    "So far, the functions we have written \"do something, but don't return anything\". They are $\\color{red}{\\text{void}}$ functions. For example the `is_int_odd_or_even()` function just prints a message. \n",
    "\n",
    "Suppose we want to write a function `is_even()`. It would make sense for it to return a `bool` value.\n",
    "\n",
    "This is done with the `return` statement. \n",
    "Example:\n"
   ]
  },
  {
   "cell_type": "code",
   "execution_count": null,
   "metadata": {},
   "outputs": [],
   "source": [
    "def is_even(n):\n",
    "    if ( (n % 2) == 0):\n",
    "        return True\n",
    "    else:\n",
    "        return False\n",
    "    \n",
    "answer = is_even(120)\n",
    "print(answer)"
   ]
  },
  {
   "cell_type": "code",
   "execution_count": null,
   "metadata": {
    "slideshow": {
     "slide_type": "subslide"
    }
   },
   "outputs": [],
   "source": [
    "x=129\n",
    "print(f'The statement \"{x} is even\" is {is_even(x)}')"
   ]
  },
  {
   "cell_type": "markdown",
   "metadata": {
    "slideshow": {
     "slide_type": "subslide"
    }
   },
   "source": [
    "### The temperature conversion function again\n",
    "Last week we wrote a function that prompted the user for a temperature in Fahrenheit, and returned the equivalent temperature in Celsius. It would make sense to rewrite this function so that it takes the Fahrenheit temperature as an input, and gave the Celsius value as an output.\n"
   ]
  },
  {
   "cell_type": "code",
   "execution_count": null,
   "metadata": {},
   "outputs": [],
   "source": [
    "# Function to convert Fahrenheit into Celsius \n",
    "def convert(fahrenheit):\n",
    "    Celsius = 5/9 * (fahrenheit - 32)\n",
    "    return Celsius\n",
    "\n",
    "t_Fah = 96\n",
    "t_Cel = convert(t_Fah)\n",
    "print(f\"{t_Fah} in Fahrenheit is {t_Cel:.3f}\")"
   ]
  },
  {
   "cell_type": "code",
   "execution_count": null,
   "metadata": {},
   "outputs": [],
   "source": [
    "t_Fah = 32\n",
    "t_Cel = convert(t_Fah)\n",
    "print(f\"{t_Fah} in Fahrenheit is {t_Cel:.3f}\")"
   ]
  },
  {
   "cell_type": "markdown",
   "metadata": {
    "slideshow": {
     "slide_type": "slide"
    }
   },
   "source": [
    "### Recursive functions\n",
    "A function is **recursive** if it calls itself. A simple example is the \"power\" function. We know that\n",
    "$$ a^n = \\underbrace{a \\times a \\times a \\times \\cdots \\times a}_{n \\text{ times}}$$\n",
    "\n",
    "This can also be written as \n",
    "$$ a^n = a \\times a^{n-1}.$$\n",
    "We can use this formula again to get $a^{n-1}$:\n",
    "$$ a^{n-1} = a \\times a^{n-2}.$$\n",
    "and \n",
    "$$ a^{n-2} = a \\times a^{n-3}.$$\n",
    "We stop when we get to $a^0$ and use $a^0=1$.\n",
    "\n",
    "This is an example of a **recursive** function. Here is how to code it:"
   ]
  },
  {
   "cell_type": "code",
   "execution_count": null,
   "metadata": {
    "slideshow": {
     "slide_type": "subslide"
    }
   },
   "outputs": [],
   "source": [
    "def my_power(a, n):\n",
    "    if (n == 0):\n",
    "        return 1\n",
    "    else:\n",
    "        return a*my_power(a, n-1)\n",
    "    \n",
    "my_power(2,10)\n",
    "    "
   ]
  },
  {
   "cell_type": "markdown",
   "metadata": {
    "slideshow": {
     "slide_type": "slide"
    }
   },
   "source": [
    "### Is that a palindrome?\n",
    "\n",
    "A **palindrome** is a word (or phrase) that spells the same forward and backward. Examples of palindromes include\n",
    "* mom, dad and bob\n",
    "* ABBA, noon\n",
    "* kayak, level, deified, rotator.\n",
    "\n",
    "The simplest way, in Python, of checking if a string is a palindome is as follows"
   ]
  },
  {
   "cell_type": "code",
   "execution_count": null,
   "metadata": {},
   "outputs": [],
   "source": [
    "s = \"level\"\n",
    "print(f\"{s} is a palindrome? {s == s[-1::-1]}\")"
   ]
  },
  {
   "cell_type": "code",
   "execution_count": null,
   "metadata": {},
   "outputs": [],
   "source": [
    "t = \"python\"\n",
    "print(f\"{t} is a palindrome? {t == t[-1::-1]}\")\n"
   ]
  },
  {
   "cell_type": "markdown",
   "metadata": {
    "slideshow": {
     "slide_type": "subslide"
    }
   },
   "source": [
    "In out last example, we'll write a recursive function that checks if a word is a palindrome. \n",
    "For exposition, it uses a more complicated method:\n",
    "> If a word is a palindrome then\n",
    "> * Its first and last letters are the same\n",
    "> * And the word we get by removing the first and last letters is a palindrome (the \"empty\" word is a palindrome)."
   ]
  },
  {
   "cell_type": "code",
   "execution_count": null,
   "metadata": {},
   "outputs": [],
   "source": [
    "def is_palindrome(word):\n",
    "    if len(word)==0:\n",
    "        return True\n",
    "    elif (word[0] != word[-1]):\n",
    "        return False\n",
    "    else:\n",
    "        new_word = word[1:-1]\n",
    "        return(is_palindrome(new_word))\n",
    "        "
   ]
  },
  {
   "cell_type": "code",
   "execution_count": null,
   "metadata": {
    "slideshow": {
     "slide_type": "subslide"
    }
   },
   "outputs": [],
   "source": [
    "is_palindrome(\"navan\")"
   ]
  },
  {
   "cell_type": "code",
   "execution_count": null,
   "metadata": {},
   "outputs": [],
   "source": [
    "is_palindrome(\"galway\")    "
   ]
  },
  {
   "cell_type": "markdown",
   "metadata": {
    "slideshow": {
     "slide_type": "subslide"
    }
   },
   "source": [
    "<div class=\"alert alert-block alert-info\">Finished here.</div>"
   ]
  }
 ],
 "metadata": {
  "celltoolbar": "Slideshow",
  "kernelspec": {
   "display_name": "Python 3 (ipykernel)",
   "language": "python",
   "name": "python3"
  },
  "language_info": {
   "codemirror_mode": {
    "name": "ipython",
    "version": 3
   },
   "file_extension": ".py",
   "mimetype": "text/x-python",
   "name": "python",
   "nbconvert_exporter": "python",
   "pygments_lexer": "ipython3",
   "version": "3.9.13"
  },
  "rise": {
   "backimage": "Snow-land.png",
   "footer": "<h2>CS102/CS103</h2>",
   "header": "<h2>Week 04</h2>",
   "theme": "solarized"
  },
  "toc": {
   "base_numbering": 1,
   "nav_menu": {},
   "number_sections": true,
   "sideBar": false,
   "skip_h1_title": true,
   "title_cell": "Table of Contents",
   "title_sidebar": "Contents",
   "toc_cell": false,
   "toc_position": {
    "height": "47.691px",
    "left": "1861.98px",
    "top": "20.0243px",
    "width": "159.115px"
   },
   "toc_section_display": false,
   "toc_window_display": true
  },
  "varInspector": {
   "cols": {
    "lenName": 16,
    "lenType": 16,
    "lenVar": 40
   },
   "kernels_config": {
    "python": {
     "delete_cmd_postfix": "",
     "delete_cmd_prefix": "del ",
     "library": "var_list.py",
     "varRefreshCmd": "print(var_dic_list())"
    },
    "r": {
     "delete_cmd_postfix": ") ",
     "delete_cmd_prefix": "rm(",
     "library": "var_list.r",
     "varRefreshCmd": "cat(var_dic_list()) "
    }
   },
   "types_to_exclude": [
    "module",
    "function",
    "builtin_function_or_method",
    "instance",
    "_Feature"
   ],
   "window_display": false
  }
 },
 "nbformat": 4,
 "nbformat_minor": 2
}
