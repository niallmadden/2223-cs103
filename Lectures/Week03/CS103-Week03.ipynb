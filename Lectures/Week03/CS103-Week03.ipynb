{
 "cells": [
  {
   "cell_type": "markdown",
   "metadata": {
    "slideshow": {
     "slide_type": "slide"
    }
   },
   "source": [
    "# CS102/CS103: Week 03 - Jupyter and Functions <span style='color:green'>(V1.0)</span>\n",
    "Dr [Niall Madden](mailto:Niall.Madden@UniversityOfGalway.ie)<br>\n",
    "School of Mathematical and Statistical Sciences<br>\n",
    "University of Galway\n",
    "\n",
    "Lecture notes for Week 3 of CS102/CS103, Oct 12 and 13, 2022. You can also find these notes as a HTML file and Jupyter notebook at [https://www.niallmadden.ie/2223-CS103/W03](https://www.niallmadden.ie/2223-CS103/W03), and on BINDER at [https://mybinder.org/v2/gh/niallmadden/2223-cs103/main](https://mybinder.org/v2/gh/niallmadden/2223-cs103/main)\n",
    "\n",
    "<font size=\"3\">*This notebook was written by Niall Madden, and incorporates material by colleagues who previously taught this module, especially Dr Tobias Rossmann, as well as parts from the textbook, [Think Python](https://greenteapress.com/thinkpython2/html).*</font>\n",
    "\n",
    "\n",
    "## News: \n",
    "### Labs started this week!\n",
    "\n",
    "<div class=\"alert alert-block alert-info\">\n",
    "   Labs for CS102 and CS103 started this weekk (week starting 10 Oct 2022), and will continue until the end of semester, except for the weeks of 31st Oct, and Dec 12.<br/>\n",
    "    You should attend one session per week. More details on Blackboard... \n",
    "    </div>"
   ]
  },
  {
   "cell_type": "markdown",
   "metadata": {
    "slideshow": {
     "slide_type": "subslide"
    }
   },
   "source": [
    "### Jupyter \n",
    "You should use Jupyter for labs, and for running the notebooks these slides are based on.\n",
    "Try \n",
    "* Our own server at [https://jupyter.nuigalway.ie/](https://jupyter.nuigalway.ie/). To login use your ID number as your username. Enter any password, but **remember it**: it is not the same as the password for other systems in the University of Galway. If you can't log-in, send an email to [Niall.Madden@UniversityOfGalway.ie]\n",
    "* Or, the classic [https://jupyter.org/](https://jupyter.org/) server\n",
    "* Or try Google's [https://colab.research.google.com/](https://colab.research.google.com/)"
   ]
  },
  {
   "cell_type": "markdown",
   "metadata": {
    "slideshow": {
     "slide_type": "subslide"
    }
   },
   "source": [
    "### These notes\n",
    "These notes are posted to Blackboard. But you can also access them at [https://www.niallmadden.ie/2223-CS103/W03](https://www.niallmadden.ie/2223-CS103/W03)\n",
    "\n",
    "You can upload the notebook to a [Jupyter server](https://jupyter.nuigalway.ie). I'll also post them to  [BINDER](https://mybinder.org/v2/gh/niallmadden/2223-cs103/6167749621a9effc4d5a74564788aa19414cff8a?urlpath=lab%2Ftree%2FW02%2FCS103-Week03.ipynb)"
   ]
  },
  {
   "cell_type": "markdown",
   "metadata": {
    "slideshow": {
     "slide_type": "slide"
    }
   },
   "source": [
    "## Values, expressions, and variables.\n",
    "### Overview\n",
    "\n",
    "* Python programs operate on **values** of objects with **types** such as `int` or `str`.\n",
    "\n",
    "* Values can be assigned to **variables** for later (re)use.\n",
    "\n",
    "* **Literals** are representations of *fixed* values, like `321` or `Hello`.\n",
    "\n",
    "* Literals and variables can be combined using operators (e.g. `+` or `*`) and other ingredients (e.g. function calls) to form **expressions**."
   ]
  },
  {
   "cell_type": "code",
   "execution_count": 2,
   "metadata": {
    "slideshow": {
     "slide_type": "subslide"
    }
   },
   "outputs": [
    {
     "data": {
      "text/plain": [
       "-5614.3"
      ]
     },
     "execution_count": 2,
     "metadata": {},
     "output_type": "execute_result"
    }
   ],
   "source": [
    "# The value represented by the literal 1234 is assigned to the variable x \n",
    "x = 12.34 \n",
    "y = 5678  # val of literal 5678 is assigned to variable y\n",
    "\n",
    "# By combining literals and variables, we may form expressions\n",
    "5*x - y + 2"
   ]
  },
  {
   "cell_type": "markdown",
   "metadata": {
    "slideshow": {
     "slide_type": "-"
    }
   },
   "source": [
    "* When you run a code cell, the Python kernel attempts to **execute** the code. This involves **evaluating** all expressions, i.e. computing their values.\n",
    "* If successful and the final statement is an expression, its value is printed below the cell.\n",
    "\n",
    "Types of values include integers as above, or strings:"
   ]
  },
  {
   "cell_type": "code",
   "execution_count": 3,
   "metadata": {
    "slideshow": {
     "slide_type": "-"
    }
   },
   "outputs": [
    {
     "data": {
      "text/plain": [
       "'GALWAAAAAAAAAAAAAAAAAAAAAAAAAAAAAAAAAAAAAAAAAAAAAAAAAAAAAAAAAAAAAAAAAAY'"
      ]
     },
     "execution_count": 3,
     "metadata": {},
     "output_type": "execute_result"
    }
   ],
   "source": [
    "'GALW' + 'A'*66 + 'Y'"
   ]
  },
  {
   "cell_type": "markdown",
   "metadata": {
    "slideshow": {
     "slide_type": "slide"
    }
   },
   "source": [
    "Our next example, might be of particular interest to students in BGG1: we'll make a random DNA sequence. In doing so, we'll also revised indexing in strings from last week.\n",
    "\n",
    "A DNA sequence can be represented by a sequence of letters, each of which stands for one of adenine (`A`), cytosine (`C`), guanine (`G`), or thymine (`T`). For example, \n",
    "`ACGTCGTC` or `GGCCATATA`.\n",
    "\n",
    "To start, let's define a string with these four bases:"
   ]
  },
  {
   "cell_type": "code",
   "execution_count": 4,
   "metadata": {},
   "outputs": [
    {
     "name": "stdout",
     "output_type": "stream",
     "text": [
      "The bases in a DNA sequence are ACGT\n"
     ]
    }
   ],
   "source": [
    "bases = \"ACGT\"\n",
    "print(\"The bases in a DNA sequence are\", bases)"
   ]
  },
  {
   "cell_type": "markdown",
   "metadata": {},
   "source": [
    "We want to pick one at random. To do that, we'll use the `random` module, and the function `random.randint(a,b)` that gives you a random `int` between `a` and `b` (inclusive).\n",
    "Example:"
   ]
  },
  {
   "cell_type": "code",
   "execution_count": 7,
   "metadata": {},
   "outputs": [
    {
     "name": "stdout",
     "output_type": "stream",
     "text": [
      "1 -1 86 743\n"
     ]
    }
   ],
   "source": [
    "import random\n",
    "# 4 random numbers between 0 and 10\n",
    "print(random.randint(0,1), random.randint(-5,-1), random.randint(10,99), random.randint(100,999))"
   ]
  },
  {
   "cell_type": "markdown",
   "metadata": {
    "slideshow": {
     "slide_type": "subslide"
    }
   },
   "source": [
    "Now to pick some **values** randomly chosen bases:"
   ]
  },
  {
   "cell_type": "code",
   "execution_count": 13,
   "metadata": {},
   "outputs": [
    {
     "name": "stdout",
     "output_type": "stream",
     "text": [
      "ACGT\n",
      "G\n"
     ]
    }
   ],
   "source": [
    "print(bases)\n",
    "print(bases[2])"
   ]
  },
  {
   "cell_type": "code",
   "execution_count": 17,
   "metadata": {
    "slideshow": {
     "slide_type": "-"
    }
   },
   "outputs": [
    {
     "name": "stdout",
     "output_type": "stream",
     "text": [
      "2 G\n"
     ]
    }
   ],
   "source": [
    "i = random.randint(0,3)\n",
    "print(i, bases[i])"
   ]
  },
  {
   "cell_type": "code",
   "execution_count": 18,
   "metadata": {},
   "outputs": [
    {
     "data": {
      "text/plain": [
       "'ATA'"
      ]
     },
     "execution_count": 18,
     "metadata": {},
     "output_type": "execute_result"
    }
   ],
   "source": [
    "bases[random.randint(0,3)] + bases[random.randint(0,3)]  + bases[random.randint(0,3)]"
   ]
  },
  {
   "cell_type": "code",
   "execution_count": 20,
   "metadata": {},
   "outputs": [
    {
     "data": {
      "text/plain": [
       "'CCTGAA'"
      ]
     },
     "execution_count": 20,
     "metadata": {},
     "output_type": "execute_result"
    }
   ],
   "source": [
    "bases[random.randint(0,3)] + bases[random.randint(0,3)]  + bases[random.randint(0,3)] \\\n",
    "+ bases[random.randint(0,3)] + bases[random.randint(0,3)]  + bases[random.randint(0,3)]"
   ]
  },
  {
   "cell_type": "markdown",
   "metadata": {
    "slideshow": {
     "slide_type": "slide"
    }
   },
   "source": [
    "### Expressions\n",
    "\n",
    "* The fragments of Python code that describe the values (and that often look like mathematical formulae) are called **expressions**.\n",
    "\n",
    "* Expressions have values.\n",
    "\n",
    "* The simplest kind of an expression is a **literal** (like the number `17` or an explicit string `\"hello!\"`). The value of a literal is what you expect."
   ]
  },
  {
   "cell_type": "markdown",
   "metadata": {
    "slideshow": {
     "slide_type": "subslide"
    }
   },
   "source": [
    "* In general, expressions are obtained by combining simpler expressions.<br>\n",
    "  Examples:\n",
    "the sum of two numbers, or the sum of a product and a quotient, ...\n",
    "\n",
    "* The process of deriving a value from an expression is called **evaluation**\n",
    "\n",
    "* This is a major part of what the Python interpreter does!"
   ]
  },
  {
   "cell_type": "code",
   "execution_count": 23,
   "metadata": {},
   "outputs": [
    {
     "data": {
      "text/plain": [
       "39"
      ]
     },
     "execution_count": 23,
     "metadata": {},
     "output_type": "execute_result"
    }
   ],
   "source": [
    "(12 * 3) + (15 // 5)"
   ]
  },
  {
   "cell_type": "code",
   "execution_count": 22,
   "metadata": {},
   "outputs": [
    {
     "data": {
      "text/plain": [
       "39"
      ]
     },
     "execution_count": 22,
     "metadata": {},
     "output_type": "execute_result"
    }
   ],
   "source": [
    "3 * 13"
   ]
  },
  {
   "cell_type": "markdown",
   "metadata": {
    "slideshow": {
     "slide_type": "slide"
    }
   },
   "source": [
    "### Variables and assignments (again)\n",
    "Earlier we learned:\n",
    "* Values can be preserved and reused by assigning them to **variables**.\n",
    "* A variable is a named container of a value.\n",
    "* A variable with a given name is created the first time it is **assigned** a value.\n",
    "* Subsequent assignments may change the value of the variable.\n",
    "* Evaluating a variable in an expression retrieves its value.\n",
    "* Assignment **always** consist of a variable (or several variables) on the left of the equals, and an expression on the right."
   ]
  },
  {
   "cell_type": "code",
   "execution_count": 24,
   "metadata": {
    "slideshow": {
     "slide_type": "-"
    }
   },
   "outputs": [
    {
     "data": {
      "text/plain": [
       "39"
      ]
     },
     "execution_count": 24,
     "metadata": {},
     "output_type": "execute_result"
    }
   ],
   "source": [
    "x = (12 * 3) + (15 // 5)\n",
    "x"
   ]
  },
  {
   "cell_type": "code",
   "execution_count": 32,
   "metadata": {},
   "outputs": [
    {
     "data": {
      "text/plain": [
       "True"
      ]
     },
     "execution_count": 32,
     "metadata": {},
     "output_type": "execute_result"
    }
   ],
   "source": [
    "x == 39 "
   ]
  },
  {
   "cell_type": "code",
   "execution_count": 30,
   "metadata": {},
   "outputs": [],
   "source": [
    "# x + 2 = 39 # Not legal"
   ]
  },
  {
   "cell_type": "markdown",
   "metadata": {
    "slideshow": {
     "slide_type": "slide"
    }
   },
   "source": [
    "It is important to note that the value of the expression on the right is first calculated, and then the result stored in the variable on the left. "
   ]
  },
  {
   "cell_type": "code",
   "execution_count": 33,
   "metadata": {},
   "outputs": [
    {
     "name": "stdout",
     "output_type": "stream",
     "text": [
      "x= 39\n"
     ]
    }
   ],
   "source": [
    "print('x=',x)"
   ]
  },
  {
   "cell_type": "code",
   "execution_count": 34,
   "metadata": {},
   "outputs": [],
   "source": [
    "x = x + 1  # new value = old value + 1"
   ]
  },
  {
   "cell_type": "code",
   "execution_count": 35,
   "metadata": {},
   "outputs": [
    {
     "name": "stdout",
     "output_type": "stream",
     "text": [
      "x= 40\n"
     ]
    }
   ],
   "source": [
    "print('x=',x)"
   ]
  },
  {
   "cell_type": "markdown",
   "metadata": {
    "slideshow": {
     "slide_type": "slide"
    }
   },
   "source": [
    "Variable names are examples of things called **identifiers**.\n",
    "\n",
    "* An identifier is composed of letters (a to z and A to Z, digits (0 to 9) and underscores (_), but it cannot begin with a digit.\n",
    "* Certain **keywords** (such as `import`) have a special meaning in Python and cannot be used as identifiers.\n",
    "* Python is **case-sensitive**. The following identifiers are **all different** variables:\n",
    "    - `text`\n",
    "    - `Text`\n",
    "    - `tExT`\n"
   ]
  },
  {
   "cell_type": "code",
   "execution_count": 36,
   "metadata": {
    "slideshow": {
     "slide_type": "subslide"
    }
   },
   "outputs": [
    {
     "name": "stdout",
     "output_type": "stream",
     "text": [
      "x= 40\n",
      "X= 20.0\n"
     ]
    }
   ],
   "source": [
    "X  = x/2\n",
    "print('x=', x)\n",
    "print('X=', X)"
   ]
  },
  {
   "cell_type": "markdown",
   "metadata": {
    "slideshow": {
     "slide_type": "subslide"
    }
   },
   "source": [
    "### Keywords in Python\n",
    "\n",
    "\n",
    "The complete list of keywords in Python is as follows."
   ]
  },
  {
   "cell_type": "code",
   "execution_count": 1,
   "metadata": {
    "scrolled": true,
    "slideshow": {
     "slide_type": "-"
    }
   },
   "outputs": [
    {
     "name": "stdout",
     "output_type": "stream",
     "text": [
      "['False', 'None', 'True', '__peg_parser__', 'and', 'as', 'assert', 'async', 'await', 'break', 'class', 'continue', 'def', 'del', 'elif', 'else', 'except', 'finally', 'for', 'from', 'global', 'if', 'import', 'in', 'is', 'lambda', 'nonlocal', 'not', 'or', 'pass', 'raise', 'return', 'try', 'while', 'with', 'yield']\n"
     ]
    }
   ],
   "source": [
    "import keyword\n",
    "print(keyword.kwlist)"
   ]
  },
  {
   "cell_type": "markdown",
   "metadata": {
    "slideshow": {
     "slide_type": "subslide"
    }
   },
   "source": [
    "Or, in a more readable table:\n",
    "\n",
    "\n",
    "| | | | |\n",
    "|:-:|:-:|:-:|:-:|\n",
    "|`False`|`class`|`from`|`or`|\n",
    "|`None`|`continue`|`global`|`pass`|\n",
    "|`True`|`def`|`if`|`raise`|`yield`|\n",
    "|`and`|`del`|`import`|`return`|\n",
    "|`as`|`elif`|`in`|`try`|\n",
    "|`assert`|`else`|`is`|`while`|\n",
    "| `async` | `except`|`lambda`|`with`|\n",
    "| `await` | `finally` | `nonlocal` | `yield`|\n",
    "|`break`| `for` | `not` |\n",
    "\n",
    "We will encounter many (but not all) of these later on."
   ]
  },
  {
   "cell_type": "markdown",
   "metadata": {
    "collapsed": true,
    "slideshow": {
     "slide_type": "slide"
    }
   },
   "source": [
    "### Summary: expressions and assignments\n",
    "\n",
    "* A program deals with **values** of different types.\n",
    "\n",
    "* **Expressions** are fragments of code that **represent** data values.\n",
    "\n",
    "* **Literals** are expressions that explicitly describe a specific value, e.g. `\"hello\"`, or `3.1415`.\n",
    "\n",
    "* **Operators** (like `+`) are used to combine expressions into larger expressions.\n",
    "\n",
    "* Values can be assigned to **variables**."
   ]
  },
  {
   "cell_type": "markdown",
   "metadata": {
    "collapsed": true,
    "slideshow": {
     "slide_type": "subslide"
    }
   },
   "source": [
    "* Each variable has a **name** consisting of letters, digits and underscores, but not starting with a digit and different from any **keyword**.\n",
    "\n",
    "* Variables can be part of expressions. Upon evaluation, their current values are substituted into the expression.\n",
    "\n",
    "* Over time, a variable can be assigned different values."
   ]
  },
  {
   "cell_type": "markdown",
   "metadata": {
    "slideshow": {
     "slide_type": "slide"
    }
   },
   "source": [
    "## [Project Jupyter](http://jupyter.org/)\n",
    "\n",
    "> Project Jupyter exists to develop open-source software, open-standards, and services for interactive computing across dozens of programming languages.\n",
    "\n",
    "- Jupyter **notebooks** are interactive documents that combine Python code and text.\n",
    "\n",
    "- Modern (2015&ndash;) and actively developed.\n",
    "\n",
    "- Popular in several branches of science."
   ]
  },
  {
   "cell_type": "markdown",
   "metadata": {
    "slideshow": {
     "slide_type": "slide"
    }
   },
   "source": [
    "### [Jupyter notebooks](https://jupyter-notebook.readthedocs.io/en/stable/notebook.html)\n",
    "\n",
    "* Notebooks are created, modified, and used from within a browser. \n",
    "* We use them for lecture notes and practicals.\n",
    "* Notebooks can be uploaded to, downloaded from, edited, etc. on our server\n",
    "https://jupyter.nuigalway.ie\n",
    "\n",
    "To access the server: go to https://jupyter.nuigalway.ie, enter your student ID, and choose any password. Make sure you remember it. We can change it later, but it is tedious.\n",
    "\n",
    "Other servers include:\n",
    "* The classic [https://jupyter.org/] server\n",
    "* Google's https://colab.research.google.com/\n",
    "\n",
    "Warning. You may need to save notebooks on your device if you want to reuse them later."
   ]
  },
  {
   "cell_type": "markdown",
   "metadata": {
    "slideshow": {
     "slide_type": "slide"
    }
   },
   "source": [
    "### Notebooks\n",
    "\n",
    "* A notebook consists of a sequence of **cells**.\n",
    "\n",
    "* A cell either contains **text** or (Python) **code**.\n",
    "\n",
    "* A text cell contains [markdown]( https://jupyter-notebook.readthedocs.io/en/stable/examples/Notebook/Working%20With%20Markdown%20Cells.html) formatted text.\n",
    "\n",
    "* A code cell can be executed (\"run\") using the notebook's Python **kernel**.\n",
    "\n",
    "* Running text cells 'renders' the text."
   ]
  },
  {
   "cell_type": "markdown",
   "metadata": {
    "slideshow": {
     "slide_type": "subslide"
    }
   },
   "source": [
    "At each time, the notebook is either in **edit mode** or in **command mode**.\n",
    "* In command mode, you can move around the notebook and operate on cells (e.g. copy and paste, split or merge cells, etc.).\n",
    "* In edit mode, the content of the current cell can be modified."
   ]
  },
  {
   "cell_type": "markdown",
   "metadata": {
    "slideshow": {
     "slide_type": "subslide"
    }
   },
   "source": [
    "Some keyboard shortcuts:\n",
    "\n",
    "* `Esc`: switch to command mode\n",
    "\n",
    "* `Enter`: switch to edit mode (from command mode)\n",
    "\n",
    "* `Shift-Enter`: run cell, switch to command mode, selects cell below\n",
    "\n",
    "* `Esc + A`: (tap `Escape` key, and then tap `A` key). Insert new cell above\n",
    "\n",
    "* `Esc + B`: insert new cell below\n",
    "\n",
    "* `Esc + D + D`: delete a  cell\n",
    "\n",
    "More: use the Help menu!\n",
    "\n",
    "<div class=\"alert alert-block alert-info\">Finished here Wednesday</div>"
   ]
  },
  {
   "cell_type": "markdown",
   "metadata": {
    "slideshow": {
     "slide_type": "slide"
    }
   },
   "source": [
    "## Arcane Interlude 2: Where is Galway?\n",
    "\n",
    "It's that time of the week when I stop trying to teach Python, and just demo some _fun_<a name=\"cite_ref-1\"></a>[<sup>[1]</sup>](#cite_note-1) stuff. These \"Arcane Interludes\" feature short snippets of Python code with fun/silly/interesting results, but they not explained in detail.\n",
    "\n",
    "This week, we'll find the latitude and longitude of a chosen location. The code uses a Python package called ``geopy``, which in turn uses [OpenStreetMap](https://en.wikipedia.org/wiki/OpenStreetMap). Unfortunately, that is an online service which our Jupyter server can't connect to. \n",
    "However, this code will work on your own Jupyter installation or on Google' CoLab: [https://colab.research.google.com](https://colab.research.google.com)\n",
    "\n",
    "In several week's time, we'll develop this further to produce a map of your vacation destinations.\n",
    "\n",
    "***\n",
    "\n",
    "<a name=\"cite_note-1\"></a>1. [^](#cite_ref-1) The concept of _fun_ is highly subjective."
   ]
  },
  {
   "cell_type": "code",
   "execution_count": 6,
   "metadata": {
    "slideshow": {
     "slide_type": "subslide"
    }
   },
   "outputs": [
    {
     "name": "stdout",
     "output_type": "stream",
     "text": [
      "Location of Galway  is 53.2744122 -9.0490601\n"
     ]
    }
   ],
   "source": [
    "from geopy.geocoders import Nominatim\n",
    "geolocator = Nominatim(user_agent=\"my-ap\")\n",
    "Place = \"Galway\"\n",
    "location =  geolocator.geocode(Place)\n",
    "print(\"Location of\", Place, \" is\", location.latitude,  location.longitude)"
   ]
  },
  {
   "cell_type": "markdown",
   "metadata": {},
   "source": [
    "For more info on a location, see ``location.raw``"
   ]
  },
  {
   "cell_type": "code",
   "execution_count": 7,
   "metadata": {},
   "outputs": [
    {
     "data": {
      "text/plain": [
       "{'place_id': 297584250,\n",
       " 'licence': 'Data © OpenStreetMap contributors, ODbL 1.0. https://osm.org/copyright',\n",
       " 'osm_type': 'relation',\n",
       " 'osm_id': 1390623,\n",
       " 'boundingbox': ['53.248517', '53.3197423', '-9.1426901', '-8.9548381'],\n",
       " 'lat': '53.2744122',\n",
       " 'lon': '-9.0490601',\n",
       " 'display_name': 'Cathair na Gaillimhe, County Galway, Connacht, Éire / Ireland',\n",
       " 'class': 'boundary',\n",
       " 'type': 'administrative',\n",
       " 'importance': 0.6587954165289415,\n",
       " 'icon': 'https://nominatim.openstreetmap.org/ui/mapicons/poi_boundary_administrative.p.20.png'}"
      ]
     },
     "execution_count": 7,
     "metadata": {},
     "output_type": "execute_result"
    }
   ],
   "source": [
    "location.raw"
   ]
  },
  {
   "cell_type": "markdown",
   "metadata": {
    "slideshow": {
     "slide_type": "slide"
    }
   },
   "source": [
    "## Functions\n",
    "\n",
    "In this module, we are studying _computer science_, and programming as one of the main aspects of that. _Computer Science_ is a huge field of human activity, and a very creative one. Like many other areas of science and engineering, it involves\n",
    "* Problem solving\n",
    "* Creating things, \n",
    "* Building things for building other things\n",
    "\n",
    "It is often about using tools in a new ways that the makers of the tools never even thought of.\n",
    "\n",
    "Our first steps towards building and creating involves writing our own *functions*, which are reusable tools for solving problems.\n"
   ]
  },
  {
   "cell_type": "markdown",
   "metadata": {
    "slideshow": {
     "slide_type": "slide"
    }
   },
   "source": [
    "### Built-in functions\n",
    "Before we write a function, we should acknowledge that we've already used some functions in Python:\n",
    "* print()\n",
    "* type()\n",
    "* int()\n",
    "\n",
    "Of course, there are many more functions. But all are of two types:\n",
    "* some do some calculation, and give us back a value which, for example, can be stored in variable. The textbook calls these **fruitful functions**. See [Chapter 6](https://greenteapress.com/thinkpython2/html/thinkpython2007.html).\n",
    "* some just ``do a thing``, like `print()`. The don't return a value. Often called **void** functions.\n",
    "\n",
    "Example of \"fruitful functions\" include `int()` and `float()`"
   ]
  },
  {
   "cell_type": "code",
   "execution_count": 1,
   "metadata": {},
   "outputs": [
    {
     "data": {
      "text/plain": [
       "3"
      ]
     },
     "execution_count": 1,
     "metadata": {},
     "output_type": "execute_result"
    }
   ],
   "source": [
    "int(3.1415)"
   ]
  },
  {
   "cell_type": "code",
   "execution_count": 2,
   "metadata": {},
   "outputs": [
    {
     "data": {
      "text/plain": [
       "33.0"
      ]
     },
     "execution_count": 2,
     "metadata": {},
     "output_type": "execute_result"
    }
   ],
   "source": [
    "float(33)"
   ]
  },
  {
   "cell_type": "markdown",
   "metadata": {
    "slideshow": {
     "slide_type": "slide"
    }
   },
   "source": [
    "### The `input()` function\n",
    "A new (to us) function is `input()`. Its syntax is \n",
    "```python\n",
    "  <variable> = input( <prompt> )\n",
    "```\n",
    "Here `<prompt>` is a string. Upon execution, Python displays this string and then pauses until the user has typed in an answer, followed by `Enter`.\n",
    "Whatever the user has typed (a string) will then become the **value** of the call to `input` and assigned to the variable."
   ]
  },
  {
   "cell_type": "code",
   "execution_count": 8,
   "metadata": {},
   "outputs": [
    {
     "name": "stdout",
     "output_type": "stream",
     "text": [
      "What is your name? Bob Roberts\n"
     ]
    }
   ],
   "source": [
    "name = input(\"What is your name? \")"
   ]
  },
  {
   "cell_type": "code",
   "execution_count": 9,
   "metadata": {},
   "outputs": [
    {
     "name": "stdout",
     "output_type": "stream",
     "text": [
      "You said your name is  Bob Roberts\n"
     ]
    }
   ],
   "source": [
    "print(\"You said your name is \", name)"
   ]
  },
  {
   "cell_type": "markdown",
   "metadata": {
    "slideshow": {
     "slide_type": "subslide"
    }
   },
   "source": [
    "The `input()` function always returns a string, When the input is expected to be an integer or float, it is convenient to convert the string value of the input call using `int` or `float`, respectively."
   ]
  },
  {
   "cell_type": "code",
   "execution_count": 11,
   "metadata": {},
   "outputs": [
    {
     "name": "stdout",
     "output_type": "stream",
     "text": [
      "Your Age: 12\n",
      "Your height: 1.9\n"
     ]
    }
   ],
   "source": [
    "age = int(input(\"Your Age: \"))\n",
    "height = float(input(\"Your height: \"))"
   ]
  },
  {
   "cell_type": "markdown",
   "metadata": {
    "slideshow": {
     "slide_type": "slide"
    }
   },
   "source": [
    "### Mathematical functions\n",
    "The word \"function\" is used in mathematics often. In that context, a function is  a mapping from one value to another. For example $\\sin(\\pi/2)=1$: the $\\sin()$ function maps $\\pi/2$ to 1.\n",
    "As mentioned last week, we can access mathematical functions through the `math` module."
   ]
  },
  {
   "cell_type": "code",
   "execution_count": 12,
   "metadata": {},
   "outputs": [],
   "source": [
    "import math"
   ]
  },
  {
   "cell_type": "code",
   "execution_count": 13,
   "metadata": {},
   "outputs": [
    {
     "data": {
      "text/plain": [
       "module"
      ]
     },
     "execution_count": 13,
     "metadata": {},
     "output_type": "execute_result"
    }
   ],
   "source": [
    "type(math)"
   ]
  },
  {
   "cell_type": "markdown",
   "metadata": {},
   "source": [
    "The module object contains the functions and variables defined in the module. To access one of the functions, you have to specify the name of the module and the name of the function, separated by a dot (also known as a period). This format is called **dot notation**."
   ]
  },
  {
   "cell_type": "code",
   "execution_count": 18,
   "metadata": {},
   "outputs": [
    {
     "name": "stdout",
     "output_type": "stream",
     "text": [
      "sin(x)= 0.999999998926914\n"
     ]
    }
   ],
   "source": [
    "x = 3.1415/2\n",
    "y = math.sin(x)\n",
    "print('sin(x)=', y)"
   ]
  },
  {
   "cell_type": "markdown",
   "metadata": {
    "slideshow": {
     "slide_type": "slide"
    }
   },
   "source": [
    "## Writing functions: `def`\n",
    "\n",
    "We can create our own functions using the `def` key-word:"
   ]
  },
  {
   "cell_type": "code",
   "execution_count": 20,
   "metadata": {},
   "outputs": [],
   "source": [
    "def say_hello():\n",
    "    print(\"Why hello there!\")"
   ]
  },
  {
   "cell_type": "markdown",
   "metadata": {},
   "source": [
    "* `def` is a key-word indicating we are writing (\"*defining*\") our own function\n",
    "* `say_hello` is the name of the function\n",
    "* `()` just indicates that we are not giving any information to the function. We say \"*we don't pass values to to the function*\". This is in contrast to, for example, the `math.sin()` function, which is _passed_ the value `x`\n",
    "* Together, the line `def say_hello():` is called the **function header**. It ends with a colon.\n",
    "* The rest of the function is called the *function body*. It is _indented_.\n",
    "* To use this function, just type `say_hello()` in a cell, and run it. This is referred to as **calling** the function.\n",
    "* When `say_hello()` is called, Python will \n",
    "    - jump to the function's code\n",
    "    - run it \n",
    "    - jump back."
   ]
  },
  {
   "cell_type": "code",
   "execution_count": 21,
   "metadata": {
    "slideshow": {
     "slide_type": "subslide"
    }
   },
   "outputs": [
    {
     "name": "stdout",
     "output_type": "stream",
     "text": [
      "Why hello there!\n"
     ]
    }
   ],
   "source": [
    "say_hello()  # note that the () is essential"
   ]
  },
  {
   "cell_type": "markdown",
   "metadata": {
    "slideshow": {
     "slide_type": "-"
    }
   },
   "source": [
    "If we omit the `()`, we get some unusual output: "
   ]
  },
  {
   "cell_type": "code",
   "execution_count": 23,
   "metadata": {},
   "outputs": [
    {
     "data": {
      "text/plain": [
       "function"
      ]
     },
     "execution_count": 23,
     "metadata": {},
     "output_type": "execute_result"
    }
   ],
   "source": [
    "type(say_hello)"
   ]
  },
  {
   "cell_type": "markdown",
   "metadata": {
    "slideshow": {
     "slide_type": "slide"
    }
   },
   "source": [
    "### Parameters and arguments\n",
    "Our `say_hello` function did not take an argument.\n",
    "We can write a function that takes an argument as follows:"
   ]
  },
  {
   "cell_type": "code",
   "execution_count": null,
   "metadata": {},
   "outputs": [],
   "source": []
  },
  {
   "cell_type": "code",
   "execution_count": 25,
   "metadata": {},
   "outputs": [],
   "source": [
    "def say_hello_to(name):\n",
    "    print(\"Why, hello there\", name, \"!\")"
   ]
  },
  {
   "cell_type": "markdown",
   "metadata": {},
   "source": [
    "We'll try it:"
   ]
  },
  {
   "cell_type": "code",
   "execution_count": 27,
   "metadata": {},
   "outputs": [
    {
     "name": "stdout",
     "output_type": "stream",
     "text": [
      "Why, hello there Bob !\n"
     ]
    }
   ],
   "source": [
    "say_hello_to( \")"
   ]
  },
  {
   "cell_type": "markdown",
   "metadata": {
    "slideshow": {
     "slide_type": "subslide"
    }
   },
   "source": [
    "A function can have more than one line, and can take more than one argument:"
   ]
  },
  {
   "cell_type": "code",
   "execution_count": 29,
   "metadata": {},
   "outputs": [
    {
     "name": "stdout",
     "output_type": "stream",
     "text": [
      "\"Once upon a time there were three little sisters,\"\n",
      "the Dormouse began in a great hurry;\n",
      "\"and their names were Elsie , Lacie , and Tillie \"\n"
     ]
    }
   ],
   "source": [
    "def start_story(name1, name2, name3):\n",
    "    print('\"Once upon a time there were three little sisters,\"')\n",
    "    print('the Dormouse began in a great hurry;')\n",
    "    print('\"and their names were', name1, \",\", name2, \", and\", name3, '\"')\n",
    "    \n",
    "    \n",
    "sister1 = \"Elsie\"\n",
    "sister2 = \"Lacie\"\n",
    "sister3 = \"Tillie\"\n",
    "start_story(sister1, sister2, sister3)"
   ]
  },
  {
   "cell_type": "markdown",
   "metadata": {
    "slideshow": {
     "slide_type": "slide"
    }
   },
   "source": [
    "### The software development process\n",
    "\n",
    "Writing functions is one of the most important aspects of programming. Usually, it involves some of the following steps.\n",
    "\n",
    "1. Formalise and analyse the problem\n",
    "\n",
    "2. Determine specification\n",
    "\n",
    "3. Create a design (= description of program)\n",
    "\n",
    "4. Implement the design\n",
    "\n",
    "5. Test and debug the program\n",
    "\n",
    "6. Maintain the program\n"
   ]
  },
  {
   "cell_type": "markdown",
   "metadata": {
    "slideshow": {
     "slide_type": "subslide"
    }
   },
   "source": [
    "#### Problem\n",
    "\n",
    "The current temperature in New York is 62 degrees Fahrenheit. What does that mean?  I'm used to the **Celsius** (or centigrade) scale!\n",
    "\n",
    "#### Analysis\n",
    "\n",
    "Temperatures in Fahrenheit and temperatures in Celsius are\n",
    "related to each other by a formula: $f$ degrees Fahrenheit correspond to $c$ degrees Celsius, where\n",
    "$$c = \\frac{5}{9}\\bigl(\\,f - 32\\,\\bigr).$$\n",
    "\n",
    "\n",
    "#### Specification\n",
    "\n",
    "Write a program that takes a temperature in degrees Fahrenheit as **input**\n",
    "and computes the corresponding temperature in degrees Celsius as **output**."
   ]
  },
  {
   "cell_type": "markdown",
   "metadata": {
    "slideshow": {
     "slide_type": "subslide"
    }
   },
   "source": [
    "#### Design\n",
    "\n",
    "One possible design of a program implementing this specification might be the following:\n",
    "\n",
    "1. Input temperature in degrees Fahrenheit, call this value `fahrenheit`.\n",
    "\n",
    "2. Use the above formula to compute the corresponding temperature in degrees Celsius, call this value `celsius`.\n",
    "\n",
    "3. Output `celsius`."
   ]
  },
  {
   "cell_type": "markdown",
   "metadata": {
    "slideshow": {
     "slide_type": "subslide"
    }
   },
   "source": [
    "#### Implementation\n",
    "\n",
    "In this example, each of the above points translates into one line of Python code. \n",
    "\n",
    "We'll also use a new function, `input()`, which prompts the user for some input, and stores the result in a variable.\n",
    "\n",
    "Here is our implementation:"
   ]
  },
  {
   "cell_type": "code",
   "execution_count": 31,
   "metadata": {},
   "outputs": [],
   "source": [
    "# A program to convert Fahrenheit into Celsius temperatures.\n",
    "def convert():\n",
    "    fahrenheit = float(input(\"Temperature in Fahrenheit: \"))\n",
    "    celsius = 5/9 * (fahrenheit - 32)\n",
    "    print(\"The temperature is\", celsius, \"degrees Celsius.\")"
   ]
  },
  {
   "cell_type": "markdown",
   "metadata": {
    "slideshow": {
     "slide_type": "subslide"
    }
   },
   "source": [
    "Now that it is defined, we can call it:"
   ]
  },
  {
   "cell_type": "code",
   "execution_count": 32,
   "metadata": {},
   "outputs": [
    {
     "name": "stdout",
     "output_type": "stream",
     "text": [
      "Temperature in Fahrenheit: 62\n",
      "The temperature is 16.666666666666668 degrees Celsius.\n"
     ]
    }
   ],
   "source": [
    "convert()"
   ]
  },
  {
   "cell_type": "markdown",
   "metadata": {
    "slideshow": {
     "slide_type": "slide"
    }
   },
   "source": [
    "### Variables and parameters are local\n",
    "\n",
    "When a variable us defined in a function, it is known only to that function. For example, within the `convert()` function there are variables `fahrenheit` and `celsius`. But they cannot be accessed outside the function:"
   ]
  },
  {
   "cell_type": "code",
   "execution_count": 33,
   "metadata": {},
   "outputs": [
    {
     "ename": "NameError",
     "evalue": "name 'celsius' is not defined",
     "output_type": "error",
     "traceback": [
      "\u001b[0;31m---------------------------------------------------------------------------\u001b[0m",
      "\u001b[0;31mNameError\u001b[0m                                 Traceback (most recent call last)",
      "Cell \u001b[0;32mIn [33], line 1\u001b[0m\n\u001b[0;32m----> 1\u001b[0m \u001b[38;5;28mprint\u001b[39m(\u001b[43mcelsius\u001b[49m)\n",
      "\u001b[0;31mNameError\u001b[0m: name 'celsius' is not defined"
     ]
    }
   ],
   "source": [
    "print(celsius)"
   ]
  },
  {
   "cell_type": "markdown",
   "metadata": {},
   "source": [
    "<div class=\"alert alert-block alert-info\">Finished here Friday</div>"
   ]
  }
 ],
 "metadata": {
  "celltoolbar": "Slideshow",
  "kernelspec": {
   "display_name": "Python 3 (ipykernel)",
   "language": "python",
   "name": "python3"
  },
  "language_info": {
   "codemirror_mode": {
    "name": "ipython",
    "version": 3
   },
   "file_extension": ".py",
   "mimetype": "text/x-python",
   "name": "python",
   "nbconvert_exporter": "python",
   "pygments_lexer": "ipython3",
   "version": "3.9.13"
  },
  "rise": {
   "backimage": "Snow-land.png",
   "footer": "<h2>CS102/CS103</h2>",
   "header": "<h2>Week 03</h2>",
   "theme": "league"
  },
  "toc": {
   "base_numbering": 1,
   "nav_menu": {},
   "number_sections": true,
   "sideBar": false,
   "skip_h1_title": true,
   "title_cell": "Table of Contents",
   "title_sidebar": "Contents",
   "toc_cell": false,
   "toc_position": {
    "height": "66.7773px",
    "left": "1977.88px",
    "top": "21.3828px",
    "width": "159.414px"
   },
   "toc_section_display": false,
   "toc_window_display": true
  },
  "varInspector": {
   "cols": {
    "lenName": 16,
    "lenType": 16,
    "lenVar": 40
   },
   "kernels_config": {
    "python": {
     "delete_cmd_postfix": "",
     "delete_cmd_prefix": "del ",
     "library": "var_list.py",
     "varRefreshCmd": "print(var_dic_list())"
    },
    "r": {
     "delete_cmd_postfix": ") ",
     "delete_cmd_prefix": "rm(",
     "library": "var_list.r",
     "varRefreshCmd": "cat(var_dic_list()) "
    }
   },
   "types_to_exclude": [
    "module",
    "function",
    "builtin_function_or_method",
    "instance",
    "_Feature"
   ],
   "window_display": false
  }
 },
 "nbformat": 4,
 "nbformat_minor": 2
}
