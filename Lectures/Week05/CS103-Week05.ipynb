{
 "cells": [
  {
   "cell_type": "markdown",
   "metadata": {
    "slideshow": {
     "slide_type": "slide"
    }
   },
   "source": [
    "# CS102/CS103: Week 05 - Iteration <span style='color:red'>(V1.0)</span>\n",
    "\n",
    "<font size=\"+1\">Lecture notes for Week 5 of CS102/CS103, 26+27 Oct, 2022.</font>\n",
    "\n",
    "You can find these notes on\n",
    "    \n",
    "* Blackboard\n",
    "* as HTML at: [https://www.niallmadden.ie/2223-CS103](https://www.niallmadden.ie/2223-CS103)\n",
    "* Jupyter notebook on Binder [https://mybinder.org/v2/gh/niallmadden/2223-cs103/main](https://mybinder.org/v2/gh/niallmadden/2223-cs103/main) [![Binder](https://mybinder.org/badge_logo.svg)](https://mybinder.org/v2/gh/niallmadden/2223-cs103/main)\n",
    "\n",
    "* Both formats on Github: https://github.com/niallmadden/2223-cs103\n",
    "\n",
    "<font size=\"-1\">Dr [Niall Madden](mailto:Niall.Madden@UniversityOfGalway.ie), School of Mathematical and Statistical Sciences, \n",
    "University of Galway.\n",
    "</font>\n",
    "\n",
    "\n",
    "\n",
    "\n",
    "***\n",
    "\n",
    "*This notebook was written by Niall Madden, and uses some material by Tobias Rossmann, and from textbook, [Think Python](https://greenteapress.com/thinkpython2/html), in particular*\n",
    "* Chapter 7: Iteration\n",
    "* Chapter 8: Strings (for iteration over strings)\n"
   ]
  },
  {
   "cell_type": "markdown",
   "metadata": {
    "slideshow": {
     "slide_type": "subslide"
    }
   },
   "source": [
    "## News: \n",
    "### Lab 3 this week\n",
    "\n",
    "<div class=\"alert alert-block alert-info\">\n",
    "   In Lab 3 of CS102, you are asked to write a function that check if a DNA string is valid, and a function that produces a mutation. Deadline is <b>5pm, Friday 28 October</b>.\n",
    "    </div>\n",
    "    \n",
    "### No lab next week.\n",
    "Labs return 7-9 November."
   ]
  },
  {
   "cell_type": "markdown",
   "metadata": {
    "slideshow": {
     "slide_type": "subslide"
    }
   },
   "source": [
    "### Jupyter \n",
    "\n",
    "Regrettably, our Jupyter server at [https://jupyter.nuigalway.ie/](https://jupyter.nuigalway.ie/) is still not ported to AWS. So it is unlikely to be able support everyone uses it in the Wednesday lab. Please use an alternative service, such as \n",
    "* You can still try Jupyter at  [https://jupyter.org/](https://jupyter.org/) \n",
    "* Or at [https://colab.research.google.com/](https://colab.research.google.com/)\n",
    "* Your own PC.\n",
    "\n",
    "\n",
    "<div class=\"alert alert-block alert-info\">\n",
    "    <b>Discuss</b>:  Who has installed Juputer on their own PC? Who would like to? Need help?\n",
    "    </div>"
   ]
  },
  {
   "cell_type": "markdown",
   "metadata": {
    "slideshow": {
     "slide_type": "slide"
    }
   },
   "source": [
    "# Fruitful functions again\n",
    "\n",
    "In Week 4, we studied \"_fruitful functions_\", which are functions that `return` some value. Key concepts:\n",
    "\n",
    "* Like any function, it has a *header* that starts with the keyword `def` and ends with  colon.\n",
    "* The body of the function follows the header and is _indented_\n",
    "* The body of a fruitful functions contain at least one `return` statement.\n",
    "* That return statement is usually of the form `return <expression>`. \n",
    "* When the return statement is executed, the function immediately ends; any other lines in the function are ignored.\n",
    "* The function is called with a line like `<var> = function_name()`   \n",
    "* `<var>` gets assigned the value of the returned `<expression>`\n"
   ]
  },
  {
   "cell_type": "markdown",
   "metadata": {
    "slideshow": {
     "slide_type": "subslide"
    }
   },
   "source": [
    "Example:"
   ]
  },
  {
   "cell_type": "code",
   "execution_count": null,
   "metadata": {
    "slideshow": {
     "slide_type": "-"
    }
   },
   "outputs": [],
   "source": [
    "def area_of_triangle(length_base, length_height):\n",
    "    area = 0.5*length_base*length_height;\n",
    "    return area"
   ]
  },
  {
   "cell_type": "markdown",
   "metadata": {
    "slideshow": {
     "slide_type": "-"
    }
   },
   "source": [
    "This is then called as "
   ]
  },
  {
   "cell_type": "code",
   "execution_count": null,
   "metadata": {},
   "outputs": [],
   "source": [
    "b = 1.4 # base\n",
    "h = 4.0 # height\n",
    "a = area_of_triangle(b,h)\n",
    "print(f\"Area of triangle with base {b} and height {h} is {a}\")"
   ]
  },
  {
   "cell_type": "markdown",
   "metadata": {
    "slideshow": {
     "slide_type": "subslide"
    }
   },
   "source": [
    "### Built-in functions\n",
    "\n",
    "We now know how to write our own functions. And we know that there are some built-in functions, such as `print()`. \n",
    "\n",
    "For a full list, see [https://docs.python.org/3/library/functions.html](https://docs.python.org/3/library/functions.html)"
   ]
  },
  {
   "cell_type": "markdown",
   "metadata": {
    "slideshow": {
     "slide_type": "slide"
    }
   },
   "source": [
    "## Iteration\n",
    "\n",
    "To **iterate** means to _repeat_. Most programs use iteration, for example\n",
    "\n",
    "* to preform the same operation again and again, either a fixed number of times, or until something changes.\n",
    "* to preform a particular operation on a collection of things, such as on the characters in a string.\n",
    "\n",
    "We'll study the two most common tool for iteration in Python: `while` and `for`.\n",
    "\n",
    "A key feature of these is that there is some variable whose value changes at each step in the loop (see Section 7.2 of the book)\n",
    "\n",
    "For example, at each step we might want to _increment_ the variable `i` by 1: \n",
    "\n",
    "```python \n",
    "i=i+1\n",
    "```\n",
    "Although this is strange, mathematically (there is no number $i$ for which $i=i+1$), it is legal in Python."
   ]
  },
  {
   "cell_type": "markdown",
   "metadata": {
    "slideshow": {
     "slide_type": "subslide"
    }
   },
   "source": [
    "### Reassigning variables\n",
    "\n",
    "Because it is so common to update/reassign the value of a variable, Python has some operators to do this.\n",
    "\n",
    "\n",
    "| Operator |\tExample\t| Equivalent to |\n",
    "|---|---|---|\n",
    "|=\t| x = 5\t| x = 5\n",
    "|+=\t| x += 5 |\tx = x + 5\n",
    "|-=\t| x -= 5 |\tx = x - 5\n",
    "|*=\t| x *= 5 |\tx = x * 5\n",
    "|/=\t| x /= 5 |\tx = x / 5\n",
    "|%=\t| x %= 5 |\tx = x % 5\n",
    "|**= |\t x **= 5\t| x = x ** 5\n",
    "\n",
    "The most commonly used is `x+=1`, which increases the value of `x` by 1.\n"
   ]
  },
  {
   "cell_type": "code",
   "execution_count": null,
   "metadata": {},
   "outputs": [],
   "source": [
    "x=4; print(f\"x={x}\")\n",
    "x*=2; print(f\"After `x*=2` we have x={x}\")"
   ]
  },
  {
   "cell_type": "markdown",
   "metadata": {
    "slideshow": {
     "slide_type": "slide"
    }
   },
   "source": [
    "## `while` loops\n",
    "\n",
    "A `while` loop is used to repeat a particular operation so long as some statement is true.\n",
    "\n",
    "*SYNTAX:*\n",
    "\n",
    "\n",
    "```python\n",
    "while ( <boolean_expression> ):\n",
    "    stuff to do as long as <boolean_expression> is true\n",
    "```\n",
    "\n",
    "So it follows the \"usual\" Python syntax:\n",
    "* header of the loop starts with keyword `while`\n",
    "* header ends with colon\n",
    "* body of while loop is indented.\n"
   ]
  },
  {
   "cell_type": "markdown",
   "metadata": {
    "slideshow": {
     "slide_type": "subslide"
    }
   },
   "source": [
    "### Example : compute factorials\n",
    "\n",
    "Given a natural number, $n$, its **factorial** is \n",
    "$$ n! = 1 \\times 2 \\times 3 \\times \\cdots \\times (n-1) \\times n$$\n",
    "\n",
    "Here is some code for a function that computes this:"
   ]
  },
  {
   "cell_type": "code",
   "execution_count": null,
   "metadata": {},
   "outputs": [],
   "source": [
    "def factorial(n):\n",
    "    f = 1 \n",
    "    k = 1\n",
    "    while(k<=n):\n",
    "        f=f*k\n",
    "        k=k+1\n",
    "    return f    "
   ]
  },
  {
   "cell_type": "code",
   "execution_count": null,
   "metadata": {},
   "outputs": [],
   "source": [
    "n = 4\n",
    "fac = factorial(n)\n",
    "print(f\"{n}! = {fac}\")"
   ]
  },
  {
   "cell_type": "markdown",
   "metadata": {
    "slideshow": {
     "slide_type": "slide"
    }
   },
   "source": [
    "### Fun fact: factorials are really big\n",
    "\n",
    "A **microsecond** is one millionth of a second. That is, $1 \\mu s = 10^{-6}s$. How long is 10! microseconds?"
   ]
  },
  {
   "cell_type": "code",
   "execution_count": null,
   "metadata": {},
   "outputs": [],
   "source": [
    "print(f\"10! microsections is {factorial(10)/1.0e-6} seconds\")"
   ]
  },
  {
   "cell_type": "code",
   "execution_count": null,
   "metadata": {},
   "outputs": [],
   "source": []
  },
  {
   "cell_type": "code",
   "execution_count": null,
   "metadata": {},
   "outputs": [],
   "source": []
  },
  {
   "cell_type": "markdown",
   "metadata": {
    "slideshow": {
     "slide_type": "slide"
    }
   },
   "source": [
    "### A `while` loop for input checking\n",
    "\n",
    "`while` loops are commonly used to check if input from a user makes sense. Consider the following example."
   ]
  },
  {
   "cell_type": "code",
   "execution_count": null,
   "metadata": {},
   "outputs": [],
   "source": [
    "email = input(\"Enter your email address: \")\n",
    "if (\"@\" in email):\n",
    "    print(f\"{email} looks like a valid email address.\")\n",
    "else:\n",
    "    print(f\"WARNING: {email} is missing the @ symbol\")\n"
   ]
  },
  {
   "cell_type": "markdown",
   "metadata": {
    "slideshow": {
     "slide_type": "subslide"
    }
   },
   "source": [
    "While our code could check the symbol `@` is present in the string, all it can do is give a warning. We would rather the user be prompted to re-enter their email address. We can use a while loop to do this:"
   ]
  },
  {
   "cell_type": "code",
   "execution_count": null,
   "metadata": {},
   "outputs": [],
   "source": [
    "email = input(\"Enter your email address: \")\n",
    "while( not(\"@\" in email )):  \n",
    "    print(f\"WARNING: {email} is missing the @ symbol. Try again.\")\n",
    "    email = input(\"Enter your email address: \")\n",
    "    \n",
    "print(f\"{email} looks like a valid email address.\")"
   ]
  },
  {
   "cell_type": "markdown",
   "metadata": {
    "slideshow": {
     "slide_type": "slide"
    }
   },
   "source": [
    "### `break` statements\n",
    "Sometimes we need to exit the loop, when when the condition is not true. \n",
    "In the previous example, we might want to give up after 3 attempts."
   ]
  },
  {
   "cell_type": "code",
   "execution_count": null,
   "metadata": {},
   "outputs": [],
   "source": [
    "email = input(\"Enter your email address: \")\n",
    "attempt = 1 \n",
    "while( \"@\" not in email ):  # \"not in\" is a new Boolean operator\n",
    "    if (attempt >= 3):\n",
    "        break\n",
    "    print(f\"WARNING: {email} is missing the @ symbol. Try again.\")\n",
    "    attempt += 1\n",
    "    email = input(f\"Attempt {attempt}/3: Enter your email address: \")"
   ]
  },
  {
   "cell_type": "markdown",
   "metadata": {
    "slideshow": {
     "slide_type": "subslide"
    }
   },
   "source": [
    "Note:\n",
    "* In that example, I could avoid the `break` by writing the condition as\n",
    "```python\n",
    "while( not (\"@\" in email) and (attempt< 3) ):```\n",
    "* My personal preference is to avoid `break` whenever possible, which is most of time time."
   ]
  },
  {
   "cell_type": "markdown",
   "metadata": {
    "slideshow": {
     "slide_type": "slide"
    }
   },
   "source": [
    "### Estimating $\\pi$\n",
    "`while` loops are often used in algorithms for estimating numerical values. The allow us to iterate until the estimate changes by some small amount.\n",
    "\n",
    "In the next example, we'll use the Leibniz formula for estimating $\\pi$:\n",
    "$$\n",
    "\\pi \\approx 4 (1 - \\frac{1}{3} + \\frac{1}{5} - \\frac{1}{7} + \\frac{1}{9} - \\frac{1}{11} + \\cdots)\n",
    "$$"
   ]
  },
  {
   "cell_type": "code",
   "execution_count": null,
   "metadata": {},
   "outputs": [],
   "source": [
    "def estimate_pi(tol):\n",
    "    d = 1\n",
    "    my_pi = d\n",
    "    sign = 1\n",
    "    while( 1/d > tol):\n",
    "        d += 2\n",
    "        sign *= -1\n",
    "        my_pi += sign/d\n",
    "    return 4*my_pi"
   ]
  },
  {
   "cell_type": "code",
   "execution_count": null,
   "metadata": {},
   "outputs": [],
   "source": [
    "import math # Used to get accurate value for pi\n",
    "new_pi=estimate_pi(1.0e-5)\n",
    "print(f\"Estimate is {new_pi:.8f}. Error is {abs(math.pi-new_pi):.3e}\")"
   ]
  },
  {
   "cell_type": "markdown",
   "metadata": {
    "slideshow": {
     "slide_type": "slide"
    }
   },
   "source": [
    "## Strings (again)\n",
    "\n",
    "You next main topic is on `for` loops. We will use these to _traverse_ a string. So let's review strings.\n",
    "\n",
    "### A string is a sequence of characters\n",
    "We use the term _sequence_ because the order of the characters is very important.\n",
    "For example, the strings `elvis` and `lives` have the same characters, but different meanings."
   ]
  },
  {
   "cell_type": "code",
   "execution_count": null,
   "metadata": {},
   "outputs": [],
   "source": [
    "word = \"elvis\"\n",
    "anagram = \"lives\"\n",
    "word == anagram"
   ]
  },
  {
   "cell_type": "markdown",
   "metadata": {
    "slideshow": {
     "slide_type": "subslide"
    }
   },
   "source": [
    "We can access individual characters using the `[]` operator, and indexing from `0`."
   ]
  },
  {
   "cell_type": "code",
   "execution_count": null,
   "metadata": {},
   "outputs": [],
   "source": [
    "print(f\"word={word}. It has {len(word)} charaacters\")\n",
    "print(f\"word[0]={word[0]}\")\n",
    "print(f\"word[1]={word[1]}\")\n",
    "print(f\"word[2]={word[2]}\")\n",
    "print(f\"word[3]={word[3]}\")\n",
    "print(f\"word[4]={word[4]}\")"
   ]
  },
  {
   "cell_type": "markdown",
   "metadata": {
    "slideshow": {
     "slide_type": "slide"
    }
   },
   "source": [
    "### Strings are not  _mutable_\n",
    "In Python, a variable is _mutable_ if we can change part of it. That is not possible with strings.\n",
    "For example, I can't change just the `e` in `word`:"
   ]
  },
  {
   "cell_type": "code",
   "execution_count": null,
   "metadata": {},
   "outputs": [],
   "source": [
    "word[0]='E'"
   ]
  },
  {
   "cell_type": "code",
   "execution_count": null,
   "metadata": {},
   "outputs": [],
   "source": [
    "but I can change the entire string"
   ]
  },
  {
   "cell_type": "code",
   "execution_count": null,
   "metadata": {},
   "outputs": [],
   "source": [
    "word = \"Elvis\"\n",
    "print(word)"
   ]
  },
  {
   "cell_type": "markdown",
   "metadata": {
    "slideshow": {
     "slide_type": "slide"
    }
   },
   "source": [
    "### Traversing a string with a `while` loop\n",
    "We could also use a while loop to print these same messages"
   ]
  },
  {
   "cell_type": "code",
   "execution_count": null,
   "metadata": {},
   "outputs": [],
   "source": [
    "i=0\n",
    "while (i<len(word)):\n",
    "    letter = word[i]\n",
    "    print(letter)\n",
    "    i+=1\n"
   ]
  },
  {
   "cell_type": "code",
   "execution_count": null,
   "metadata": {},
   "outputs": [],
   "source": [
    "We can do this in a more slick way using a `for` loops."
   ]
  },
  {
   "cell_type": "markdown",
   "metadata": {
    "slideshow": {
     "slide_type": "slide"
    }
   },
   "source": [
    "## Arcane Interlude 4: 👍 😴 🤯 🐈\n",
    "\n",
    "It's time again to take a break from learning important stuff, and to instead learn something very _unimportant_; the type of thing that, if there was an exam, it definitely would *not* come up.\n",
    "\n",
    "Today: **how to include emojis in print statements**.\n",
    "\n",
    "To start, we'll load the `emoji` package."
   ]
  },
  {
   "cell_type": "code",
   "execution_count": null,
   "metadata": {},
   "outputs": [],
   "source": [
    "import emoji # note: only need to run this once in notebook."
   ]
  },
  {
   "cell_type": "markdown",
   "metadata": {
    "slideshow": {
     "slide_type": "subslide"
    }
   },
   "source": [
    "For this to work, you need the `emoji` package already installed. If that doesn't work you might get an error like this:\n",
    "<div class=\"alert alert-block alert-danger\"> \n",
    "<b>ModuleNotFoundError: No module named 'emoji'<b>\n",
    "</div>\n",
    "\n",
    "To fix this, you can try installing the missing module using `pip`."
   ]
  },
  {
   "cell_type": "code",
   "execution_count": null,
   "metadata": {},
   "outputs": [],
   "source": [
    "! pip install emoji   # pip is a recursively named programme. pip=\"pip installs packages\""
   ]
  },
  {
   "cell_type": "markdown",
   "metadata": {},
   "source": [
    "Now we can use some emojis."
   ]
  },
  {
   "cell_type": "code",
   "execution_count": null,
   "metadata": {
    "slideshow": {
     "slide_type": "subslide"
    }
   },
   "outputs": [],
   "source": [
    "import emoji\n",
    "print(f\"This is VERY boring {emoji.emojize(':sleeping_face: ')}\")"
   ]
  },
  {
   "cell_type": "code",
   "execution_count": null,
   "metadata": {},
   "outputs": [],
   "source": [
    "print(f\"This is a little interesting {emoji.emojize(':thumbs_upsleeping_face: ')}\")\n"
   ]
  },
  {
   "cell_type": "code",
   "execution_count": null,
   "metadata": {},
   "outputs": [],
   "source": [
    "print(f\"This is AMAZING! {emoji.emojize(':exploding_head:')}\")"
   ]
  },
  {
   "cell_type": "code",
   "execution_count": null,
   "metadata": {},
   "outputs": [],
   "source": [
    "print(f\"This is a croissant. {emoji.emojize(':croissant: :France:')}\")"
   ]
  },
  {
   "cell_type": "markdown",
   "metadata": {},
   "source": [
    "For a full list, see [https://carpedm20.github.io/emoji](https://carpedm20.github.io/emoji)\n"
   ]
  },
  {
   "cell_type": "markdown",
   "metadata": {
    "slideshow": {
     "slide_type": "subslide"
    }
   },
   "source": [
    "Without the `emoji` package,  you can still use emojis, you just need to lookup the Unicode, e.g., https://unicode.org/emoji/charts/full-emoji-list.html. Replace the `+` with `000`"
   ]
  },
  {
   "cell_type": "code",
   "execution_count": null,
   "metadata": {
    "slideshow": {
     "slide_type": "-"
    }
   },
   "outputs": [],
   "source": [
    "print(\"\\U0001F61C\")"
   ]
  },
  {
   "cell_type": "code",
   "execution_count": null,
   "metadata": {},
   "outputs": [],
   "source": [
    "<div class=\"alert alert-block alert-info\">Finished here Wednesday???</div>"
   ]
  },
  {
   "cell_type": "markdown",
   "metadata": {
    "slideshow": {
     "slide_type": "slide"
    }
   },
   "source": [
    "## `for` loops\n",
    "\n",
    "A `for` loops preforms a set of instructions for values of a variable taken from a set/collection.\n",
    "\n",
    "### _SYNTAX_\n",
    "```python\n",
    "for <var> in <collection>:\n",
    "    do stuff with variable <var>\n",
    "```\n",
    "\n",
    "Usual Python syntax:\n",
    "* `for` loop header starts with the keyword `for` and ends with a colon\n",
    "* the body of the loop is indented\n",
    "* `<collection>` is any sequence of values, such as a string\n",
    "* for each element of the collection, the variable `<var>` takes on its value, and the instructions in the both are executed\n"
   ]
  },
  {
   "cell_type": "markdown",
   "metadata": {
    "slideshow": {
     "slide_type": "subslide"
    }
   },
   "source": [
    "Example: recall the while loop we had earlier:\n",
    "```python\n",
    "i=0\n",
    "while (i<len(word)):\n",
    "    letter = word[i]\n",
    "    print(letter)\n",
    "    i+=1\n",
    "```\n",
    "We get the same result with"
   ]
  },
  {
   "cell_type": "code",
   "execution_count": null,
   "metadata": {},
   "outputs": [],
   "source": [
    "for letter in word:  # note use of `in` operator\n",
    "    print(letter)"
   ]
  },
  {
   "cell_type": "markdown",
   "metadata": {
    "slideshow": {
     "slide_type": "slide"
    }
   },
   "source": [
    "### Example: Character substitution\n",
    "Let's take a piece of text, and randomly change about a thrid of every letter to upper-case, and all others to lower case. "
   ]
  },
  {
   "cell_type": "code",
   "execution_count": null,
   "metadata": {},
   "outputs": [],
   "source": [
    "import random\n",
    "def strangify(message):\n",
    "    strange = \"\"\n",
    "    for l in message:\n",
    "        r = random.randint(0,2) # r is 0, 1 or 2\n",
    "        if (r == 0):        \n",
    "            strange += l.upper()\n",
    "        else:\n",
    "            strange += l.lower()\n",
    "    return strange"
   ]
  },
  {
   "cell_type": "code",
   "execution_count": null,
   "metadata": {},
   "outputs": [],
   "source": [
    "text = \"Hello. I am Michael Gove, Secretary of State for Levelling Up\"\n",
    "new = strangify(text)\n",
    "print(f\"Old version: {text}\")\n",
    "print(f\"New version: {new}\")\n",
    "    "
   ]
  },
  {
   "cell_type": "markdown",
   "metadata": {
    "slideshow": {
     "slide_type": "slide"
    }
   },
   "source": [
    "### Example: counting characters in a string\n",
    "We know that we can count the number of instances of a particular character in a string using the `count()` method. But, for exposition, here is how to do it with a `for` loop (Example taken from Section 8.7 of the textbook)"
   ]
  },
  {
   "cell_type": "code",
   "execution_count": null,
   "metadata": {},
   "outputs": [],
   "source": [
    "place = 'Muckanaghederdauhaulia'\n",
    "count = 0\n",
    "for letter in place:\n",
    "    if letter == 'a':\n",
    "        count = count + 1\n",
    "print(f\"There are {count} a's in {place}\")"
   ]
  },
  {
   "cell_type": "markdown",
   "metadata": {
    "slideshow": {
     "slide_type": "slide"
    }
   },
   "source": [
    "### Example: mutating a DNA string\n",
    "In Lab 3, you are asked to write a function that preforms a random transition in a DNA string.\n",
    "\n",
    "Here we will do a similar task. Take a DNA string, and replace *every* occurance of `A` with `G`."
   ]
  },
  {
   "cell_type": "code",
   "execution_count": null,
   "metadata": {},
   "outputs": [],
   "source": [
    "dna_string = \"ACGTTGCA\"\n",
    "new_string = \"\"\n",
    "for d in dna_string:\n",
    "    if (d != 'A'): # leave non As alone\n",
    "        new_string+=d\n",
    "    else:\n",
    "        new_string+='G' # change A to G"
   ]
  },
  {
   "cell_type": "code",
   "execution_count": null,
   "metadata": {},
   "outputs": [],
   "source": [
    "print(f'old dna={dna_string}')\n",
    "print(f'new dna={new_string}')"
   ]
  },
  {
   "cell_type": "markdown",
   "metadata": {
    "slideshow": {
     "slide_type": "slide"
    }
   },
   "source": [
    "### The 'in' operator\n",
    "\n",
    "In most of the above examples, we have use the `in` operator. That operator has two closely related uses:\n",
    "```python \n",
    "    if (l in word): # true of 'l' in contained in 'word'\n",
    "```\n",
    "```python \n",
    "    for (l in word): # successively assigns 'l' each char in 'word'\n",
    "```\n",
    "\n",
    "Here is an example that uses both (see Section 8.9 of text). It prints all letters that belong to two strings."
   ]
  },
  {
   "cell_type": "code",
   "execution_count": null,
   "metadata": {},
   "outputs": [],
   "source": [
    "def in_both(word1, word2):\n",
    "    for letter in word1:\n",
    "        if letter in word2:\n",
    "            print(letter)"
   ]
  },
  {
   "cell_type": "code",
   "execution_count": null,
   "metadata": {},
   "outputs": [],
   "source": [
    "in_both(\"Kilkenny\", \"Kilarney\")"
   ]
  },
  {
   "cell_type": "code",
   "execution_count": null,
   "metadata": {},
   "outputs": [],
   "source": []
  }
 ],
 "metadata": {
  "celltoolbar": "Slideshow",
  "kernelspec": {
   "display_name": "Python 3 (ipykernel)",
   "language": "python",
   "name": "python3"
  },
  "language_info": {
   "codemirror_mode": {
    "name": "ipython",
    "version": 3
   },
   "file_extension": ".py",
   "mimetype": "text/x-python",
   "name": "python",
   "nbconvert_exporter": "python",
   "pygments_lexer": "ipython3",
   "version": "3.9.13"
  },
  "rise": {
   "footer": "<h2>CS102/CS103</h2>",
   "header": "<h2>Week 05</h2>",
   "theme": "sky"
  },
  "toc": {
   "base_numbering": 1,
   "nav_menu": {},
   "number_sections": true,
   "sideBar": false,
   "skip_h1_title": true,
   "title_cell": "Table of Contents",
   "title_sidebar": "Contents",
   "toc_cell": false,
   "toc_position": {
    "height": "420.938px",
    "left": "1861.98px",
    "top": "0px",
    "width": "169.102px"
   },
   "toc_section_display": true,
   "toc_window_display": false
  },
  "varInspector": {
   "cols": {
    "lenName": 16,
    "lenType": 16,
    "lenVar": 40
   },
   "kernels_config": {
    "python": {
     "delete_cmd_postfix": "",
     "delete_cmd_prefix": "del ",
     "library": "var_list.py",
     "varRefreshCmd": "print(var_dic_list())"
    },
    "r": {
     "delete_cmd_postfix": ") ",
     "delete_cmd_prefix": "rm(",
     "library": "var_list.r",
     "varRefreshCmd": "cat(var_dic_list()) "
    }
   },
   "types_to_exclude": [
    "module",
    "function",
    "builtin_function_or_method",
    "instance",
    "_Feature"
   ],
   "window_display": false
  }
 },
 "nbformat": 4,
 "nbformat_minor": 2
}
